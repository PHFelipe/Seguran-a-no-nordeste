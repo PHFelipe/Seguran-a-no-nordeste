{
 "cells": [
  {
   "cell_type": "code",
   "execution_count": 1,
   "metadata": {
    "id": "9meQvHtURtsq"
   },
   "outputs": [],
   "source": [
    "import pandas as pd\n",
    "import numpy as np"
   ]
  },
  {
   "cell_type": "markdown",
   "metadata": {
    "id": "eqJLZ49sQVW6"
   },
   "source": [
    "<h1><strong>====================================<br>Requests dos dados de segurança<strong></h1>"
   ]
  },
  {
   "cell_type": "code",
   "execution_count": 2,
   "metadata": {
    "colab": {
     "base_uri": "https://localhost:8080/"
    },
    "id": "VKrFl0qxUW7O",
    "outputId": "41b27b87-eb72-4f02-8843-8ab76a4a431a"
   },
   "outputs": [
    {
     "data": {
      "text/plain": [
       "1175015"
      ]
     },
     "execution_count": 2,
     "metadata": {},
     "output_type": "execute_result"
    }
   ],
   "source": [
    "import requests\n",
    "url='https://forumseguranca.org.br/wp-content/uploads/2018/05/ANUARIO_13_Retificado_21_10_19.xlsx'\n",
    "path = requests.get(url)\n",
    "open(\"anuario13.xlsx\", \"wb\").write(path.content)"
   ]
  },
  {
   "cell_type": "code",
   "execution_count": 3,
   "metadata": {
    "colab": {
     "base_uri": "https://localhost:8080/",
     "height": 473
    },
    "id": "XWlJq5teVemN",
    "outputId": "374fa64a-798b-4d18-8478-c26b5d1bb931"
   },
   "outputs": [
    {
     "data": {
      "text/html": [
       "<div>\n",
       "<style scoped>\n",
       "    .dataframe tbody tr th:only-of-type {\n",
       "        vertical-align: middle;\n",
       "    }\n",
       "\n",
       "    .dataframe tbody tr th {\n",
       "        vertical-align: top;\n",
       "    }\n",
       "\n",
       "    .dataframe thead th {\n",
       "        text-align: right;\n",
       "    }\n",
       "</style>\n",
       "<table border=\"1\" class=\"dataframe\">\n",
       "  <thead>\n",
       "    <tr style=\"text-align: right;\">\n",
       "      <th></th>\n",
       "      <th>TABELA 46</th>\n",
       "      <th>Unnamed: 1</th>\n",
       "      <th>Unnamed: 2</th>\n",
       "      <th>Unnamed: 4</th>\n",
       "      <th>Unnamed: 5</th>\n",
       "      <th>Unnamed: 7</th>\n",
       "      <th>Unnamed: 8</th>\n",
       "      <th>Unnamed: 10</th>\n",
       "      <th>Unnamed: 11</th>\n",
       "      <th>Unnamed: 13</th>\n",
       "      <th>Unnamed: 14</th>\n",
       "    </tr>\n",
       "  </thead>\n",
       "  <tbody>\n",
       "    <tr>\n",
       "      <th>3</th>\n",
       "      <td>União e Unidades da Federação</td>\n",
       "      <td>Policiamento</td>\n",
       "      <td>NaN</td>\n",
       "      <td>Defesa Civil</td>\n",
       "      <td>NaN</td>\n",
       "      <td>Informação e Inteligência</td>\n",
       "      <td>NaN</td>\n",
       "      <td>Demais subfunções</td>\n",
       "      <td>NaN</td>\n",
       "      <td>Total</td>\n",
       "      <td>NaN</td>\n",
       "    </tr>\n",
       "    <tr>\n",
       "      <th>4</th>\n",
       "      <td>NaN</td>\n",
       "      <td>2017</td>\n",
       "      <td>2.018000e+03</td>\n",
       "      <td>2017</td>\n",
       "      <td>2018</td>\n",
       "      <td>2017</td>\n",
       "      <td>2018</td>\n",
       "      <td>2017</td>\n",
       "      <td>2018</td>\n",
       "      <td>2017</td>\n",
       "      <td>2.018000e+03</td>\n",
       "    </tr>\n",
       "    <tr>\n",
       "      <th>15</th>\n",
       "      <td>Alagoas</td>\n",
       "      <td>829155596.082517</td>\n",
       "      <td>8.008060e+08</td>\n",
       "      <td>23037726.799097</td>\n",
       "      <td>24893.37</td>\n",
       "      <td>9372233.334542</td>\n",
       "      <td>8973</td>\n",
       "      <td>300834639.651236</td>\n",
       "      <td>367826835.46</td>\n",
       "      <td>1162400195.867392</td>\n",
       "      <td>1.168667e+09</td>\n",
       "    </tr>\n",
       "    <tr>\n",
       "      <th>18</th>\n",
       "      <td>Bahia</td>\n",
       "      <td>370464917.43681</td>\n",
       "      <td>3.042513e+08</td>\n",
       "      <td>17255225.215138</td>\n",
       "      <td>28102381.25</td>\n",
       "      <td>-</td>\n",
       "      <td>9021953.06</td>\n",
       "      <td>3879866671.154505</td>\n",
       "      <td>3956053691.52</td>\n",
       "      <td>4267586813.806453</td>\n",
       "      <td>4.297429e+09</td>\n",
       "    </tr>\n",
       "    <tr>\n",
       "      <th>19</th>\n",
       "      <td>Ceará</td>\n",
       "      <td>241443848.143337</td>\n",
       "      <td>1.850775e+08</td>\n",
       "      <td>21313148.729679</td>\n",
       "      <td>28654156.67</td>\n",
       "      <td>-</td>\n",
       "      <td>-</td>\n",
       "      <td>1979098777.842559</td>\n",
       "      <td>2367269357.53</td>\n",
       "      <td>2241855774.715574</td>\n",
       "      <td>2.581001e+09</td>\n",
       "    </tr>\n",
       "    <tr>\n",
       "      <th>23</th>\n",
       "      <td>Maranhão (1)</td>\n",
       "      <td>269545102.3538</td>\n",
       "      <td>3.381196e+08</td>\n",
       "      <td>8531014.688611</td>\n",
       "      <td>8761897.2</td>\n",
       "      <td>11021598.491418</td>\n",
       "      <td>-</td>\n",
       "      <td>1359240985.187997</td>\n",
       "      <td>1502765887.11</td>\n",
       "      <td>1648338700.721825</td>\n",
       "      <td>1.849647e+09</td>\n",
       "    </tr>\n",
       "    <tr>\n",
       "      <th>28</th>\n",
       "      <td>Paraíba</td>\n",
       "      <td>6548725.562957</td>\n",
       "      <td>3.356030e+06</td>\n",
       "      <td>4666135.9412</td>\n",
       "      <td>6433227.88</td>\n",
       "      <td>206036.48156</td>\n",
       "      <td>156283.9</td>\n",
       "      <td>1198321962.220201</td>\n",
       "      <td>1253750434.6</td>\n",
       "      <td>1209742860.205919</td>\n",
       "      <td>1.263696e+09</td>\n",
       "    </tr>\n",
       "    <tr>\n",
       "      <th>30</th>\n",
       "      <td>Pernambuco</td>\n",
       "      <td>2019710653.130787</td>\n",
       "      <td>2.343900e+09</td>\n",
       "      <td>273621055.829259</td>\n",
       "      <td>235533504.4</td>\n",
       "      <td>1374866.065363</td>\n",
       "      <td>495750.36</td>\n",
       "      <td>327890090.259807</td>\n",
       "      <td>195245921.24</td>\n",
       "      <td>2622596665.285216</td>\n",
       "      <td>2.775175e+09</td>\n",
       "    </tr>\n",
       "    <tr>\n",
       "      <th>31</th>\n",
       "      <td>Piauí</td>\n",
       "      <td>48783766.209926</td>\n",
       "      <td>7.909999e+07</td>\n",
       "      <td>32190979.06369</td>\n",
       "      <td>31777065.08</td>\n",
       "      <td>2560.521802</td>\n",
       "      <td>-</td>\n",
       "      <td>659675083.997507</td>\n",
       "      <td>635401471.15</td>\n",
       "      <td>740652389.792926</td>\n",
       "      <td>7.462785e+08</td>\n",
       "    </tr>\n",
       "    <tr>\n",
       "      <th>33</th>\n",
       "      <td>Rio Grande do Norte</td>\n",
       "      <td>519311823.685738</td>\n",
       "      <td>5.551806e+08</td>\n",
       "      <td>4717074.57837</td>\n",
       "      <td>8421124.26</td>\n",
       "      <td>46362329.391681</td>\n",
       "      <td>-</td>\n",
       "      <td>348042235.863451</td>\n",
       "      <td>413132039.9</td>\n",
       "      <td>918433463.519239</td>\n",
       "      <td>9.767338e+08</td>\n",
       "    </tr>\n",
       "    <tr>\n",
       "      <th>39</th>\n",
       "      <td>Sergipe</td>\n",
       "      <td>439674076.288198</td>\n",
       "      <td>4.534726e+08</td>\n",
       "      <td>58737154.771383</td>\n",
       "      <td>62741382.4</td>\n",
       "      <td>-</td>\n",
       "      <td>-</td>\n",
       "      <td>378162628.570704</td>\n",
       "      <td>376772210.38</td>\n",
       "      <td>876573859.630285</td>\n",
       "      <td>8.929862e+08</td>\n",
       "    </tr>\n",
       "  </tbody>\n",
       "</table>\n",
       "</div>"
      ],
      "text/plain": [
       "                        TABELA 46         Unnamed: 1    Unnamed: 2  \\\n",
       "3   União e Unidades da Federação       Policiamento           NaN   \n",
       "4                             NaN               2017  2.018000e+03   \n",
       "15                        Alagoas   829155596.082517  8.008060e+08   \n",
       "18                         Bahia     370464917.43681  3.042513e+08   \n",
       "19                          Ceará   241443848.143337  1.850775e+08   \n",
       "23                  Maranhão (1)      269545102.3538  3.381196e+08   \n",
       "28                        Paraíba     6548725.562957  3.356030e+06   \n",
       "30                     Pernambuco  2019710653.130787  2.343900e+09   \n",
       "31                          Piauí    48783766.209926  7.909999e+07   \n",
       "33            Rio Grande do Norte   519311823.685738  5.551806e+08   \n",
       "39                        Sergipe   439674076.288198  4.534726e+08   \n",
       "\n",
       "          Unnamed: 4   Unnamed: 5                 Unnamed: 7  Unnamed: 8  \\\n",
       "3       Defesa Civil          NaN  Informação e Inteligência         NaN   \n",
       "4               2017         2018                       2017        2018   \n",
       "15   23037726.799097     24893.37             9372233.334542        8973   \n",
       "18   17255225.215138  28102381.25                          -  9021953.06   \n",
       "19   21313148.729679  28654156.67                          -           -   \n",
       "23    8531014.688611    8761897.2            11021598.491418           -   \n",
       "28      4666135.9412   6433227.88               206036.48156    156283.9   \n",
       "30  273621055.829259  235533504.4             1374866.065363   495750.36   \n",
       "31    32190979.06369  31777065.08                2560.521802           -   \n",
       "33     4717074.57837   8421124.26            46362329.391681           -   \n",
       "39   58737154.771383   62741382.4                          -           -   \n",
       "\n",
       "          Unnamed: 10    Unnamed: 11        Unnamed: 13   Unnamed: 14  \n",
       "3   Demais subfunções            NaN              Total           NaN  \n",
       "4                2017           2018               2017  2.018000e+03  \n",
       "15   300834639.651236   367826835.46  1162400195.867392  1.168667e+09  \n",
       "18  3879866671.154505  3956053691.52  4267586813.806453  4.297429e+09  \n",
       "19  1979098777.842559  2367269357.53  2241855774.715574  2.581001e+09  \n",
       "23  1359240985.187997  1502765887.11  1648338700.721825  1.849647e+09  \n",
       "28  1198321962.220201   1253750434.6  1209742860.205919  1.263696e+09  \n",
       "30   327890090.259807   195245921.24  2622596665.285216  2.775175e+09  \n",
       "31   659675083.997507   635401471.15   740652389.792926  7.462785e+08  \n",
       "33   348042235.863451    413132039.9   918433463.519239  9.767338e+08  \n",
       "39   378162628.570704   376772210.38   876573859.630285  8.929862e+08  "
      ]
     },
     "execution_count": 3,
     "metadata": {},
     "output_type": "execute_result"
    }
   ],
   "source": [
    "gastos13 = pd.read_excel(\"anuario13.xlsx\", sheet_name=\"T46\")\n",
    "gastos13 = gastos13.drop([0, 1, 2, 5, 6, 7, 8, 9, 10, 11, 12, 13, 14, 16, 17, 20, 21, 22, 24, 25, 26, 27, 29, 32, 34, 35, 36, 37, 38, 40, 41, 42, 43, 44, 45, 46, 47])\n",
    "gastos13 = gastos13.drop(columns=['Unnamed: 3', 'Unnamed: 6', 'Unnamed: 9', 'Unnamed: 12', '(Voltar ao índice)'])\n",
    "gastos13"
   ]
  },
  {
   "cell_type": "markdown",
   "metadata": {
    "id": "BZBuXLP8Qw_7"
   },
   "source": [
    "<h1><strong>=================================<br>correção das colunas dados 2017 à 2018<strong></h1>"
   ]
  },
  {
   "cell_type": "code",
   "execution_count": 4,
   "metadata": {
    "colab": {
     "base_uri": "https://localhost:8080/",
     "height": 553
    },
    "id": "mHwlPiUHT1Fq",
    "outputId": "717af376-de23-4831-9411-7aaec1443e39"
   },
   "outputs": [
    {
     "name": "stderr",
     "output_type": "stream",
     "text": [
      "/var/folders/tj/9r2c9_p565b2cnshcs57f3jc0000gn/T/ipykernel_43184/2229464452.py:3: SettingWithCopyWarning: \n",
      "A value is trying to be set on a copy of a slice from a DataFrame\n",
      "\n",
      "See the caveats in the documentation: https://pandas.pydata.org/pandas-docs/stable/user_guide/indexing.html#returning-a-view-versus-a-copy\n",
      "  gastos13['Unidades da Federação'][23] = 'Maranhão'\n"
     ]
    },
    {
     "data": {
      "text/html": [
       "<div>\n",
       "<style scoped>\n",
       "    .dataframe tbody tr th:only-of-type {\n",
       "        vertical-align: middle;\n",
       "    }\n",
       "\n",
       "    .dataframe tbody tr th {\n",
       "        vertical-align: top;\n",
       "    }\n",
       "\n",
       "    .dataframe thead th {\n",
       "        text-align: right;\n",
       "    }\n",
       "</style>\n",
       "<table border=\"1\" class=\"dataframe\">\n",
       "  <thead>\n",
       "    <tr style=\"text-align: right;\">\n",
       "      <th></th>\n",
       "      <th>Unidades da Federação</th>\n",
       "      <th>Policiamento 2017</th>\n",
       "      <th>Policiamento 2018</th>\n",
       "      <th>Defesa Civil 2017</th>\n",
       "      <th>Defesa Civil 2018</th>\n",
       "      <th>Informação e Inteligência 2017</th>\n",
       "      <th>Informação e Inteligência 2018</th>\n",
       "      <th>Outros 2017</th>\n",
       "      <th>Outros 2018</th>\n",
       "      <th>Total 2017</th>\n",
       "      <th>Total 2018</th>\n",
       "    </tr>\n",
       "  </thead>\n",
       "  <tbody>\n",
       "    <tr>\n",
       "      <th>15</th>\n",
       "      <td>Alagoas</td>\n",
       "      <td>829155596.082517</td>\n",
       "      <td>8.008060e+08</td>\n",
       "      <td>23037726.799097</td>\n",
       "      <td>24893.37</td>\n",
       "      <td>9372233.334542</td>\n",
       "      <td>8973</td>\n",
       "      <td>300834639.651236</td>\n",
       "      <td>367826835.46</td>\n",
       "      <td>1162400195.867392</td>\n",
       "      <td>1.168667e+09</td>\n",
       "    </tr>\n",
       "    <tr>\n",
       "      <th>18</th>\n",
       "      <td>Bahia</td>\n",
       "      <td>370464917.43681</td>\n",
       "      <td>3.042513e+08</td>\n",
       "      <td>17255225.215138</td>\n",
       "      <td>28102381.25</td>\n",
       "      <td>-</td>\n",
       "      <td>9021953.06</td>\n",
       "      <td>3879866671.154505</td>\n",
       "      <td>3956053691.52</td>\n",
       "      <td>4267586813.806453</td>\n",
       "      <td>4.297429e+09</td>\n",
       "    </tr>\n",
       "    <tr>\n",
       "      <th>19</th>\n",
       "      <td>Ceará</td>\n",
       "      <td>241443848.143337</td>\n",
       "      <td>1.850775e+08</td>\n",
       "      <td>21313148.729679</td>\n",
       "      <td>28654156.67</td>\n",
       "      <td>-</td>\n",
       "      <td>-</td>\n",
       "      <td>1979098777.842559</td>\n",
       "      <td>2367269357.53</td>\n",
       "      <td>2241855774.715574</td>\n",
       "      <td>2.581001e+09</td>\n",
       "    </tr>\n",
       "    <tr>\n",
       "      <th>23</th>\n",
       "      <td>Maranhão</td>\n",
       "      <td>269545102.3538</td>\n",
       "      <td>3.381196e+08</td>\n",
       "      <td>8531014.688611</td>\n",
       "      <td>8761897.2</td>\n",
       "      <td>11021598.491418</td>\n",
       "      <td>-</td>\n",
       "      <td>1359240985.187997</td>\n",
       "      <td>1502765887.11</td>\n",
       "      <td>1648338700.721825</td>\n",
       "      <td>1.849647e+09</td>\n",
       "    </tr>\n",
       "    <tr>\n",
       "      <th>28</th>\n",
       "      <td>Paraíba</td>\n",
       "      <td>6548725.562957</td>\n",
       "      <td>3.356030e+06</td>\n",
       "      <td>4666135.9412</td>\n",
       "      <td>6433227.88</td>\n",
       "      <td>206036.48156</td>\n",
       "      <td>156283.9</td>\n",
       "      <td>1198321962.220201</td>\n",
       "      <td>1253750434.6</td>\n",
       "      <td>1209742860.205919</td>\n",
       "      <td>1.263696e+09</td>\n",
       "    </tr>\n",
       "    <tr>\n",
       "      <th>30</th>\n",
       "      <td>Pernambuco</td>\n",
       "      <td>2019710653.130787</td>\n",
       "      <td>2.343900e+09</td>\n",
       "      <td>273621055.829259</td>\n",
       "      <td>235533504.4</td>\n",
       "      <td>1374866.065363</td>\n",
       "      <td>495750.36</td>\n",
       "      <td>327890090.259807</td>\n",
       "      <td>195245921.24</td>\n",
       "      <td>2622596665.285216</td>\n",
       "      <td>2.775175e+09</td>\n",
       "    </tr>\n",
       "    <tr>\n",
       "      <th>31</th>\n",
       "      <td>Piauí</td>\n",
       "      <td>48783766.209926</td>\n",
       "      <td>7.909999e+07</td>\n",
       "      <td>32190979.06369</td>\n",
       "      <td>31777065.08</td>\n",
       "      <td>2560.521802</td>\n",
       "      <td>-</td>\n",
       "      <td>659675083.997507</td>\n",
       "      <td>635401471.15</td>\n",
       "      <td>740652389.792926</td>\n",
       "      <td>7.462785e+08</td>\n",
       "    </tr>\n",
       "    <tr>\n",
       "      <th>33</th>\n",
       "      <td>Rio Grande do Norte</td>\n",
       "      <td>519311823.685738</td>\n",
       "      <td>5.551806e+08</td>\n",
       "      <td>4717074.57837</td>\n",
       "      <td>8421124.26</td>\n",
       "      <td>46362329.391681</td>\n",
       "      <td>-</td>\n",
       "      <td>348042235.863451</td>\n",
       "      <td>413132039.9</td>\n",
       "      <td>918433463.519239</td>\n",
       "      <td>9.767338e+08</td>\n",
       "    </tr>\n",
       "    <tr>\n",
       "      <th>39</th>\n",
       "      <td>Sergipe</td>\n",
       "      <td>439674076.288198</td>\n",
       "      <td>4.534726e+08</td>\n",
       "      <td>58737154.771383</td>\n",
       "      <td>62741382.4</td>\n",
       "      <td>-</td>\n",
       "      <td>-</td>\n",
       "      <td>378162628.570704</td>\n",
       "      <td>376772210.38</td>\n",
       "      <td>876573859.630285</td>\n",
       "      <td>8.929862e+08</td>\n",
       "    </tr>\n",
       "  </tbody>\n",
       "</table>\n",
       "</div>"
      ],
      "text/plain": [
       "   Unidades da Federação  Policiamento 2017  Policiamento 2018  \\\n",
       "15               Alagoas   829155596.082517       8.008060e+08   \n",
       "18                Bahia     370464917.43681       3.042513e+08   \n",
       "19                 Ceará   241443848.143337       1.850775e+08   \n",
       "23              Maranhão     269545102.3538       3.381196e+08   \n",
       "28               Paraíba     6548725.562957       3.356030e+06   \n",
       "30            Pernambuco  2019710653.130787       2.343900e+09   \n",
       "31                 Piauí    48783766.209926       7.909999e+07   \n",
       "33   Rio Grande do Norte   519311823.685738       5.551806e+08   \n",
       "39               Sergipe   439674076.288198       4.534726e+08   \n",
       "\n",
       "   Defesa Civil 2017 Defesa Civil 2018 Informação e Inteligência 2017  \\\n",
       "15   23037726.799097          24893.37                 9372233.334542   \n",
       "18   17255225.215138       28102381.25                              -   \n",
       "19   21313148.729679       28654156.67                              -   \n",
       "23    8531014.688611         8761897.2                11021598.491418   \n",
       "28      4666135.9412        6433227.88                   206036.48156   \n",
       "30  273621055.829259       235533504.4                 1374866.065363   \n",
       "31    32190979.06369       31777065.08                    2560.521802   \n",
       "33     4717074.57837        8421124.26                46362329.391681   \n",
       "39   58737154.771383        62741382.4                              -   \n",
       "\n",
       "   Informação e Inteligência 2018        Outros 2017    Outros 2018  \\\n",
       "15                           8973   300834639.651236   367826835.46   \n",
       "18                     9021953.06  3879866671.154505  3956053691.52   \n",
       "19                              -  1979098777.842559  2367269357.53   \n",
       "23                              -  1359240985.187997  1502765887.11   \n",
       "28                       156283.9  1198321962.220201   1253750434.6   \n",
       "30                      495750.36   327890090.259807   195245921.24   \n",
       "31                              -   659675083.997507   635401471.15   \n",
       "33                              -   348042235.863451    413132039.9   \n",
       "39                              -   378162628.570704   376772210.38   \n",
       "\n",
       "           Total 2017    Total 2018  \n",
       "15  1162400195.867392  1.168667e+09  \n",
       "18  4267586813.806453  4.297429e+09  \n",
       "19  2241855774.715574  2.581001e+09  \n",
       "23  1648338700.721825  1.849647e+09  \n",
       "28  1209742860.205919  1.263696e+09  \n",
       "30  2622596665.285216  2.775175e+09  \n",
       "31   740652389.792926  7.462785e+08  \n",
       "33   918433463.519239  9.767338e+08  \n",
       "39   876573859.630285  8.929862e+08  "
      ]
     },
     "execution_count": 4,
     "metadata": {},
     "output_type": "execute_result"
    }
   ],
   "source": [
    "gastos13 = gastos13.rename({'TABELA 46':'Unidades da Federação', 'Unnamed: 1': 'Policiamento 2017', 'Unnamed: 2':'Policiamento 2018', 'Unnamed: 4':'Defesa Civil 2017',\t'Unnamed: 5':'Defesa Civil 2018', 'Unnamed: 7':'Informação e Inteligência 2017', 'Unnamed: 8':'Informação e Inteligência 2018', 'Unnamed: 10':'Outros 2017', 'Unnamed: 11':'Outros 2018', 'Unnamed: 13':'Total 2017', 'Unnamed: 14':'Total 2018'}, axis='columns')\n",
    "gastos13 = gastos13.drop([3,4])\n",
    "gastos13['Unidades da Federação'][23] = 'Maranhão'\n",
    "gastos13"
   ]
  },
  {
   "cell_type": "code",
   "execution_count": 5,
   "metadata": {
    "id": "n6JuU1WoBZTb"
   },
   "outputs": [],
   "source": [
    "gastos13 = gastos13.replace({\"-\": \"0\"})\n",
    "#transformação de dados ausentes"
   ]
  },
  {
   "cell_type": "code",
   "execution_count": 6,
   "metadata": {
    "colab": {
     "base_uri": "https://localhost:8080/"
    },
    "id": "ERqX_7lUBAiv",
    "outputId": "4011d1bc-1287-4e3b-ed5a-608be30ed567"
   },
   "outputs": [
    {
     "name": "stdout",
     "output_type": "stream",
     "text": [
      "<class 'pandas.core.frame.DataFrame'>\n",
      "Int64Index: 9 entries, 15 to 39\n",
      "Data columns (total 11 columns):\n",
      " #   Column                          Non-Null Count  Dtype  \n",
      "---  ------                          --------------  -----  \n",
      " 0   Unidades da Federação           9 non-null      object \n",
      " 1   Policiamento 2017               9 non-null      float64\n",
      " 2   Policiamento 2018               9 non-null      float64\n",
      " 3   Defesa Civil 2017               9 non-null      float64\n",
      " 4   Defesa Civil 2018               9 non-null      float64\n",
      " 5   Informação e Inteligência 2017  9 non-null      float64\n",
      " 6   Informação e Inteligência 2018  9 non-null      float64\n",
      " 7   Outros 2017                     9 non-null      float64\n",
      " 8   Outros 2018                     9 non-null      float64\n",
      " 9   Total 2017                      9 non-null      float64\n",
      " 10  Total 2018                      9 non-null      float64\n",
      "dtypes: float64(10), object(1)\n",
      "memory usage: 1.1+ KB\n"
     ]
    }
   ],
   "source": [
    "#conversão de dados numéricos para float\n",
    "gastos13['Informação e Inteligência 2017'] = pd.to_numeric(gastos13['Informação e Inteligência 2017'])\n",
    "gastos13['Informação e Inteligência 2018'] = pd.to_numeric(gastos13['Informação e Inteligência 2018'])\n",
    "gastos13['Policiamento 2017'] = gastos13['Policiamento 2017'].astype('float64')\n",
    "gastos13['Defesa Civil 2017'] = gastos13['Defesa Civil 2017'].astype('float64')\n",
    "gastos13['Defesa Civil 2018'] = gastos13['Defesa Civil 2018'].astype('float64')\n",
    "gastos13['Outros 2017'] = gastos13['Outros 2017'].astype('float64')\n",
    "gastos13['Outros 2018'] = gastos13['Outros 2018'].astype('float64')\n",
    "gastos13['Total 2017'] = gastos13['Total 2017'].astype('float64')\n",
    "gastos13.info()"
   ]
  },
  {
   "cell_type": "code",
   "execution_count": 7,
   "metadata": {
    "colab": {
     "base_uri": "https://localhost:8080/",
     "height": 476
    },
    "id": "0ltlCilaBp03",
    "outputId": "62be769a-9ede-4882-a247-cad0bf684834"
   },
   "outputs": [
    {
     "data": {
      "text/html": [
       "<div>\n",
       "<style scoped>\n",
       "    .dataframe tbody tr th:only-of-type {\n",
       "        vertical-align: middle;\n",
       "    }\n",
       "\n",
       "    .dataframe tbody tr th {\n",
       "        vertical-align: top;\n",
       "    }\n",
       "\n",
       "    .dataframe thead th {\n",
       "        text-align: right;\n",
       "    }\n",
       "</style>\n",
       "<table border=\"1\" class=\"dataframe\">\n",
       "  <thead>\n",
       "    <tr style=\"text-align: right;\">\n",
       "      <th></th>\n",
       "      <th>Policiamento 2017</th>\n",
       "      <th>Policiamento 2018</th>\n",
       "      <th>Defesa Civil 2017</th>\n",
       "      <th>Defesa Civil 2018</th>\n",
       "      <th>Informação e Inteligência 2017</th>\n",
       "      <th>Informação e Inteligência 2018</th>\n",
       "      <th>Outros 2017</th>\n",
       "      <th>Outros 2018</th>\n",
       "      <th>Total 2017</th>\n",
       "      <th>Total 2018</th>\n",
       "    </tr>\n",
       "    <tr>\n",
       "      <th>Unidades da Federação</th>\n",
       "      <th></th>\n",
       "      <th></th>\n",
       "      <th></th>\n",
       "      <th></th>\n",
       "      <th></th>\n",
       "      <th></th>\n",
       "      <th></th>\n",
       "      <th></th>\n",
       "      <th></th>\n",
       "      <th></th>\n",
       "    </tr>\n",
       "  </thead>\n",
       "  <tbody>\n",
       "    <tr>\n",
       "      <th>Alagoas</th>\n",
       "      <td>829155596.08</td>\n",
       "      <td>800805984.28</td>\n",
       "      <td>23037726.80</td>\n",
       "      <td>24893.37</td>\n",
       "      <td>9372233.33</td>\n",
       "      <td>8973.00</td>\n",
       "      <td>300834639.65</td>\n",
       "      <td>367826835.46</td>\n",
       "      <td>1162400195.87</td>\n",
       "      <td>1168666686.11</td>\n",
       "    </tr>\n",
       "    <tr>\n",
       "      <th>Bahia</th>\n",
       "      <td>370464917.44</td>\n",
       "      <td>304251340.07</td>\n",
       "      <td>17255225.22</td>\n",
       "      <td>28102381.25</td>\n",
       "      <td>0.00</td>\n",
       "      <td>9021953.06</td>\n",
       "      <td>3879866671.15</td>\n",
       "      <td>3956053691.52</td>\n",
       "      <td>4267586813.81</td>\n",
       "      <td>4297429365.90</td>\n",
       "    </tr>\n",
       "    <tr>\n",
       "      <th>Ceará</th>\n",
       "      <td>241443848.14</td>\n",
       "      <td>185077508.93</td>\n",
       "      <td>21313148.73</td>\n",
       "      <td>28654156.67</td>\n",
       "      <td>0.00</td>\n",
       "      <td>0.00</td>\n",
       "      <td>1979098777.84</td>\n",
       "      <td>2367269357.53</td>\n",
       "      <td>2241855774.72</td>\n",
       "      <td>2581001023.13</td>\n",
       "    </tr>\n",
       "    <tr>\n",
       "      <th>Maranhão</th>\n",
       "      <td>269545102.35</td>\n",
       "      <td>338119610.25</td>\n",
       "      <td>8531014.69</td>\n",
       "      <td>8761897.20</td>\n",
       "      <td>11021598.49</td>\n",
       "      <td>0.00</td>\n",
       "      <td>1359240985.19</td>\n",
       "      <td>1502765887.11</td>\n",
       "      <td>1648338700.72</td>\n",
       "      <td>1849647394.56</td>\n",
       "    </tr>\n",
       "    <tr>\n",
       "      <th>Paraíba</th>\n",
       "      <td>6548725.56</td>\n",
       "      <td>3356030.31</td>\n",
       "      <td>4666135.94</td>\n",
       "      <td>6433227.88</td>\n",
       "      <td>206036.48</td>\n",
       "      <td>156283.90</td>\n",
       "      <td>1198321962.22</td>\n",
       "      <td>1253750434.60</td>\n",
       "      <td>1209742860.21</td>\n",
       "      <td>1263695976.69</td>\n",
       "    </tr>\n",
       "    <tr>\n",
       "      <th>Pernambuco</th>\n",
       "      <td>2019710653.13</td>\n",
       "      <td>2343900221.30</td>\n",
       "      <td>273621055.83</td>\n",
       "      <td>235533504.40</td>\n",
       "      <td>1374866.07</td>\n",
       "      <td>495750.36</td>\n",
       "      <td>327890090.26</td>\n",
       "      <td>195245921.24</td>\n",
       "      <td>2622596665.29</td>\n",
       "      <td>2775175397.30</td>\n",
       "    </tr>\n",
       "    <tr>\n",
       "      <th>Piauí</th>\n",
       "      <td>48783766.21</td>\n",
       "      <td>79099994.36</td>\n",
       "      <td>32190979.06</td>\n",
       "      <td>31777065.08</td>\n",
       "      <td>2560.52</td>\n",
       "      <td>0.00</td>\n",
       "      <td>659675084.00</td>\n",
       "      <td>635401471.15</td>\n",
       "      <td>740652389.79</td>\n",
       "      <td>746278530.59</td>\n",
       "    </tr>\n",
       "    <tr>\n",
       "      <th>Rio Grande do Norte</th>\n",
       "      <td>519311823.69</td>\n",
       "      <td>555180592.81</td>\n",
       "      <td>4717074.58</td>\n",
       "      <td>8421124.26</td>\n",
       "      <td>46362329.39</td>\n",
       "      <td>0.00</td>\n",
       "      <td>348042235.86</td>\n",
       "      <td>413132039.90</td>\n",
       "      <td>918433463.52</td>\n",
       "      <td>976733756.97</td>\n",
       "    </tr>\n",
       "    <tr>\n",
       "      <th>Sergipe</th>\n",
       "      <td>439674076.29</td>\n",
       "      <td>453472593.33</td>\n",
       "      <td>58737154.77</td>\n",
       "      <td>62741382.40</td>\n",
       "      <td>0.00</td>\n",
       "      <td>0.00</td>\n",
       "      <td>378162628.57</td>\n",
       "      <td>376772210.38</td>\n",
       "      <td>876573859.63</td>\n",
       "      <td>892986186.11</td>\n",
       "    </tr>\n",
       "  </tbody>\n",
       "</table>\n",
       "</div>"
      ],
      "text/plain": [
       "                       Policiamento 2017  Policiamento 2018  \\\n",
       "Unidades da Federação                                         \n",
       "Alagoas                     829155596.08       800805984.28   \n",
       "Bahia                       370464917.44       304251340.07   \n",
       "Ceará                       241443848.14       185077508.93   \n",
       "Maranhão                    269545102.35       338119610.25   \n",
       "Paraíba                       6548725.56         3356030.31   \n",
       "Pernambuco                 2019710653.13      2343900221.30   \n",
       "Piauí                        48783766.21        79099994.36   \n",
       "Rio Grande do Norte         519311823.69       555180592.81   \n",
       "Sergipe                     439674076.29       453472593.33   \n",
       "\n",
       "                       Defesa Civil 2017  Defesa Civil 2018  \\\n",
       "Unidades da Federação                                         \n",
       "Alagoas                      23037726.80           24893.37   \n",
       "Bahia                        17255225.22        28102381.25   \n",
       "Ceará                        21313148.73        28654156.67   \n",
       "Maranhão                      8531014.69         8761897.20   \n",
       "Paraíba                       4666135.94         6433227.88   \n",
       "Pernambuco                  273621055.83       235533504.40   \n",
       "Piauí                        32190979.06        31777065.08   \n",
       "Rio Grande do Norte           4717074.58         8421124.26   \n",
       "Sergipe                      58737154.77        62741382.40   \n",
       "\n",
       "                       Informação e Inteligência 2017  \\\n",
       "Unidades da Federação                                   \n",
       "Alagoas                                    9372233.33   \n",
       "Bahia                                            0.00   \n",
       "Ceará                                            0.00   \n",
       "Maranhão                                  11021598.49   \n",
       "Paraíba                                     206036.48   \n",
       "Pernambuco                                 1374866.07   \n",
       "Piauí                                         2560.52   \n",
       "Rio Grande do Norte                       46362329.39   \n",
       "Sergipe                                          0.00   \n",
       "\n",
       "                       Informação e Inteligência 2018   Outros 2017  \\\n",
       "Unidades da Federação                                                 \n",
       "Alagoas                                       8973.00  300834639.65   \n",
       "Bahia                                      9021953.06 3879866671.15   \n",
       "Ceará                                            0.00 1979098777.84   \n",
       "Maranhão                                         0.00 1359240985.19   \n",
       "Paraíba                                     156283.90 1198321962.22   \n",
       "Pernambuco                                  495750.36  327890090.26   \n",
       "Piauí                                            0.00  659675084.00   \n",
       "Rio Grande do Norte                              0.00  348042235.86   \n",
       "Sergipe                                          0.00  378162628.57   \n",
       "\n",
       "                        Outros 2018    Total 2017    Total 2018  \n",
       "Unidades da Federação                                            \n",
       "Alagoas                367826835.46 1162400195.87 1168666686.11  \n",
       "Bahia                 3956053691.52 4267586813.81 4297429365.90  \n",
       "Ceará                 2367269357.53 2241855774.72 2581001023.13  \n",
       "Maranhão              1502765887.11 1648338700.72 1849647394.56  \n",
       "Paraíba               1253750434.60 1209742860.21 1263695976.69  \n",
       "Pernambuco             195245921.24 2622596665.29 2775175397.30  \n",
       "Piauí                  635401471.15  740652389.79  746278530.59  \n",
       "Rio Grande do Norte    413132039.90  918433463.52  976733756.97  \n",
       "Sergipe                376772210.38  876573859.63  892986186.11  "
      ]
     },
     "execution_count": 7,
     "metadata": {},
     "output_type": "execute_result"
    }
   ],
   "source": [
    "#correção de indices do dataframe\n",
    "pd.set_option('float_format', '{:.2f}'.format)\n",
    "gastos13 = gastos13.set_index('Unidades da Federação')\n",
    "gastos13"
   ]
  },
  {
   "cell_type": "markdown",
   "metadata": {
    "id": "wTSWaf78Rsoi"
   },
   "source": [
    "<h1><strong>==========================<br>Request de dados 2019 a 2020<strong></h1>"
   ]
  },
  {
   "cell_type": "code",
   "execution_count": 8,
   "metadata": {
    "colab": {
     "base_uri": "https://localhost:8080/"
    },
    "id": "SyEXrtB8C0ve",
    "outputId": "00575025-63f3-41d9-eb4e-d178f57698ee"
   },
   "outputs": [
    {
     "data": {
      "text/plain": [
       "8062005"
      ]
     },
     "execution_count": 8,
     "metadata": {},
     "output_type": "execute_result"
    }
   ],
   "source": [
    "url='https://forumseguranca.org.br/wp-content/uploads/2021/10/anuario-15-completo-v6-251021.xlsx'\n",
    "path = requests.get(url)\n",
    "open(\"anuario15.xlsx\", \"wb\").write(path.content)"
   ]
  },
  {
   "cell_type": "code",
   "execution_count": 9,
   "metadata": {
    "colab": {
     "base_uri": "https://localhost:8080/",
     "height": 473
    },
    "id": "rPCtOUq8E7Nb",
    "outputId": "65f69357-ea7a-47db-cfd5-e4c55e6618f3"
   },
   "outputs": [
    {
     "data": {
      "text/html": [
       "<div>\n",
       "<style scoped>\n",
       "    .dataframe tbody tr th:only-of-type {\n",
       "        vertical-align: middle;\n",
       "    }\n",
       "\n",
       "    .dataframe tbody tr th {\n",
       "        vertical-align: top;\n",
       "    }\n",
       "\n",
       "    .dataframe thead th {\n",
       "        text-align: right;\n",
       "    }\n",
       "</style>\n",
       "<table border=\"1\" class=\"dataframe\">\n",
       "  <thead>\n",
       "    <tr style=\"text-align: right;\">\n",
       "      <th></th>\n",
       "      <th>TABELA 54</th>\n",
       "      <th>Unnamed: 1</th>\n",
       "      <th>Unnamed: 2</th>\n",
       "      <th>Unnamed: 4</th>\n",
       "      <th>Unnamed: 5</th>\n",
       "      <th>Unnamed: 7</th>\n",
       "      <th>Unnamed: 8</th>\n",
       "      <th>Unnamed: 10</th>\n",
       "      <th>Unnamed: 11</th>\n",
       "      <th>Unnamed: 13</th>\n",
       "      <th>Unnamed: 14</th>\n",
       "    </tr>\n",
       "  </thead>\n",
       "  <tbody>\n",
       "    <tr>\n",
       "      <th>3</th>\n",
       "      <td>União e Unidades da Federação</td>\n",
       "      <td>Policiamento</td>\n",
       "      <td>NaN</td>\n",
       "      <td>Defesa Civil</td>\n",
       "      <td>NaN</td>\n",
       "      <td>Informação e Inteligência</td>\n",
       "      <td>NaN</td>\n",
       "      <td>Demais subfunções</td>\n",
       "      <td>NaN</td>\n",
       "      <td>Total</td>\n",
       "      <td>NaN</td>\n",
       "    </tr>\n",
       "    <tr>\n",
       "      <th>4</th>\n",
       "      <td>NaN</td>\n",
       "      <td>2019</td>\n",
       "      <td>2020.00</td>\n",
       "      <td>2019</td>\n",
       "      <td>2020.00</td>\n",
       "      <td>2019</td>\n",
       "      <td>2020.00</td>\n",
       "      <td>2019</td>\n",
       "      <td>2020.00</td>\n",
       "      <td>2019</td>\n",
       "      <td>2020.00</td>\n",
       "    </tr>\n",
       "    <tr>\n",
       "      <th>15</th>\n",
       "      <td>Alagoas</td>\n",
       "      <td>39933161.56</td>\n",
       "      <td>59775502.63</td>\n",
       "      <td>3463069.32</td>\n",
       "      <td>8614589.87</td>\n",
       "      <td>633890.30</td>\n",
       "      <td>62442.59</td>\n",
       "      <td>1115128698.11</td>\n",
       "      <td>1286533736.01</td>\n",
       "      <td>1159158819.29</td>\n",
       "      <td>1354986271.10</td>\n",
       "    </tr>\n",
       "    <tr>\n",
       "      <th>18</th>\n",
       "      <td>Bahia</td>\n",
       "      <td>298957510.04</td>\n",
       "      <td>232915902.13</td>\n",
       "      <td>55709611.15</td>\n",
       "      <td>23393352.95</td>\n",
       "      <td>14649267.91</td>\n",
       "      <td>9378921.46</td>\n",
       "      <td>4313086966.67</td>\n",
       "      <td>4055975150.69</td>\n",
       "      <td>4682403355.77</td>\n",
       "      <td>4321663327.23</td>\n",
       "    </tr>\n",
       "    <tr>\n",
       "      <th>19</th>\n",
       "      <td>Ceará</td>\n",
       "      <td>272982780.31</td>\n",
       "      <td>158644003.31</td>\n",
       "      <td>4349594.60</td>\n",
       "      <td>3812430.40</td>\n",
       "      <td>54786132.51</td>\n",
       "      <td>53546444.02</td>\n",
       "      <td>2510241286.32</td>\n",
       "      <td>2829579791.26</td>\n",
       "      <td>2842359793.74</td>\n",
       "      <td>3045582668.99</td>\n",
       "    </tr>\n",
       "    <tr>\n",
       "      <th>23</th>\n",
       "      <td>Maranhão</td>\n",
       "      <td>355185331.79</td>\n",
       "      <td>0.00</td>\n",
       "      <td>5658886.65</td>\n",
       "      <td>12371118.58</td>\n",
       "      <td>0</td>\n",
       "      <td>0.00</td>\n",
       "      <td>1642815577.65</td>\n",
       "      <td>1942012656.85</td>\n",
       "      <td>2003659796.09</td>\n",
       "      <td>1954383775.43</td>\n",
       "    </tr>\n",
       "    <tr>\n",
       "      <th>28</th>\n",
       "      <td>Paraíba</td>\n",
       "      <td>7144027.40</td>\n",
       "      <td>7739853.66</td>\n",
       "      <td>9969071.16</td>\n",
       "      <td>8184933.00</td>\n",
       "      <td>195353.34</td>\n",
       "      <td>45850.00</td>\n",
       "      <td>1368931998.14</td>\n",
       "      <td>1401621066.99</td>\n",
       "      <td>1386240450.05</td>\n",
       "      <td>1417591703.65</td>\n",
       "    </tr>\n",
       "    <tr>\n",
       "      <th>30</th>\n",
       "      <td>Pernambuco</td>\n",
       "      <td>2514846376.41</td>\n",
       "      <td>2422625614.48</td>\n",
       "      <td>278987021.24</td>\n",
       "      <td>276950156.50</td>\n",
       "      <td>510889.99</td>\n",
       "      <td>880876.40</td>\n",
       "      <td>190800999.53</td>\n",
       "      <td>179694688.39</td>\n",
       "      <td>2985145287.17</td>\n",
       "      <td>2880151335.77</td>\n",
       "    </tr>\n",
       "    <tr>\n",
       "      <th>31</th>\n",
       "      <td>Piauí</td>\n",
       "      <td>65786996.90</td>\n",
       "      <td>66549744.65</td>\n",
       "      <td>17542350.13</td>\n",
       "      <td>33279756.35</td>\n",
       "      <td>0</td>\n",
       "      <td>0.00</td>\n",
       "      <td>809966595.34</td>\n",
       "      <td>686002281.84</td>\n",
       "      <td>893295942.37</td>\n",
       "      <td>785831782.84</td>\n",
       "    </tr>\n",
       "    <tr>\n",
       "      <th>33</th>\n",
       "      <td>Rio Grande do Norte</td>\n",
       "      <td>709734791.71</td>\n",
       "      <td>53270297.38</td>\n",
       "      <td>9347126.26</td>\n",
       "      <td>6937753.55</td>\n",
       "      <td>0</td>\n",
       "      <td>0.00</td>\n",
       "      <td>484602145.08</td>\n",
       "      <td>978010342.96</td>\n",
       "      <td>1203684063.05</td>\n",
       "      <td>1038218393.89</td>\n",
       "    </tr>\n",
       "    <tr>\n",
       "      <th>39</th>\n",
       "      <td>Sergipe</td>\n",
       "      <td>525870475.11</td>\n",
       "      <td>505707842.59</td>\n",
       "      <td>75574386.42</td>\n",
       "      <td>74848742.21</td>\n",
       "      <td>1136952.45</td>\n",
       "      <td>1118825.50</td>\n",
       "      <td>386546579.45</td>\n",
       "      <td>375108993.83</td>\n",
       "      <td>989128393.43</td>\n",
       "      <td>956784404.13</td>\n",
       "    </tr>\n",
       "  </tbody>\n",
       "</table>\n",
       "</div>"
      ],
      "text/plain": [
       "                        TABELA 54    Unnamed: 1    Unnamed: 2    Unnamed: 4  \\\n",
       "3   União e Unidades da Federação  Policiamento           NaN  Defesa Civil   \n",
       "4                             NaN          2019       2020.00          2019   \n",
       "15                        Alagoas   39933161.56   59775502.63    3463069.32   \n",
       "18                          Bahia  298957510.04  232915902.13   55709611.15   \n",
       "19                          Ceará  272982780.31  158644003.31    4349594.60   \n",
       "23                       Maranhão  355185331.79          0.00    5658886.65   \n",
       "28                        Paraíba    7144027.40    7739853.66    9969071.16   \n",
       "30                     Pernambuco 2514846376.41 2422625614.48  278987021.24   \n",
       "31                          Piauí   65786996.90   66549744.65   17542350.13   \n",
       "33            Rio Grande do Norte  709734791.71   53270297.38    9347126.26   \n",
       "39                        Sergipe  525870475.11  505707842.59   75574386.42   \n",
       "\n",
       "     Unnamed: 5                 Unnamed: 7  Unnamed: 8        Unnamed: 10  \\\n",
       "3           NaN  Informação e Inteligência         NaN  Demais subfunções   \n",
       "4       2020.00                       2019     2020.00               2019   \n",
       "15   8614589.87                  633890.30    62442.59      1115128698.11   \n",
       "18  23393352.95                14649267.91  9378921.46      4313086966.67   \n",
       "19   3812430.40                54786132.51 53546444.02      2510241286.32   \n",
       "23  12371118.58                          0        0.00      1642815577.65   \n",
       "28   8184933.00                  195353.34    45850.00      1368931998.14   \n",
       "30 276950156.50                  510889.99   880876.40       190800999.53   \n",
       "31  33279756.35                          0        0.00       809966595.34   \n",
       "33   6937753.55                          0        0.00       484602145.08   \n",
       "39  74848742.21                 1136952.45  1118825.50       386546579.45   \n",
       "\n",
       "     Unnamed: 11   Unnamed: 13   Unnamed: 14  \n",
       "3            NaN         Total           NaN  \n",
       "4        2020.00          2019       2020.00  \n",
       "15 1286533736.01 1159158819.29 1354986271.10  \n",
       "18 4055975150.69 4682403355.77 4321663327.23  \n",
       "19 2829579791.26 2842359793.74 3045582668.99  \n",
       "23 1942012656.85 2003659796.09 1954383775.43  \n",
       "28 1401621066.99 1386240450.05 1417591703.65  \n",
       "30  179694688.39 2985145287.17 2880151335.77  \n",
       "31  686002281.84  893295942.37  785831782.84  \n",
       "33  978010342.96 1203684063.05 1038218393.89  \n",
       "39  375108993.83  989128393.43  956784404.13  "
      ]
     },
     "execution_count": 9,
     "metadata": {},
     "output_type": "execute_result"
    }
   ],
   "source": [
    "gastos15 = pd.read_excel(\"anuario15.xlsx\", sheet_name=\"T54\")\n",
    "gastos15 = gastos15.drop([0, 1, 2, 5, 6, 7, 8, 9, 10, 11, 12, 13, 14, 16, 17, 20, 21, 22, 24, 25, 26, 27, 29, 32, 34, 35, 36, 37, 38, 40, 41, 42, 43, 44, 45, 46])\n",
    "gastos15 = gastos15.drop(columns=['Unnamed: 3', 'Unnamed: 6', 'Unnamed: 9', 'Unnamed: 12', '(Voltar ao índice)'])\n",
    "gastos15"
   ]
  },
  {
   "cell_type": "code",
   "execution_count": 10,
   "metadata": {
    "colab": {
     "base_uri": "https://localhost:8080/",
     "height": 428
    },
    "id": "sScGbemPHk_G",
    "outputId": "5a0e51b1-6b07-40a7-f1ee-3f2fd2e79ded"
   },
   "outputs": [
    {
     "data": {
      "text/html": [
       "<div>\n",
       "<style scoped>\n",
       "    .dataframe tbody tr th:only-of-type {\n",
       "        vertical-align: middle;\n",
       "    }\n",
       "\n",
       "    .dataframe tbody tr th {\n",
       "        vertical-align: top;\n",
       "    }\n",
       "\n",
       "    .dataframe thead th {\n",
       "        text-align: right;\n",
       "    }\n",
       "</style>\n",
       "<table border=\"1\" class=\"dataframe\">\n",
       "  <thead>\n",
       "    <tr style=\"text-align: right;\">\n",
       "      <th></th>\n",
       "      <th>Unidades da Federação</th>\n",
       "      <th>Policiamento 2019</th>\n",
       "      <th>Policiamento 2020</th>\n",
       "      <th>Defesa Civil 2019</th>\n",
       "      <th>Defesa Civil 2020</th>\n",
       "      <th>Informação e Inteligência 2019</th>\n",
       "      <th>Informação e Inteligência 2020</th>\n",
       "      <th>Outros 2019</th>\n",
       "      <th>Outros 2020</th>\n",
       "      <th>Total 2019</th>\n",
       "      <th>Total 2020</th>\n",
       "    </tr>\n",
       "  </thead>\n",
       "  <tbody>\n",
       "    <tr>\n",
       "      <th>15</th>\n",
       "      <td>Alagoas</td>\n",
       "      <td>39933161.56</td>\n",
       "      <td>59775502.63</td>\n",
       "      <td>3463069.32</td>\n",
       "      <td>8614589.87</td>\n",
       "      <td>633890.30</td>\n",
       "      <td>62442.59</td>\n",
       "      <td>1115128698.11</td>\n",
       "      <td>1286533736.01</td>\n",
       "      <td>1159158819.29</td>\n",
       "      <td>1354986271.10</td>\n",
       "    </tr>\n",
       "    <tr>\n",
       "      <th>18</th>\n",
       "      <td>Bahia</td>\n",
       "      <td>298957510.04</td>\n",
       "      <td>232915902.13</td>\n",
       "      <td>55709611.15</td>\n",
       "      <td>23393352.95</td>\n",
       "      <td>14649267.91</td>\n",
       "      <td>9378921.46</td>\n",
       "      <td>4313086966.67</td>\n",
       "      <td>4055975150.69</td>\n",
       "      <td>4682403355.77</td>\n",
       "      <td>4321663327.23</td>\n",
       "    </tr>\n",
       "    <tr>\n",
       "      <th>19</th>\n",
       "      <td>Ceará</td>\n",
       "      <td>272982780.31</td>\n",
       "      <td>158644003.31</td>\n",
       "      <td>4349594.60</td>\n",
       "      <td>3812430.40</td>\n",
       "      <td>54786132.51</td>\n",
       "      <td>53546444.02</td>\n",
       "      <td>2510241286.32</td>\n",
       "      <td>2829579791.26</td>\n",
       "      <td>2842359793.74</td>\n",
       "      <td>3045582668.99</td>\n",
       "    </tr>\n",
       "    <tr>\n",
       "      <th>23</th>\n",
       "      <td>Maranhão</td>\n",
       "      <td>355185331.79</td>\n",
       "      <td>0.00</td>\n",
       "      <td>5658886.65</td>\n",
       "      <td>12371118.58</td>\n",
       "      <td>0</td>\n",
       "      <td>0.00</td>\n",
       "      <td>1642815577.65</td>\n",
       "      <td>1942012656.85</td>\n",
       "      <td>2003659796.09</td>\n",
       "      <td>1954383775.43</td>\n",
       "    </tr>\n",
       "    <tr>\n",
       "      <th>28</th>\n",
       "      <td>Paraíba</td>\n",
       "      <td>7144027.40</td>\n",
       "      <td>7739853.66</td>\n",
       "      <td>9969071.16</td>\n",
       "      <td>8184933.00</td>\n",
       "      <td>195353.34</td>\n",
       "      <td>45850.00</td>\n",
       "      <td>1368931998.14</td>\n",
       "      <td>1401621066.99</td>\n",
       "      <td>1386240450.05</td>\n",
       "      <td>1417591703.65</td>\n",
       "    </tr>\n",
       "    <tr>\n",
       "      <th>30</th>\n",
       "      <td>Pernambuco</td>\n",
       "      <td>2514846376.41</td>\n",
       "      <td>2422625614.48</td>\n",
       "      <td>278987021.24</td>\n",
       "      <td>276950156.50</td>\n",
       "      <td>510889.99</td>\n",
       "      <td>880876.40</td>\n",
       "      <td>190800999.53</td>\n",
       "      <td>179694688.39</td>\n",
       "      <td>2985145287.17</td>\n",
       "      <td>2880151335.77</td>\n",
       "    </tr>\n",
       "    <tr>\n",
       "      <th>31</th>\n",
       "      <td>Piauí</td>\n",
       "      <td>65786996.90</td>\n",
       "      <td>66549744.65</td>\n",
       "      <td>17542350.13</td>\n",
       "      <td>33279756.35</td>\n",
       "      <td>0</td>\n",
       "      <td>0.00</td>\n",
       "      <td>809966595.34</td>\n",
       "      <td>686002281.84</td>\n",
       "      <td>893295942.37</td>\n",
       "      <td>785831782.84</td>\n",
       "    </tr>\n",
       "    <tr>\n",
       "      <th>33</th>\n",
       "      <td>Rio Grande do Norte</td>\n",
       "      <td>709734791.71</td>\n",
       "      <td>53270297.38</td>\n",
       "      <td>9347126.26</td>\n",
       "      <td>6937753.55</td>\n",
       "      <td>0</td>\n",
       "      <td>0.00</td>\n",
       "      <td>484602145.08</td>\n",
       "      <td>978010342.96</td>\n",
       "      <td>1203684063.05</td>\n",
       "      <td>1038218393.89</td>\n",
       "    </tr>\n",
       "    <tr>\n",
       "      <th>39</th>\n",
       "      <td>Sergipe</td>\n",
       "      <td>525870475.11</td>\n",
       "      <td>505707842.59</td>\n",
       "      <td>75574386.42</td>\n",
       "      <td>74848742.21</td>\n",
       "      <td>1136952.45</td>\n",
       "      <td>1118825.50</td>\n",
       "      <td>386546579.45</td>\n",
       "      <td>375108993.83</td>\n",
       "      <td>989128393.43</td>\n",
       "      <td>956784404.13</td>\n",
       "    </tr>\n",
       "  </tbody>\n",
       "</table>\n",
       "</div>"
      ],
      "text/plain": [
       "   Unidades da Federação Policiamento 2019  Policiamento 2020  \\\n",
       "15               Alagoas       39933161.56        59775502.63   \n",
       "18                 Bahia      298957510.04       232915902.13   \n",
       "19                 Ceará      272982780.31       158644003.31   \n",
       "23              Maranhão      355185331.79               0.00   \n",
       "28               Paraíba        7144027.40         7739853.66   \n",
       "30            Pernambuco     2514846376.41      2422625614.48   \n",
       "31                 Piauí       65786996.90        66549744.65   \n",
       "33   Rio Grande do Norte      709734791.71        53270297.38   \n",
       "39               Sergipe      525870475.11       505707842.59   \n",
       "\n",
       "   Defesa Civil 2019  Defesa Civil 2020 Informação e Inteligência 2019  \\\n",
       "15        3463069.32         8614589.87                      633890.30   \n",
       "18       55709611.15        23393352.95                    14649267.91   \n",
       "19        4349594.60         3812430.40                    54786132.51   \n",
       "23        5658886.65        12371118.58                              0   \n",
       "28        9969071.16         8184933.00                      195353.34   \n",
       "30      278987021.24       276950156.50                      510889.99   \n",
       "31       17542350.13        33279756.35                              0   \n",
       "33        9347126.26         6937753.55                              0   \n",
       "39       75574386.42        74848742.21                     1136952.45   \n",
       "\n",
       "    Informação e Inteligência 2020   Outros 2019   Outros 2020    Total 2019  \\\n",
       "15                        62442.59 1115128698.11 1286533736.01 1159158819.29   \n",
       "18                      9378921.46 4313086966.67 4055975150.69 4682403355.77   \n",
       "19                     53546444.02 2510241286.32 2829579791.26 2842359793.74   \n",
       "23                            0.00 1642815577.65 1942012656.85 2003659796.09   \n",
       "28                        45850.00 1368931998.14 1401621066.99 1386240450.05   \n",
       "30                       880876.40  190800999.53  179694688.39 2985145287.17   \n",
       "31                            0.00  809966595.34  686002281.84  893295942.37   \n",
       "33                            0.00  484602145.08  978010342.96 1203684063.05   \n",
       "39                      1118825.50  386546579.45  375108993.83  989128393.43   \n",
       "\n",
       "      Total 2020  \n",
       "15 1354986271.10  \n",
       "18 4321663327.23  \n",
       "19 3045582668.99  \n",
       "23 1954383775.43  \n",
       "28 1417591703.65  \n",
       "30 2880151335.77  \n",
       "31  785831782.84  \n",
       "33 1038218393.89  \n",
       "39  956784404.13  "
      ]
     },
     "execution_count": 10,
     "metadata": {},
     "output_type": "execute_result"
    }
   ],
   "source": [
    "#correção de colunas de 2019 a 2020\n",
    "gastos15 = gastos15.rename({'TABELA 54':'Unidades da Federação', 'Unnamed: 1': 'Policiamento 2019', 'Unnamed: 2':'Policiamento 2020', 'Unnamed: 4':'Defesa Civil 2019',\t'Unnamed: 5':'Defesa Civil 2020', 'Unnamed: 7':'Informação e Inteligência 2019', 'Unnamed: 8':'Informação e Inteligência 2020', 'Unnamed: 10':'Outros 2019', 'Unnamed: 11':'Outros 2020', 'Unnamed: 13':'Total 2019', 'Unnamed: 14':'Total 2020'}, axis='columns')\n",
    "gastos15 = gastos15.drop([3,4])\n",
    "gastos15"
   ]
  },
  {
   "cell_type": "code",
   "execution_count": 11,
   "metadata": {
    "colab": {
     "base_uri": "https://localhost:8080/"
    },
    "id": "i6czsHGMI-aK",
    "outputId": "e8981ffc-6a61-449b-9c13-17f77b18e2b8"
   },
   "outputs": [
    {
     "name": "stdout",
     "output_type": "stream",
     "text": [
      "<class 'pandas.core.frame.DataFrame'>\n",
      "Int64Index: 9 entries, 15 to 39\n",
      "Data columns (total 11 columns):\n",
      " #   Column                          Non-Null Count  Dtype  \n",
      "---  ------                          --------------  -----  \n",
      " 0   Unidades da Federação           9 non-null      object \n",
      " 1   Policiamento 2019               9 non-null      float64\n",
      " 2   Policiamento 2020               9 non-null      float64\n",
      " 3   Defesa Civil 2019               9 non-null      float64\n",
      " 4   Defesa Civil 2020               9 non-null      float64\n",
      " 5   Informação e Inteligência 2019  9 non-null      float64\n",
      " 6   Informação e Inteligência 2020  9 non-null      float64\n",
      " 7   Outros 2019                     9 non-null      float64\n",
      " 8   Outros 2020                     9 non-null      float64\n",
      " 9   Total 2019                      9 non-null      float64\n",
      " 10  Total 2020                      9 non-null      float64\n",
      "dtypes: float64(10), object(1)\n",
      "memory usage: 864.0+ bytes\n"
     ]
    }
   ],
   "source": [
    "#conversão de dados numéricos para float\n",
    "gastos15['Informação e Inteligência 2019'] = gastos15['Informação e Inteligência 2019'].astype('float64')\n",
    "gastos15['Policiamento 2019'] = gastos15['Policiamento 2019'].astype('float64')\n",
    "gastos15['Defesa Civil 2019'] = gastos15['Defesa Civil 2019'].astype('float64')\n",
    "gastos15['Outros 2019'] = gastos15['Outros 2019'].astype('float64')\n",
    "gastos15['Total 2019'] = gastos15['Total 2019'].astype('float64')\n",
    "gastos15.info()"
   ]
  },
  {
   "cell_type": "code",
   "execution_count": 12,
   "metadata": {
    "colab": {
     "base_uri": "https://localhost:8080/",
     "height": 476
    },
    "id": "3ZXmTrH-Ju5s",
    "outputId": "e8407e39-4ee5-4a24-bf41-30e250b79311"
   },
   "outputs": [
    {
     "data": {
      "text/html": [
       "<div>\n",
       "<style scoped>\n",
       "    .dataframe tbody tr th:only-of-type {\n",
       "        vertical-align: middle;\n",
       "    }\n",
       "\n",
       "    .dataframe tbody tr th {\n",
       "        vertical-align: top;\n",
       "    }\n",
       "\n",
       "    .dataframe thead th {\n",
       "        text-align: right;\n",
       "    }\n",
       "</style>\n",
       "<table border=\"1\" class=\"dataframe\">\n",
       "  <thead>\n",
       "    <tr style=\"text-align: right;\">\n",
       "      <th></th>\n",
       "      <th>Policiamento 2019</th>\n",
       "      <th>Policiamento 2020</th>\n",
       "      <th>Defesa Civil 2019</th>\n",
       "      <th>Defesa Civil 2020</th>\n",
       "      <th>Informação e Inteligência 2019</th>\n",
       "      <th>Informação e Inteligência 2020</th>\n",
       "      <th>Outros 2019</th>\n",
       "      <th>Outros 2020</th>\n",
       "      <th>Total 2019</th>\n",
       "      <th>Total 2020</th>\n",
       "    </tr>\n",
       "    <tr>\n",
       "      <th>Unidades da Federação</th>\n",
       "      <th></th>\n",
       "      <th></th>\n",
       "      <th></th>\n",
       "      <th></th>\n",
       "      <th></th>\n",
       "      <th></th>\n",
       "      <th></th>\n",
       "      <th></th>\n",
       "      <th></th>\n",
       "      <th></th>\n",
       "    </tr>\n",
       "  </thead>\n",
       "  <tbody>\n",
       "    <tr>\n",
       "      <th>Alagoas</th>\n",
       "      <td>39933161.56</td>\n",
       "      <td>59775502.63</td>\n",
       "      <td>3463069.32</td>\n",
       "      <td>8614589.87</td>\n",
       "      <td>633890.30</td>\n",
       "      <td>62442.59</td>\n",
       "      <td>1115128698.11</td>\n",
       "      <td>1286533736.01</td>\n",
       "      <td>1159158819.29</td>\n",
       "      <td>1354986271.10</td>\n",
       "    </tr>\n",
       "    <tr>\n",
       "      <th>Bahia</th>\n",
       "      <td>298957510.04</td>\n",
       "      <td>232915902.13</td>\n",
       "      <td>55709611.15</td>\n",
       "      <td>23393352.95</td>\n",
       "      <td>14649267.91</td>\n",
       "      <td>9378921.46</td>\n",
       "      <td>4313086966.67</td>\n",
       "      <td>4055975150.69</td>\n",
       "      <td>4682403355.77</td>\n",
       "      <td>4321663327.23</td>\n",
       "    </tr>\n",
       "    <tr>\n",
       "      <th>Ceará</th>\n",
       "      <td>272982780.31</td>\n",
       "      <td>158644003.31</td>\n",
       "      <td>4349594.60</td>\n",
       "      <td>3812430.40</td>\n",
       "      <td>54786132.51</td>\n",
       "      <td>53546444.02</td>\n",
       "      <td>2510241286.32</td>\n",
       "      <td>2829579791.26</td>\n",
       "      <td>2842359793.74</td>\n",
       "      <td>3045582668.99</td>\n",
       "    </tr>\n",
       "    <tr>\n",
       "      <th>Maranhão</th>\n",
       "      <td>355185331.79</td>\n",
       "      <td>0.00</td>\n",
       "      <td>5658886.65</td>\n",
       "      <td>12371118.58</td>\n",
       "      <td>0.00</td>\n",
       "      <td>0.00</td>\n",
       "      <td>1642815577.65</td>\n",
       "      <td>1942012656.85</td>\n",
       "      <td>2003659796.09</td>\n",
       "      <td>1954383775.43</td>\n",
       "    </tr>\n",
       "    <tr>\n",
       "      <th>Paraíba</th>\n",
       "      <td>7144027.40</td>\n",
       "      <td>7739853.66</td>\n",
       "      <td>9969071.16</td>\n",
       "      <td>8184933.00</td>\n",
       "      <td>195353.34</td>\n",
       "      <td>45850.00</td>\n",
       "      <td>1368931998.14</td>\n",
       "      <td>1401621066.99</td>\n",
       "      <td>1386240450.05</td>\n",
       "      <td>1417591703.65</td>\n",
       "    </tr>\n",
       "    <tr>\n",
       "      <th>Pernambuco</th>\n",
       "      <td>2514846376.41</td>\n",
       "      <td>2422625614.48</td>\n",
       "      <td>278987021.24</td>\n",
       "      <td>276950156.50</td>\n",
       "      <td>510889.99</td>\n",
       "      <td>880876.40</td>\n",
       "      <td>190800999.53</td>\n",
       "      <td>179694688.39</td>\n",
       "      <td>2985145287.17</td>\n",
       "      <td>2880151335.77</td>\n",
       "    </tr>\n",
       "    <tr>\n",
       "      <th>Piauí</th>\n",
       "      <td>65786996.90</td>\n",
       "      <td>66549744.65</td>\n",
       "      <td>17542350.13</td>\n",
       "      <td>33279756.35</td>\n",
       "      <td>0.00</td>\n",
       "      <td>0.00</td>\n",
       "      <td>809966595.34</td>\n",
       "      <td>686002281.84</td>\n",
       "      <td>893295942.37</td>\n",
       "      <td>785831782.84</td>\n",
       "    </tr>\n",
       "    <tr>\n",
       "      <th>Rio Grande do Norte</th>\n",
       "      <td>709734791.71</td>\n",
       "      <td>53270297.38</td>\n",
       "      <td>9347126.26</td>\n",
       "      <td>6937753.55</td>\n",
       "      <td>0.00</td>\n",
       "      <td>0.00</td>\n",
       "      <td>484602145.08</td>\n",
       "      <td>978010342.96</td>\n",
       "      <td>1203684063.05</td>\n",
       "      <td>1038218393.89</td>\n",
       "    </tr>\n",
       "    <tr>\n",
       "      <th>Sergipe</th>\n",
       "      <td>525870475.11</td>\n",
       "      <td>505707842.59</td>\n",
       "      <td>75574386.42</td>\n",
       "      <td>74848742.21</td>\n",
       "      <td>1136952.45</td>\n",
       "      <td>1118825.50</td>\n",
       "      <td>386546579.45</td>\n",
       "      <td>375108993.83</td>\n",
       "      <td>989128393.43</td>\n",
       "      <td>956784404.13</td>\n",
       "    </tr>\n",
       "  </tbody>\n",
       "</table>\n",
       "</div>"
      ],
      "text/plain": [
       "                       Policiamento 2019  Policiamento 2020  \\\n",
       "Unidades da Federação                                         \n",
       "Alagoas                      39933161.56        59775502.63   \n",
       "Bahia                       298957510.04       232915902.13   \n",
       "Ceará                       272982780.31       158644003.31   \n",
       "Maranhão                    355185331.79               0.00   \n",
       "Paraíba                       7144027.40         7739853.66   \n",
       "Pernambuco                 2514846376.41      2422625614.48   \n",
       "Piauí                        65786996.90        66549744.65   \n",
       "Rio Grande do Norte         709734791.71        53270297.38   \n",
       "Sergipe                     525870475.11       505707842.59   \n",
       "\n",
       "                       Defesa Civil 2019  Defesa Civil 2020  \\\n",
       "Unidades da Federação                                         \n",
       "Alagoas                       3463069.32         8614589.87   \n",
       "Bahia                        55709611.15        23393352.95   \n",
       "Ceará                         4349594.60         3812430.40   \n",
       "Maranhão                      5658886.65        12371118.58   \n",
       "Paraíba                       9969071.16         8184933.00   \n",
       "Pernambuco                  278987021.24       276950156.50   \n",
       "Piauí                        17542350.13        33279756.35   \n",
       "Rio Grande do Norte           9347126.26         6937753.55   \n",
       "Sergipe                      75574386.42        74848742.21   \n",
       "\n",
       "                       Informação e Inteligência 2019  \\\n",
       "Unidades da Federação                                   \n",
       "Alagoas                                     633890.30   \n",
       "Bahia                                     14649267.91   \n",
       "Ceará                                     54786132.51   \n",
       "Maranhão                                         0.00   \n",
       "Paraíba                                     195353.34   \n",
       "Pernambuco                                  510889.99   \n",
       "Piauí                                            0.00   \n",
       "Rio Grande do Norte                              0.00   \n",
       "Sergipe                                    1136952.45   \n",
       "\n",
       "                       Informação e Inteligência 2020   Outros 2019  \\\n",
       "Unidades da Federação                                                 \n",
       "Alagoas                                      62442.59 1115128698.11   \n",
       "Bahia                                      9378921.46 4313086966.67   \n",
       "Ceará                                     53546444.02 2510241286.32   \n",
       "Maranhão                                         0.00 1642815577.65   \n",
       "Paraíba                                      45850.00 1368931998.14   \n",
       "Pernambuco                                  880876.40  190800999.53   \n",
       "Piauí                                            0.00  809966595.34   \n",
       "Rio Grande do Norte                              0.00  484602145.08   \n",
       "Sergipe                                    1118825.50  386546579.45   \n",
       "\n",
       "                        Outros 2020    Total 2019    Total 2020  \n",
       "Unidades da Federação                                            \n",
       "Alagoas               1286533736.01 1159158819.29 1354986271.10  \n",
       "Bahia                 4055975150.69 4682403355.77 4321663327.23  \n",
       "Ceará                 2829579791.26 2842359793.74 3045582668.99  \n",
       "Maranhão              1942012656.85 2003659796.09 1954383775.43  \n",
       "Paraíba               1401621066.99 1386240450.05 1417591703.65  \n",
       "Pernambuco             179694688.39 2985145287.17 2880151335.77  \n",
       "Piauí                  686002281.84  893295942.37  785831782.84  \n",
       "Rio Grande do Norte    978010342.96 1203684063.05 1038218393.89  \n",
       "Sergipe                375108993.83  989128393.43  956784404.13  "
      ]
     },
     "execution_count": 12,
     "metadata": {},
     "output_type": "execute_result"
    }
   ],
   "source": [
    "#correção de indíce\n",
    "pd.set_option('float_format', '{:.2f}'.format)\n",
    "gastos15 = gastos15.set_index('Unidades da Federação')\n",
    "gastos15"
   ]
  },
  {
   "cell_type": "markdown",
   "metadata": {
    "id": "BYsUM4N2Sz7I"
   },
   "source": [
    "<h1><strong>=======================<br>requests dos dados de 2021<strong></h1>"
   ]
  },
  {
   "cell_type": "code",
   "execution_count": 13,
   "metadata": {
    "colab": {
     "base_uri": "https://localhost:8080/"
    },
    "id": "s-aJwu6_Nq5k",
    "outputId": "0730258a-b9f1-4e6c-826f-a89dd21f58b4"
   },
   "outputs": [
    {
     "data": {
      "text/plain": [
       "7771451"
      ]
     },
     "execution_count": 13,
     "metadata": {},
     "output_type": "execute_result"
    }
   ],
   "source": [
    "import requests\n",
    "url='https://forumseguranca.org.br/wp-content/uploads/2022/06/anuario-2022.xlsx'\n",
    "path = requests.get(url)\n",
    "open(\"anuario16.xlsx\", \"wb\").write(path.content)"
   ]
  },
  {
   "cell_type": "code",
   "execution_count": 14,
   "metadata": {
    "colab": {
     "base_uri": "https://localhost:8080/",
     "height": 394
    },
    "id": "hpRNQH1pOiaC",
    "outputId": "fd59e4e5-6a1b-4c82-8bd9-ea0faa11ea0b"
   },
   "outputs": [
    {
     "data": {
      "text/html": [
       "<div>\n",
       "<style scoped>\n",
       "    .dataframe tbody tr th:only-of-type {\n",
       "        vertical-align: middle;\n",
       "    }\n",
       "\n",
       "    .dataframe tbody tr th {\n",
       "        vertical-align: top;\n",
       "    }\n",
       "\n",
       "    .dataframe thead th {\n",
       "        text-align: right;\n",
       "    }\n",
       "</style>\n",
       "<table border=\"1\" class=\"dataframe\">\n",
       "  <thead>\n",
       "    <tr style=\"text-align: right;\">\n",
       "      <th></th>\n",
       "      <th>TABELA 73</th>\n",
       "      <th>Unnamed: 2</th>\n",
       "      <th>Unnamed: 5</th>\n",
       "      <th>Unnamed: 8</th>\n",
       "      <th>Unnamed: 11</th>\n",
       "      <th>Unnamed: 14</th>\n",
       "    </tr>\n",
       "  </thead>\n",
       "  <tbody>\n",
       "    <tr>\n",
       "      <th>3</th>\n",
       "      <td>União e Unidades da Federação</td>\n",
       "      <td>NaN</td>\n",
       "      <td>NaN</td>\n",
       "      <td>NaN</td>\n",
       "      <td>NaN</td>\n",
       "      <td>NaN</td>\n",
       "    </tr>\n",
       "    <tr>\n",
       "      <th>4</th>\n",
       "      <td>NaN</td>\n",
       "      <td>2021.00</td>\n",
       "      <td>2021</td>\n",
       "      <td>2021</td>\n",
       "      <td>2021.00</td>\n",
       "      <td>2021.00</td>\n",
       "    </tr>\n",
       "    <tr>\n",
       "      <th>15</th>\n",
       "      <td>Alagoas</td>\n",
       "      <td>137085570.33</td>\n",
       "      <td>227163.52</td>\n",
       "      <td>12057.64</td>\n",
       "      <td>1275975768.94</td>\n",
       "      <td>1413300560.43</td>\n",
       "    </tr>\n",
       "    <tr>\n",
       "      <th>18</th>\n",
       "      <td>Bahia</td>\n",
       "      <td>341433149.32</td>\n",
       "      <td>45880896.58</td>\n",
       "      <td>15707646.15</td>\n",
       "      <td>3965408902.57</td>\n",
       "      <td>4368430594.62</td>\n",
       "    </tr>\n",
       "    <tr>\n",
       "      <th>19</th>\n",
       "      <td>Ceará</td>\n",
       "      <td>186998212.56</td>\n",
       "      <td>7945159.97</td>\n",
       "      <td>88674144.18</td>\n",
       "      <td>3052166070.28</td>\n",
       "      <td>3335783586.99</td>\n",
       "    </tr>\n",
       "    <tr>\n",
       "      <th>23</th>\n",
       "      <td>Maranhão</td>\n",
       "      <td>157398627.39</td>\n",
       "      <td>12296501.51</td>\n",
       "      <td>...</td>\n",
       "      <td>1810749128.56</td>\n",
       "      <td>1980444257.46</td>\n",
       "    </tr>\n",
       "    <tr>\n",
       "      <th>28</th>\n",
       "      <td>Paraíba</td>\n",
       "      <td>14312816.39</td>\n",
       "      <td>13262816.70</td>\n",
       "      <td>192671.86</td>\n",
       "      <td>1437694912.06</td>\n",
       "      <td>1465463217.01</td>\n",
       "    </tr>\n",
       "    <tr>\n",
       "      <th>30</th>\n",
       "      <td>Pernambuco</td>\n",
       "      <td>2445971242.15</td>\n",
       "      <td>251766617.39</td>\n",
       "      <td>917758.71</td>\n",
       "      <td>185942567.27</td>\n",
       "      <td>2884598185.52</td>\n",
       "    </tr>\n",
       "    <tr>\n",
       "      <th>31</th>\n",
       "      <td>Piauí</td>\n",
       "      <td>91417461.05</td>\n",
       "      <td>33438605.93</td>\n",
       "      <td>...</td>\n",
       "      <td>717604470.60</td>\n",
       "      <td>842460537.58</td>\n",
       "    </tr>\n",
       "    <tr>\n",
       "      <th>33</th>\n",
       "      <td>Rio Grande do Norte</td>\n",
       "      <td>50514105.70</td>\n",
       "      <td>18100896.16</td>\n",
       "      <td>...</td>\n",
       "      <td>1162825098.58</td>\n",
       "      <td>1231440100.44</td>\n",
       "    </tr>\n",
       "    <tr>\n",
       "      <th>39</th>\n",
       "      <td>Sergipe</td>\n",
       "      <td>973044992.40</td>\n",
       "      <td>131905798.81</td>\n",
       "      <td>6670077.87</td>\n",
       "      <td>415536055.60</td>\n",
       "      <td>1527156924.68</td>\n",
       "    </tr>\n",
       "  </tbody>\n",
       "</table>\n",
       "</div>"
      ],
      "text/plain": [
       "                        TABELA 73    Unnamed: 2   Unnamed: 5  Unnamed: 8  \\\n",
       "3   União e Unidades da Federação           NaN          NaN         NaN   \n",
       "4                             NaN       2021.00         2021        2021   \n",
       "15                        Alagoas  137085570.33    227163.52    12057.64   \n",
       "18                          Bahia  341433149.32  45880896.58 15707646.15   \n",
       "19                          Ceará  186998212.56   7945159.97 88674144.18   \n",
       "23                       Maranhão  157398627.39  12296501.51         ...   \n",
       "28                        Paraíba   14312816.39  13262816.70   192671.86   \n",
       "30                     Pernambuco 2445971242.15 251766617.39   917758.71   \n",
       "31                          Piauí   91417461.05  33438605.93         ...   \n",
       "33            Rio Grande do Norte   50514105.70  18100896.16         ...   \n",
       "39                        Sergipe  973044992.40 131905798.81  6670077.87   \n",
       "\n",
       "     Unnamed: 11   Unnamed: 14  \n",
       "3            NaN           NaN  \n",
       "4        2021.00       2021.00  \n",
       "15 1275975768.94 1413300560.43  \n",
       "18 3965408902.57 4368430594.62  \n",
       "19 3052166070.28 3335783586.99  \n",
       "23 1810749128.56 1980444257.46  \n",
       "28 1437694912.06 1465463217.01  \n",
       "30  185942567.27 2884598185.52  \n",
       "31  717604470.60  842460537.58  \n",
       "33 1162825098.58 1231440100.44  \n",
       "39  415536055.60 1527156924.68  "
      ]
     },
     "execution_count": 14,
     "metadata": {},
     "output_type": "execute_result"
    }
   ],
   "source": [
    "gastos16 = pd.read_excel(\"anuario16.xlsx\", sheet_name=\"T73\")\n",
    "gastos16 = gastos16.drop([0, 1, 2, 5, 6, 7, 8, 9, 10, 11, 12, 13, 14, 16, 17, 20, 21, 22, 24, 25, 26, 27, 29, 32, 34, 35, 36, 37, 38, 40, 41, 42, 43, 44, 45, 46, 47, 48])\n",
    "gastos16 = gastos16.drop(columns=['Unnamed: 1', 'Unnamed: 3', 'Unnamed: 4', 'Unnamed: 6', 'Unnamed: 7', 'Unnamed: 9', 'Unnamed: 10', 'Unnamed: 12', 'Unnamed: 13', '(Voltar ao índice)'])\n",
    "gastos16"
   ]
  },
  {
   "cell_type": "code",
   "execution_count": 15,
   "metadata": {
    "colab": {
     "base_uri": "https://localhost:8080/",
     "height": 332
    },
    "id": "u7srK0aJQSGp",
    "outputId": "943409aa-56a8-4d1e-a499-bdd0097fb4b4"
   },
   "outputs": [
    {
     "data": {
      "text/html": [
       "<div>\n",
       "<style scoped>\n",
       "    .dataframe tbody tr th:only-of-type {\n",
       "        vertical-align: middle;\n",
       "    }\n",
       "\n",
       "    .dataframe tbody tr th {\n",
       "        vertical-align: top;\n",
       "    }\n",
       "\n",
       "    .dataframe thead th {\n",
       "        text-align: right;\n",
       "    }\n",
       "</style>\n",
       "<table border=\"1\" class=\"dataframe\">\n",
       "  <thead>\n",
       "    <tr style=\"text-align: right;\">\n",
       "      <th></th>\n",
       "      <th>Unidades da Federação</th>\n",
       "      <th>Policiamento 2021</th>\n",
       "      <th>Defesa Civil 2021</th>\n",
       "      <th>Informação e Inteligência 2021</th>\n",
       "      <th>Outros 2021</th>\n",
       "      <th>Total 2021</th>\n",
       "    </tr>\n",
       "  </thead>\n",
       "  <tbody>\n",
       "    <tr>\n",
       "      <th>15</th>\n",
       "      <td>Alagoas</td>\n",
       "      <td>137085570.33</td>\n",
       "      <td>227163.52</td>\n",
       "      <td>12057.64</td>\n",
       "      <td>1275975768.94</td>\n",
       "      <td>1413300560.43</td>\n",
       "    </tr>\n",
       "    <tr>\n",
       "      <th>18</th>\n",
       "      <td>Bahia</td>\n",
       "      <td>341433149.32</td>\n",
       "      <td>45880896.58</td>\n",
       "      <td>15707646.15</td>\n",
       "      <td>3965408902.57</td>\n",
       "      <td>4368430594.62</td>\n",
       "    </tr>\n",
       "    <tr>\n",
       "      <th>19</th>\n",
       "      <td>Ceará</td>\n",
       "      <td>186998212.56</td>\n",
       "      <td>7945159.97</td>\n",
       "      <td>88674144.18</td>\n",
       "      <td>3052166070.28</td>\n",
       "      <td>3335783586.99</td>\n",
       "    </tr>\n",
       "    <tr>\n",
       "      <th>23</th>\n",
       "      <td>Maranhão</td>\n",
       "      <td>157398627.39</td>\n",
       "      <td>12296501.51</td>\n",
       "      <td>...</td>\n",
       "      <td>1810749128.56</td>\n",
       "      <td>1980444257.46</td>\n",
       "    </tr>\n",
       "    <tr>\n",
       "      <th>28</th>\n",
       "      <td>Paraíba</td>\n",
       "      <td>14312816.39</td>\n",
       "      <td>13262816.70</td>\n",
       "      <td>192671.86</td>\n",
       "      <td>1437694912.06</td>\n",
       "      <td>1465463217.01</td>\n",
       "    </tr>\n",
       "    <tr>\n",
       "      <th>30</th>\n",
       "      <td>Pernambuco</td>\n",
       "      <td>2445971242.15</td>\n",
       "      <td>251766617.39</td>\n",
       "      <td>917758.71</td>\n",
       "      <td>185942567.27</td>\n",
       "      <td>2884598185.52</td>\n",
       "    </tr>\n",
       "    <tr>\n",
       "      <th>31</th>\n",
       "      <td>Piauí</td>\n",
       "      <td>91417461.05</td>\n",
       "      <td>33438605.93</td>\n",
       "      <td>...</td>\n",
       "      <td>717604470.60</td>\n",
       "      <td>842460537.58</td>\n",
       "    </tr>\n",
       "    <tr>\n",
       "      <th>33</th>\n",
       "      <td>Rio Grande do Norte</td>\n",
       "      <td>50514105.70</td>\n",
       "      <td>18100896.16</td>\n",
       "      <td>...</td>\n",
       "      <td>1162825098.58</td>\n",
       "      <td>1231440100.44</td>\n",
       "    </tr>\n",
       "    <tr>\n",
       "      <th>39</th>\n",
       "      <td>Sergipe</td>\n",
       "      <td>973044992.40</td>\n",
       "      <td>131905798.81</td>\n",
       "      <td>6670077.87</td>\n",
       "      <td>415536055.60</td>\n",
       "      <td>1527156924.68</td>\n",
       "    </tr>\n",
       "  </tbody>\n",
       "</table>\n",
       "</div>"
      ],
      "text/plain": [
       "   Unidades da Federação  Policiamento 2021 Defesa Civil 2021  \\\n",
       "15               Alagoas       137085570.33         227163.52   \n",
       "18                 Bahia       341433149.32       45880896.58   \n",
       "19                 Ceará       186998212.56        7945159.97   \n",
       "23              Maranhão       157398627.39       12296501.51   \n",
       "28               Paraíba        14312816.39       13262816.70   \n",
       "30            Pernambuco      2445971242.15      251766617.39   \n",
       "31                 Piauí        91417461.05       33438605.93   \n",
       "33   Rio Grande do Norte        50514105.70       18100896.16   \n",
       "39               Sergipe       973044992.40      131905798.81   \n",
       "\n",
       "   Informação e Inteligência 2021   Outros 2021    Total 2021  \n",
       "15                       12057.64 1275975768.94 1413300560.43  \n",
       "18                    15707646.15 3965408902.57 4368430594.62  \n",
       "19                    88674144.18 3052166070.28 3335783586.99  \n",
       "23                            ... 1810749128.56 1980444257.46  \n",
       "28                      192671.86 1437694912.06 1465463217.01  \n",
       "30                      917758.71  185942567.27 2884598185.52  \n",
       "31                            ...  717604470.60  842460537.58  \n",
       "33                            ... 1162825098.58 1231440100.44  \n",
       "39                     6670077.87  415536055.60 1527156924.68  "
      ]
     },
     "execution_count": 15,
     "metadata": {},
     "output_type": "execute_result"
    }
   ],
   "source": [
    "#correção de colunas\n",
    "gastos16 = gastos16.rename({'TABELA 73':'Unidades da Federação', 'Unnamed: 2':'Policiamento 2021', 'Unnamed: 5':'Defesa Civil 2021', 'Unnamed: 8':'Informação e Inteligência 2021', 'Unnamed: 11':'Outros 2021', 'Unnamed: 14':'Total 2021'}, axis='columns')\n",
    "gastos16 = gastos16.drop([3,4])\n",
    "gastos16"
   ]
  },
  {
   "cell_type": "code",
   "execution_count": 16,
   "metadata": {
    "colab": {
     "base_uri": "https://localhost:8080/"
    },
    "id": "VikmMTfRRX3-",
    "outputId": "fce64688-af3a-4a48-b74e-39936a58fc07"
   },
   "outputs": [
    {
     "name": "stdout",
     "output_type": "stream",
     "text": [
      "<class 'pandas.core.frame.DataFrame'>\n",
      "Int64Index: 9 entries, 15 to 39\n",
      "Data columns (total 6 columns):\n",
      " #   Column                          Non-Null Count  Dtype  \n",
      "---  ------                          --------------  -----  \n",
      " 0   Unidades da Federação           9 non-null      object \n",
      " 1   Policiamento 2021               9 non-null      float64\n",
      " 2   Defesa Civil 2021               9 non-null      float64\n",
      " 3   Informação e Inteligência 2021  9 non-null      float64\n",
      " 4   Outros 2021                     9 non-null      float64\n",
      " 5   Total 2021                      9 non-null      float64\n",
      "dtypes: float64(5), object(1)\n",
      "memory usage: 504.0+ bytes\n"
     ]
    }
   ],
   "source": [
    "#conversão de dados numéricos para float\n",
    "gastos16 = gastos16.replace({\"...\": \"0\"})\n",
    "gastos16['Informação e Inteligência 2021'] = gastos16['Informação e Inteligência 2021'].astype('float64')\n",
    "gastos16['Defesa Civil 2021'] = gastos16['Defesa Civil 2021'].astype('float64')\n",
    "gastos16.info()"
   ]
  },
  {
   "cell_type": "code",
   "execution_count": 17,
   "metadata": {
    "colab": {
     "base_uri": "https://localhost:8080/",
     "height": 363
    },
    "id": "SyEm0mmQSSmt",
    "outputId": "2fd5d6ab-bea1-4dfc-e2d1-67a2741d5454"
   },
   "outputs": [
    {
     "data": {
      "text/html": [
       "<div>\n",
       "<style scoped>\n",
       "    .dataframe tbody tr th:only-of-type {\n",
       "        vertical-align: middle;\n",
       "    }\n",
       "\n",
       "    .dataframe tbody tr th {\n",
       "        vertical-align: top;\n",
       "    }\n",
       "\n",
       "    .dataframe thead th {\n",
       "        text-align: right;\n",
       "    }\n",
       "</style>\n",
       "<table border=\"1\" class=\"dataframe\">\n",
       "  <thead>\n",
       "    <tr style=\"text-align: right;\">\n",
       "      <th></th>\n",
       "      <th>Policiamento 2021</th>\n",
       "      <th>Defesa Civil 2021</th>\n",
       "      <th>Informação e Inteligência 2021</th>\n",
       "      <th>Outros 2021</th>\n",
       "      <th>Total 2021</th>\n",
       "    </tr>\n",
       "    <tr>\n",
       "      <th>Unidades da Federação</th>\n",
       "      <th></th>\n",
       "      <th></th>\n",
       "      <th></th>\n",
       "      <th></th>\n",
       "      <th></th>\n",
       "    </tr>\n",
       "  </thead>\n",
       "  <tbody>\n",
       "    <tr>\n",
       "      <th>Alagoas</th>\n",
       "      <td>137085570.33</td>\n",
       "      <td>227163.52</td>\n",
       "      <td>12057.64</td>\n",
       "      <td>1275975768.94</td>\n",
       "      <td>1413300560.43</td>\n",
       "    </tr>\n",
       "    <tr>\n",
       "      <th>Bahia</th>\n",
       "      <td>341433149.32</td>\n",
       "      <td>45880896.58</td>\n",
       "      <td>15707646.15</td>\n",
       "      <td>3965408902.57</td>\n",
       "      <td>4368430594.62</td>\n",
       "    </tr>\n",
       "    <tr>\n",
       "      <th>Ceará</th>\n",
       "      <td>186998212.56</td>\n",
       "      <td>7945159.97</td>\n",
       "      <td>88674144.18</td>\n",
       "      <td>3052166070.28</td>\n",
       "      <td>3335783586.99</td>\n",
       "    </tr>\n",
       "    <tr>\n",
       "      <th>Maranhão</th>\n",
       "      <td>157398627.39</td>\n",
       "      <td>12296501.51</td>\n",
       "      <td>0.00</td>\n",
       "      <td>1810749128.56</td>\n",
       "      <td>1980444257.46</td>\n",
       "    </tr>\n",
       "    <tr>\n",
       "      <th>Paraíba</th>\n",
       "      <td>14312816.39</td>\n",
       "      <td>13262816.70</td>\n",
       "      <td>192671.86</td>\n",
       "      <td>1437694912.06</td>\n",
       "      <td>1465463217.01</td>\n",
       "    </tr>\n",
       "    <tr>\n",
       "      <th>Pernambuco</th>\n",
       "      <td>2445971242.15</td>\n",
       "      <td>251766617.39</td>\n",
       "      <td>917758.71</td>\n",
       "      <td>185942567.27</td>\n",
       "      <td>2884598185.52</td>\n",
       "    </tr>\n",
       "    <tr>\n",
       "      <th>Piauí</th>\n",
       "      <td>91417461.05</td>\n",
       "      <td>33438605.93</td>\n",
       "      <td>0.00</td>\n",
       "      <td>717604470.60</td>\n",
       "      <td>842460537.58</td>\n",
       "    </tr>\n",
       "    <tr>\n",
       "      <th>Rio Grande do Norte</th>\n",
       "      <td>50514105.70</td>\n",
       "      <td>18100896.16</td>\n",
       "      <td>0.00</td>\n",
       "      <td>1162825098.58</td>\n",
       "      <td>1231440100.44</td>\n",
       "    </tr>\n",
       "    <tr>\n",
       "      <th>Sergipe</th>\n",
       "      <td>973044992.40</td>\n",
       "      <td>131905798.81</td>\n",
       "      <td>6670077.87</td>\n",
       "      <td>415536055.60</td>\n",
       "      <td>1527156924.68</td>\n",
       "    </tr>\n",
       "  </tbody>\n",
       "</table>\n",
       "</div>"
      ],
      "text/plain": [
       "                       Policiamento 2021  Defesa Civil 2021  \\\n",
       "Unidades da Federação                                         \n",
       "Alagoas                     137085570.33          227163.52   \n",
       "Bahia                       341433149.32        45880896.58   \n",
       "Ceará                       186998212.56         7945159.97   \n",
       "Maranhão                    157398627.39        12296501.51   \n",
       "Paraíba                      14312816.39        13262816.70   \n",
       "Pernambuco                 2445971242.15       251766617.39   \n",
       "Piauí                        91417461.05        33438605.93   \n",
       "Rio Grande do Norte          50514105.70        18100896.16   \n",
       "Sergipe                     973044992.40       131905798.81   \n",
       "\n",
       "                       Informação e Inteligência 2021   Outros 2021  \\\n",
       "Unidades da Federação                                                 \n",
       "Alagoas                                      12057.64 1275975768.94   \n",
       "Bahia                                     15707646.15 3965408902.57   \n",
       "Ceará                                     88674144.18 3052166070.28   \n",
       "Maranhão                                         0.00 1810749128.56   \n",
       "Paraíba                                     192671.86 1437694912.06   \n",
       "Pernambuco                                  917758.71  185942567.27   \n",
       "Piauí                                            0.00  717604470.60   \n",
       "Rio Grande do Norte                              0.00 1162825098.58   \n",
       "Sergipe                                    6670077.87  415536055.60   \n",
       "\n",
       "                         Total 2021  \n",
       "Unidades da Federação                \n",
       "Alagoas               1413300560.43  \n",
       "Bahia                 4368430594.62  \n",
       "Ceará                 3335783586.99  \n",
       "Maranhão              1980444257.46  \n",
       "Paraíba               1465463217.01  \n",
       "Pernambuco            2884598185.52  \n",
       "Piauí                  842460537.58  \n",
       "Rio Grande do Norte   1231440100.44  \n",
       "Sergipe               1527156924.68  "
      ]
     },
     "execution_count": 17,
     "metadata": {},
     "output_type": "execute_result"
    }
   ],
   "source": [
    "#correção de indíce\n",
    "pd.set_option('float_format', '{:.2f}'.format)\n",
    "gastos16 = gastos16.set_index('Unidades da Federação')\n",
    "gastos16"
   ]
  },
  {
   "cell_type": "markdown",
   "metadata": {
    "id": "XluNsSG-TwB9"
   },
   "source": [
    "<h1><strong>===============================<br>mesclagem dos dados de 2017 à 2020<strong></h1>"
   ]
  },
  {
   "cell_type": "code",
   "execution_count": 18,
   "metadata": {
    "colab": {
     "base_uri": "https://localhost:8080/",
     "height": 514
    },
    "id": "nIWvlYWlSp-H",
    "outputId": "bba5dfc5-9f3f-4e55-fa52-b2f7fd1126f3"
   },
   "outputs": [
    {
     "data": {
      "text/html": [
       "<div>\n",
       "<style scoped>\n",
       "    .dataframe tbody tr th:only-of-type {\n",
       "        vertical-align: middle;\n",
       "    }\n",
       "\n",
       "    .dataframe tbody tr th {\n",
       "        vertical-align: top;\n",
       "    }\n",
       "\n",
       "    .dataframe thead th {\n",
       "        text-align: right;\n",
       "    }\n",
       "</style>\n",
       "<table border=\"1\" class=\"dataframe\">\n",
       "  <thead>\n",
       "    <tr style=\"text-align: right;\">\n",
       "      <th></th>\n",
       "      <th>Policiamento 2019</th>\n",
       "      <th>Policiamento 2020</th>\n",
       "      <th>Defesa Civil 2019</th>\n",
       "      <th>Defesa Civil 2020</th>\n",
       "      <th>Informação e Inteligência 2019</th>\n",
       "      <th>Informação e Inteligência 2020</th>\n",
       "      <th>Outros 2019</th>\n",
       "      <th>Outros 2020</th>\n",
       "      <th>Total 2019</th>\n",
       "      <th>Total 2020</th>\n",
       "      <th>Policiamento 2017</th>\n",
       "      <th>Policiamento 2018</th>\n",
       "      <th>Defesa Civil 2017</th>\n",
       "      <th>Defesa Civil 2018</th>\n",
       "      <th>Informação e Inteligência 2017</th>\n",
       "      <th>Informação e Inteligência 2018</th>\n",
       "      <th>Outros 2017</th>\n",
       "      <th>Outros 2018</th>\n",
       "      <th>Total 2017</th>\n",
       "      <th>Total 2018</th>\n",
       "    </tr>\n",
       "    <tr>\n",
       "      <th>Unidades da Federação</th>\n",
       "      <th></th>\n",
       "      <th></th>\n",
       "      <th></th>\n",
       "      <th></th>\n",
       "      <th></th>\n",
       "      <th></th>\n",
       "      <th></th>\n",
       "      <th></th>\n",
       "      <th></th>\n",
       "      <th></th>\n",
       "      <th></th>\n",
       "      <th></th>\n",
       "      <th></th>\n",
       "      <th></th>\n",
       "      <th></th>\n",
       "      <th></th>\n",
       "      <th></th>\n",
       "      <th></th>\n",
       "      <th></th>\n",
       "      <th></th>\n",
       "    </tr>\n",
       "  </thead>\n",
       "  <tbody>\n",
       "    <tr>\n",
       "      <th>Alagoas</th>\n",
       "      <td>39933161.56</td>\n",
       "      <td>59775502.63</td>\n",
       "      <td>3463069.32</td>\n",
       "      <td>8614589.87</td>\n",
       "      <td>633890.30</td>\n",
       "      <td>62442.59</td>\n",
       "      <td>1115128698.11</td>\n",
       "      <td>1286533736.01</td>\n",
       "      <td>1159158819.29</td>\n",
       "      <td>1354986271.10</td>\n",
       "      <td>829155596.08</td>\n",
       "      <td>800805984.28</td>\n",
       "      <td>23037726.80</td>\n",
       "      <td>24893.37</td>\n",
       "      <td>9372233.33</td>\n",
       "      <td>8973.00</td>\n",
       "      <td>300834639.65</td>\n",
       "      <td>367826835.46</td>\n",
       "      <td>1162400195.87</td>\n",
       "      <td>1168666686.11</td>\n",
       "    </tr>\n",
       "    <tr>\n",
       "      <th>Bahia</th>\n",
       "      <td>298957510.04</td>\n",
       "      <td>232915902.13</td>\n",
       "      <td>55709611.15</td>\n",
       "      <td>23393352.95</td>\n",
       "      <td>14649267.91</td>\n",
       "      <td>9378921.46</td>\n",
       "      <td>4313086966.67</td>\n",
       "      <td>4055975150.69</td>\n",
       "      <td>4682403355.77</td>\n",
       "      <td>4321663327.23</td>\n",
       "      <td>NaN</td>\n",
       "      <td>NaN</td>\n",
       "      <td>NaN</td>\n",
       "      <td>NaN</td>\n",
       "      <td>NaN</td>\n",
       "      <td>NaN</td>\n",
       "      <td>NaN</td>\n",
       "      <td>NaN</td>\n",
       "      <td>NaN</td>\n",
       "      <td>NaN</td>\n",
       "    </tr>\n",
       "    <tr>\n",
       "      <th>Ceará</th>\n",
       "      <td>272982780.31</td>\n",
       "      <td>158644003.31</td>\n",
       "      <td>4349594.60</td>\n",
       "      <td>3812430.40</td>\n",
       "      <td>54786132.51</td>\n",
       "      <td>53546444.02</td>\n",
       "      <td>2510241286.32</td>\n",
       "      <td>2829579791.26</td>\n",
       "      <td>2842359793.74</td>\n",
       "      <td>3045582668.99</td>\n",
       "      <td>241443848.14</td>\n",
       "      <td>185077508.93</td>\n",
       "      <td>21313148.73</td>\n",
       "      <td>28654156.67</td>\n",
       "      <td>0.00</td>\n",
       "      <td>0.00</td>\n",
       "      <td>1979098777.84</td>\n",
       "      <td>2367269357.53</td>\n",
       "      <td>2241855774.72</td>\n",
       "      <td>2581001023.13</td>\n",
       "    </tr>\n",
       "    <tr>\n",
       "      <th>Maranhão</th>\n",
       "      <td>355185331.79</td>\n",
       "      <td>0.00</td>\n",
       "      <td>5658886.65</td>\n",
       "      <td>12371118.58</td>\n",
       "      <td>0.00</td>\n",
       "      <td>0.00</td>\n",
       "      <td>1642815577.65</td>\n",
       "      <td>1942012656.85</td>\n",
       "      <td>2003659796.09</td>\n",
       "      <td>1954383775.43</td>\n",
       "      <td>269545102.35</td>\n",
       "      <td>338119610.25</td>\n",
       "      <td>8531014.69</td>\n",
       "      <td>8761897.20</td>\n",
       "      <td>11021598.49</td>\n",
       "      <td>0.00</td>\n",
       "      <td>1359240985.19</td>\n",
       "      <td>1502765887.11</td>\n",
       "      <td>1648338700.72</td>\n",
       "      <td>1849647394.56</td>\n",
       "    </tr>\n",
       "    <tr>\n",
       "      <th>Paraíba</th>\n",
       "      <td>7144027.40</td>\n",
       "      <td>7739853.66</td>\n",
       "      <td>9969071.16</td>\n",
       "      <td>8184933.00</td>\n",
       "      <td>195353.34</td>\n",
       "      <td>45850.00</td>\n",
       "      <td>1368931998.14</td>\n",
       "      <td>1401621066.99</td>\n",
       "      <td>1386240450.05</td>\n",
       "      <td>1417591703.65</td>\n",
       "      <td>6548725.56</td>\n",
       "      <td>3356030.31</td>\n",
       "      <td>4666135.94</td>\n",
       "      <td>6433227.88</td>\n",
       "      <td>206036.48</td>\n",
       "      <td>156283.90</td>\n",
       "      <td>1198321962.22</td>\n",
       "      <td>1253750434.60</td>\n",
       "      <td>1209742860.21</td>\n",
       "      <td>1263695976.69</td>\n",
       "    </tr>\n",
       "    <tr>\n",
       "      <th>Pernambuco</th>\n",
       "      <td>2514846376.41</td>\n",
       "      <td>2422625614.48</td>\n",
       "      <td>278987021.24</td>\n",
       "      <td>276950156.50</td>\n",
       "      <td>510889.99</td>\n",
       "      <td>880876.40</td>\n",
       "      <td>190800999.53</td>\n",
       "      <td>179694688.39</td>\n",
       "      <td>2985145287.17</td>\n",
       "      <td>2880151335.77</td>\n",
       "      <td>2019710653.13</td>\n",
       "      <td>2343900221.30</td>\n",
       "      <td>273621055.83</td>\n",
       "      <td>235533504.40</td>\n",
       "      <td>1374866.07</td>\n",
       "      <td>495750.36</td>\n",
       "      <td>327890090.26</td>\n",
       "      <td>195245921.24</td>\n",
       "      <td>2622596665.29</td>\n",
       "      <td>2775175397.30</td>\n",
       "    </tr>\n",
       "    <tr>\n",
       "      <th>Piauí</th>\n",
       "      <td>65786996.90</td>\n",
       "      <td>66549744.65</td>\n",
       "      <td>17542350.13</td>\n",
       "      <td>33279756.35</td>\n",
       "      <td>0.00</td>\n",
       "      <td>0.00</td>\n",
       "      <td>809966595.34</td>\n",
       "      <td>686002281.84</td>\n",
       "      <td>893295942.37</td>\n",
       "      <td>785831782.84</td>\n",
       "      <td>48783766.21</td>\n",
       "      <td>79099994.36</td>\n",
       "      <td>32190979.06</td>\n",
       "      <td>31777065.08</td>\n",
       "      <td>2560.52</td>\n",
       "      <td>0.00</td>\n",
       "      <td>659675084.00</td>\n",
       "      <td>635401471.15</td>\n",
       "      <td>740652389.79</td>\n",
       "      <td>746278530.59</td>\n",
       "    </tr>\n",
       "    <tr>\n",
       "      <th>Rio Grande do Norte</th>\n",
       "      <td>709734791.71</td>\n",
       "      <td>53270297.38</td>\n",
       "      <td>9347126.26</td>\n",
       "      <td>6937753.55</td>\n",
       "      <td>0.00</td>\n",
       "      <td>0.00</td>\n",
       "      <td>484602145.08</td>\n",
       "      <td>978010342.96</td>\n",
       "      <td>1203684063.05</td>\n",
       "      <td>1038218393.89</td>\n",
       "      <td>519311823.69</td>\n",
       "      <td>555180592.81</td>\n",
       "      <td>4717074.58</td>\n",
       "      <td>8421124.26</td>\n",
       "      <td>46362329.39</td>\n",
       "      <td>0.00</td>\n",
       "      <td>348042235.86</td>\n",
       "      <td>413132039.90</td>\n",
       "      <td>918433463.52</td>\n",
       "      <td>976733756.97</td>\n",
       "    </tr>\n",
       "    <tr>\n",
       "      <th>Sergipe</th>\n",
       "      <td>525870475.11</td>\n",
       "      <td>505707842.59</td>\n",
       "      <td>75574386.42</td>\n",
       "      <td>74848742.21</td>\n",
       "      <td>1136952.45</td>\n",
       "      <td>1118825.50</td>\n",
       "      <td>386546579.45</td>\n",
       "      <td>375108993.83</td>\n",
       "      <td>989128393.43</td>\n",
       "      <td>956784404.13</td>\n",
       "      <td>439674076.29</td>\n",
       "      <td>453472593.33</td>\n",
       "      <td>58737154.77</td>\n",
       "      <td>62741382.40</td>\n",
       "      <td>0.00</td>\n",
       "      <td>0.00</td>\n",
       "      <td>378162628.57</td>\n",
       "      <td>376772210.38</td>\n",
       "      <td>876573859.63</td>\n",
       "      <td>892986186.11</td>\n",
       "    </tr>\n",
       "  </tbody>\n",
       "</table>\n",
       "</div>"
      ],
      "text/plain": [
       "                       Policiamento 2019  Policiamento 2020  \\\n",
       "Unidades da Federação                                         \n",
       "Alagoas                      39933161.56        59775502.63   \n",
       "Bahia                       298957510.04       232915902.13   \n",
       "Ceará                       272982780.31       158644003.31   \n",
       "Maranhão                    355185331.79               0.00   \n",
       "Paraíba                       7144027.40         7739853.66   \n",
       "Pernambuco                 2514846376.41      2422625614.48   \n",
       "Piauí                        65786996.90        66549744.65   \n",
       "Rio Grande do Norte         709734791.71        53270297.38   \n",
       "Sergipe                     525870475.11       505707842.59   \n",
       "\n",
       "                       Defesa Civil 2019  Defesa Civil 2020  \\\n",
       "Unidades da Federação                                         \n",
       "Alagoas                       3463069.32         8614589.87   \n",
       "Bahia                        55709611.15        23393352.95   \n",
       "Ceará                         4349594.60         3812430.40   \n",
       "Maranhão                      5658886.65        12371118.58   \n",
       "Paraíba                       9969071.16         8184933.00   \n",
       "Pernambuco                  278987021.24       276950156.50   \n",
       "Piauí                        17542350.13        33279756.35   \n",
       "Rio Grande do Norte           9347126.26         6937753.55   \n",
       "Sergipe                      75574386.42        74848742.21   \n",
       "\n",
       "                       Informação e Inteligência 2019  \\\n",
       "Unidades da Federação                                   \n",
       "Alagoas                                     633890.30   \n",
       "Bahia                                     14649267.91   \n",
       "Ceará                                     54786132.51   \n",
       "Maranhão                                         0.00   \n",
       "Paraíba                                     195353.34   \n",
       "Pernambuco                                  510889.99   \n",
       "Piauí                                            0.00   \n",
       "Rio Grande do Norte                              0.00   \n",
       "Sergipe                                    1136952.45   \n",
       "\n",
       "                       Informação e Inteligência 2020   Outros 2019  \\\n",
       "Unidades da Federação                                                 \n",
       "Alagoas                                      62442.59 1115128698.11   \n",
       "Bahia                                      9378921.46 4313086966.67   \n",
       "Ceará                                     53546444.02 2510241286.32   \n",
       "Maranhão                                         0.00 1642815577.65   \n",
       "Paraíba                                      45850.00 1368931998.14   \n",
       "Pernambuco                                  880876.40  190800999.53   \n",
       "Piauí                                            0.00  809966595.34   \n",
       "Rio Grande do Norte                              0.00  484602145.08   \n",
       "Sergipe                                    1118825.50  386546579.45   \n",
       "\n",
       "                        Outros 2020    Total 2019    Total 2020  \\\n",
       "Unidades da Federação                                             \n",
       "Alagoas               1286533736.01 1159158819.29 1354986271.10   \n",
       "Bahia                 4055975150.69 4682403355.77 4321663327.23   \n",
       "Ceará                 2829579791.26 2842359793.74 3045582668.99   \n",
       "Maranhão              1942012656.85 2003659796.09 1954383775.43   \n",
       "Paraíba               1401621066.99 1386240450.05 1417591703.65   \n",
       "Pernambuco             179694688.39 2985145287.17 2880151335.77   \n",
       "Piauí                  686002281.84  893295942.37  785831782.84   \n",
       "Rio Grande do Norte    978010342.96 1203684063.05 1038218393.89   \n",
       "Sergipe                375108993.83  989128393.43  956784404.13   \n",
       "\n",
       "                       Policiamento 2017  Policiamento 2018  \\\n",
       "Unidades da Federação                                         \n",
       "Alagoas                     829155596.08       800805984.28   \n",
       "Bahia                                NaN                NaN   \n",
       "Ceará                       241443848.14       185077508.93   \n",
       "Maranhão                    269545102.35       338119610.25   \n",
       "Paraíba                       6548725.56         3356030.31   \n",
       "Pernambuco                 2019710653.13      2343900221.30   \n",
       "Piauí                        48783766.21        79099994.36   \n",
       "Rio Grande do Norte         519311823.69       555180592.81   \n",
       "Sergipe                     439674076.29       453472593.33   \n",
       "\n",
       "                       Defesa Civil 2017  Defesa Civil 2018  \\\n",
       "Unidades da Federação                                         \n",
       "Alagoas                      23037726.80           24893.37   \n",
       "Bahia                                NaN                NaN   \n",
       "Ceará                        21313148.73        28654156.67   \n",
       "Maranhão                      8531014.69         8761897.20   \n",
       "Paraíba                       4666135.94         6433227.88   \n",
       "Pernambuco                  273621055.83       235533504.40   \n",
       "Piauí                        32190979.06        31777065.08   \n",
       "Rio Grande do Norte           4717074.58         8421124.26   \n",
       "Sergipe                      58737154.77        62741382.40   \n",
       "\n",
       "                       Informação e Inteligência 2017  \\\n",
       "Unidades da Federação                                   \n",
       "Alagoas                                    9372233.33   \n",
       "Bahia                                             NaN   \n",
       "Ceará                                            0.00   \n",
       "Maranhão                                  11021598.49   \n",
       "Paraíba                                     206036.48   \n",
       "Pernambuco                                 1374866.07   \n",
       "Piauí                                         2560.52   \n",
       "Rio Grande do Norte                       46362329.39   \n",
       "Sergipe                                          0.00   \n",
       "\n",
       "                       Informação e Inteligência 2018   Outros 2017  \\\n",
       "Unidades da Federação                                                 \n",
       "Alagoas                                       8973.00  300834639.65   \n",
       "Bahia                                             NaN           NaN   \n",
       "Ceará                                            0.00 1979098777.84   \n",
       "Maranhão                                         0.00 1359240985.19   \n",
       "Paraíba                                     156283.90 1198321962.22   \n",
       "Pernambuco                                  495750.36  327890090.26   \n",
       "Piauí                                            0.00  659675084.00   \n",
       "Rio Grande do Norte                              0.00  348042235.86   \n",
       "Sergipe                                          0.00  378162628.57   \n",
       "\n",
       "                        Outros 2018    Total 2017    Total 2018  \n",
       "Unidades da Federação                                            \n",
       "Alagoas                367826835.46 1162400195.87 1168666686.11  \n",
       "Bahia                           NaN           NaN           NaN  \n",
       "Ceará                 2367269357.53 2241855774.72 2581001023.13  \n",
       "Maranhão              1502765887.11 1648338700.72 1849647394.56  \n",
       "Paraíba               1253750434.60 1209742860.21 1263695976.69  \n",
       "Pernambuco             195245921.24 2622596665.29 2775175397.30  \n",
       "Piauí                  635401471.15  740652389.79  746278530.59  \n",
       "Rio Grande do Norte    413132039.90  918433463.52  976733756.97  \n",
       "Sergipe                376772210.38  876573859.63  892986186.11  "
      ]
     },
     "execution_count": 18,
     "metadata": {},
     "output_type": "execute_result"
    }
   ],
   "source": [
    "gastos13_15 = pd.merge(gastos15, gastos13, how='left', on='Unidades da Federação')\n",
    "gastos13_15"
   ]
  },
  {
   "cell_type": "code",
   "execution_count": 19,
   "metadata": {
    "colab": {
     "base_uri": "https://localhost:8080/"
    },
    "id": "szXDV6Bneijr",
    "outputId": "95f63801-0b24-4744-f553-9c561ec80fbb"
   },
   "outputs": [
    {
     "name": "stdout",
     "output_type": "stream",
     "text": [
      "<class 'pandas.core.frame.DataFrame'>\n",
      "Index: 9 entries, Alagoas to Sergipe\n",
      "Data columns (total 20 columns):\n",
      " #   Column                          Non-Null Count  Dtype  \n",
      "---  ------                          --------------  -----  \n",
      " 0   Policiamento 2019               9 non-null      float64\n",
      " 1   Policiamento 2020               9 non-null      float64\n",
      " 2   Defesa Civil 2019               9 non-null      float64\n",
      " 3   Defesa Civil 2020               9 non-null      float64\n",
      " 4   Informação e Inteligência 2019  9 non-null      float64\n",
      " 5   Informação e Inteligência 2020  9 non-null      float64\n",
      " 6   Outros 2019                     9 non-null      float64\n",
      " 7   Outros 2020                     9 non-null      float64\n",
      " 8   Total 2019                      9 non-null      float64\n",
      " 9   Total 2020                      9 non-null      float64\n",
      " 10  Policiamento 2017               8 non-null      float64\n",
      " 11  Policiamento 2018               8 non-null      float64\n",
      " 12  Defesa Civil 2017               8 non-null      float64\n",
      " 13  Defesa Civil 2018               8 non-null      float64\n",
      " 14  Informação e Inteligência 2017  8 non-null      float64\n",
      " 15  Informação e Inteligência 2018  8 non-null      float64\n",
      " 16  Outros 2017                     8 non-null      float64\n",
      " 17  Outros 2018                     8 non-null      float64\n",
      " 18  Total 2017                      8 non-null      float64\n",
      " 19  Total 2018                      8 non-null      float64\n",
      "dtypes: float64(20)\n",
      "memory usage: 1.5+ KB\n"
     ]
    }
   ],
   "source": [
    "gastos13_15.info()"
   ]
  },
  {
   "cell_type": "markdown",
   "metadata": {
    "id": "WShX2FDTkfd-"
   },
   "source": [
    "ATENÇÃO!!--------------------------------------------------------------------------\n",
    "Ao fazer o merge aqui (dataframe do anuario 13 e 15), no dataframe dos gastos, ele incluiu valores NaN para as varíaveis da Bahia a partir do ano de 2019 como pode ser visto acima e não sei o porque"
   ]
  },
  {
   "cell_type": "code",
   "execution_count": 20,
   "metadata": {
    "colab": {
     "base_uri": "https://localhost:8080/",
     "height": 543
    },
    "id": "FZ3S-3mQVorP",
    "outputId": "7ed58bc4-835a-4417-c9fb-9a6d707e93ec"
   },
   "outputs": [
    {
     "data": {
      "text/html": [
       "<div>\n",
       "<style scoped>\n",
       "    .dataframe tbody tr th:only-of-type {\n",
       "        vertical-align: middle;\n",
       "    }\n",
       "\n",
       "    .dataframe tbody tr th {\n",
       "        vertical-align: top;\n",
       "    }\n",
       "\n",
       "    .dataframe thead th {\n",
       "        text-align: right;\n",
       "    }\n",
       "</style>\n",
       "<table border=\"1\" class=\"dataframe\">\n",
       "  <thead>\n",
       "    <tr style=\"text-align: right;\">\n",
       "      <th></th>\n",
       "      <th>Policiamento 2019</th>\n",
       "      <th>Policiamento 2020</th>\n",
       "      <th>Defesa Civil 2019</th>\n",
       "      <th>Defesa Civil 2020</th>\n",
       "      <th>Informação e Inteligência 2019</th>\n",
       "      <th>Informação e Inteligência 2020</th>\n",
       "      <th>Outros 2019</th>\n",
       "      <th>Outros 2020</th>\n",
       "      <th>Total 2019</th>\n",
       "      <th>Total 2020</th>\n",
       "      <th>...</th>\n",
       "      <th>Informação e Inteligência 2018</th>\n",
       "      <th>Outros 2017</th>\n",
       "      <th>Outros 2018</th>\n",
       "      <th>Total 2017</th>\n",
       "      <th>Total 2018</th>\n",
       "      <th>Policiamento 2021</th>\n",
       "      <th>Defesa Civil 2021</th>\n",
       "      <th>Informação e Inteligência 2021</th>\n",
       "      <th>Outros 2021</th>\n",
       "      <th>Total 2021</th>\n",
       "    </tr>\n",
       "    <tr>\n",
       "      <th>Unidades da Federação</th>\n",
       "      <th></th>\n",
       "      <th></th>\n",
       "      <th></th>\n",
       "      <th></th>\n",
       "      <th></th>\n",
       "      <th></th>\n",
       "      <th></th>\n",
       "      <th></th>\n",
       "      <th></th>\n",
       "      <th></th>\n",
       "      <th></th>\n",
       "      <th></th>\n",
       "      <th></th>\n",
       "      <th></th>\n",
       "      <th></th>\n",
       "      <th></th>\n",
       "      <th></th>\n",
       "      <th></th>\n",
       "      <th></th>\n",
       "      <th></th>\n",
       "      <th></th>\n",
       "    </tr>\n",
       "  </thead>\n",
       "  <tbody>\n",
       "    <tr>\n",
       "      <th>Alagoas</th>\n",
       "      <td>39933161.56</td>\n",
       "      <td>59775502.63</td>\n",
       "      <td>3463069.32</td>\n",
       "      <td>8614589.87</td>\n",
       "      <td>633890.30</td>\n",
       "      <td>62442.59</td>\n",
       "      <td>1115128698.11</td>\n",
       "      <td>1286533736.01</td>\n",
       "      <td>1159158819.29</td>\n",
       "      <td>1354986271.10</td>\n",
       "      <td>...</td>\n",
       "      <td>8973.00</td>\n",
       "      <td>300834639.65</td>\n",
       "      <td>367826835.46</td>\n",
       "      <td>1162400195.87</td>\n",
       "      <td>1168666686.11</td>\n",
       "      <td>137085570.33</td>\n",
       "      <td>227163.52</td>\n",
       "      <td>12057.64</td>\n",
       "      <td>1275975768.94</td>\n",
       "      <td>1413300560.43</td>\n",
       "    </tr>\n",
       "    <tr>\n",
       "      <th>Bahia</th>\n",
       "      <td>298957510.04</td>\n",
       "      <td>232915902.13</td>\n",
       "      <td>55709611.15</td>\n",
       "      <td>23393352.95</td>\n",
       "      <td>14649267.91</td>\n",
       "      <td>9378921.46</td>\n",
       "      <td>4313086966.67</td>\n",
       "      <td>4055975150.69</td>\n",
       "      <td>4682403355.77</td>\n",
       "      <td>4321663327.23</td>\n",
       "      <td>...</td>\n",
       "      <td>NaN</td>\n",
       "      <td>NaN</td>\n",
       "      <td>NaN</td>\n",
       "      <td>NaN</td>\n",
       "      <td>NaN</td>\n",
       "      <td>341433149.32</td>\n",
       "      <td>45880896.58</td>\n",
       "      <td>15707646.15</td>\n",
       "      <td>3965408902.57</td>\n",
       "      <td>4368430594.62</td>\n",
       "    </tr>\n",
       "    <tr>\n",
       "      <th>Ceará</th>\n",
       "      <td>272982780.31</td>\n",
       "      <td>158644003.31</td>\n",
       "      <td>4349594.60</td>\n",
       "      <td>3812430.40</td>\n",
       "      <td>54786132.51</td>\n",
       "      <td>53546444.02</td>\n",
       "      <td>2510241286.32</td>\n",
       "      <td>2829579791.26</td>\n",
       "      <td>2842359793.74</td>\n",
       "      <td>3045582668.99</td>\n",
       "      <td>...</td>\n",
       "      <td>0.00</td>\n",
       "      <td>1979098777.84</td>\n",
       "      <td>2367269357.53</td>\n",
       "      <td>2241855774.72</td>\n",
       "      <td>2581001023.13</td>\n",
       "      <td>186998212.56</td>\n",
       "      <td>7945159.97</td>\n",
       "      <td>88674144.18</td>\n",
       "      <td>3052166070.28</td>\n",
       "      <td>3335783586.99</td>\n",
       "    </tr>\n",
       "    <tr>\n",
       "      <th>Maranhão</th>\n",
       "      <td>355185331.79</td>\n",
       "      <td>0.00</td>\n",
       "      <td>5658886.65</td>\n",
       "      <td>12371118.58</td>\n",
       "      <td>0.00</td>\n",
       "      <td>0.00</td>\n",
       "      <td>1642815577.65</td>\n",
       "      <td>1942012656.85</td>\n",
       "      <td>2003659796.09</td>\n",
       "      <td>1954383775.43</td>\n",
       "      <td>...</td>\n",
       "      <td>0.00</td>\n",
       "      <td>1359240985.19</td>\n",
       "      <td>1502765887.11</td>\n",
       "      <td>1648338700.72</td>\n",
       "      <td>1849647394.56</td>\n",
       "      <td>157398627.39</td>\n",
       "      <td>12296501.51</td>\n",
       "      <td>0.00</td>\n",
       "      <td>1810749128.56</td>\n",
       "      <td>1980444257.46</td>\n",
       "    </tr>\n",
       "    <tr>\n",
       "      <th>Paraíba</th>\n",
       "      <td>7144027.40</td>\n",
       "      <td>7739853.66</td>\n",
       "      <td>9969071.16</td>\n",
       "      <td>8184933.00</td>\n",
       "      <td>195353.34</td>\n",
       "      <td>45850.00</td>\n",
       "      <td>1368931998.14</td>\n",
       "      <td>1401621066.99</td>\n",
       "      <td>1386240450.05</td>\n",
       "      <td>1417591703.65</td>\n",
       "      <td>...</td>\n",
       "      <td>156283.90</td>\n",
       "      <td>1198321962.22</td>\n",
       "      <td>1253750434.60</td>\n",
       "      <td>1209742860.21</td>\n",
       "      <td>1263695976.69</td>\n",
       "      <td>14312816.39</td>\n",
       "      <td>13262816.70</td>\n",
       "      <td>192671.86</td>\n",
       "      <td>1437694912.06</td>\n",
       "      <td>1465463217.01</td>\n",
       "    </tr>\n",
       "    <tr>\n",
       "      <th>Pernambuco</th>\n",
       "      <td>2514846376.41</td>\n",
       "      <td>2422625614.48</td>\n",
       "      <td>278987021.24</td>\n",
       "      <td>276950156.50</td>\n",
       "      <td>510889.99</td>\n",
       "      <td>880876.40</td>\n",
       "      <td>190800999.53</td>\n",
       "      <td>179694688.39</td>\n",
       "      <td>2985145287.17</td>\n",
       "      <td>2880151335.77</td>\n",
       "      <td>...</td>\n",
       "      <td>495750.36</td>\n",
       "      <td>327890090.26</td>\n",
       "      <td>195245921.24</td>\n",
       "      <td>2622596665.29</td>\n",
       "      <td>2775175397.30</td>\n",
       "      <td>2445971242.15</td>\n",
       "      <td>251766617.39</td>\n",
       "      <td>917758.71</td>\n",
       "      <td>185942567.27</td>\n",
       "      <td>2884598185.52</td>\n",
       "    </tr>\n",
       "    <tr>\n",
       "      <th>Piauí</th>\n",
       "      <td>65786996.90</td>\n",
       "      <td>66549744.65</td>\n",
       "      <td>17542350.13</td>\n",
       "      <td>33279756.35</td>\n",
       "      <td>0.00</td>\n",
       "      <td>0.00</td>\n",
       "      <td>809966595.34</td>\n",
       "      <td>686002281.84</td>\n",
       "      <td>893295942.37</td>\n",
       "      <td>785831782.84</td>\n",
       "      <td>...</td>\n",
       "      <td>0.00</td>\n",
       "      <td>659675084.00</td>\n",
       "      <td>635401471.15</td>\n",
       "      <td>740652389.79</td>\n",
       "      <td>746278530.59</td>\n",
       "      <td>91417461.05</td>\n",
       "      <td>33438605.93</td>\n",
       "      <td>0.00</td>\n",
       "      <td>717604470.60</td>\n",
       "      <td>842460537.58</td>\n",
       "    </tr>\n",
       "    <tr>\n",
       "      <th>Rio Grande do Norte</th>\n",
       "      <td>709734791.71</td>\n",
       "      <td>53270297.38</td>\n",
       "      <td>9347126.26</td>\n",
       "      <td>6937753.55</td>\n",
       "      <td>0.00</td>\n",
       "      <td>0.00</td>\n",
       "      <td>484602145.08</td>\n",
       "      <td>978010342.96</td>\n",
       "      <td>1203684063.05</td>\n",
       "      <td>1038218393.89</td>\n",
       "      <td>...</td>\n",
       "      <td>0.00</td>\n",
       "      <td>348042235.86</td>\n",
       "      <td>413132039.90</td>\n",
       "      <td>918433463.52</td>\n",
       "      <td>976733756.97</td>\n",
       "      <td>50514105.70</td>\n",
       "      <td>18100896.16</td>\n",
       "      <td>0.00</td>\n",
       "      <td>1162825098.58</td>\n",
       "      <td>1231440100.44</td>\n",
       "    </tr>\n",
       "    <tr>\n",
       "      <th>Sergipe</th>\n",
       "      <td>525870475.11</td>\n",
       "      <td>505707842.59</td>\n",
       "      <td>75574386.42</td>\n",
       "      <td>74848742.21</td>\n",
       "      <td>1136952.45</td>\n",
       "      <td>1118825.50</td>\n",
       "      <td>386546579.45</td>\n",
       "      <td>375108993.83</td>\n",
       "      <td>989128393.43</td>\n",
       "      <td>956784404.13</td>\n",
       "      <td>...</td>\n",
       "      <td>0.00</td>\n",
       "      <td>378162628.57</td>\n",
       "      <td>376772210.38</td>\n",
       "      <td>876573859.63</td>\n",
       "      <td>892986186.11</td>\n",
       "      <td>973044992.40</td>\n",
       "      <td>131905798.81</td>\n",
       "      <td>6670077.87</td>\n",
       "      <td>415536055.60</td>\n",
       "      <td>1527156924.68</td>\n",
       "    </tr>\n",
       "  </tbody>\n",
       "</table>\n",
       "<p>9 rows × 25 columns</p>\n",
       "</div>"
      ],
      "text/plain": [
       "                       Policiamento 2019  Policiamento 2020  \\\n",
       "Unidades da Federação                                         \n",
       "Alagoas                      39933161.56        59775502.63   \n",
       "Bahia                       298957510.04       232915902.13   \n",
       "Ceará                       272982780.31       158644003.31   \n",
       "Maranhão                    355185331.79               0.00   \n",
       "Paraíba                       7144027.40         7739853.66   \n",
       "Pernambuco                 2514846376.41      2422625614.48   \n",
       "Piauí                        65786996.90        66549744.65   \n",
       "Rio Grande do Norte         709734791.71        53270297.38   \n",
       "Sergipe                     525870475.11       505707842.59   \n",
       "\n",
       "                       Defesa Civil 2019  Defesa Civil 2020  \\\n",
       "Unidades da Federação                                         \n",
       "Alagoas                       3463069.32         8614589.87   \n",
       "Bahia                        55709611.15        23393352.95   \n",
       "Ceará                         4349594.60         3812430.40   \n",
       "Maranhão                      5658886.65        12371118.58   \n",
       "Paraíba                       9969071.16         8184933.00   \n",
       "Pernambuco                  278987021.24       276950156.50   \n",
       "Piauí                        17542350.13        33279756.35   \n",
       "Rio Grande do Norte           9347126.26         6937753.55   \n",
       "Sergipe                      75574386.42        74848742.21   \n",
       "\n",
       "                       Informação e Inteligência 2019  \\\n",
       "Unidades da Federação                                   \n",
       "Alagoas                                     633890.30   \n",
       "Bahia                                     14649267.91   \n",
       "Ceará                                     54786132.51   \n",
       "Maranhão                                         0.00   \n",
       "Paraíba                                     195353.34   \n",
       "Pernambuco                                  510889.99   \n",
       "Piauí                                            0.00   \n",
       "Rio Grande do Norte                              0.00   \n",
       "Sergipe                                    1136952.45   \n",
       "\n",
       "                       Informação e Inteligência 2020   Outros 2019  \\\n",
       "Unidades da Federação                                                 \n",
       "Alagoas                                      62442.59 1115128698.11   \n",
       "Bahia                                      9378921.46 4313086966.67   \n",
       "Ceará                                     53546444.02 2510241286.32   \n",
       "Maranhão                                         0.00 1642815577.65   \n",
       "Paraíba                                      45850.00 1368931998.14   \n",
       "Pernambuco                                  880876.40  190800999.53   \n",
       "Piauí                                            0.00  809966595.34   \n",
       "Rio Grande do Norte                              0.00  484602145.08   \n",
       "Sergipe                                    1118825.50  386546579.45   \n",
       "\n",
       "                        Outros 2020    Total 2019    Total 2020  ...  \\\n",
       "Unidades da Federação                                            ...   \n",
       "Alagoas               1286533736.01 1159158819.29 1354986271.10  ...   \n",
       "Bahia                 4055975150.69 4682403355.77 4321663327.23  ...   \n",
       "Ceará                 2829579791.26 2842359793.74 3045582668.99  ...   \n",
       "Maranhão              1942012656.85 2003659796.09 1954383775.43  ...   \n",
       "Paraíba               1401621066.99 1386240450.05 1417591703.65  ...   \n",
       "Pernambuco             179694688.39 2985145287.17 2880151335.77  ...   \n",
       "Piauí                  686002281.84  893295942.37  785831782.84  ...   \n",
       "Rio Grande do Norte    978010342.96 1203684063.05 1038218393.89  ...   \n",
       "Sergipe                375108993.83  989128393.43  956784404.13  ...   \n",
       "\n",
       "                       Informação e Inteligência 2018   Outros 2017  \\\n",
       "Unidades da Federação                                                 \n",
       "Alagoas                                       8973.00  300834639.65   \n",
       "Bahia                                             NaN           NaN   \n",
       "Ceará                                            0.00 1979098777.84   \n",
       "Maranhão                                         0.00 1359240985.19   \n",
       "Paraíba                                     156283.90 1198321962.22   \n",
       "Pernambuco                                  495750.36  327890090.26   \n",
       "Piauí                                            0.00  659675084.00   \n",
       "Rio Grande do Norte                              0.00  348042235.86   \n",
       "Sergipe                                          0.00  378162628.57   \n",
       "\n",
       "                        Outros 2018    Total 2017    Total 2018  \\\n",
       "Unidades da Federação                                             \n",
       "Alagoas                367826835.46 1162400195.87 1168666686.11   \n",
       "Bahia                           NaN           NaN           NaN   \n",
       "Ceará                 2367269357.53 2241855774.72 2581001023.13   \n",
       "Maranhão              1502765887.11 1648338700.72 1849647394.56   \n",
       "Paraíba               1253750434.60 1209742860.21 1263695976.69   \n",
       "Pernambuco             195245921.24 2622596665.29 2775175397.30   \n",
       "Piauí                  635401471.15  740652389.79  746278530.59   \n",
       "Rio Grande do Norte    413132039.90  918433463.52  976733756.97   \n",
       "Sergipe                376772210.38  876573859.63  892986186.11   \n",
       "\n",
       "                       Policiamento 2021  Defesa Civil 2021  \\\n",
       "Unidades da Federação                                         \n",
       "Alagoas                     137085570.33          227163.52   \n",
       "Bahia                       341433149.32        45880896.58   \n",
       "Ceará                       186998212.56         7945159.97   \n",
       "Maranhão                    157398627.39        12296501.51   \n",
       "Paraíba                      14312816.39        13262816.70   \n",
       "Pernambuco                 2445971242.15       251766617.39   \n",
       "Piauí                        91417461.05        33438605.93   \n",
       "Rio Grande do Norte          50514105.70        18100896.16   \n",
       "Sergipe                     973044992.40       131905798.81   \n",
       "\n",
       "                       Informação e Inteligência 2021   Outros 2021  \\\n",
       "Unidades da Federação                                                 \n",
       "Alagoas                                      12057.64 1275975768.94   \n",
       "Bahia                                     15707646.15 3965408902.57   \n",
       "Ceará                                     88674144.18 3052166070.28   \n",
       "Maranhão                                         0.00 1810749128.56   \n",
       "Paraíba                                     192671.86 1437694912.06   \n",
       "Pernambuco                                  917758.71  185942567.27   \n",
       "Piauí                                            0.00  717604470.60   \n",
       "Rio Grande do Norte                              0.00 1162825098.58   \n",
       "Sergipe                                    6670077.87  415536055.60   \n",
       "\n",
       "                         Total 2021  \n",
       "Unidades da Federação                \n",
       "Alagoas               1413300560.43  \n",
       "Bahia                 4368430594.62  \n",
       "Ceará                 3335783586.99  \n",
       "Maranhão              1980444257.46  \n",
       "Paraíba               1465463217.01  \n",
       "Pernambuco            2884598185.52  \n",
       "Piauí                  842460537.58  \n",
       "Rio Grande do Norte   1231440100.44  \n",
       "Sergipe               1527156924.68  \n",
       "\n",
       "[9 rows x 25 columns]"
      ]
     },
     "execution_count": 20,
     "metadata": {},
     "output_type": "execute_result"
    }
   ],
   "source": [
    "gastos = pd.merge(gastos13_15, gastos16, how=\"left\", on='Unidades da Federação')\n",
    "gastos = gastos.replace({\"NaN\": \"0.00\"})\n",
    "gastos"
   ]
  },
  {
   "cell_type": "code",
   "execution_count": 21,
   "metadata": {
    "colab": {
     "base_uri": "https://localhost:8080/",
     "height": 363
    },
    "id": "jOiefJyElN2l",
    "outputId": "60103605-5107-415a-e757-3e337b0d8643"
   },
   "outputs": [
    {
     "data": {
      "text/html": [
       "<div>\n",
       "<style scoped>\n",
       "    .dataframe tbody tr th:only-of-type {\n",
       "        vertical-align: middle;\n",
       "    }\n",
       "\n",
       "    .dataframe tbody tr th {\n",
       "        vertical-align: top;\n",
       "    }\n",
       "\n",
       "    .dataframe thead th {\n",
       "        text-align: right;\n",
       "    }\n",
       "</style>\n",
       "<table border=\"1\" class=\"dataframe\">\n",
       "  <thead>\n",
       "    <tr style=\"text-align: right;\">\n",
       "      <th></th>\n",
       "      <th>TABELA 75</th>\n",
       "      <th>Unnamed: 1</th>\n",
       "      <th>Unnamed: 2</th>\n",
       "      <th>Unnamed: 3</th>\n",
       "      <th>(Voltar ao índice)</th>\n",
       "    </tr>\n",
       "  </thead>\n",
       "  <tbody>\n",
       "    <tr>\n",
       "      <th>3</th>\n",
       "      <td>União e Unidades da Federação</td>\n",
       "      <td>2018.00</td>\n",
       "      <td>2019.00</td>\n",
       "      <td>2020.00</td>\n",
       "      <td>2021.00</td>\n",
       "    </tr>\n",
       "    <tr>\n",
       "      <th>10</th>\n",
       "      <td>Alagoas</td>\n",
       "      <td>427.83</td>\n",
       "      <td>410.65</td>\n",
       "      <td>444.96</td>\n",
       "      <td>419.96</td>\n",
       "    </tr>\n",
       "    <tr>\n",
       "      <th>13</th>\n",
       "      <td>Bahia</td>\n",
       "      <td>346.25</td>\n",
       "      <td>332.51</td>\n",
       "      <td>318.57</td>\n",
       "      <td>291.51</td>\n",
       "    </tr>\n",
       "    <tr>\n",
       "      <th>14</th>\n",
       "      <td>Ceará</td>\n",
       "      <td>353.05</td>\n",
       "      <td>338.39</td>\n",
       "      <td>364.86</td>\n",
       "      <td>360.99</td>\n",
       "    </tr>\n",
       "    <tr>\n",
       "      <th>18</th>\n",
       "      <td>Maranhão</td>\n",
       "      <td>326.01</td>\n",
       "      <td>312.50</td>\n",
       "      <td>302.98</td>\n",
       "      <td>276.86</td>\n",
       "    </tr>\n",
       "    <tr>\n",
       "      <th>23</th>\n",
       "      <td>Paraíba</td>\n",
       "      <td>387.30</td>\n",
       "      <td>371.15</td>\n",
       "      <td>386.26</td>\n",
       "      <td>360.96</td>\n",
       "    </tr>\n",
       "    <tr>\n",
       "      <th>25</th>\n",
       "      <td>Pernambuco</td>\n",
       "      <td>361.34</td>\n",
       "      <td>346.19</td>\n",
       "      <td>329.63</td>\n",
       "      <td>298.16</td>\n",
       "    </tr>\n",
       "    <tr>\n",
       "      <th>26</th>\n",
       "      <td>Piauí</td>\n",
       "      <td>287.32</td>\n",
       "      <td>276.54</td>\n",
       "      <td>263.57</td>\n",
       "      <td>256.12</td>\n",
       "    </tr>\n",
       "    <tr>\n",
       "      <th>28</th>\n",
       "      <td>Rio Grande do Norte</td>\n",
       "      <td>342.70</td>\n",
       "      <td>327.55</td>\n",
       "      <td>323.32</td>\n",
       "      <td>345.82</td>\n",
       "    </tr>\n",
       "    <tr>\n",
       "      <th>34</th>\n",
       "      <td>Sergipe</td>\n",
       "      <td>479.92</td>\n",
       "      <td>458.41</td>\n",
       "      <td>454.13</td>\n",
       "      <td>653.06</td>\n",
       "    </tr>\n",
       "  </tbody>\n",
       "</table>\n",
       "</div>"
      ],
      "text/plain": [
       "                        TABELA 75  Unnamed: 1  Unnamed: 2  Unnamed: 3  \\\n",
       "3   União e Unidades da Federação     2018.00     2019.00     2020.00   \n",
       "10                        Alagoas      427.83      410.65      444.96   \n",
       "13                          Bahia      346.25      332.51      318.57   \n",
       "14                          Ceará      353.05      338.39      364.86   \n",
       "18                       Maranhão      326.01      312.50      302.98   \n",
       "23                        Paraíba      387.30      371.15      386.26   \n",
       "25                     Pernambuco      361.34      346.19      329.63   \n",
       "26                          Piauí      287.32      276.54      263.57   \n",
       "28            Rio Grande do Norte      342.70      327.55      323.32   \n",
       "34                        Sergipe      479.92      458.41      454.13   \n",
       "\n",
       "    (Voltar ao índice)  \n",
       "3              2021.00  \n",
       "10              419.96  \n",
       "13              291.51  \n",
       "14              360.99  \n",
       "18              276.86  \n",
       "23              360.96  \n",
       "25              298.16  \n",
       "26              256.12  \n",
       "28              345.82  \n",
       "34              653.06  "
      ]
     },
     "execution_count": 21,
     "metadata": {},
     "output_type": "execute_result"
    }
   ],
   "source": [
    "gastos_per_capita = pd.read_excel(\"anuario16.xlsx\", sheet_name=\"T75\")\n",
    "gastos_per_capita = gastos_per_capita.drop([0, 1, 2, 4, 5, 6, 7, 8, 9, 11, 12, 15, 16, 17, 19, 20, 21, 22, 24, 27, 29, 30, 31, 32, 33, 35, 36, 37, 38])\n",
    "gastos_per_capita"
   ]
  },
  {
   "cell_type": "code",
   "execution_count": 22,
   "metadata": {
    "colab": {
     "base_uri": "https://localhost:8080/",
     "height": 363
    },
    "id": "W8loyl8tlUch",
    "outputId": "08f8aa21-39d4-44a9-a70a-d93742f36135"
   },
   "outputs": [
    {
     "data": {
      "text/html": [
       "<div>\n",
       "<style scoped>\n",
       "    .dataframe tbody tr th:only-of-type {\n",
       "        vertical-align: middle;\n",
       "    }\n",
       "\n",
       "    .dataframe tbody tr th {\n",
       "        vertical-align: top;\n",
       "    }\n",
       "\n",
       "    .dataframe thead th {\n",
       "        text-align: right;\n",
       "    }\n",
       "</style>\n",
       "<table border=\"1\" class=\"dataframe\">\n",
       "  <thead>\n",
       "    <tr style=\"text-align: right;\">\n",
       "      <th></th>\n",
       "      <th>2018</th>\n",
       "      <th>2019</th>\n",
       "      <th>2020</th>\n",
       "      <th>2021</th>\n",
       "    </tr>\n",
       "    <tr>\n",
       "      <th>Unidades da Federação</th>\n",
       "      <th></th>\n",
       "      <th></th>\n",
       "      <th></th>\n",
       "      <th></th>\n",
       "    </tr>\n",
       "  </thead>\n",
       "  <tbody>\n",
       "    <tr>\n",
       "      <th>Alagoas</th>\n",
       "      <td>427.83</td>\n",
       "      <td>410.65</td>\n",
       "      <td>444.96</td>\n",
       "      <td>419.96</td>\n",
       "    </tr>\n",
       "    <tr>\n",
       "      <th>Bahia</th>\n",
       "      <td>346.25</td>\n",
       "      <td>332.51</td>\n",
       "      <td>318.57</td>\n",
       "      <td>291.51</td>\n",
       "    </tr>\n",
       "    <tr>\n",
       "      <th>Ceará</th>\n",
       "      <td>353.05</td>\n",
       "      <td>338.39</td>\n",
       "      <td>364.86</td>\n",
       "      <td>360.99</td>\n",
       "    </tr>\n",
       "    <tr>\n",
       "      <th>Maranhão</th>\n",
       "      <td>326.01</td>\n",
       "      <td>312.50</td>\n",
       "      <td>302.98</td>\n",
       "      <td>276.86</td>\n",
       "    </tr>\n",
       "    <tr>\n",
       "      <th>Paraíba</th>\n",
       "      <td>387.30</td>\n",
       "      <td>371.15</td>\n",
       "      <td>386.26</td>\n",
       "      <td>360.96</td>\n",
       "    </tr>\n",
       "    <tr>\n",
       "      <th>Pernambuco</th>\n",
       "      <td>361.34</td>\n",
       "      <td>346.19</td>\n",
       "      <td>329.63</td>\n",
       "      <td>298.16</td>\n",
       "    </tr>\n",
       "    <tr>\n",
       "      <th>Piauí</th>\n",
       "      <td>287.32</td>\n",
       "      <td>276.54</td>\n",
       "      <td>263.57</td>\n",
       "      <td>256.12</td>\n",
       "    </tr>\n",
       "    <tr>\n",
       "      <th>Rio Grande do Norte</th>\n",
       "      <td>342.70</td>\n",
       "      <td>327.55</td>\n",
       "      <td>323.32</td>\n",
       "      <td>345.82</td>\n",
       "    </tr>\n",
       "    <tr>\n",
       "      <th>Sergipe</th>\n",
       "      <td>479.92</td>\n",
       "      <td>458.41</td>\n",
       "      <td>454.13</td>\n",
       "      <td>653.06</td>\n",
       "    </tr>\n",
       "  </tbody>\n",
       "</table>\n",
       "</div>"
      ],
      "text/plain": [
       "                        2018   2019   2020   2021\n",
       "Unidades da Federação                            \n",
       "Alagoas               427.83 410.65 444.96 419.96\n",
       "Bahia                 346.25 332.51 318.57 291.51\n",
       "Ceará                 353.05 338.39 364.86 360.99\n",
       "Maranhão              326.01 312.50 302.98 276.86\n",
       "Paraíba               387.30 371.15 386.26 360.96\n",
       "Pernambuco            361.34 346.19 329.63 298.16\n",
       "Piauí                 287.32 276.54 263.57 256.12\n",
       "Rio Grande do Norte   342.70 327.55 323.32 345.82\n",
       "Sergipe               479.92 458.41 454.13 653.06"
      ]
     },
     "execution_count": 22,
     "metadata": {},
     "output_type": "execute_result"
    }
   ],
   "source": [
    "gastos_per_capita = gastos_per_capita.rename({'TABELA 75':'Unidades da Federação', 'Unnamed: 1':'2018', 'Unnamed: 2':'2019', 'Unnamed: 3':'2020', '(Voltar ao índice)':'2021'}, axis='columns')\n",
    "gastos_per_capita = gastos_per_capita.drop(3)\n",
    "gastos_per_capita = gastos_per_capita.set_index('Unidades da Federação')\n",
    "gastos_per_capita"
   ]
  },
  {
   "cell_type": "code",
   "execution_count": 23,
   "metadata": {
    "colab": {
     "base_uri": "https://localhost:8080/"
    },
    "id": "4RdKuawYycSA",
    "outputId": "79bc90b1-31fc-4e51-fce6-28597856d3c7"
   },
   "outputs": [
    {
     "name": "stdout",
     "output_type": "stream",
     "text": [
      "<class 'pandas.core.frame.DataFrame'>\n",
      "Index: 9 entries, Alagoas to Sergipe\n",
      "Data columns (total 4 columns):\n",
      " #   Column  Non-Null Count  Dtype  \n",
      "---  ------  --------------  -----  \n",
      " 0   2018    9 non-null      float64\n",
      " 1   2019    9 non-null      float64\n",
      " 2   2020    9 non-null      float64\n",
      " 3   2021    9 non-null      float64\n",
      "dtypes: float64(4)\n",
      "memory usage: 360.0+ bytes\n"
     ]
    }
   ],
   "source": [
    "gastos_per_capita.info()"
   ]
  },
  {
   "cell_type": "code",
   "execution_count": 24,
   "metadata": {
    "colab": {
     "base_uri": "https://localhost:8080/",
     "height": 363
    },
    "id": "RAvksJbBqlZM",
    "outputId": "2aa0c7d0-2ed1-410b-e591-7d8ba876809b"
   },
   "outputs": [
    {
     "data": {
      "text/html": [
       "<div>\n",
       "<style scoped>\n",
       "    .dataframe tbody tr th:only-of-type {\n",
       "        vertical-align: middle;\n",
       "    }\n",
       "\n",
       "    .dataframe tbody tr th {\n",
       "        vertical-align: top;\n",
       "    }\n",
       "\n",
       "    .dataframe thead th {\n",
       "        text-align: right;\n",
       "    }\n",
       "</style>\n",
       "<table border=\"1\" class=\"dataframe\">\n",
       "  <thead>\n",
       "    <tr style=\"text-align: right;\">\n",
       "      <th></th>\n",
       "      <th>TABELA 74</th>\n",
       "      <th>Unnamed: 1</th>\n",
       "      <th>Unnamed: 2</th>\n",
       "      <th>Unnamed: 3</th>\n",
       "      <th>(Voltar ao índice)</th>\n",
       "    </tr>\n",
       "  </thead>\n",
       "  <tbody>\n",
       "    <tr>\n",
       "      <th>4</th>\n",
       "      <td>União e Unidades da Federação</td>\n",
       "      <td>2018.00</td>\n",
       "      <td>2019.00</td>\n",
       "      <td>2020.00</td>\n",
       "      <td>2021</td>\n",
       "    </tr>\n",
       "    <tr>\n",
       "      <th>9</th>\n",
       "      <td>Alagoas</td>\n",
       "      <td>13.59</td>\n",
       "      <td>12.83</td>\n",
       "      <td>14.09</td>\n",
       "      <td>9.67</td>\n",
       "    </tr>\n",
       "    <tr>\n",
       "      <th>12</th>\n",
       "      <td>Bahia</td>\n",
       "      <td>9.83</td>\n",
       "      <td>9.92</td>\n",
       "      <td>9.55</td>\n",
       "      <td>7.72</td>\n",
       "    </tr>\n",
       "    <tr>\n",
       "      <th>13</th>\n",
       "      <td>Ceará</td>\n",
       "      <td>10.17</td>\n",
       "      <td>10.53</td>\n",
       "      <td>11.56</td>\n",
       "      <td>10.14</td>\n",
       "    </tr>\n",
       "    <tr>\n",
       "      <th>17</th>\n",
       "      <td>Maranhão</td>\n",
       "      <td>9.60</td>\n",
       "      <td>11.47</td>\n",
       "      <td>11.82</td>\n",
       "      <td>9.35</td>\n",
       "    </tr>\n",
       "    <tr>\n",
       "      <th>22</th>\n",
       "      <td>Paraíba</td>\n",
       "      <td>12.60</td>\n",
       "      <td>13.15</td>\n",
       "      <td>14.07</td>\n",
       "      <td>11.34</td>\n",
       "    </tr>\n",
       "    <tr>\n",
       "      <th>24</th>\n",
       "      <td>Pernambuco</td>\n",
       "      <td>9.28</td>\n",
       "      <td>9.11</td>\n",
       "      <td>8.09</td>\n",
       "      <td>6.76</td>\n",
       "    </tr>\n",
       "    <tr>\n",
       "      <th>25</th>\n",
       "      <td>Piauí</td>\n",
       "      <td>7.72</td>\n",
       "      <td>7.40</td>\n",
       "      <td>6.82</td>\n",
       "      <td>5.84</td>\n",
       "    </tr>\n",
       "    <tr>\n",
       "      <th>27</th>\n",
       "      <td>Rio Grande do Norte</td>\n",
       "      <td>10.37</td>\n",
       "      <td>9.86</td>\n",
       "      <td>8.36</td>\n",
       "      <td>8.18</td>\n",
       "    </tr>\n",
       "    <tr>\n",
       "      <th>33</th>\n",
       "      <td>Sergipe</td>\n",
       "      <td>11.11</td>\n",
       "      <td>10.89</td>\n",
       "      <td>10.43</td>\n",
       "      <td>13.75</td>\n",
       "    </tr>\n",
       "  </tbody>\n",
       "</table>\n",
       "</div>"
      ],
      "text/plain": [
       "                        TABELA 74  Unnamed: 1  Unnamed: 2  Unnamed: 3  \\\n",
       "4   União e Unidades da Federação     2018.00     2019.00     2020.00   \n",
       "9                         Alagoas       13.59       12.83       14.09   \n",
       "12                          Bahia        9.83        9.92        9.55   \n",
       "13                          Ceará       10.17       10.53       11.56   \n",
       "17                       Maranhão        9.60       11.47       11.82   \n",
       "22                        Paraíba       12.60       13.15       14.07   \n",
       "24                     Pernambuco        9.28        9.11        8.09   \n",
       "25                          Piauí        7.72        7.40        6.82   \n",
       "27            Rio Grande do Norte       10.37        9.86        8.36   \n",
       "33                        Sergipe       11.11       10.89       10.43   \n",
       "\n",
       "   (Voltar ao índice)  \n",
       "4                2021  \n",
       "9                9.67  \n",
       "12               7.72  \n",
       "13              10.14  \n",
       "17               9.35  \n",
       "22              11.34  \n",
       "24               6.76  \n",
       "25               5.84  \n",
       "27               8.18  \n",
       "33              13.75  "
      ]
     },
     "execution_count": 24,
     "metadata": {},
     "output_type": "execute_result"
    }
   ],
   "source": [
    "gastos_part = pd.read_excel(\"anuario16.xlsx\", sheet_name=\"T74\")\n",
    "gastos_part = gastos_part.drop([0, 1, 2, 3, 5, 6, 7, 8, 10, 11, 14, 15, 16, 18, 19, 20, 21, 23, 26, 28, 29, 30, 31, 32, 34, 35, 36])\n",
    "gastos_part"
   ]
  },
  {
   "cell_type": "code",
   "execution_count": 25,
   "metadata": {
    "colab": {
     "base_uri": "https://localhost:8080/",
     "height": 363
    },
    "id": "aY-V34LWtNgX",
    "outputId": "c0593f1c-608c-4f95-f0b7-78f3537e7097"
   },
   "outputs": [
    {
     "data": {
      "text/html": [
       "<div>\n",
       "<style scoped>\n",
       "    .dataframe tbody tr th:only-of-type {\n",
       "        vertical-align: middle;\n",
       "    }\n",
       "\n",
       "    .dataframe tbody tr th {\n",
       "        vertical-align: top;\n",
       "    }\n",
       "\n",
       "    .dataframe thead th {\n",
       "        text-align: right;\n",
       "    }\n",
       "</style>\n",
       "<table border=\"1\" class=\"dataframe\">\n",
       "  <thead>\n",
       "    <tr style=\"text-align: right;\">\n",
       "      <th></th>\n",
       "      <th>2018</th>\n",
       "      <th>2019</th>\n",
       "      <th>2020</th>\n",
       "      <th>2021</th>\n",
       "    </tr>\n",
       "    <tr>\n",
       "      <th>Unidades da Federação</th>\n",
       "      <th></th>\n",
       "      <th></th>\n",
       "      <th></th>\n",
       "      <th></th>\n",
       "    </tr>\n",
       "  </thead>\n",
       "  <tbody>\n",
       "    <tr>\n",
       "      <th>Alagoas</th>\n",
       "      <td>13.59</td>\n",
       "      <td>12.83</td>\n",
       "      <td>14.09</td>\n",
       "      <td>9.67</td>\n",
       "    </tr>\n",
       "    <tr>\n",
       "      <th>Bahia</th>\n",
       "      <td>9.83</td>\n",
       "      <td>9.92</td>\n",
       "      <td>9.55</td>\n",
       "      <td>7.72</td>\n",
       "    </tr>\n",
       "    <tr>\n",
       "      <th>Ceará</th>\n",
       "      <td>10.17</td>\n",
       "      <td>10.53</td>\n",
       "      <td>11.56</td>\n",
       "      <td>10.14</td>\n",
       "    </tr>\n",
       "    <tr>\n",
       "      <th>Maranhão</th>\n",
       "      <td>9.60</td>\n",
       "      <td>11.47</td>\n",
       "      <td>11.82</td>\n",
       "      <td>9.35</td>\n",
       "    </tr>\n",
       "    <tr>\n",
       "      <th>Paraíba</th>\n",
       "      <td>12.60</td>\n",
       "      <td>13.15</td>\n",
       "      <td>14.07</td>\n",
       "      <td>11.34</td>\n",
       "    </tr>\n",
       "    <tr>\n",
       "      <th>Pernambuco</th>\n",
       "      <td>9.28</td>\n",
       "      <td>9.11</td>\n",
       "      <td>8.09</td>\n",
       "      <td>6.76</td>\n",
       "    </tr>\n",
       "    <tr>\n",
       "      <th>Piauí</th>\n",
       "      <td>7.72</td>\n",
       "      <td>7.40</td>\n",
       "      <td>6.82</td>\n",
       "      <td>5.84</td>\n",
       "    </tr>\n",
       "    <tr>\n",
       "      <th>Rio Grande do Norte</th>\n",
       "      <td>10.37</td>\n",
       "      <td>9.86</td>\n",
       "      <td>8.36</td>\n",
       "      <td>8.18</td>\n",
       "    </tr>\n",
       "    <tr>\n",
       "      <th>Sergipe</th>\n",
       "      <td>11.11</td>\n",
       "      <td>10.89</td>\n",
       "      <td>10.43</td>\n",
       "      <td>13.75</td>\n",
       "    </tr>\n",
       "  </tbody>\n",
       "</table>\n",
       "</div>"
      ],
      "text/plain": [
       "                       2018  2019  2020  2021\n",
       "Unidades da Federação                        \n",
       "Alagoas               13.59 12.83 14.09  9.67\n",
       "Bahia                  9.83  9.92  9.55  7.72\n",
       "Ceará                 10.17 10.53 11.56 10.14\n",
       "Maranhão               9.60 11.47 11.82  9.35\n",
       "Paraíba               12.60 13.15 14.07 11.34\n",
       "Pernambuco             9.28  9.11  8.09  6.76\n",
       "Piauí                  7.72  7.40  6.82  5.84\n",
       "Rio Grande do Norte   10.37  9.86  8.36  8.18\n",
       "Sergipe               11.11 10.89 10.43 13.75"
      ]
     },
     "execution_count": 25,
     "metadata": {},
     "output_type": "execute_result"
    }
   ],
   "source": [
    "gastos_part = gastos_part.rename({'TABELA 74':'Unidades da Federação', 'Unnamed: 1':'2018', 'Unnamed: 2':'2019', 'Unnamed: 3':'2020', '(Voltar ao índice)':'2021'}, axis='columns')\n",
    "gastos_part = gastos_part.drop(4)\n",
    "gastos_part = gastos_part.set_index('Unidades da Federação')\n",
    "gastos_part"
   ]
  },
  {
   "cell_type": "code",
   "execution_count": 26,
   "metadata": {
    "colab": {
     "base_uri": "https://localhost:8080/"
    },
    "id": "nIMw850gyC1x",
    "outputId": "0def2f24-c9e9-4664-a195-587644c9412e"
   },
   "outputs": [
    {
     "name": "stdout",
     "output_type": "stream",
     "text": [
      "<class 'pandas.core.frame.DataFrame'>\n",
      "Index: 9 entries, Alagoas to Sergipe\n",
      "Data columns (total 4 columns):\n",
      " #   Column  Non-Null Count  Dtype  \n",
      "---  ------  --------------  -----  \n",
      " 0   2018    9 non-null      float64\n",
      " 1   2019    9 non-null      float64\n",
      " 2   2020    9 non-null      float64\n",
      " 3   2021    9 non-null      object \n",
      "dtypes: float64(3), object(1)\n",
      "memory usage: 360.0+ bytes\n"
     ]
    }
   ],
   "source": [
    "gastos_part.info()"
   ]
  },
  {
   "cell_type": "code",
   "execution_count": 27,
   "metadata": {
    "colab": {
     "base_uri": "https://localhost:8080/"
    },
    "id": "IGGPivimyM01",
    "outputId": "235a7517-48bc-4e0d-afd3-16073a9d290b"
   },
   "outputs": [
    {
     "name": "stdout",
     "output_type": "stream",
     "text": [
      "<class 'pandas.core.frame.DataFrame'>\n",
      "Index: 9 entries, Alagoas to Sergipe\n",
      "Data columns (total 4 columns):\n",
      " #   Column  Non-Null Count  Dtype  \n",
      "---  ------  --------------  -----  \n",
      " 0   2018    9 non-null      float64\n",
      " 1   2019    9 non-null      float64\n",
      " 2   2020    9 non-null      float64\n",
      " 3   2021    9 non-null      float64\n",
      "dtypes: float64(4)\n",
      "memory usage: 360.0+ bytes\n"
     ]
    }
   ],
   "source": [
    "gastos_part['2021'] = gastos_part['2021'].astype('float64')\n",
    "gastos_part.info()"
   ]
  },
  {
   "cell_type": "code",
   "execution_count": 28,
   "metadata": {
    "colab": {
     "base_uri": "https://localhost:8080/",
     "height": 394
    },
    "id": "MyuJstYFwHLd",
    "outputId": "6ef9b439-99e5-44d8-d015-3720867d449c"
   },
   "outputs": [
    {
     "data": {
      "text/html": [
       "<div>\n",
       "<style scoped>\n",
       "    .dataframe tbody tr th:only-of-type {\n",
       "        vertical-align: middle;\n",
       "    }\n",
       "\n",
       "    .dataframe tbody tr th {\n",
       "        vertical-align: top;\n",
       "    }\n",
       "\n",
       "    .dataframe thead th {\n",
       "        text-align: right;\n",
       "    }\n",
       "</style>\n",
       "<table border=\"1\" class=\"dataframe\">\n",
       "  <thead>\n",
       "    <tr style=\"text-align: right;\">\n",
       "      <th></th>\n",
       "      <th>TABELA 78</th>\n",
       "      <th>Unnamed: 1</th>\n",
       "      <th>Unnamed: 2</th>\n",
       "      <th>Unnamed: 3</th>\n",
       "      <th>Unnamed: 4</th>\n",
       "    </tr>\n",
       "  </thead>\n",
       "  <tbody>\n",
       "    <tr>\n",
       "      <th>4</th>\n",
       "      <td>Regiões e UF</td>\n",
       "      <td>2018.00</td>\n",
       "      <td>2019.00</td>\n",
       "      <td>2020.00</td>\n",
       "      <td>2021.00</td>\n",
       "    </tr>\n",
       "    <tr>\n",
       "      <th>15</th>\n",
       "      <td>Nordeste</td>\n",
       "      <td>19192057071.25</td>\n",
       "      <td>19651418364.70</td>\n",
       "      <td>19545985283.23</td>\n",
       "      <td>19049077964.73</td>\n",
       "    </tr>\n",
       "    <tr>\n",
       "      <th>16</th>\n",
       "      <td>Alagoas</td>\n",
       "      <td>1355101521.04</td>\n",
       "      <td>1255388240.49</td>\n",
       "      <td>1491297889.97</td>\n",
       "      <td>1413300560.43</td>\n",
       "    </tr>\n",
       "    <tr>\n",
       "      <th>17</th>\n",
       "      <td>Bahia</td>\n",
       "      <td>4982988853.45</td>\n",
       "      <td>5071120550.76</td>\n",
       "      <td>4756422657.95</td>\n",
       "      <td>4368430594.62</td>\n",
       "    </tr>\n",
       "    <tr>\n",
       "      <th>18</th>\n",
       "      <td>Ceará</td>\n",
       "      <td>2992742459.26</td>\n",
       "      <td>3078322832.85</td>\n",
       "      <td>3351968285.49</td>\n",
       "      <td>3335783586.99</td>\n",
       "    </tr>\n",
       "    <tr>\n",
       "      <th>19</th>\n",
       "      <td>Maranhão</td>\n",
       "      <td>2144717589.32</td>\n",
       "      <td>2169996815.03</td>\n",
       "      <td>2155613920.94</td>\n",
       "      <td>1980444257.46</td>\n",
       "    </tr>\n",
       "    <tr>\n",
       "      <th>20</th>\n",
       "      <td>Paraíba</td>\n",
       "      <td>1465290626.06</td>\n",
       "      <td>1501321415.61</td>\n",
       "      <td>1560201429.04</td>\n",
       "      <td>1465463217.01</td>\n",
       "    </tr>\n",
       "    <tr>\n",
       "      <th>21</th>\n",
       "      <td>Pernambuco</td>\n",
       "      <td>3217893045.75</td>\n",
       "      <td>3232961892.13</td>\n",
       "      <td>3169894560.15</td>\n",
       "      <td>2884598185.52</td>\n",
       "    </tr>\n",
       "    <tr>\n",
       "      <th>22</th>\n",
       "      <td>Piauí</td>\n",
       "      <td>865330708.87</td>\n",
       "      <td>967454332.12</td>\n",
       "      <td>864886460.19</td>\n",
       "      <td>842460537.58</td>\n",
       "    </tr>\n",
       "    <tr>\n",
       "      <th>23</th>\n",
       "      <td>Rio Grande do Norte</td>\n",
       "      <td>1132549952.39</td>\n",
       "      <td>1303609818.50</td>\n",
       "      <td>1142663164.32</td>\n",
       "      <td>1231440100.44</td>\n",
       "    </tr>\n",
       "    <tr>\n",
       "      <th>24</th>\n",
       "      <td>Sergipe</td>\n",
       "      <td>1035442315.12</td>\n",
       "      <td>1071242467.20</td>\n",
       "      <td>1053036915.19</td>\n",
       "      <td>1527156924.68</td>\n",
       "    </tr>\n",
       "  </tbody>\n",
       "</table>\n",
       "</div>"
      ],
      "text/plain": [
       "              TABELA 78     Unnamed: 1     Unnamed: 2     Unnamed: 3  \\\n",
       "4          Regiões e UF        2018.00        2019.00        2020.00   \n",
       "15             Nordeste 19192057071.25 19651418364.70 19545985283.23   \n",
       "16              Alagoas  1355101521.04  1255388240.49  1491297889.97   \n",
       "17                Bahia  4982988853.45  5071120550.76  4756422657.95   \n",
       "18                Ceará  2992742459.26  3078322832.85  3351968285.49   \n",
       "19             Maranhão  2144717589.32  2169996815.03  2155613920.94   \n",
       "20              Paraíba  1465290626.06  1501321415.61  1560201429.04   \n",
       "21           Pernambuco  3217893045.75  3232961892.13  3169894560.15   \n",
       "22                Piauí   865330708.87   967454332.12   864886460.19   \n",
       "23  Rio Grande do Norte  1132549952.39  1303609818.50  1142663164.32   \n",
       "24              Sergipe  1035442315.12  1071242467.20  1053036915.19   \n",
       "\n",
       "       Unnamed: 4  \n",
       "4         2021.00  \n",
       "15 19049077964.73  \n",
       "16  1413300560.43  \n",
       "17  4368430594.62  \n",
       "18  3335783586.99  \n",
       "19  1980444257.46  \n",
       "20  1465463217.01  \n",
       "21  2884598185.52  \n",
       "22   842460537.58  \n",
       "23  1231440100.44  \n",
       "24  1527156924.68  "
      ]
     },
     "execution_count": 28,
     "metadata": {},
     "output_type": "execute_result"
    }
   ],
   "source": [
    "gastos_evol = pd.read_excel(\"anuario16.xlsx\", sheet_name=\"T78\")\n",
    "gastos_evol = gastos_evol.drop([0, 1, 2, 3, 5, 6, 7, 8, 9, 10, 11, 12, 13, 14, 25, 26, 27, 28, 29, 30, 31, 32, 33, 34, 35, 36, 37, 38, 39, 40, 41, 42, 43, 44, 45, 46, 47])\n",
    "gastos_evol = gastos_evol.drop(columns=['(Voltar ao índice)'])\n",
    "gastos_evol"
   ]
  },
  {
   "cell_type": "code",
   "execution_count": 29,
   "metadata": {
    "colab": {
     "base_uri": "https://localhost:8080/"
    },
    "id": "Rdi4gIbEw_US",
    "outputId": "2d6c2cfa-b804-4eae-8b5b-90b256ebbb16"
   },
   "outputs": [
    {
     "name": "stdout",
     "output_type": "stream",
     "text": [
      "<class 'pandas.core.frame.DataFrame'>\n",
      "Index: 10 entries, Nordeste to Sergipe\n",
      "Data columns (total 4 columns):\n",
      " #   Column  Non-Null Count  Dtype  \n",
      "---  ------  --------------  -----  \n",
      " 0   2018    10 non-null     float64\n",
      " 1   2019    10 non-null     float64\n",
      " 2   2020    10 non-null     float64\n",
      " 3   2021    10 non-null     float64\n",
      "dtypes: float64(4)\n",
      "memory usage: 400.0+ bytes\n"
     ]
    }
   ],
   "source": [
    "gastos_evol = gastos_evol.rename({'TABELA 78':'Unidades da Federação', 'Unnamed: 1':'2018', 'Unnamed: 2':'2019', 'Unnamed: 3':'2020', 'Unnamed: 4':'2021'}, axis='columns')\n",
    "gastos_evol = gastos_evol.drop(4)\n",
    "gastos_evol = gastos_evol.set_index('Unidades da Federação')\n",
    "gastos_evol.info()"
   ]
  },
  {
   "cell_type": "code",
   "execution_count": 30,
   "metadata": {
    "colab": {
     "base_uri": "https://localhost:8080/",
     "height": 363
    },
    "id": "YLgcCZ7yw41r",
    "outputId": "a4b57307-4fe6-45d9-b900-6a26c3d6ee56"
   },
   "outputs": [
    {
     "data": {
      "text/html": [
       "<div>\n",
       "<style scoped>\n",
       "    .dataframe tbody tr th:only-of-type {\n",
       "        vertical-align: middle;\n",
       "    }\n",
       "\n",
       "    .dataframe tbody tr th {\n",
       "        vertical-align: top;\n",
       "    }\n",
       "\n",
       "    .dataframe thead th {\n",
       "        text-align: right;\n",
       "    }\n",
       "</style>\n",
       "<table border=\"1\" class=\"dataframe\">\n",
       "  <thead>\n",
       "    <tr style=\"text-align: right;\">\n",
       "      <th></th>\n",
       "      <th>2018</th>\n",
       "      <th>2019</th>\n",
       "      <th>2020</th>\n",
       "      <th>2021</th>\n",
       "    </tr>\n",
       "    <tr>\n",
       "      <th>Unidades da Federação</th>\n",
       "      <th></th>\n",
       "      <th></th>\n",
       "      <th></th>\n",
       "      <th></th>\n",
       "    </tr>\n",
       "  </thead>\n",
       "  <tbody>\n",
       "    <tr>\n",
       "      <th>Alagoas</th>\n",
       "      <td>1355101521.04</td>\n",
       "      <td>1255388240.49</td>\n",
       "      <td>1491297889.97</td>\n",
       "      <td>1413300560.43</td>\n",
       "    </tr>\n",
       "    <tr>\n",
       "      <th>Bahia</th>\n",
       "      <td>4982988853.45</td>\n",
       "      <td>5071120550.76</td>\n",
       "      <td>4756422657.95</td>\n",
       "      <td>4368430594.62</td>\n",
       "    </tr>\n",
       "    <tr>\n",
       "      <th>Ceará</th>\n",
       "      <td>2992742459.26</td>\n",
       "      <td>3078322832.85</td>\n",
       "      <td>3351968285.49</td>\n",
       "      <td>3335783586.99</td>\n",
       "    </tr>\n",
       "    <tr>\n",
       "      <th>Maranhão</th>\n",
       "      <td>2144717589.32</td>\n",
       "      <td>2169996815.03</td>\n",
       "      <td>2155613920.94</td>\n",
       "      <td>1980444257.46</td>\n",
       "    </tr>\n",
       "    <tr>\n",
       "      <th>Paraíba</th>\n",
       "      <td>1465290626.06</td>\n",
       "      <td>1501321415.61</td>\n",
       "      <td>1560201429.04</td>\n",
       "      <td>1465463217.01</td>\n",
       "    </tr>\n",
       "    <tr>\n",
       "      <th>Pernambuco</th>\n",
       "      <td>3217893045.75</td>\n",
       "      <td>3232961892.13</td>\n",
       "      <td>3169894560.15</td>\n",
       "      <td>2884598185.52</td>\n",
       "    </tr>\n",
       "    <tr>\n",
       "      <th>Piauí</th>\n",
       "      <td>865330708.87</td>\n",
       "      <td>967454332.12</td>\n",
       "      <td>864886460.19</td>\n",
       "      <td>842460537.58</td>\n",
       "    </tr>\n",
       "    <tr>\n",
       "      <th>Rio Grande do Norte</th>\n",
       "      <td>1132549952.39</td>\n",
       "      <td>1303609818.50</td>\n",
       "      <td>1142663164.32</td>\n",
       "      <td>1231440100.44</td>\n",
       "    </tr>\n",
       "    <tr>\n",
       "      <th>Sergipe</th>\n",
       "      <td>1035442315.12</td>\n",
       "      <td>1071242467.20</td>\n",
       "      <td>1053036915.19</td>\n",
       "      <td>1527156924.68</td>\n",
       "    </tr>\n",
       "  </tbody>\n",
       "</table>\n",
       "</div>"
      ],
      "text/plain": [
       "                               2018          2019          2020          2021\n",
       "Unidades da Federação                                                        \n",
       "Alagoas               1355101521.04 1255388240.49 1491297889.97 1413300560.43\n",
       "Bahia                 4982988853.45 5071120550.76 4756422657.95 4368430594.62\n",
       "Ceará                 2992742459.26 3078322832.85 3351968285.49 3335783586.99\n",
       "Maranhão              2144717589.32 2169996815.03 2155613920.94 1980444257.46\n",
       "Paraíba               1465290626.06 1501321415.61 1560201429.04 1465463217.01\n",
       "Pernambuco            3217893045.75 3232961892.13 3169894560.15 2884598185.52\n",
       "Piauí                  865330708.87  967454332.12  864886460.19  842460537.58\n",
       "Rio Grande do Norte   1132549952.39 1303609818.50 1142663164.32 1231440100.44\n",
       "Sergipe               1035442315.12 1071242467.20 1053036915.19 1527156924.68"
      ]
     },
     "execution_count": 30,
     "metadata": {},
     "output_type": "execute_result"
    }
   ],
   "source": [
    "gastos_evol = gastos_evol.drop('Nordeste')\n",
    "gastos_evol"
   ]
  },
  {
   "cell_type": "code",
   "execution_count": 31,
   "metadata": {
    "colab": {
     "base_uri": "https://localhost:8080/",
     "height": 926
    },
    "id": "NG1IV9Vlw-B2",
    "outputId": "eff3a8d2-89c8-4a98-ed01-d4a605cc1e1f"
   },
   "outputs": [
    {
     "name": "stderr",
     "output_type": "stream",
     "text": [
      "/var/folders/tj/9r2c9_p565b2cnshcs57f3jc0000gn/T/ipykernel_43184/745251981.py:4: SettingWithCopyWarning: \n",
      "A value is trying to be set on a copy of a slice from a DataFrame\n",
      "\n",
      "See the caveats in the documentation: https://pandas.pydata.org/pandas-docs/stable/user_guide/indexing.html#returning-a-view-versus-a-copy\n",
      "  homicidios13['Unnamed: 1'][12] = 'Ceará'\n",
      "/var/folders/tj/9r2c9_p565b2cnshcs57f3jc0000gn/T/ipykernel_43184/745251981.py:5: SettingWithCopyWarning: \n",
      "A value is trying to be set on a copy of a slice from a DataFrame\n",
      "\n",
      "See the caveats in the documentation: https://pandas.pydata.org/pandas-docs/stable/user_guide/indexing.html#returning-a-view-versus-a-copy\n",
      "  homicidios13['Unnamed: 1'][18] = 'Paraíba'\n",
      "/var/folders/tj/9r2c9_p565b2cnshcs57f3jc0000gn/T/ipykernel_43184/745251981.py:6: SettingWithCopyWarning: \n",
      "A value is trying to be set on a copy of a slice from a DataFrame\n",
      "\n",
      "See the caveats in the documentation: https://pandas.pydata.org/pandas-docs/stable/user_guide/indexing.html#returning-a-view-versus-a-copy\n",
      "  homicidios13['Unnamed: 1'][19] = 'Pernambuco'\n",
      "/var/folders/tj/9r2c9_p565b2cnshcs57f3jc0000gn/T/ipykernel_43184/745251981.py:7: SettingWithCopyWarning: \n",
      "A value is trying to be set on a copy of a slice from a DataFrame\n",
      "\n",
      "See the caveats in the documentation: https://pandas.pydata.org/pandas-docs/stable/user_guide/indexing.html#returning-a-view-versus-a-copy\n",
      "  homicidios13['Unnamed: 1'][20] = 'Piauí'\n"
     ]
    },
    {
     "data": {
      "text/html": [
       "<div>\n",
       "<style scoped>\n",
       "    .dataframe tbody tr th:only-of-type {\n",
       "        vertical-align: middle;\n",
       "    }\n",
       "\n",
       "    .dataframe tbody tr th {\n",
       "        vertical-align: top;\n",
       "    }\n",
       "\n",
       "    .dataframe thead th {\n",
       "        text-align: right;\n",
       "    }\n",
       "</style>\n",
       "<table border=\"1\" class=\"dataframe\">\n",
       "  <thead>\n",
       "    <tr style=\"text-align: right;\">\n",
       "      <th></th>\n",
       "      <th>Unnamed: 1</th>\n",
       "      <th>Unnamed: 12</th>\n",
       "      <th>Unnamed: 13</th>\n",
       "      <th>Unnamed: 14</th>\n",
       "      <th>Unnamed: 15</th>\n",
       "    </tr>\n",
       "  </thead>\n",
       "  <tbody>\n",
       "    <tr>\n",
       "      <th>4</th>\n",
       "      <td>NaN</td>\n",
       "      <td>NaN</td>\n",
       "      <td>NaN</td>\n",
       "      <td>NaN</td>\n",
       "      <td>NaN</td>\n",
       "    </tr>\n",
       "    <tr>\n",
       "      <th>6</th>\n",
       "      <td>NaN</td>\n",
       "      <td>Número Absoluto</td>\n",
       "      <td>NaN</td>\n",
       "      <td>Taxa (3)</td>\n",
       "      <td>NaN</td>\n",
       "    </tr>\n",
       "    <tr>\n",
       "      <th>7</th>\n",
       "      <td>NaN</td>\n",
       "      <td>2017 (4)</td>\n",
       "      <td>2018.00</td>\n",
       "      <td>2017</td>\n",
       "      <td>2018.00</td>\n",
       "    </tr>\n",
       "    <tr>\n",
       "      <th>11</th>\n",
       "      <td>Alagoas</td>\n",
       "      <td>1926</td>\n",
       "      <td>1521.00</td>\n",
       "      <td>57.05</td>\n",
       "      <td>45.77</td>\n",
       "    </tr>\n",
       "    <tr>\n",
       "      <th>12</th>\n",
       "      <td>Ceará</td>\n",
       "      <td>5329</td>\n",
       "      <td>4788.00</td>\n",
       "      <td>59.08</td>\n",
       "      <td>52.76</td>\n",
       "    </tr>\n",
       "    <tr>\n",
       "      <th>15</th>\n",
       "      <td>Maranhão</td>\n",
       "      <td>2058</td>\n",
       "      <td>1776.00</td>\n",
       "      <td>29.40</td>\n",
       "      <td>25.25</td>\n",
       "    </tr>\n",
       "    <tr>\n",
       "      <th>18</th>\n",
       "      <td>Paraíba</td>\n",
       "      <td>1286</td>\n",
       "      <td>1210.00</td>\n",
       "      <td>31.95</td>\n",
       "      <td>30.28</td>\n",
       "    </tr>\n",
       "    <tr>\n",
       "      <th>19</th>\n",
       "      <td>Pernambuco</td>\n",
       "      <td>5427</td>\n",
       "      <td>4170.00</td>\n",
       "      <td>57.29</td>\n",
       "      <td>43.91</td>\n",
       "    </tr>\n",
       "    <tr>\n",
       "      <th>20</th>\n",
       "      <td>Piauí</td>\n",
       "      <td>653</td>\n",
       "      <td>617.00</td>\n",
       "      <td>20.28</td>\n",
       "      <td>18.90</td>\n",
       "    </tr>\n",
       "    <tr>\n",
       "      <th>22</th>\n",
       "      <td>Rio Grande do Norte</td>\n",
       "      <td>2355</td>\n",
       "      <td>1926.00</td>\n",
       "      <td>67.15</td>\n",
       "      <td>55.36</td>\n",
       "    </tr>\n",
       "    <tr>\n",
       "      <th>28</th>\n",
       "      <td>Bahia</td>\n",
       "      <td>6979</td>\n",
       "      <td>6346.00</td>\n",
       "      <td>45.48</td>\n",
       "      <td>42.84</td>\n",
       "    </tr>\n",
       "    <tr>\n",
       "      <th>37</th>\n",
       "      <td>Sergipe</td>\n",
       "      <td>1275</td>\n",
       "      <td>1128.00</td>\n",
       "      <td>55.72</td>\n",
       "      <td>49.51</td>\n",
       "    </tr>\n",
       "  </tbody>\n",
       "</table>\n",
       "</div>"
      ],
      "text/plain": [
       "             Unnamed: 1      Unnamed: 12  Unnamed: 13 Unnamed: 14  Unnamed: 15\n",
       "4                   NaN              NaN          NaN         NaN          NaN\n",
       "6                   NaN  Número Absoluto          NaN    Taxa (3)          NaN\n",
       "7                   NaN         2017 (4)      2018.00        2017      2018.00\n",
       "11              Alagoas             1926      1521.00       57.05        45.77\n",
       "12                Ceará             5329      4788.00       59.08        52.76\n",
       "15             Maranhão             2058      1776.00       29.40        25.25\n",
       "18              Paraíba             1286      1210.00       31.95        30.28\n",
       "19           Pernambuco             5427      4170.00       57.29        43.91\n",
       "20                Piauí              653       617.00       20.28        18.90\n",
       "22  Rio Grande do Norte             2355      1926.00       67.15        55.36\n",
       "28                Bahia             6979      6346.00       45.48        42.84\n",
       "37              Sergipe             1275      1128.00       55.72        49.51"
      ]
     },
     "execution_count": 31,
     "metadata": {},
     "output_type": "execute_result"
    }
   ],
   "source": [
    "homicidios13 = pd.read_excel(\"anuario13.xlsx\", sheet_name=\"T1\")\n",
    "homicidios13 = homicidios13.drop([0, 1, 2, 3, 5, 8, 9, 10, 13, 14, 16, 17, 21, 23, 24, 25, 26, 27, 29, 30, 31, 32, 33, 34, 35, 36, 38, 39, 40, 41, 42, 43, 44, 45, 46, 47, 48, 49, 50, 51, 52, 53])\n",
    "homicidios13 = homicidios13.drop(columns=['TABELA 01', 'Unnamed: 2', 'Unnamed: 3', 'Unnamed: 4', 'Unnamed: 5', 'Unnamed: 6', 'Unnamed: 7', 'Unnamed: 8', 'Unnamed: 9', 'Unnamed: 10', 'Unnamed: 11', '(Voltar ao índice)'])\n",
    "homicidios13['Unnamed: 1'][12] = 'Ceará'\n",
    "homicidios13['Unnamed: 1'][18] = 'Paraíba'\n",
    "homicidios13['Unnamed: 1'][19] = 'Pernambuco'\n",
    "homicidios13['Unnamed: 1'][20] = 'Piauí'\n",
    "homicidios13"
   ]
  },
  {
   "cell_type": "code",
   "execution_count": 32,
   "metadata": {
    "colab": {
     "base_uri": "https://localhost:8080/",
     "height": 363
    },
    "id": "yxh9U8Ti2stS",
    "outputId": "d1553530-d3b1-4f5e-878f-13db1120df90"
   },
   "outputs": [
    {
     "data": {
      "text/html": [
       "<div>\n",
       "<style scoped>\n",
       "    .dataframe tbody tr th:only-of-type {\n",
       "        vertical-align: middle;\n",
       "    }\n",
       "\n",
       "    .dataframe tbody tr th {\n",
       "        vertical-align: top;\n",
       "    }\n",
       "\n",
       "    .dataframe thead th {\n",
       "        text-align: right;\n",
       "    }\n",
       "</style>\n",
       "<table border=\"1\" class=\"dataframe\">\n",
       "  <thead>\n",
       "    <tr style=\"text-align: right;\">\n",
       "      <th></th>\n",
       "      <th>MVI 2017</th>\n",
       "      <th>MVI 2018</th>\n",
       "      <th>Taxa MVI 2017</th>\n",
       "      <th>Taxa MVI 2018</th>\n",
       "    </tr>\n",
       "    <tr>\n",
       "      <th>Unidades da Federação</th>\n",
       "      <th></th>\n",
       "      <th></th>\n",
       "      <th></th>\n",
       "      <th></th>\n",
       "    </tr>\n",
       "  </thead>\n",
       "  <tbody>\n",
       "    <tr>\n",
       "      <th>Alagoas</th>\n",
       "      <td>1926</td>\n",
       "      <td>1521.00</td>\n",
       "      <td>57.05</td>\n",
       "      <td>45.77</td>\n",
       "    </tr>\n",
       "    <tr>\n",
       "      <th>Ceará</th>\n",
       "      <td>5329</td>\n",
       "      <td>4788.00</td>\n",
       "      <td>59.08</td>\n",
       "      <td>52.76</td>\n",
       "    </tr>\n",
       "    <tr>\n",
       "      <th>Maranhão</th>\n",
       "      <td>2058</td>\n",
       "      <td>1776.00</td>\n",
       "      <td>29.40</td>\n",
       "      <td>25.25</td>\n",
       "    </tr>\n",
       "    <tr>\n",
       "      <th>Paraíba</th>\n",
       "      <td>1286</td>\n",
       "      <td>1210.00</td>\n",
       "      <td>31.95</td>\n",
       "      <td>30.28</td>\n",
       "    </tr>\n",
       "    <tr>\n",
       "      <th>Pernambuco</th>\n",
       "      <td>5427</td>\n",
       "      <td>4170.00</td>\n",
       "      <td>57.29</td>\n",
       "      <td>43.91</td>\n",
       "    </tr>\n",
       "    <tr>\n",
       "      <th>Piauí</th>\n",
       "      <td>653</td>\n",
       "      <td>617.00</td>\n",
       "      <td>20.28</td>\n",
       "      <td>18.90</td>\n",
       "    </tr>\n",
       "    <tr>\n",
       "      <th>Rio Grande do Norte</th>\n",
       "      <td>2355</td>\n",
       "      <td>1926.00</td>\n",
       "      <td>67.15</td>\n",
       "      <td>55.36</td>\n",
       "    </tr>\n",
       "    <tr>\n",
       "      <th>Bahia</th>\n",
       "      <td>6979</td>\n",
       "      <td>6346.00</td>\n",
       "      <td>45.48</td>\n",
       "      <td>42.84</td>\n",
       "    </tr>\n",
       "    <tr>\n",
       "      <th>Sergipe</th>\n",
       "      <td>1275</td>\n",
       "      <td>1128.00</td>\n",
       "      <td>55.72</td>\n",
       "      <td>49.51</td>\n",
       "    </tr>\n",
       "  </tbody>\n",
       "</table>\n",
       "</div>"
      ],
      "text/plain": [
       "                      MVI 2017  MVI 2018 Taxa MVI 2017  Taxa MVI 2018\n",
       "Unidades da Federação                                                \n",
       "Alagoas                   1926   1521.00         57.05          45.77\n",
       "Ceará                     5329   4788.00         59.08          52.76\n",
       "Maranhão                  2058   1776.00         29.40          25.25\n",
       "Paraíba                   1286   1210.00         31.95          30.28\n",
       "Pernambuco                5427   4170.00         57.29          43.91\n",
       "Piauí                      653    617.00         20.28          18.90\n",
       "Rio Grande do Norte       2355   1926.00         67.15          55.36\n",
       "Bahia                     6979   6346.00         45.48          42.84\n",
       "Sergipe                   1275   1128.00         55.72          49.51"
      ]
     },
     "execution_count": 32,
     "metadata": {},
     "output_type": "execute_result"
    }
   ],
   "source": [
    "homicidios13 = homicidios13.rename({'Unnamed: 1':'Unidades da Federação', 'Unnamed: 12':'MVI 2017', 'Unnamed: 13':'MVI 2018', 'Unnamed: 14':'Taxa MVI 2017', 'Unnamed: 15':'Taxa MVI 2018'}, axis='columns')\n",
    "homicidios13 = homicidios13.drop([4, 6, 7])\n",
    "homicidios13 = homicidios13.set_index('Unidades da Federação')\n",
    "homicidios13"
   ]
  },
  {
   "cell_type": "code",
   "execution_count": 33,
   "metadata": {
    "colab": {
     "base_uri": "https://localhost:8080/"
    },
    "id": "FE0yf15-56vM",
    "outputId": "e283c381-1fa7-4c93-d02b-98c623ee8b90"
   },
   "outputs": [
    {
     "name": "stdout",
     "output_type": "stream",
     "text": [
      "<class 'pandas.core.frame.DataFrame'>\n",
      "Index: 9 entries, Alagoas to Sergipe\n",
      "Data columns (total 4 columns):\n",
      " #   Column         Non-Null Count  Dtype  \n",
      "---  ------         --------------  -----  \n",
      " 0   MVI 2017       9 non-null      object \n",
      " 1   MVI 2018       9 non-null      float64\n",
      " 2   Taxa MVI 2017  9 non-null      object \n",
      " 3   Taxa MVI 2018  9 non-null      float64\n",
      "dtypes: float64(2), object(2)\n",
      "memory usage: 360.0+ bytes\n"
     ]
    }
   ],
   "source": [
    "homicidios13.info()"
   ]
  },
  {
   "cell_type": "code",
   "execution_count": 34,
   "metadata": {
    "colab": {
     "base_uri": "https://localhost:8080/"
    },
    "id": "AR_cEhet6Pnr",
    "outputId": "fb704ecc-d8f4-4073-f6db-f6ca5016eeb4"
   },
   "outputs": [
    {
     "name": "stdout",
     "output_type": "stream",
     "text": [
      "<class 'pandas.core.frame.DataFrame'>\n",
      "Index: 9 entries, Alagoas to Sergipe\n",
      "Data columns (total 4 columns):\n",
      " #   Column         Non-Null Count  Dtype  \n",
      "---  ------         --------------  -----  \n",
      " 0   MVI 2017       9 non-null      int64  \n",
      " 1   MVI 2018       9 non-null      int64  \n",
      " 2   Taxa MVI 2017  9 non-null      float64\n",
      " 3   Taxa MVI 2018  9 non-null      float64\n",
      "dtypes: float64(2), int64(2)\n",
      "memory usage: 360.0+ bytes\n"
     ]
    }
   ],
   "source": [
    "homicidios13['MVI 2017'] = homicidios13['MVI 2017'].astype('int64')\n",
    "homicidios13['MVI 2018'] = homicidios13['MVI 2018'].astype('int64')\n",
    "homicidios13['Taxa MVI 2017'] = homicidios13['Taxa MVI 2017'].astype('float64')\n",
    "homicidios13.info()"
   ]
  },
  {
   "cell_type": "code",
   "execution_count": 35,
   "metadata": {
    "colab": {
     "base_uri": "https://localhost:8080/",
     "height": 1000
    },
    "id": "Ajg6x64084fS",
    "outputId": "1abe74a6-1b9e-4f43-83bb-64c3768da97e"
   },
   "outputs": [
    {
     "name": "stderr",
     "output_type": "stream",
     "text": [
      "/var/folders/tj/9r2c9_p565b2cnshcs57f3jc0000gn/T/ipykernel_43184/1466721892.py:4: SettingWithCopyWarning: \n",
      "A value is trying to be set on a copy of a slice from a DataFrame\n",
      "\n",
      "See the caveats in the documentation: https://pandas.pydata.org/pandas-docs/stable/user_guide/indexing.html#returning-a-view-versus-a-copy\n",
      "  homicidios15['Unnamed: 1'][11] = 'Alagoas'\n",
      "/var/folders/tj/9r2c9_p565b2cnshcs57f3jc0000gn/T/ipykernel_43184/1466721892.py:5: SettingWithCopyWarning: \n",
      "A value is trying to be set on a copy of a slice from a DataFrame\n",
      "\n",
      "See the caveats in the documentation: https://pandas.pydata.org/pandas-docs/stable/user_guide/indexing.html#returning-a-view-versus-a-copy\n",
      "  homicidios15['Unnamed: 1'][19] = 'Paraíba'\n",
      "/var/folders/tj/9r2c9_p565b2cnshcs57f3jc0000gn/T/ipykernel_43184/1466721892.py:6: SettingWithCopyWarning: \n",
      "A value is trying to be set on a copy of a slice from a DataFrame\n",
      "\n",
      "See the caveats in the documentation: https://pandas.pydata.org/pandas-docs/stable/user_guide/indexing.html#returning-a-view-versus-a-copy\n",
      "  homicidios15['Unnamed: 1'][21] = 'Pernambuco'\n",
      "/var/folders/tj/9r2c9_p565b2cnshcs57f3jc0000gn/T/ipykernel_43184/1466721892.py:7: SettingWithCopyWarning: \n",
      "A value is trying to be set on a copy of a slice from a DataFrame\n",
      "\n",
      "See the caveats in the documentation: https://pandas.pydata.org/pandas-docs/stable/user_guide/indexing.html#returning-a-view-versus-a-copy\n",
      "  homicidios15['Unnamed: 1'][22] = 'Piauí'\n",
      "/var/folders/tj/9r2c9_p565b2cnshcs57f3jc0000gn/T/ipykernel_43184/1466721892.py:8: SettingWithCopyWarning: \n",
      "A value is trying to be set on a copy of a slice from a DataFrame\n",
      "\n",
      "See the caveats in the documentation: https://pandas.pydata.org/pandas-docs/stable/user_guide/indexing.html#returning-a-view-versus-a-copy\n",
      "  homicidios15['Unnamed: 1'][30] = 'Rio Grande do Norte'\n"
     ]
    },
    {
     "data": {
      "text/html": [
       "<div>\n",
       "<style scoped>\n",
       "    .dataframe tbody tr th:only-of-type {\n",
       "        vertical-align: middle;\n",
       "    }\n",
       "\n",
       "    .dataframe tbody tr th {\n",
       "        vertical-align: top;\n",
       "    }\n",
       "\n",
       "    .dataframe thead th {\n",
       "        text-align: right;\n",
       "    }\n",
       "</style>\n",
       "<table border=\"1\" class=\"dataframe\">\n",
       "  <thead>\n",
       "    <tr style=\"text-align: right;\">\n",
       "      <th></th>\n",
       "      <th>Unnamed: 1</th>\n",
       "      <th>Unnamed: 12</th>\n",
       "      <th>Unnamed: 13</th>\n",
       "      <th>Unnamed: 14</th>\n",
       "      <th>Unnamed: 15</th>\n",
       "    </tr>\n",
       "  </thead>\n",
       "  <tbody>\n",
       "    <tr>\n",
       "      <th>3</th>\n",
       "      <td>Brasil e Unidades da Federação</td>\n",
       "      <td>Mortes Violentas Intencionais - MVI</td>\n",
       "      <td>NaN</td>\n",
       "      <td>NaN</td>\n",
       "      <td>NaN</td>\n",
       "    </tr>\n",
       "    <tr>\n",
       "      <th>4</th>\n",
       "      <td>NaN</td>\n",
       "      <td>NaN</td>\n",
       "      <td>NaN</td>\n",
       "      <td>NaN</td>\n",
       "      <td>NaN</td>\n",
       "    </tr>\n",
       "    <tr>\n",
       "      <th>6</th>\n",
       "      <td>NaN</td>\n",
       "      <td>Número Absoluto</td>\n",
       "      <td>NaN</td>\n",
       "      <td>Taxa (3)</td>\n",
       "      <td>NaN</td>\n",
       "    </tr>\n",
       "    <tr>\n",
       "      <th>7</th>\n",
       "      <td>NaN</td>\n",
       "      <td>2019 (4)</td>\n",
       "      <td>2020.00</td>\n",
       "      <td>2019</td>\n",
       "      <td>2020.00</td>\n",
       "    </tr>\n",
       "    <tr>\n",
       "      <th>11</th>\n",
       "      <td>Alagoas</td>\n",
       "      <td>1095</td>\n",
       "      <td>1251.00</td>\n",
       "      <td>32.81</td>\n",
       "      <td>37.33</td>\n",
       "    </tr>\n",
       "    <tr>\n",
       "      <th>12</th>\n",
       "      <td>Ceará</td>\n",
       "      <td>2359</td>\n",
       "      <td>4155.00</td>\n",
       "      <td>25.83</td>\n",
       "      <td>45.23</td>\n",
       "    </tr>\n",
       "    <tr>\n",
       "      <th>16</th>\n",
       "      <td>Maranhão</td>\n",
       "      <td>1562</td>\n",
       "      <td>2045.00</td>\n",
       "      <td>22.08</td>\n",
       "      <td>28.74</td>\n",
       "    </tr>\n",
       "    <tr>\n",
       "      <th>19</th>\n",
       "      <td>Paraíba</td>\n",
       "      <td>942</td>\n",
       "      <td>1166.00</td>\n",
       "      <td>23.44</td>\n",
       "      <td>28.87</td>\n",
       "    </tr>\n",
       "    <tr>\n",
       "      <th>21</th>\n",
       "      <td>Pernambuco</td>\n",
       "      <td>3412</td>\n",
       "      <td>3681.00</td>\n",
       "      <td>35.70</td>\n",
       "      <td>38.28</td>\n",
       "    </tr>\n",
       "    <tr>\n",
       "      <th>22</th>\n",
       "      <td>Piauí</td>\n",
       "      <td>587</td>\n",
       "      <td>707.00</td>\n",
       "      <td>17.93</td>\n",
       "      <td>21.55</td>\n",
       "    </tr>\n",
       "    <tr>\n",
       "      <th>24</th>\n",
       "      <td>Sergipe</td>\n",
       "      <td>967</td>\n",
       "      <td>987.00</td>\n",
       "      <td>42.07</td>\n",
       "      <td>42.56</td>\n",
       "    </tr>\n",
       "    <tr>\n",
       "      <th>26</th>\n",
       "      <td>Bahia</td>\n",
       "      <td>6002</td>\n",
       "      <td>6703.00</td>\n",
       "      <td>40.35</td>\n",
       "      <td>44.89</td>\n",
       "    </tr>\n",
       "    <tr>\n",
       "      <th>30</th>\n",
       "      <td>Rio Grande do Norte</td>\n",
       "      <td>1264</td>\n",
       "      <td>1344.00</td>\n",
       "      <td>36.04</td>\n",
       "      <td>38.03</td>\n",
       "    </tr>\n",
       "  </tbody>\n",
       "</table>\n",
       "</div>"
      ],
      "text/plain": [
       "                        Unnamed: 1                           Unnamed: 12  \\\n",
       "3   Brasil e Unidades da Federação  Mortes Violentas Intencionais - MVI    \n",
       "4                              NaN                                   NaN   \n",
       "6                              NaN                       Número Absoluto   \n",
       "7                              NaN                              2019 (4)   \n",
       "11                         Alagoas                                  1095   \n",
       "12                           Ceará                                  2359   \n",
       "16                        Maranhão                                  1562   \n",
       "19                         Paraíba                                   942   \n",
       "21                      Pernambuco                                  3412   \n",
       "22                           Piauí                                   587   \n",
       "24                         Sergipe                                   967   \n",
       "26                           Bahia                                  6002   \n",
       "30             Rio Grande do Norte                                  1264   \n",
       "\n",
       "    Unnamed: 13 Unnamed: 14  Unnamed: 15  \n",
       "3           NaN         NaN          NaN  \n",
       "4           NaN         NaN          NaN  \n",
       "6           NaN    Taxa (3)          NaN  \n",
       "7       2020.00        2019      2020.00  \n",
       "11      1251.00       32.81        37.33  \n",
       "12      4155.00       25.83        45.23  \n",
       "16      2045.00       22.08        28.74  \n",
       "19      1166.00       23.44        28.87  \n",
       "21      3681.00       35.70        38.28  \n",
       "22       707.00       17.93        21.55  \n",
       "24       987.00       42.07        42.56  \n",
       "26      6703.00       40.35        44.89  \n",
       "30      1344.00       36.04        38.03  "
      ]
     },
     "execution_count": 35,
     "metadata": {},
     "output_type": "execute_result"
    }
   ],
   "source": [
    "homicidios15 = pd.read_excel(\"anuario15.xlsx\", sheet_name=\"T02\")\n",
    "homicidios15 = homicidios15.drop([0, 1, 2, 5, 8, 9, 10, 13, 14, 15, 17, 18, 20, 23, 25, 27, 28, 29, 31, 32, 33, 34, 35, 36, 37, 38, 39, 40, 41, 42, 43, 44, 45, 46, 47, 48, 49, 50, 51, 52, 53])\n",
    "homicidios15 = homicidios15.drop(columns=['TABELA 02', 'Unnamed: 2', 'Unnamed: 3', 'Unnamed: 4', 'Unnamed: 5', 'Unnamed: 6', 'Unnamed: 7', 'Unnamed: 8', 'Unnamed: 9', 'Unnamed: 10', 'Unnamed: 11', '(Voltar ao índice)'])\n",
    "homicidios15['Unnamed: 1'][11] = 'Alagoas'\n",
    "homicidios15['Unnamed: 1'][19] = 'Paraíba'\n",
    "homicidios15['Unnamed: 1'][21] = 'Pernambuco'\n",
    "homicidios15['Unnamed: 1'][22] = 'Piauí'\n",
    "homicidios15['Unnamed: 1'][30] = 'Rio Grande do Norte'\n",
    "homicidios15"
   ]
  },
  {
   "cell_type": "code",
   "execution_count": 36,
   "metadata": {
    "colab": {
     "base_uri": "https://localhost:8080/",
     "height": 363
    },
    "id": "rsdArzBwCqzW",
    "outputId": "85f31abb-2643-4032-b83b-09964a630b52"
   },
   "outputs": [
    {
     "data": {
      "text/html": [
       "<div>\n",
       "<style scoped>\n",
       "    .dataframe tbody tr th:only-of-type {\n",
       "        vertical-align: middle;\n",
       "    }\n",
       "\n",
       "    .dataframe tbody tr th {\n",
       "        vertical-align: top;\n",
       "    }\n",
       "\n",
       "    .dataframe thead th {\n",
       "        text-align: right;\n",
       "    }\n",
       "</style>\n",
       "<table border=\"1\" class=\"dataframe\">\n",
       "  <thead>\n",
       "    <tr style=\"text-align: right;\">\n",
       "      <th></th>\n",
       "      <th>MVI 2019</th>\n",
       "      <th>MVI 2020</th>\n",
       "      <th>Taxa MVI 2019</th>\n",
       "      <th>Taxa MVI 2020</th>\n",
       "    </tr>\n",
       "    <tr>\n",
       "      <th>Unidades da Federação</th>\n",
       "      <th></th>\n",
       "      <th></th>\n",
       "      <th></th>\n",
       "      <th></th>\n",
       "    </tr>\n",
       "  </thead>\n",
       "  <tbody>\n",
       "    <tr>\n",
       "      <th>Alagoas</th>\n",
       "      <td>1095</td>\n",
       "      <td>1251.00</td>\n",
       "      <td>32.81</td>\n",
       "      <td>37.33</td>\n",
       "    </tr>\n",
       "    <tr>\n",
       "      <th>Ceará</th>\n",
       "      <td>2359</td>\n",
       "      <td>4155.00</td>\n",
       "      <td>25.83</td>\n",
       "      <td>45.23</td>\n",
       "    </tr>\n",
       "    <tr>\n",
       "      <th>Maranhão</th>\n",
       "      <td>1562</td>\n",
       "      <td>2045.00</td>\n",
       "      <td>22.08</td>\n",
       "      <td>28.74</td>\n",
       "    </tr>\n",
       "    <tr>\n",
       "      <th>Paraíba</th>\n",
       "      <td>942</td>\n",
       "      <td>1166.00</td>\n",
       "      <td>23.44</td>\n",
       "      <td>28.87</td>\n",
       "    </tr>\n",
       "    <tr>\n",
       "      <th>Pernambuco</th>\n",
       "      <td>3412</td>\n",
       "      <td>3681.00</td>\n",
       "      <td>35.70</td>\n",
       "      <td>38.28</td>\n",
       "    </tr>\n",
       "    <tr>\n",
       "      <th>Piauí</th>\n",
       "      <td>587</td>\n",
       "      <td>707.00</td>\n",
       "      <td>17.93</td>\n",
       "      <td>21.55</td>\n",
       "    </tr>\n",
       "    <tr>\n",
       "      <th>Sergipe</th>\n",
       "      <td>967</td>\n",
       "      <td>987.00</td>\n",
       "      <td>42.07</td>\n",
       "      <td>42.56</td>\n",
       "    </tr>\n",
       "    <tr>\n",
       "      <th>Bahia</th>\n",
       "      <td>6002</td>\n",
       "      <td>6703.00</td>\n",
       "      <td>40.35</td>\n",
       "      <td>44.89</td>\n",
       "    </tr>\n",
       "    <tr>\n",
       "      <th>Rio Grande do Norte</th>\n",
       "      <td>1264</td>\n",
       "      <td>1344.00</td>\n",
       "      <td>36.04</td>\n",
       "      <td>38.03</td>\n",
       "    </tr>\n",
       "  </tbody>\n",
       "</table>\n",
       "</div>"
      ],
      "text/plain": [
       "                      MVI 2019  MVI 2020 Taxa MVI 2019  Taxa MVI 2020\n",
       "Unidades da Federação                                                \n",
       "Alagoas                   1095   1251.00         32.81          37.33\n",
       "Ceará                     2359   4155.00         25.83          45.23\n",
       "Maranhão                  1562   2045.00         22.08          28.74\n",
       "Paraíba                    942   1166.00         23.44          28.87\n",
       "Pernambuco                3412   3681.00         35.70          38.28\n",
       "Piauí                      587    707.00         17.93          21.55\n",
       "Sergipe                    967    987.00         42.07          42.56\n",
       "Bahia                     6002   6703.00         40.35          44.89\n",
       "Rio Grande do Norte       1264   1344.00         36.04          38.03"
      ]
     },
     "execution_count": 36,
     "metadata": {},
     "output_type": "execute_result"
    }
   ],
   "source": [
    "homicidios15 = homicidios15.rename({'Unnamed: 1':'Unidades da Federação', 'Unnamed: 12':'MVI 2019', 'Unnamed: 13':'MVI 2020', 'Unnamed: 14':'Taxa MVI 2019', 'Unnamed: 15':'Taxa MVI 2020'}, axis='columns')\n",
    "homicidios15 = homicidios15.drop([3, 4, 6, 7])\n",
    "homicidios15 = homicidios15.set_index('Unidades da Federação')\n",
    "homicidios15"
   ]
  },
  {
   "cell_type": "code",
   "execution_count": 37,
   "metadata": {
    "colab": {
     "base_uri": "https://localhost:8080/"
    },
    "id": "DkxsBzoeDITW",
    "outputId": "39afdca2-be6e-4848-ca40-7af69d729c92"
   },
   "outputs": [
    {
     "name": "stdout",
     "output_type": "stream",
     "text": [
      "<class 'pandas.core.frame.DataFrame'>\n",
      "Index: 9 entries, Alagoas to Rio Grande do Norte\n",
      "Data columns (total 4 columns):\n",
      " #   Column         Non-Null Count  Dtype  \n",
      "---  ------         --------------  -----  \n",
      " 0   MVI 2019       9 non-null      object \n",
      " 1   MVI 2020       9 non-null      float64\n",
      " 2   Taxa MVI 2019  9 non-null      object \n",
      " 3   Taxa MVI 2020  9 non-null      float64\n",
      "dtypes: float64(2), object(2)\n",
      "memory usage: 360.0+ bytes\n"
     ]
    }
   ],
   "source": [
    "homicidios15.info()"
   ]
  },
  {
   "cell_type": "code",
   "execution_count": 38,
   "metadata": {
    "colab": {
     "base_uri": "https://localhost:8080/"
    },
    "id": "gLwhzdT0DSQx",
    "outputId": "57bb09b8-32b3-4455-a756-23531b49d465"
   },
   "outputs": [
    {
     "name": "stdout",
     "output_type": "stream",
     "text": [
      "<class 'pandas.core.frame.DataFrame'>\n",
      "Index: 9 entries, Alagoas to Rio Grande do Norte\n",
      "Data columns (total 4 columns):\n",
      " #   Column         Non-Null Count  Dtype  \n",
      "---  ------         --------------  -----  \n",
      " 0   MVI 2019       9 non-null      int64  \n",
      " 1   MVI 2020       9 non-null      int64  \n",
      " 2   Taxa MVI 2019  9 non-null      float64\n",
      " 3   Taxa MVI 2020  9 non-null      float64\n",
      "dtypes: float64(2), int64(2)\n",
      "memory usage: 360.0+ bytes\n"
     ]
    }
   ],
   "source": [
    "homicidios15['MVI 2019'] = homicidios15['MVI 2019'].astype('int64')\n",
    "homicidios15['MVI 2020'] = homicidios15['MVI 2020'].astype('int64')\n",
    "homicidios15['Taxa MVI 2019'] = homicidios15['Taxa MVI 2019'].astype('float64')\n",
    "homicidios15.info()"
   ]
  },
  {
   "cell_type": "code",
   "execution_count": 39,
   "metadata": {
    "colab": {
     "base_uri": "https://localhost:8080/",
     "height": 1000
    },
    "id": "xAZOsE2BDkHI",
    "outputId": "8012ee7d-c09e-4fef-9a75-a495ac7268a8"
   },
   "outputs": [
    {
     "name": "stderr",
     "output_type": "stream",
     "text": [
      "/var/folders/tj/9r2c9_p565b2cnshcs57f3jc0000gn/T/ipykernel_43184/4242204826.py:4: SettingWithCopyWarning: \n",
      "A value is trying to be set on a copy of a slice from a DataFrame\n",
      "\n",
      "See the caveats in the documentation: https://pandas.pydata.org/pandas-docs/stable/user_guide/indexing.html#returning-a-view-versus-a-copy\n",
      "  homicidios16['Unnamed: 1'][22] = 'Piauí'\n",
      "/var/folders/tj/9r2c9_p565b2cnshcs57f3jc0000gn/T/ipykernel_43184/4242204826.py:5: SettingWithCopyWarning: \n",
      "A value is trying to be set on a copy of a slice from a DataFrame\n",
      "\n",
      "See the caveats in the documentation: https://pandas.pydata.org/pandas-docs/stable/user_guide/indexing.html#returning-a-view-versus-a-copy\n",
      "  homicidios16['Unnamed: 1'][11] = 'Alagoas'\n",
      "/var/folders/tj/9r2c9_p565b2cnshcs57f3jc0000gn/T/ipykernel_43184/4242204826.py:6: SettingWithCopyWarning: \n",
      "A value is trying to be set on a copy of a slice from a DataFrame\n",
      "\n",
      "See the caveats in the documentation: https://pandas.pydata.org/pandas-docs/stable/user_guide/indexing.html#returning-a-view-versus-a-copy\n",
      "  homicidios16['Unnamed: 1'][19] = 'Paraíba'\n",
      "/var/folders/tj/9r2c9_p565b2cnshcs57f3jc0000gn/T/ipykernel_43184/4242204826.py:7: SettingWithCopyWarning: \n",
      "A value is trying to be set on a copy of a slice from a DataFrame\n",
      "\n",
      "See the caveats in the documentation: https://pandas.pydata.org/pandas-docs/stable/user_guide/indexing.html#returning-a-view-versus-a-copy\n",
      "  homicidios16['Unnamed: 1'][21] = 'Pernambuco'\n",
      "/var/folders/tj/9r2c9_p565b2cnshcs57f3jc0000gn/T/ipykernel_43184/4242204826.py:8: SettingWithCopyWarning: \n",
      "A value is trying to be set on a copy of a slice from a DataFrame\n",
      "\n",
      "See the caveats in the documentation: https://pandas.pydata.org/pandas-docs/stable/user_guide/indexing.html#returning-a-view-versus-a-copy\n",
      "  homicidios16['Unnamed: 1'][30] = 'Rio Grande do Norte'\n"
     ]
    },
    {
     "data": {
      "text/html": [
       "<div>\n",
       "<style scoped>\n",
       "    .dataframe tbody tr th:only-of-type {\n",
       "        vertical-align: middle;\n",
       "    }\n",
       "\n",
       "    .dataframe tbody tr th {\n",
       "        vertical-align: top;\n",
       "    }\n",
       "\n",
       "    .dataframe thead th {\n",
       "        text-align: right;\n",
       "    }\n",
       "</style>\n",
       "<table border=\"1\" class=\"dataframe\">\n",
       "  <thead>\n",
       "    <tr style=\"text-align: right;\">\n",
       "      <th></th>\n",
       "      <th>Unnamed: 1</th>\n",
       "      <th>Unnamed: 13</th>\n",
       "      <th>Unnamed: 15</th>\n",
       "    </tr>\n",
       "  </thead>\n",
       "  <tbody>\n",
       "    <tr>\n",
       "      <th>6</th>\n",
       "      <td>NaN</td>\n",
       "      <td>NaN</td>\n",
       "      <td>NaN</td>\n",
       "    </tr>\n",
       "    <tr>\n",
       "      <th>7</th>\n",
       "      <td>NaN</td>\n",
       "      <td>2021.00</td>\n",
       "      <td>2021.00</td>\n",
       "    </tr>\n",
       "    <tr>\n",
       "      <th>11</th>\n",
       "      <td>Alagoas</td>\n",
       "      <td>1069.00</td>\n",
       "      <td>31.76</td>\n",
       "    </tr>\n",
       "    <tr>\n",
       "      <th>12</th>\n",
       "      <td>Ceará</td>\n",
       "      <td>3418.00</td>\n",
       "      <td>36.99</td>\n",
       "    </tr>\n",
       "    <tr>\n",
       "      <th>16</th>\n",
       "      <td>Maranhão</td>\n",
       "      <td>2021.00</td>\n",
       "      <td>28.25</td>\n",
       "    </tr>\n",
       "    <tr>\n",
       "      <th>19</th>\n",
       "      <td>Paraíba</td>\n",
       "      <td>1161.00</td>\n",
       "      <td>28.60</td>\n",
       "    </tr>\n",
       "    <tr>\n",
       "      <th>21</th>\n",
       "      <td>Pernambuco</td>\n",
       "      <td>3368.00</td>\n",
       "      <td>34.81</td>\n",
       "    </tr>\n",
       "    <tr>\n",
       "      <th>22</th>\n",
       "      <td>Piauí</td>\n",
       "      <td>782.00</td>\n",
       "      <td>23.77</td>\n",
       "    </tr>\n",
       "    <tr>\n",
       "      <th>24</th>\n",
       "      <td>Sergipe</td>\n",
       "      <td>792.00</td>\n",
       "      <td>33.87</td>\n",
       "    </tr>\n",
       "    <tr>\n",
       "      <th>26</th>\n",
       "      <td>Bahia</td>\n",
       "      <td>6734.00</td>\n",
       "      <td>44.94</td>\n",
       "    </tr>\n",
       "    <tr>\n",
       "      <th>30</th>\n",
       "      <td>Rio Grande do Norte</td>\n",
       "      <td>1155.00</td>\n",
       "      <td>32.44</td>\n",
       "    </tr>\n",
       "  </tbody>\n",
       "</table>\n",
       "</div>"
      ],
      "text/plain": [
       "             Unnamed: 1  Unnamed: 13  Unnamed: 15\n",
       "6                   NaN          NaN          NaN\n",
       "7                   NaN      2021.00      2021.00\n",
       "11              Alagoas      1069.00        31.76\n",
       "12                Ceará      3418.00        36.99\n",
       "16             Maranhão      2021.00        28.25\n",
       "19              Paraíba      1161.00        28.60\n",
       "21           Pernambuco      3368.00        34.81\n",
       "22                Piauí       782.00        23.77\n",
       "24              Sergipe       792.00        33.87\n",
       "26                Bahia      6734.00        44.94\n",
       "30  Rio Grande do Norte      1155.00        32.44"
      ]
     },
     "execution_count": 39,
     "metadata": {},
     "output_type": "execute_result"
    }
   ],
   "source": [
    "homicidios16 = pd.read_excel(\"anuario16.xlsx\", sheet_name=\"T02\")\n",
    "homicidios16 = homicidios16.drop([0, 1, 2, 3, 4, 5, 8, 9, 10, 13, 14, 15, 17, 18, 20, 23, 25, 27, 28, 29, 31, 32, 33, 34, 35, 36, 37, 38, 39, 40, 41, 42, 43, 44, 45, 46, 47, 48, 49, 50, 51, 52, 53])\n",
    "homicidios16 = homicidios16.drop(columns=['TABELA 02', 'Unnamed: 2', 'Unnamed: 3', 'Unnamed: 4', 'Unnamed: 5', 'Unnamed: 6', 'Unnamed: 7', 'Unnamed: 8', 'Unnamed: 9', 'Unnamed: 10', 'Unnamed: 11', 'Unnamed: 12', 'Unnamed: 14', '(Voltar ao índice)'])\n",
    "homicidios16['Unnamed: 1'][22] = 'Piauí'\n",
    "homicidios16['Unnamed: 1'][11] = 'Alagoas'\n",
    "homicidios16['Unnamed: 1'][19] = 'Paraíba'\n",
    "homicidios16['Unnamed: 1'][21] = 'Pernambuco'\n",
    "homicidios16['Unnamed: 1'][30] = 'Rio Grande do Norte'\n",
    "homicidios16"
   ]
  },
  {
   "cell_type": "code",
   "execution_count": 40,
   "metadata": {
    "colab": {
     "base_uri": "https://localhost:8080/",
     "height": 363
    },
    "id": "XxryxCItFVcO",
    "outputId": "120b2a2a-42aa-4a5b-ffe5-32427189db6c"
   },
   "outputs": [
    {
     "data": {
      "text/html": [
       "<div>\n",
       "<style scoped>\n",
       "    .dataframe tbody tr th:only-of-type {\n",
       "        vertical-align: middle;\n",
       "    }\n",
       "\n",
       "    .dataframe tbody tr th {\n",
       "        vertical-align: top;\n",
       "    }\n",
       "\n",
       "    .dataframe thead th {\n",
       "        text-align: right;\n",
       "    }\n",
       "</style>\n",
       "<table border=\"1\" class=\"dataframe\">\n",
       "  <thead>\n",
       "    <tr style=\"text-align: right;\">\n",
       "      <th></th>\n",
       "      <th>MVI 2021</th>\n",
       "      <th>Taxa MVI 2021</th>\n",
       "    </tr>\n",
       "    <tr>\n",
       "      <th>Unidades da Federação</th>\n",
       "      <th></th>\n",
       "      <th></th>\n",
       "    </tr>\n",
       "  </thead>\n",
       "  <tbody>\n",
       "    <tr>\n",
       "      <th>Alagoas</th>\n",
       "      <td>1069.00</td>\n",
       "      <td>31.76</td>\n",
       "    </tr>\n",
       "    <tr>\n",
       "      <th>Ceará</th>\n",
       "      <td>3418.00</td>\n",
       "      <td>36.99</td>\n",
       "    </tr>\n",
       "    <tr>\n",
       "      <th>Maranhão</th>\n",
       "      <td>2021.00</td>\n",
       "      <td>28.25</td>\n",
       "    </tr>\n",
       "    <tr>\n",
       "      <th>Paraíba</th>\n",
       "      <td>1161.00</td>\n",
       "      <td>28.60</td>\n",
       "    </tr>\n",
       "    <tr>\n",
       "      <th>Pernambuco</th>\n",
       "      <td>3368.00</td>\n",
       "      <td>34.81</td>\n",
       "    </tr>\n",
       "    <tr>\n",
       "      <th>Piauí</th>\n",
       "      <td>782.00</td>\n",
       "      <td>23.77</td>\n",
       "    </tr>\n",
       "    <tr>\n",
       "      <th>Sergipe</th>\n",
       "      <td>792.00</td>\n",
       "      <td>33.87</td>\n",
       "    </tr>\n",
       "    <tr>\n",
       "      <th>Bahia</th>\n",
       "      <td>6734.00</td>\n",
       "      <td>44.94</td>\n",
       "    </tr>\n",
       "    <tr>\n",
       "      <th>Rio Grande do Norte</th>\n",
       "      <td>1155.00</td>\n",
       "      <td>32.44</td>\n",
       "    </tr>\n",
       "  </tbody>\n",
       "</table>\n",
       "</div>"
      ],
      "text/plain": [
       "                       MVI 2021  Taxa MVI 2021\n",
       "Unidades da Federação                         \n",
       "Alagoas                 1069.00          31.76\n",
       "Ceará                   3418.00          36.99\n",
       "Maranhão                2021.00          28.25\n",
       "Paraíba                 1161.00          28.60\n",
       "Pernambuco              3368.00          34.81\n",
       "Piauí                    782.00          23.77\n",
       "Sergipe                  792.00          33.87\n",
       "Bahia                   6734.00          44.94\n",
       "Rio Grande do Norte     1155.00          32.44"
      ]
     },
     "execution_count": 40,
     "metadata": {},
     "output_type": "execute_result"
    }
   ],
   "source": [
    "homicidios16 = homicidios16.rename({'Unnamed: 1':'Unidades da Federação', 'Unnamed: 13':'MVI 2021', 'Unnamed: 15':'Taxa MVI 2021'}, axis='columns')\n",
    "homicidios16 = homicidios16.drop([6, 7])\n",
    "homicidios16 = homicidios16.set_index('Unidades da Federação')\n",
    "homicidios16"
   ]
  },
  {
   "cell_type": "code",
   "execution_count": 41,
   "metadata": {
    "colab": {
     "base_uri": "https://localhost:8080/"
    },
    "id": "IzwHaGFcF1R6",
    "outputId": "470f15fb-0409-443d-b969-fd808a39a8c2"
   },
   "outputs": [
    {
     "name": "stdout",
     "output_type": "stream",
     "text": [
      "<class 'pandas.core.frame.DataFrame'>\n",
      "Index: 9 entries, Alagoas to Rio Grande do Norte\n",
      "Data columns (total 2 columns):\n",
      " #   Column         Non-Null Count  Dtype  \n",
      "---  ------         --------------  -----  \n",
      " 0   MVI 2021       9 non-null      float64\n",
      " 1   Taxa MVI 2021  9 non-null      float64\n",
      "dtypes: float64(2)\n",
      "memory usage: 216.0+ bytes\n"
     ]
    }
   ],
   "source": [
    "homicidios16.info()"
   ]
  },
  {
   "cell_type": "code",
   "execution_count": 42,
   "metadata": {
    "colab": {
     "base_uri": "https://localhost:8080/"
    },
    "id": "UXL7tr_8F6Gm",
    "outputId": "c9ab3372-dd20-46c5-cfd0-505559809ca6"
   },
   "outputs": [
    {
     "name": "stdout",
     "output_type": "stream",
     "text": [
      "<class 'pandas.core.frame.DataFrame'>\n",
      "Index: 9 entries, Alagoas to Rio Grande do Norte\n",
      "Data columns (total 2 columns):\n",
      " #   Column         Non-Null Count  Dtype  \n",
      "---  ------         --------------  -----  \n",
      " 0   MVI 2021       9 non-null      int64  \n",
      " 1   Taxa MVI 2021  9 non-null      float64\n",
      "dtypes: float64(1), int64(1)\n",
      "memory usage: 216.0+ bytes\n"
     ]
    }
   ],
   "source": [
    "homicidios16['MVI 2021'] = homicidios16['MVI 2021'].astype('int64')\n",
    "homicidios16.info()"
   ]
  },
  {
   "cell_type": "code",
   "execution_count": 43,
   "metadata": {
    "colab": {
     "base_uri": "https://localhost:8080/",
     "height": 363
    },
    "id": "M_SvgZNVJsQ-",
    "outputId": "5c9eb554-178e-4149-84e6-09e44966a56c"
   },
   "outputs": [
    {
     "data": {
      "text/html": [
       "<div>\n",
       "<style scoped>\n",
       "    .dataframe tbody tr th:only-of-type {\n",
       "        vertical-align: middle;\n",
       "    }\n",
       "\n",
       "    .dataframe tbody tr th {\n",
       "        vertical-align: top;\n",
       "    }\n",
       "\n",
       "    .dataframe thead th {\n",
       "        text-align: right;\n",
       "    }\n",
       "</style>\n",
       "<table border=\"1\" class=\"dataframe\">\n",
       "  <thead>\n",
       "    <tr style=\"text-align: right;\">\n",
       "      <th></th>\n",
       "      <th>MVI 2017</th>\n",
       "      <th>MVI 2018</th>\n",
       "      <th>Taxa MVI 2017</th>\n",
       "      <th>Taxa MVI 2018</th>\n",
       "      <th>MVI 2019</th>\n",
       "      <th>MVI 2020</th>\n",
       "      <th>Taxa MVI 2019</th>\n",
       "      <th>Taxa MVI 2020</th>\n",
       "    </tr>\n",
       "    <tr>\n",
       "      <th>Unidades da Federação</th>\n",
       "      <th></th>\n",
       "      <th></th>\n",
       "      <th></th>\n",
       "      <th></th>\n",
       "      <th></th>\n",
       "      <th></th>\n",
       "      <th></th>\n",
       "      <th></th>\n",
       "    </tr>\n",
       "  </thead>\n",
       "  <tbody>\n",
       "    <tr>\n",
       "      <th>Alagoas</th>\n",
       "      <td>1926</td>\n",
       "      <td>1521</td>\n",
       "      <td>57.05</td>\n",
       "      <td>45.77</td>\n",
       "      <td>1095</td>\n",
       "      <td>1251</td>\n",
       "      <td>32.81</td>\n",
       "      <td>37.33</td>\n",
       "    </tr>\n",
       "    <tr>\n",
       "      <th>Ceará</th>\n",
       "      <td>5329</td>\n",
       "      <td>4788</td>\n",
       "      <td>59.08</td>\n",
       "      <td>52.76</td>\n",
       "      <td>2359</td>\n",
       "      <td>4155</td>\n",
       "      <td>25.83</td>\n",
       "      <td>45.23</td>\n",
       "    </tr>\n",
       "    <tr>\n",
       "      <th>Maranhão</th>\n",
       "      <td>2058</td>\n",
       "      <td>1776</td>\n",
       "      <td>29.40</td>\n",
       "      <td>25.25</td>\n",
       "      <td>1562</td>\n",
       "      <td>2045</td>\n",
       "      <td>22.08</td>\n",
       "      <td>28.74</td>\n",
       "    </tr>\n",
       "    <tr>\n",
       "      <th>Paraíba</th>\n",
       "      <td>1286</td>\n",
       "      <td>1210</td>\n",
       "      <td>31.95</td>\n",
       "      <td>30.28</td>\n",
       "      <td>942</td>\n",
       "      <td>1166</td>\n",
       "      <td>23.44</td>\n",
       "      <td>28.87</td>\n",
       "    </tr>\n",
       "    <tr>\n",
       "      <th>Pernambuco</th>\n",
       "      <td>5427</td>\n",
       "      <td>4170</td>\n",
       "      <td>57.29</td>\n",
       "      <td>43.91</td>\n",
       "      <td>3412</td>\n",
       "      <td>3681</td>\n",
       "      <td>35.70</td>\n",
       "      <td>38.28</td>\n",
       "    </tr>\n",
       "    <tr>\n",
       "      <th>Piauí</th>\n",
       "      <td>653</td>\n",
       "      <td>617</td>\n",
       "      <td>20.28</td>\n",
       "      <td>18.90</td>\n",
       "      <td>587</td>\n",
       "      <td>707</td>\n",
       "      <td>17.93</td>\n",
       "      <td>21.55</td>\n",
       "    </tr>\n",
       "    <tr>\n",
       "      <th>Rio Grande do Norte</th>\n",
       "      <td>2355</td>\n",
       "      <td>1926</td>\n",
       "      <td>67.15</td>\n",
       "      <td>55.36</td>\n",
       "      <td>1264</td>\n",
       "      <td>1344</td>\n",
       "      <td>36.04</td>\n",
       "      <td>38.03</td>\n",
       "    </tr>\n",
       "    <tr>\n",
       "      <th>Bahia</th>\n",
       "      <td>6979</td>\n",
       "      <td>6346</td>\n",
       "      <td>45.48</td>\n",
       "      <td>42.84</td>\n",
       "      <td>6002</td>\n",
       "      <td>6703</td>\n",
       "      <td>40.35</td>\n",
       "      <td>44.89</td>\n",
       "    </tr>\n",
       "    <tr>\n",
       "      <th>Sergipe</th>\n",
       "      <td>1275</td>\n",
       "      <td>1128</td>\n",
       "      <td>55.72</td>\n",
       "      <td>49.51</td>\n",
       "      <td>967</td>\n",
       "      <td>987</td>\n",
       "      <td>42.07</td>\n",
       "      <td>42.56</td>\n",
       "    </tr>\n",
       "  </tbody>\n",
       "</table>\n",
       "</div>"
      ],
      "text/plain": [
       "                       MVI 2017  MVI 2018  Taxa MVI 2017  Taxa MVI 2018  \\\n",
       "Unidades da Federação                                                     \n",
       "Alagoas                    1926      1521          57.05          45.77   \n",
       "Ceará                      5329      4788          59.08          52.76   \n",
       "Maranhão                   2058      1776          29.40          25.25   \n",
       "Paraíba                    1286      1210          31.95          30.28   \n",
       "Pernambuco                 5427      4170          57.29          43.91   \n",
       "Piauí                       653       617          20.28          18.90   \n",
       "Rio Grande do Norte        2355      1926          67.15          55.36   \n",
       "Bahia                      6979      6346          45.48          42.84   \n",
       "Sergipe                    1275      1128          55.72          49.51   \n",
       "\n",
       "                       MVI 2019  MVI 2020  Taxa MVI 2019  Taxa MVI 2020  \n",
       "Unidades da Federação                                                    \n",
       "Alagoas                    1095      1251          32.81          37.33  \n",
       "Ceará                      2359      4155          25.83          45.23  \n",
       "Maranhão                   1562      2045          22.08          28.74  \n",
       "Paraíba                     942      1166          23.44          28.87  \n",
       "Pernambuco                 3412      3681          35.70          38.28  \n",
       "Piauí                       587       707          17.93          21.55  \n",
       "Rio Grande do Norte        1264      1344          36.04          38.03  \n",
       "Bahia                      6002      6703          40.35          44.89  \n",
       "Sergipe                     967       987          42.07          42.56  "
      ]
     },
     "execution_count": 43,
     "metadata": {},
     "output_type": "execute_result"
    }
   ],
   "source": [
    "homicidios13_15 = pd.merge(homicidios13, homicidios15, how='left', on='Unidades da Federação')\n",
    "homicidios13_15"
   ]
  },
  {
   "cell_type": "code",
   "execution_count": 44,
   "metadata": {
    "colab": {
     "base_uri": "https://localhost:8080/",
     "height": 363
    },
    "id": "_Bxq9eKrkF9x",
    "outputId": "b1cb9bad-264b-456f-e5ef-2b3efcd1d973"
   },
   "outputs": [
    {
     "data": {
      "text/html": [
       "<div>\n",
       "<style scoped>\n",
       "    .dataframe tbody tr th:only-of-type {\n",
       "        vertical-align: middle;\n",
       "    }\n",
       "\n",
       "    .dataframe tbody tr th {\n",
       "        vertical-align: top;\n",
       "    }\n",
       "\n",
       "    .dataframe thead th {\n",
       "        text-align: right;\n",
       "    }\n",
       "</style>\n",
       "<table border=\"1\" class=\"dataframe\">\n",
       "  <thead>\n",
       "    <tr style=\"text-align: right;\">\n",
       "      <th></th>\n",
       "      <th>MVI 2017</th>\n",
       "      <th>MVI 2018</th>\n",
       "      <th>Taxa MVI 2017</th>\n",
       "      <th>Taxa MVI 2018</th>\n",
       "      <th>MVI 2019</th>\n",
       "      <th>MVI 2020</th>\n",
       "      <th>Taxa MVI 2019</th>\n",
       "      <th>Taxa MVI 2020</th>\n",
       "      <th>MVI 2021</th>\n",
       "      <th>Taxa MVI 2021</th>\n",
       "    </tr>\n",
       "    <tr>\n",
       "      <th>Unidades da Federação</th>\n",
       "      <th></th>\n",
       "      <th></th>\n",
       "      <th></th>\n",
       "      <th></th>\n",
       "      <th></th>\n",
       "      <th></th>\n",
       "      <th></th>\n",
       "      <th></th>\n",
       "      <th></th>\n",
       "      <th></th>\n",
       "    </tr>\n",
       "  </thead>\n",
       "  <tbody>\n",
       "    <tr>\n",
       "      <th>Alagoas</th>\n",
       "      <td>1926</td>\n",
       "      <td>1521</td>\n",
       "      <td>57.05</td>\n",
       "      <td>45.77</td>\n",
       "      <td>1095</td>\n",
       "      <td>1251</td>\n",
       "      <td>32.81</td>\n",
       "      <td>37.33</td>\n",
       "      <td>1069</td>\n",
       "      <td>31.76</td>\n",
       "    </tr>\n",
       "    <tr>\n",
       "      <th>Ceará</th>\n",
       "      <td>5329</td>\n",
       "      <td>4788</td>\n",
       "      <td>59.08</td>\n",
       "      <td>52.76</td>\n",
       "      <td>2359</td>\n",
       "      <td>4155</td>\n",
       "      <td>25.83</td>\n",
       "      <td>45.23</td>\n",
       "      <td>3418</td>\n",
       "      <td>36.99</td>\n",
       "    </tr>\n",
       "    <tr>\n",
       "      <th>Maranhão</th>\n",
       "      <td>2058</td>\n",
       "      <td>1776</td>\n",
       "      <td>29.40</td>\n",
       "      <td>25.25</td>\n",
       "      <td>1562</td>\n",
       "      <td>2045</td>\n",
       "      <td>22.08</td>\n",
       "      <td>28.74</td>\n",
       "      <td>2021</td>\n",
       "      <td>28.25</td>\n",
       "    </tr>\n",
       "    <tr>\n",
       "      <th>Paraíba</th>\n",
       "      <td>1286</td>\n",
       "      <td>1210</td>\n",
       "      <td>31.95</td>\n",
       "      <td>30.28</td>\n",
       "      <td>942</td>\n",
       "      <td>1166</td>\n",
       "      <td>23.44</td>\n",
       "      <td>28.87</td>\n",
       "      <td>1161</td>\n",
       "      <td>28.60</td>\n",
       "    </tr>\n",
       "    <tr>\n",
       "      <th>Pernambuco</th>\n",
       "      <td>5427</td>\n",
       "      <td>4170</td>\n",
       "      <td>57.29</td>\n",
       "      <td>43.91</td>\n",
       "      <td>3412</td>\n",
       "      <td>3681</td>\n",
       "      <td>35.70</td>\n",
       "      <td>38.28</td>\n",
       "      <td>3368</td>\n",
       "      <td>34.81</td>\n",
       "    </tr>\n",
       "    <tr>\n",
       "      <th>Piauí</th>\n",
       "      <td>653</td>\n",
       "      <td>617</td>\n",
       "      <td>20.28</td>\n",
       "      <td>18.90</td>\n",
       "      <td>587</td>\n",
       "      <td>707</td>\n",
       "      <td>17.93</td>\n",
       "      <td>21.55</td>\n",
       "      <td>782</td>\n",
       "      <td>23.77</td>\n",
       "    </tr>\n",
       "    <tr>\n",
       "      <th>Rio Grande do Norte</th>\n",
       "      <td>2355</td>\n",
       "      <td>1926</td>\n",
       "      <td>67.15</td>\n",
       "      <td>55.36</td>\n",
       "      <td>1264</td>\n",
       "      <td>1344</td>\n",
       "      <td>36.04</td>\n",
       "      <td>38.03</td>\n",
       "      <td>1155</td>\n",
       "      <td>32.44</td>\n",
       "    </tr>\n",
       "    <tr>\n",
       "      <th>Bahia</th>\n",
       "      <td>6979</td>\n",
       "      <td>6346</td>\n",
       "      <td>45.48</td>\n",
       "      <td>42.84</td>\n",
       "      <td>6002</td>\n",
       "      <td>6703</td>\n",
       "      <td>40.35</td>\n",
       "      <td>44.89</td>\n",
       "      <td>6734</td>\n",
       "      <td>44.94</td>\n",
       "    </tr>\n",
       "    <tr>\n",
       "      <th>Sergipe</th>\n",
       "      <td>1275</td>\n",
       "      <td>1128</td>\n",
       "      <td>55.72</td>\n",
       "      <td>49.51</td>\n",
       "      <td>967</td>\n",
       "      <td>987</td>\n",
       "      <td>42.07</td>\n",
       "      <td>42.56</td>\n",
       "      <td>792</td>\n",
       "      <td>33.87</td>\n",
       "    </tr>\n",
       "  </tbody>\n",
       "</table>\n",
       "</div>"
      ],
      "text/plain": [
       "                       MVI 2017  MVI 2018  Taxa MVI 2017  Taxa MVI 2018  \\\n",
       "Unidades da Federação                                                     \n",
       "Alagoas                    1926      1521          57.05          45.77   \n",
       "Ceará                      5329      4788          59.08          52.76   \n",
       "Maranhão                   2058      1776          29.40          25.25   \n",
       "Paraíba                    1286      1210          31.95          30.28   \n",
       "Pernambuco                 5427      4170          57.29          43.91   \n",
       "Piauí                       653       617          20.28          18.90   \n",
       "Rio Grande do Norte        2355      1926          67.15          55.36   \n",
       "Bahia                      6979      6346          45.48          42.84   \n",
       "Sergipe                    1275      1128          55.72          49.51   \n",
       "\n",
       "                       MVI 2019  MVI 2020  Taxa MVI 2019  Taxa MVI 2020  \\\n",
       "Unidades da Federação                                                     \n",
       "Alagoas                    1095      1251          32.81          37.33   \n",
       "Ceará                      2359      4155          25.83          45.23   \n",
       "Maranhão                   1562      2045          22.08          28.74   \n",
       "Paraíba                     942      1166          23.44          28.87   \n",
       "Pernambuco                 3412      3681          35.70          38.28   \n",
       "Piauí                       587       707          17.93          21.55   \n",
       "Rio Grande do Norte        1264      1344          36.04          38.03   \n",
       "Bahia                      6002      6703          40.35          44.89   \n",
       "Sergipe                     967       987          42.07          42.56   \n",
       "\n",
       "                       MVI 2021  Taxa MVI 2021  \n",
       "Unidades da Federação                           \n",
       "Alagoas                    1069          31.76  \n",
       "Ceará                      3418          36.99  \n",
       "Maranhão                   2021          28.25  \n",
       "Paraíba                    1161          28.60  \n",
       "Pernambuco                 3368          34.81  \n",
       "Piauí                       782          23.77  \n",
       "Rio Grande do Norte        1155          32.44  \n",
       "Bahia                      6734          44.94  \n",
       "Sergipe                     792          33.87  "
      ]
     },
     "execution_count": 44,
     "metadata": {},
     "output_type": "execute_result"
    }
   ],
   "source": [
    "homicidios = pd.merge(homicidios13_15, homicidios16, how='left', on='Unidades da Federação')\n",
    "homicidios"
   ]
  },
  {
   "cell_type": "code",
   "execution_count": 45,
   "metadata": {
    "colab": {
     "base_uri": "https://localhost:8080/",
     "height": 363
    },
    "id": "m275dYSll32A",
    "outputId": "75acd799-7832-404d-a0e6-4f154507a281"
   },
   "outputs": [
    {
     "data": {
      "text/html": [
       "<div>\n",
       "<style scoped>\n",
       "    .dataframe tbody tr th:only-of-type {\n",
       "        vertical-align: middle;\n",
       "    }\n",
       "\n",
       "    .dataframe tbody tr th {\n",
       "        vertical-align: top;\n",
       "    }\n",
       "\n",
       "    .dataframe thead th {\n",
       "        text-align: right;\n",
       "    }\n",
       "</style>\n",
       "<table border=\"1\" class=\"dataframe\">\n",
       "  <thead>\n",
       "    <tr style=\"text-align: right;\">\n",
       "      <th></th>\n",
       "      <th>2018</th>\n",
       "      <th>2019</th>\n",
       "      <th>2020</th>\n",
       "      <th>2021</th>\n",
       "    </tr>\n",
       "    <tr>\n",
       "      <th>Unidades da Federação</th>\n",
       "      <th></th>\n",
       "      <th></th>\n",
       "      <th></th>\n",
       "      <th></th>\n",
       "    </tr>\n",
       "  </thead>\n",
       "  <tbody>\n",
       "    <tr>\n",
       "      <th>Alagoas</th>\n",
       "      <td>45.77</td>\n",
       "      <td>32.81</td>\n",
       "      <td>37.33</td>\n",
       "      <td>31.76</td>\n",
       "    </tr>\n",
       "    <tr>\n",
       "      <th>Ceará</th>\n",
       "      <td>52.76</td>\n",
       "      <td>25.83</td>\n",
       "      <td>45.23</td>\n",
       "      <td>36.99</td>\n",
       "    </tr>\n",
       "    <tr>\n",
       "      <th>Maranhão</th>\n",
       "      <td>25.25</td>\n",
       "      <td>22.08</td>\n",
       "      <td>28.74</td>\n",
       "      <td>28.25</td>\n",
       "    </tr>\n",
       "    <tr>\n",
       "      <th>Paraíba</th>\n",
       "      <td>30.28</td>\n",
       "      <td>23.44</td>\n",
       "      <td>28.87</td>\n",
       "      <td>28.60</td>\n",
       "    </tr>\n",
       "    <tr>\n",
       "      <th>Pernambuco</th>\n",
       "      <td>43.91</td>\n",
       "      <td>35.70</td>\n",
       "      <td>38.28</td>\n",
       "      <td>34.81</td>\n",
       "    </tr>\n",
       "    <tr>\n",
       "      <th>Piauí</th>\n",
       "      <td>18.90</td>\n",
       "      <td>17.93</td>\n",
       "      <td>21.55</td>\n",
       "      <td>23.77</td>\n",
       "    </tr>\n",
       "    <tr>\n",
       "      <th>Rio Grande do Norte</th>\n",
       "      <td>55.36</td>\n",
       "      <td>36.04</td>\n",
       "      <td>38.03</td>\n",
       "      <td>32.44</td>\n",
       "    </tr>\n",
       "    <tr>\n",
       "      <th>Bahia</th>\n",
       "      <td>42.84</td>\n",
       "      <td>40.35</td>\n",
       "      <td>44.89</td>\n",
       "      <td>44.94</td>\n",
       "    </tr>\n",
       "    <tr>\n",
       "      <th>Sergipe</th>\n",
       "      <td>49.51</td>\n",
       "      <td>42.07</td>\n",
       "      <td>42.56</td>\n",
       "      <td>33.87</td>\n",
       "    </tr>\n",
       "  </tbody>\n",
       "</table>\n",
       "</div>"
      ],
      "text/plain": [
       "                       2018  2019  2020  2021\n",
       "Unidades da Federação                        \n",
       "Alagoas               45.77 32.81 37.33 31.76\n",
       "Ceará                 52.76 25.83 45.23 36.99\n",
       "Maranhão              25.25 22.08 28.74 28.25\n",
       "Paraíba               30.28 23.44 28.87 28.60\n",
       "Pernambuco            43.91 35.70 38.28 34.81\n",
       "Piauí                 18.90 17.93 21.55 23.77\n",
       "Rio Grande do Norte   55.36 36.04 38.03 32.44\n",
       "Bahia                 42.84 40.35 44.89 44.94\n",
       "Sergipe               49.51 42.07 42.56 33.87"
      ]
     },
     "execution_count": 45,
     "metadata": {},
     "output_type": "execute_result"
    }
   ],
   "source": [
    "homicidios_taxa = homicidios[[\"Taxa MVI 2018\",'Taxa MVI 2019', 'Taxa MVI 2020', 'Taxa MVI 2021']]\n",
    "homicidios_taxa = homicidios_taxa.rename(columns={\"Taxa MVI 2018\":\"2018\",\"Taxa MVI 2019\":\"2019\", \"Taxa MVI 2020\":\"2020\", \"Taxa MVI 2021\":\"2021\"})\n",
    "homicidios_taxa"
   ]
  },
  {
   "cell_type": "code",
   "execution_count": 46,
   "metadata": {
    "colab": {
     "base_uri": "https://localhost:8080/",
     "height": 363
    },
    "id": "arW8y6hHDEFO",
    "outputId": "451acbf9-df8c-43e1-e694-4d7a59617a69"
   },
   "outputs": [
    {
     "data": {
      "text/html": [
       "<div>\n",
       "<style scoped>\n",
       "    .dataframe tbody tr th:only-of-type {\n",
       "        vertical-align: middle;\n",
       "    }\n",
       "\n",
       "    .dataframe tbody tr th {\n",
       "        vertical-align: top;\n",
       "    }\n",
       "\n",
       "    .dataframe thead th {\n",
       "        text-align: right;\n",
       "    }\n",
       "</style>\n",
       "<table border=\"1\" class=\"dataframe\">\n",
       "  <thead>\n",
       "    <tr style=\"text-align: right;\">\n",
       "      <th></th>\n",
       "      <th>2018</th>\n",
       "      <th>2019</th>\n",
       "      <th>2020</th>\n",
       "      <th>2021</th>\n",
       "    </tr>\n",
       "    <tr>\n",
       "      <th>Unidades da Federação</th>\n",
       "      <th></th>\n",
       "      <th></th>\n",
       "      <th></th>\n",
       "      <th></th>\n",
       "    </tr>\n",
       "  </thead>\n",
       "  <tbody>\n",
       "    <tr>\n",
       "      <th>Alagoas</th>\n",
       "      <td>1521</td>\n",
       "      <td>1095</td>\n",
       "      <td>1251</td>\n",
       "      <td>1069</td>\n",
       "    </tr>\n",
       "    <tr>\n",
       "      <th>Ceará</th>\n",
       "      <td>4788</td>\n",
       "      <td>2359</td>\n",
       "      <td>4155</td>\n",
       "      <td>3418</td>\n",
       "    </tr>\n",
       "    <tr>\n",
       "      <th>Maranhão</th>\n",
       "      <td>1776</td>\n",
       "      <td>1562</td>\n",
       "      <td>2045</td>\n",
       "      <td>2021</td>\n",
       "    </tr>\n",
       "    <tr>\n",
       "      <th>Paraíba</th>\n",
       "      <td>1210</td>\n",
       "      <td>942</td>\n",
       "      <td>1166</td>\n",
       "      <td>1161</td>\n",
       "    </tr>\n",
       "    <tr>\n",
       "      <th>Pernambuco</th>\n",
       "      <td>4170</td>\n",
       "      <td>3412</td>\n",
       "      <td>3681</td>\n",
       "      <td>3368</td>\n",
       "    </tr>\n",
       "    <tr>\n",
       "      <th>Piauí</th>\n",
       "      <td>617</td>\n",
       "      <td>587</td>\n",
       "      <td>707</td>\n",
       "      <td>782</td>\n",
       "    </tr>\n",
       "    <tr>\n",
       "      <th>Rio Grande do Norte</th>\n",
       "      <td>1926</td>\n",
       "      <td>1264</td>\n",
       "      <td>1344</td>\n",
       "      <td>1155</td>\n",
       "    </tr>\n",
       "    <tr>\n",
       "      <th>Bahia</th>\n",
       "      <td>6346</td>\n",
       "      <td>6002</td>\n",
       "      <td>6703</td>\n",
       "      <td>6734</td>\n",
       "    </tr>\n",
       "    <tr>\n",
       "      <th>Sergipe</th>\n",
       "      <td>1128</td>\n",
       "      <td>967</td>\n",
       "      <td>987</td>\n",
       "      <td>792</td>\n",
       "    </tr>\n",
       "  </tbody>\n",
       "</table>\n",
       "</div>"
      ],
      "text/plain": [
       "                       2018  2019  2020  2021\n",
       "Unidades da Federação                        \n",
       "Alagoas                1521  1095  1251  1069\n",
       "Ceará                  4788  2359  4155  3418\n",
       "Maranhão               1776  1562  2045  2021\n",
       "Paraíba                1210   942  1166  1161\n",
       "Pernambuco             4170  3412  3681  3368\n",
       "Piauí                   617   587   707   782\n",
       "Rio Grande do Norte    1926  1264  1344  1155\n",
       "Bahia                  6346  6002  6703  6734\n",
       "Sergipe                1128   967   987   792"
      ]
     },
     "execution_count": 46,
     "metadata": {},
     "output_type": "execute_result"
    }
   ],
   "source": [
    "homicidios_abs = homicidios[[\"MVI 2018\",'MVI 2019', 'MVI 2020', 'MVI 2021']]\n",
    "homicidios_abs = homicidios_abs.rename(columns={\"MVI 2018\":\"2018\",\"MVI 2019\":\"2019\", \"MVI 2020\":\"2020\", \"MVI 2021\":\"2021\"})\n",
    "homicidios_abs"
   ]
  },
  {
   "cell_type": "code",
   "execution_count": 143,
   "metadata": {
    "colab": {
     "base_uri": "https://localhost:8080/",
     "height": 542
    },
    "id": "HLnzRwqaasUt",
    "outputId": "71d8e7f7-f0a8-4e0b-dab9-6512b5846067"
   },
   "outputs": [
    {
     "data": {
      "application/vnd.plotly.v1+json": {
       "config": {
        "plotlyServerURL": "https://plot.ly"
       },
       "data": [
        {
         "marker": {
          "color": "#DC143C"
         },
         "name": "Alagoas",
         "type": "bar",
         "x": [
          "2018",
          "2019",
          "2020",
          "2021"
         ],
         "y": [
          1355101521.037999,
          1255388240.4948866,
          1491297889.9726598,
          1413300560.4299998
         ]
        },
        {
         "marker": {
          "color": "#FA8072"
         },
         "name": "Bahia",
         "type": "bar",
         "x": [
          "2018",
          "2019",
          "2020",
          "2021"
         ],
         "y": [
          4982988853.449977,
          5071120550.762866,
          4756422657.949339,
          4368430594.62
         ]
        },
        {
         "marker": {
          "color": "#FFD700"
         },
         "name": "Ceará",
         "type": "bar",
         "x": [
          "2018",
          "2019",
          "2020",
          "2021"
         ],
         "y": [
          2992742459.260016,
          3078322832.8488092,
          3351968285.4903936,
          3335783586.9900002
         ]
        },
        {
         "marker": {
          "color": "#90EE90"
         },
         "name": "Maranhão",
         "type": "bar",
         "x": [
          "2018",
          "2019",
          "2020",
          "2021"
         ],
         "y": [
          2144717589.319825,
          2169996815.0291033,
          2155613920.940374,
          1980444257.46
         ]
        },
        {
         "marker": {
          "color": "#1E90FF"
         },
         "name": "Paraíba",
         "type": "bar",
         "x": [
          "2018",
          "2019",
          "2020",
          "2021"
         ],
         "y": [
          1465290626.0571172,
          1501321415.6066022,
          1560201429.0371902,
          1465463217.0100002
         ]
        },
        {
         "marker": {
          "color": "#0000CD"
         },
         "name": "Pernambuco",
         "type": "bar",
         "x": [
          "2018",
          "2019",
          "2020",
          "2021"
         ],
         "y": [
          3217893045.746061,
          3232961892.134184,
          3169894560.148462,
          2884598185.52
         ]
        },
        {
         "marker": {
          "color": "#836FFF"
         },
         "name": "Piauí",
         "type": "bar",
         "x": [
          "2018",
          "2019",
          "2020",
          "2021"
         ],
         "y": [
          865330708.8667413,
          967454332.1222051,
          864886460.193704,
          842460537.58
         ]
        },
        {
         "marker": {
          "color": "#FF69B4"
         },
         "name": "Rio Grande do Norte",
         "type": "bar",
         "x": [
          "2018",
          "2019",
          "2020",
          "2021"
         ],
         "y": [
          1132549952.394746,
          1303609818.500084,
          1142663164.315334,
          1231440100.44
         ]
        },
        {
         "marker": {
          "color": "#9932CC"
         },
         "name": "Sergipe",
         "type": "bar",
         "x": [
          "2018",
          "2019",
          "2020",
          "2021"
         ],
         "y": [
          1035442315.1150591,
          1071242467.2040222,
          1053036915.1854779,
          1527156924.6799998
         ]
        }
       ],
       "layout": {
        "barmode": "group",
        "plot_bgcolor": "#F5FFFA",
        "template": {
         "data": {
          "bar": [
           {
            "error_x": {
             "color": "#2a3f5f"
            },
            "error_y": {
             "color": "#2a3f5f"
            },
            "marker": {
             "line": {
              "color": "#E5ECF6",
              "width": 0.5
             },
             "pattern": {
              "fillmode": "overlay",
              "size": 10,
              "solidity": 0.2
             }
            },
            "type": "bar"
           }
          ],
          "barpolar": [
           {
            "marker": {
             "line": {
              "color": "#E5ECF6",
              "width": 0.5
             },
             "pattern": {
              "fillmode": "overlay",
              "size": 10,
              "solidity": 0.2
             }
            },
            "type": "barpolar"
           }
          ],
          "carpet": [
           {
            "aaxis": {
             "endlinecolor": "#2a3f5f",
             "gridcolor": "white",
             "linecolor": "white",
             "minorgridcolor": "white",
             "startlinecolor": "#2a3f5f"
            },
            "baxis": {
             "endlinecolor": "#2a3f5f",
             "gridcolor": "white",
             "linecolor": "white",
             "minorgridcolor": "white",
             "startlinecolor": "#2a3f5f"
            },
            "type": "carpet"
           }
          ],
          "choropleth": [
           {
            "colorbar": {
             "outlinewidth": 0,
             "ticks": ""
            },
            "type": "choropleth"
           }
          ],
          "contour": [
           {
            "colorbar": {
             "outlinewidth": 0,
             "ticks": ""
            },
            "colorscale": [
             [
              0,
              "#0d0887"
             ],
             [
              0.1111111111111111,
              "#46039f"
             ],
             [
              0.2222222222222222,
              "#7201a8"
             ],
             [
              0.3333333333333333,
              "#9c179e"
             ],
             [
              0.4444444444444444,
              "#bd3786"
             ],
             [
              0.5555555555555556,
              "#d8576b"
             ],
             [
              0.6666666666666666,
              "#ed7953"
             ],
             [
              0.7777777777777778,
              "#fb9f3a"
             ],
             [
              0.8888888888888888,
              "#fdca26"
             ],
             [
              1,
              "#f0f921"
             ]
            ],
            "type": "contour"
           }
          ],
          "contourcarpet": [
           {
            "colorbar": {
             "outlinewidth": 0,
             "ticks": ""
            },
            "type": "contourcarpet"
           }
          ],
          "heatmap": [
           {
            "colorbar": {
             "outlinewidth": 0,
             "ticks": ""
            },
            "colorscale": [
             [
              0,
              "#0d0887"
             ],
             [
              0.1111111111111111,
              "#46039f"
             ],
             [
              0.2222222222222222,
              "#7201a8"
             ],
             [
              0.3333333333333333,
              "#9c179e"
             ],
             [
              0.4444444444444444,
              "#bd3786"
             ],
             [
              0.5555555555555556,
              "#d8576b"
             ],
             [
              0.6666666666666666,
              "#ed7953"
             ],
             [
              0.7777777777777778,
              "#fb9f3a"
             ],
             [
              0.8888888888888888,
              "#fdca26"
             ],
             [
              1,
              "#f0f921"
             ]
            ],
            "type": "heatmap"
           }
          ],
          "heatmapgl": [
           {
            "colorbar": {
             "outlinewidth": 0,
             "ticks": ""
            },
            "colorscale": [
             [
              0,
              "#0d0887"
             ],
             [
              0.1111111111111111,
              "#46039f"
             ],
             [
              0.2222222222222222,
              "#7201a8"
             ],
             [
              0.3333333333333333,
              "#9c179e"
             ],
             [
              0.4444444444444444,
              "#bd3786"
             ],
             [
              0.5555555555555556,
              "#d8576b"
             ],
             [
              0.6666666666666666,
              "#ed7953"
             ],
             [
              0.7777777777777778,
              "#fb9f3a"
             ],
             [
              0.8888888888888888,
              "#fdca26"
             ],
             [
              1,
              "#f0f921"
             ]
            ],
            "type": "heatmapgl"
           }
          ],
          "histogram": [
           {
            "marker": {
             "pattern": {
              "fillmode": "overlay",
              "size": 10,
              "solidity": 0.2
             }
            },
            "type": "histogram"
           }
          ],
          "histogram2d": [
           {
            "colorbar": {
             "outlinewidth": 0,
             "ticks": ""
            },
            "colorscale": [
             [
              0,
              "#0d0887"
             ],
             [
              0.1111111111111111,
              "#46039f"
             ],
             [
              0.2222222222222222,
              "#7201a8"
             ],
             [
              0.3333333333333333,
              "#9c179e"
             ],
             [
              0.4444444444444444,
              "#bd3786"
             ],
             [
              0.5555555555555556,
              "#d8576b"
             ],
             [
              0.6666666666666666,
              "#ed7953"
             ],
             [
              0.7777777777777778,
              "#fb9f3a"
             ],
             [
              0.8888888888888888,
              "#fdca26"
             ],
             [
              1,
              "#f0f921"
             ]
            ],
            "type": "histogram2d"
           }
          ],
          "histogram2dcontour": [
           {
            "colorbar": {
             "outlinewidth": 0,
             "ticks": ""
            },
            "colorscale": [
             [
              0,
              "#0d0887"
             ],
             [
              0.1111111111111111,
              "#46039f"
             ],
             [
              0.2222222222222222,
              "#7201a8"
             ],
             [
              0.3333333333333333,
              "#9c179e"
             ],
             [
              0.4444444444444444,
              "#bd3786"
             ],
             [
              0.5555555555555556,
              "#d8576b"
             ],
             [
              0.6666666666666666,
              "#ed7953"
             ],
             [
              0.7777777777777778,
              "#fb9f3a"
             ],
             [
              0.8888888888888888,
              "#fdca26"
             ],
             [
              1,
              "#f0f921"
             ]
            ],
            "type": "histogram2dcontour"
           }
          ],
          "mesh3d": [
           {
            "colorbar": {
             "outlinewidth": 0,
             "ticks": ""
            },
            "type": "mesh3d"
           }
          ],
          "parcoords": [
           {
            "line": {
             "colorbar": {
              "outlinewidth": 0,
              "ticks": ""
             }
            },
            "type": "parcoords"
           }
          ],
          "pie": [
           {
            "automargin": true,
            "type": "pie"
           }
          ],
          "scatter": [
           {
            "fillpattern": {
             "fillmode": "overlay",
             "size": 10,
             "solidity": 0.2
            },
            "type": "scatter"
           }
          ],
          "scatter3d": [
           {
            "line": {
             "colorbar": {
              "outlinewidth": 0,
              "ticks": ""
             }
            },
            "marker": {
             "colorbar": {
              "outlinewidth": 0,
              "ticks": ""
             }
            },
            "type": "scatter3d"
           }
          ],
          "scattercarpet": [
           {
            "marker": {
             "colorbar": {
              "outlinewidth": 0,
              "ticks": ""
             }
            },
            "type": "scattercarpet"
           }
          ],
          "scattergeo": [
           {
            "marker": {
             "colorbar": {
              "outlinewidth": 0,
              "ticks": ""
             }
            },
            "type": "scattergeo"
           }
          ],
          "scattergl": [
           {
            "marker": {
             "colorbar": {
              "outlinewidth": 0,
              "ticks": ""
             }
            },
            "type": "scattergl"
           }
          ],
          "scattermapbox": [
           {
            "marker": {
             "colorbar": {
              "outlinewidth": 0,
              "ticks": ""
             }
            },
            "type": "scattermapbox"
           }
          ],
          "scatterpolar": [
           {
            "marker": {
             "colorbar": {
              "outlinewidth": 0,
              "ticks": ""
             }
            },
            "type": "scatterpolar"
           }
          ],
          "scatterpolargl": [
           {
            "marker": {
             "colorbar": {
              "outlinewidth": 0,
              "ticks": ""
             }
            },
            "type": "scatterpolargl"
           }
          ],
          "scatterternary": [
           {
            "marker": {
             "colorbar": {
              "outlinewidth": 0,
              "ticks": ""
             }
            },
            "type": "scatterternary"
           }
          ],
          "surface": [
           {
            "colorbar": {
             "outlinewidth": 0,
             "ticks": ""
            },
            "colorscale": [
             [
              0,
              "#0d0887"
             ],
             [
              0.1111111111111111,
              "#46039f"
             ],
             [
              0.2222222222222222,
              "#7201a8"
             ],
             [
              0.3333333333333333,
              "#9c179e"
             ],
             [
              0.4444444444444444,
              "#bd3786"
             ],
             [
              0.5555555555555556,
              "#d8576b"
             ],
             [
              0.6666666666666666,
              "#ed7953"
             ],
             [
              0.7777777777777778,
              "#fb9f3a"
             ],
             [
              0.8888888888888888,
              "#fdca26"
             ],
             [
              1,
              "#f0f921"
             ]
            ],
            "type": "surface"
           }
          ],
          "table": [
           {
            "cells": {
             "fill": {
              "color": "#EBF0F8"
             },
             "line": {
              "color": "white"
             }
            },
            "header": {
             "fill": {
              "color": "#C8D4E3"
             },
             "line": {
              "color": "white"
             }
            },
            "type": "table"
           }
          ]
         },
         "layout": {
          "annotationdefaults": {
           "arrowcolor": "#2a3f5f",
           "arrowhead": 0,
           "arrowwidth": 1
          },
          "autotypenumbers": "strict",
          "coloraxis": {
           "colorbar": {
            "outlinewidth": 0,
            "ticks": ""
           }
          },
          "colorscale": {
           "diverging": [
            [
             0,
             "#8e0152"
            ],
            [
             0.1,
             "#c51b7d"
            ],
            [
             0.2,
             "#de77ae"
            ],
            [
             0.3,
             "#f1b6da"
            ],
            [
             0.4,
             "#fde0ef"
            ],
            [
             0.5,
             "#f7f7f7"
            ],
            [
             0.6,
             "#e6f5d0"
            ],
            [
             0.7,
             "#b8e186"
            ],
            [
             0.8,
             "#7fbc41"
            ],
            [
             0.9,
             "#4d9221"
            ],
            [
             1,
             "#276419"
            ]
           ],
           "sequential": [
            [
             0,
             "#0d0887"
            ],
            [
             0.1111111111111111,
             "#46039f"
            ],
            [
             0.2222222222222222,
             "#7201a8"
            ],
            [
             0.3333333333333333,
             "#9c179e"
            ],
            [
             0.4444444444444444,
             "#bd3786"
            ],
            [
             0.5555555555555556,
             "#d8576b"
            ],
            [
             0.6666666666666666,
             "#ed7953"
            ],
            [
             0.7777777777777778,
             "#fb9f3a"
            ],
            [
             0.8888888888888888,
             "#fdca26"
            ],
            [
             1,
             "#f0f921"
            ]
           ],
           "sequentialminus": [
            [
             0,
             "#0d0887"
            ],
            [
             0.1111111111111111,
             "#46039f"
            ],
            [
             0.2222222222222222,
             "#7201a8"
            ],
            [
             0.3333333333333333,
             "#9c179e"
            ],
            [
             0.4444444444444444,
             "#bd3786"
            ],
            [
             0.5555555555555556,
             "#d8576b"
            ],
            [
             0.6666666666666666,
             "#ed7953"
            ],
            [
             0.7777777777777778,
             "#fb9f3a"
            ],
            [
             0.8888888888888888,
             "#fdca26"
            ],
            [
             1,
             "#f0f921"
            ]
           ]
          },
          "colorway": [
           "#636efa",
           "#EF553B",
           "#00cc96",
           "#ab63fa",
           "#FFA15A",
           "#19d3f3",
           "#FF6692",
           "#B6E880",
           "#FF97FF",
           "#FECB52"
          ],
          "font": {
           "color": "#2a3f5f"
          },
          "geo": {
           "bgcolor": "white",
           "lakecolor": "white",
           "landcolor": "#E5ECF6",
           "showlakes": true,
           "showland": true,
           "subunitcolor": "white"
          },
          "hoverlabel": {
           "align": "left"
          },
          "hovermode": "closest",
          "mapbox": {
           "style": "light"
          },
          "paper_bgcolor": "white",
          "plot_bgcolor": "#E5ECF6",
          "polar": {
           "angularaxis": {
            "gridcolor": "white",
            "linecolor": "white",
            "ticks": ""
           },
           "bgcolor": "#E5ECF6",
           "radialaxis": {
            "gridcolor": "white",
            "linecolor": "white",
            "ticks": ""
           }
          },
          "scene": {
           "xaxis": {
            "backgroundcolor": "#E5ECF6",
            "gridcolor": "white",
            "gridwidth": 2,
            "linecolor": "white",
            "showbackground": true,
            "ticks": "",
            "zerolinecolor": "white"
           },
           "yaxis": {
            "backgroundcolor": "#E5ECF6",
            "gridcolor": "white",
            "gridwidth": 2,
            "linecolor": "white",
            "showbackground": true,
            "ticks": "",
            "zerolinecolor": "white"
           },
           "zaxis": {
            "backgroundcolor": "#E5ECF6",
            "gridcolor": "white",
            "gridwidth": 2,
            "linecolor": "white",
            "showbackground": true,
            "ticks": "",
            "zerolinecolor": "white"
           }
          },
          "shapedefaults": {
           "line": {
            "color": "#2a3f5f"
           }
          },
          "ternary": {
           "aaxis": {
            "gridcolor": "white",
            "linecolor": "white",
            "ticks": ""
           },
           "baxis": {
            "gridcolor": "white",
            "linecolor": "white",
            "ticks": ""
           },
           "bgcolor": "#E5ECF6",
           "caxis": {
            "gridcolor": "white",
            "linecolor": "white",
            "ticks": ""
           }
          },
          "title": {
           "x": 0.05
          },
          "xaxis": {
           "automargin": true,
           "gridcolor": "white",
           "linecolor": "white",
           "ticks": "",
           "title": {
            "standoff": 15
           },
           "zerolinecolor": "white",
           "zerolinewidth": 2
          },
          "yaxis": {
           "automargin": true,
           "gridcolor": "white",
           "linecolor": "white",
           "ticks": "",
           "title": {
            "standoff": 15
           },
           "zerolinecolor": "white",
           "zerolinewidth": 2
          }
         }
        },
        "title": {
         "font": {
          "color": "black",
          "family": "Arial",
          "size": 22
         },
         "text": "Gastos com Segurança Pública por Estado",
         "x": 0.43,
         "xanchor": "center",
         "y": 0.9,
         "yanchor": "top"
        },
        "xaxis": {
         "title": {
          "text": "Anos"
         }
        },
        "yaxis": {
         "gridcolor": "#008080",
         "showgrid": true,
         "title": {
          "text": "Valor em R$"
         }
        }
       }
      },
      "text/html": [
       "<div>                            <div id=\"f56c2539-50b8-45e9-a58e-52a1b8291776\" class=\"plotly-graph-div\" style=\"height:525px; width:100%;\"></div>            <script type=\"text/javascript\">                require([\"plotly\"], function(Plotly) {                    window.PLOTLYENV=window.PLOTLYENV || {};                                    if (document.getElementById(\"f56c2539-50b8-45e9-a58e-52a1b8291776\")) {                    Plotly.newPlot(                        \"f56c2539-50b8-45e9-a58e-52a1b8291776\",                        [{\"marker\":{\"color\":\"#DC143C\"},\"name\":\"Alagoas\",\"x\":[\"2018\",\"2019\",\"2020\",\"2021\"],\"y\":[1355101521.037999,1255388240.4948866,1491297889.9726598,1413300560.4299998],\"type\":\"bar\"},{\"marker\":{\"color\":\"#FA8072\"},\"name\":\"Bahia\",\"x\":[\"2018\",\"2019\",\"2020\",\"2021\"],\"y\":[4982988853.449977,5071120550.762866,4756422657.949339,4368430594.62],\"type\":\"bar\"},{\"marker\":{\"color\":\"#FFD700\"},\"name\":\"Cear\\u00e1\",\"x\":[\"2018\",\"2019\",\"2020\",\"2021\"],\"y\":[2992742459.260016,3078322832.8488092,3351968285.4903936,3335783586.9900002],\"type\":\"bar\"},{\"marker\":{\"color\":\"#90EE90\"},\"name\":\"Maranh\\u00e3o\",\"x\":[\"2018\",\"2019\",\"2020\",\"2021\"],\"y\":[2144717589.319825,2169996815.0291033,2155613920.940374,1980444257.46],\"type\":\"bar\"},{\"marker\":{\"color\":\"#1E90FF\"},\"name\":\"Para\\u00edba\",\"x\":[\"2018\",\"2019\",\"2020\",\"2021\"],\"y\":[1465290626.0571172,1501321415.6066022,1560201429.0371902,1465463217.0100002],\"type\":\"bar\"},{\"marker\":{\"color\":\"#0000CD\"},\"name\":\"Pernambuco\",\"x\":[\"2018\",\"2019\",\"2020\",\"2021\"],\"y\":[3217893045.746061,3232961892.134184,3169894560.148462,2884598185.52],\"type\":\"bar\"},{\"marker\":{\"color\":\"#836FFF\"},\"name\":\"Piau\\u00ed\",\"x\":[\"2018\",\"2019\",\"2020\",\"2021\"],\"y\":[865330708.8667413,967454332.1222051,864886460.193704,842460537.58],\"type\":\"bar\"},{\"marker\":{\"color\":\"#FF69B4\"},\"name\":\"Rio Grande do Norte\",\"x\":[\"2018\",\"2019\",\"2020\",\"2021\"],\"y\":[1132549952.394746,1303609818.500084,1142663164.315334,1231440100.44],\"type\":\"bar\"},{\"marker\":{\"color\":\"#9932CC\"},\"name\":\"Sergipe\",\"x\":[\"2018\",\"2019\",\"2020\",\"2021\"],\"y\":[1035442315.1150591,1071242467.2040222,1053036915.1854779,1527156924.6799998],\"type\":\"bar\"}],                        {\"template\":{\"data\":{\"histogram2dcontour\":[{\"type\":\"histogram2dcontour\",\"colorbar\":{\"outlinewidth\":0,\"ticks\":\"\"},\"colorscale\":[[0.0,\"#0d0887\"],[0.1111111111111111,\"#46039f\"],[0.2222222222222222,\"#7201a8\"],[0.3333333333333333,\"#9c179e\"],[0.4444444444444444,\"#bd3786\"],[0.5555555555555556,\"#d8576b\"],[0.6666666666666666,\"#ed7953\"],[0.7777777777777778,\"#fb9f3a\"],[0.8888888888888888,\"#fdca26\"],[1.0,\"#f0f921\"]]}],\"choropleth\":[{\"type\":\"choropleth\",\"colorbar\":{\"outlinewidth\":0,\"ticks\":\"\"}}],\"histogram2d\":[{\"type\":\"histogram2d\",\"colorbar\":{\"outlinewidth\":0,\"ticks\":\"\"},\"colorscale\":[[0.0,\"#0d0887\"],[0.1111111111111111,\"#46039f\"],[0.2222222222222222,\"#7201a8\"],[0.3333333333333333,\"#9c179e\"],[0.4444444444444444,\"#bd3786\"],[0.5555555555555556,\"#d8576b\"],[0.6666666666666666,\"#ed7953\"],[0.7777777777777778,\"#fb9f3a\"],[0.8888888888888888,\"#fdca26\"],[1.0,\"#f0f921\"]]}],\"heatmap\":[{\"type\":\"heatmap\",\"colorbar\":{\"outlinewidth\":0,\"ticks\":\"\"},\"colorscale\":[[0.0,\"#0d0887\"],[0.1111111111111111,\"#46039f\"],[0.2222222222222222,\"#7201a8\"],[0.3333333333333333,\"#9c179e\"],[0.4444444444444444,\"#bd3786\"],[0.5555555555555556,\"#d8576b\"],[0.6666666666666666,\"#ed7953\"],[0.7777777777777778,\"#fb9f3a\"],[0.8888888888888888,\"#fdca26\"],[1.0,\"#f0f921\"]]}],\"heatmapgl\":[{\"type\":\"heatmapgl\",\"colorbar\":{\"outlinewidth\":0,\"ticks\":\"\"},\"colorscale\":[[0.0,\"#0d0887\"],[0.1111111111111111,\"#46039f\"],[0.2222222222222222,\"#7201a8\"],[0.3333333333333333,\"#9c179e\"],[0.4444444444444444,\"#bd3786\"],[0.5555555555555556,\"#d8576b\"],[0.6666666666666666,\"#ed7953\"],[0.7777777777777778,\"#fb9f3a\"],[0.8888888888888888,\"#fdca26\"],[1.0,\"#f0f921\"]]}],\"contourcarpet\":[{\"type\":\"contourcarpet\",\"colorbar\":{\"outlinewidth\":0,\"ticks\":\"\"}}],\"contour\":[{\"type\":\"contour\",\"colorbar\":{\"outlinewidth\":0,\"ticks\":\"\"},\"colorscale\":[[0.0,\"#0d0887\"],[0.1111111111111111,\"#46039f\"],[0.2222222222222222,\"#7201a8\"],[0.3333333333333333,\"#9c179e\"],[0.4444444444444444,\"#bd3786\"],[0.5555555555555556,\"#d8576b\"],[0.6666666666666666,\"#ed7953\"],[0.7777777777777778,\"#fb9f3a\"],[0.8888888888888888,\"#fdca26\"],[1.0,\"#f0f921\"]]}],\"surface\":[{\"type\":\"surface\",\"colorbar\":{\"outlinewidth\":0,\"ticks\":\"\"},\"colorscale\":[[0.0,\"#0d0887\"],[0.1111111111111111,\"#46039f\"],[0.2222222222222222,\"#7201a8\"],[0.3333333333333333,\"#9c179e\"],[0.4444444444444444,\"#bd3786\"],[0.5555555555555556,\"#d8576b\"],[0.6666666666666666,\"#ed7953\"],[0.7777777777777778,\"#fb9f3a\"],[0.8888888888888888,\"#fdca26\"],[1.0,\"#f0f921\"]]}],\"mesh3d\":[{\"type\":\"mesh3d\",\"colorbar\":{\"outlinewidth\":0,\"ticks\":\"\"}}],\"scatter\":[{\"fillpattern\":{\"fillmode\":\"overlay\",\"size\":10,\"solidity\":0.2},\"type\":\"scatter\"}],\"parcoords\":[{\"type\":\"parcoords\",\"line\":{\"colorbar\":{\"outlinewidth\":0,\"ticks\":\"\"}}}],\"scatterpolargl\":[{\"type\":\"scatterpolargl\",\"marker\":{\"colorbar\":{\"outlinewidth\":0,\"ticks\":\"\"}}}],\"bar\":[{\"error_x\":{\"color\":\"#2a3f5f\"},\"error_y\":{\"color\":\"#2a3f5f\"},\"marker\":{\"line\":{\"color\":\"#E5ECF6\",\"width\":0.5},\"pattern\":{\"fillmode\":\"overlay\",\"size\":10,\"solidity\":0.2}},\"type\":\"bar\"}],\"scattergeo\":[{\"type\":\"scattergeo\",\"marker\":{\"colorbar\":{\"outlinewidth\":0,\"ticks\":\"\"}}}],\"scatterpolar\":[{\"type\":\"scatterpolar\",\"marker\":{\"colorbar\":{\"outlinewidth\":0,\"ticks\":\"\"}}}],\"histogram\":[{\"marker\":{\"pattern\":{\"fillmode\":\"overlay\",\"size\":10,\"solidity\":0.2}},\"type\":\"histogram\"}],\"scattergl\":[{\"type\":\"scattergl\",\"marker\":{\"colorbar\":{\"outlinewidth\":0,\"ticks\":\"\"}}}],\"scatter3d\":[{\"type\":\"scatter3d\",\"line\":{\"colorbar\":{\"outlinewidth\":0,\"ticks\":\"\"}},\"marker\":{\"colorbar\":{\"outlinewidth\":0,\"ticks\":\"\"}}}],\"scattermapbox\":[{\"type\":\"scattermapbox\",\"marker\":{\"colorbar\":{\"outlinewidth\":0,\"ticks\":\"\"}}}],\"scatterternary\":[{\"type\":\"scatterternary\",\"marker\":{\"colorbar\":{\"outlinewidth\":0,\"ticks\":\"\"}}}],\"scattercarpet\":[{\"type\":\"scattercarpet\",\"marker\":{\"colorbar\":{\"outlinewidth\":0,\"ticks\":\"\"}}}],\"carpet\":[{\"aaxis\":{\"endlinecolor\":\"#2a3f5f\",\"gridcolor\":\"white\",\"linecolor\":\"white\",\"minorgridcolor\":\"white\",\"startlinecolor\":\"#2a3f5f\"},\"baxis\":{\"endlinecolor\":\"#2a3f5f\",\"gridcolor\":\"white\",\"linecolor\":\"white\",\"minorgridcolor\":\"white\",\"startlinecolor\":\"#2a3f5f\"},\"type\":\"carpet\"}],\"table\":[{\"cells\":{\"fill\":{\"color\":\"#EBF0F8\"},\"line\":{\"color\":\"white\"}},\"header\":{\"fill\":{\"color\":\"#C8D4E3\"},\"line\":{\"color\":\"white\"}},\"type\":\"table\"}],\"barpolar\":[{\"marker\":{\"line\":{\"color\":\"#E5ECF6\",\"width\":0.5},\"pattern\":{\"fillmode\":\"overlay\",\"size\":10,\"solidity\":0.2}},\"type\":\"barpolar\"}],\"pie\":[{\"automargin\":true,\"type\":\"pie\"}]},\"layout\":{\"autotypenumbers\":\"strict\",\"colorway\":[\"#636efa\",\"#EF553B\",\"#00cc96\",\"#ab63fa\",\"#FFA15A\",\"#19d3f3\",\"#FF6692\",\"#B6E880\",\"#FF97FF\",\"#FECB52\"],\"font\":{\"color\":\"#2a3f5f\"},\"hovermode\":\"closest\",\"hoverlabel\":{\"align\":\"left\"},\"paper_bgcolor\":\"white\",\"plot_bgcolor\":\"#E5ECF6\",\"polar\":{\"bgcolor\":\"#E5ECF6\",\"angularaxis\":{\"gridcolor\":\"white\",\"linecolor\":\"white\",\"ticks\":\"\"},\"radialaxis\":{\"gridcolor\":\"white\",\"linecolor\":\"white\",\"ticks\":\"\"}},\"ternary\":{\"bgcolor\":\"#E5ECF6\",\"aaxis\":{\"gridcolor\":\"white\",\"linecolor\":\"white\",\"ticks\":\"\"},\"baxis\":{\"gridcolor\":\"white\",\"linecolor\":\"white\",\"ticks\":\"\"},\"caxis\":{\"gridcolor\":\"white\",\"linecolor\":\"white\",\"ticks\":\"\"}},\"coloraxis\":{\"colorbar\":{\"outlinewidth\":0,\"ticks\":\"\"}},\"colorscale\":{\"sequential\":[[0.0,\"#0d0887\"],[0.1111111111111111,\"#46039f\"],[0.2222222222222222,\"#7201a8\"],[0.3333333333333333,\"#9c179e\"],[0.4444444444444444,\"#bd3786\"],[0.5555555555555556,\"#d8576b\"],[0.6666666666666666,\"#ed7953\"],[0.7777777777777778,\"#fb9f3a\"],[0.8888888888888888,\"#fdca26\"],[1.0,\"#f0f921\"]],\"sequentialminus\":[[0.0,\"#0d0887\"],[0.1111111111111111,\"#46039f\"],[0.2222222222222222,\"#7201a8\"],[0.3333333333333333,\"#9c179e\"],[0.4444444444444444,\"#bd3786\"],[0.5555555555555556,\"#d8576b\"],[0.6666666666666666,\"#ed7953\"],[0.7777777777777778,\"#fb9f3a\"],[0.8888888888888888,\"#fdca26\"],[1.0,\"#f0f921\"]],\"diverging\":[[0,\"#8e0152\"],[0.1,\"#c51b7d\"],[0.2,\"#de77ae\"],[0.3,\"#f1b6da\"],[0.4,\"#fde0ef\"],[0.5,\"#f7f7f7\"],[0.6,\"#e6f5d0\"],[0.7,\"#b8e186\"],[0.8,\"#7fbc41\"],[0.9,\"#4d9221\"],[1,\"#276419\"]]},\"xaxis\":{\"gridcolor\":\"white\",\"linecolor\":\"white\",\"ticks\":\"\",\"title\":{\"standoff\":15},\"zerolinecolor\":\"white\",\"automargin\":true,\"zerolinewidth\":2},\"yaxis\":{\"gridcolor\":\"white\",\"linecolor\":\"white\",\"ticks\":\"\",\"title\":{\"standoff\":15},\"zerolinecolor\":\"white\",\"automargin\":true,\"zerolinewidth\":2},\"scene\":{\"xaxis\":{\"backgroundcolor\":\"#E5ECF6\",\"gridcolor\":\"white\",\"linecolor\":\"white\",\"showbackground\":true,\"ticks\":\"\",\"zerolinecolor\":\"white\",\"gridwidth\":2},\"yaxis\":{\"backgroundcolor\":\"#E5ECF6\",\"gridcolor\":\"white\",\"linecolor\":\"white\",\"showbackground\":true,\"ticks\":\"\",\"zerolinecolor\":\"white\",\"gridwidth\":2},\"zaxis\":{\"backgroundcolor\":\"#E5ECF6\",\"gridcolor\":\"white\",\"linecolor\":\"white\",\"showbackground\":true,\"ticks\":\"\",\"zerolinecolor\":\"white\",\"gridwidth\":2}},\"shapedefaults\":{\"line\":{\"color\":\"#2a3f5f\"}},\"annotationdefaults\":{\"arrowcolor\":\"#2a3f5f\",\"arrowhead\":0,\"arrowwidth\":1},\"geo\":{\"bgcolor\":\"white\",\"landcolor\":\"#E5ECF6\",\"subunitcolor\":\"white\",\"showland\":true,\"showlakes\":true,\"lakecolor\":\"white\"},\"title\":{\"x\":0.05},\"mapbox\":{\"style\":\"light\"}}},\"title\":{\"font\":{\"size\":22,\"family\":\"Arial\",\"color\":\"black\"},\"text\":\"Gastos com Seguran\\u00e7a P\\u00fablica por Estado\",\"x\":0.43,\"y\":0.9,\"xanchor\":\"center\",\"yanchor\":\"top\"},\"yaxis\":{\"title\":{\"text\":\"Valor em R$\"},\"showgrid\":true,\"gridcolor\":\"#008080\"},\"xaxis\":{\"title\":{\"text\":\"Anos\"}},\"barmode\":\"group\",\"plot_bgcolor\":\"#F5FFFA\"},                        {\"responsive\": true}                    ).then(function(){\n",
       "                            \n",
       "var gd = document.getElementById('f56c2539-50b8-45e9-a58e-52a1b8291776');\n",
       "var x = new MutationObserver(function (mutations, observer) {{\n",
       "        var display = window.getComputedStyle(gd).display;\n",
       "        if (!display || display === 'none') {{\n",
       "            console.log([gd, 'removed!']);\n",
       "            Plotly.purge(gd);\n",
       "            observer.disconnect();\n",
       "        }}\n",
       "}});\n",
       "\n",
       "// Listen for the removal of the full notebook cells\n",
       "var notebookContainer = gd.closest('#notebook-container');\n",
       "if (notebookContainer) {{\n",
       "    x.observe(notebookContainer, {childList: true});\n",
       "}}\n",
       "\n",
       "// Listen for the clearing of the current output cell\n",
       "var outputEl = gd.closest('.output');\n",
       "if (outputEl) {{\n",
       "    x.observe(outputEl, {childList: true});\n",
       "}}\n",
       "\n",
       "                        })                };                });            </script>        </div>"
      ]
     },
     "metadata": {},
     "output_type": "display_data"
    }
   ],
   "source": [
    "import plotly.graph_objects as go\n",
    "\n",
    "# Dados de exemplo - gastos com segurança pública e taxas de homicídio\n",
    "anos = gastos_evol.columns.tolist()\n",
    "estados = gastos_evol.index.tolist()\n",
    "valores = gastos_evol.values\n",
    "\n",
    "cores = ['#DC143C', '#FA8072', '#FFD700', '#90EE90', '#1E90FF', '#0000CD', '#836FFF', '#FF69B4', '#9932CC']\n",
    "\n",
    "# Criar o gráfico de barras\n",
    "gastos_total = go.Figure()\n",
    "\n",
    "for i, estado in enumerate(estados):\n",
    "    gastos_total.add_trace(go.Bar(x=anos, y=valores[i], name=estado,marker=dict(color=cores[i])))\n",
    "\n",
    "# Configurar o layout do gráfico\n",
    "gastos_total.update_layout(\n",
    "    title={\n",
    "        'text': 'Gastos com Segurança Pública por Estado',\n",
    "        'x': 0.43,\n",
    "        'y': 0.9,\n",
    "        'xanchor': 'center',\n",
    "        'yanchor': 'top',\n",
    "        'font': {'size': 22, 'family': 'Arial', 'color': 'black'}\n",
    "    },\n",
    "    xaxis_title='Anos',\n",
    "    yaxis_title='Valor em R$',\n",
    "    barmode='group',\n",
    "    plot_bgcolor='#F5FFFA',\n",
    "    yaxis=dict(showgrid=True, gridcolor='#008080')\n",
    ")\n",
    "\n",
    "# Exibir o gráfico\n",
    "gastos_total.show()\n"
   ]
  },
  {
   "cell_type": "code",
   "execution_count": 48,
   "metadata": {
    "colab": {
     "base_uri": "https://localhost:8080/",
     "height": 542
    },
    "id": "tVkqDDWS4T8E",
    "outputId": "80d18e26-cc13-4c87-9d0a-17b082745754"
   },
   "outputs": [
    {
     "data": {
      "application/vnd.plotly.v1+json": {
       "config": {
        "plotlyServerURL": "https://plot.ly"
       },
       "data": [
        {
         "marker": {
          "color": "#DC143C"
         },
         "name": "Alagoas",
         "type": "scatter",
         "x": [
          "2018",
          "2019",
          "2020",
          "2021"
         ],
         "y": [
          45.77437237045642,
          32.810394572711274,
          37.32609129585985,
          31.764888714431272
         ]
        },
        {
         "marker": {
          "color": "#FA8072"
         },
         "name": "Ceará",
         "type": "scatter",
         "x": [
          "2018",
          "2019",
          "2020",
          "2021"
         ],
         "y": [
          52.756557685296116,
          25.832017641548838,
          45.226444070562835,
          36.989020169729606
         ]
        },
        {
         "marker": {
          "color": "#FFD700"
         },
         "name": "Maranhão",
         "type": "scatter",
         "x": [
          "2018",
          "2019",
          "2020",
          "2021"
         ],
         "y": [
          25.245005191857068,
          22.077173714707794,
          28.743718197430127,
          28.252844646260684
         ]
        },
        {
         "marker": {
          "color": "#90EE90"
         },
         "name": "Paraíba",
         "type": "scatter",
         "x": [
          "2018",
          "2019",
          "2020",
          "2021"
         ],
         "y": [
          30.276522233476527,
          23.443758746301448,
          28.866552108211444,
          28.596728248567395
         ]
        },
        {
         "marker": {
          "color": "#1E90FF"
         },
         "name": "Pernambuco",
         "type": "scatter",
         "x": [
          "2018",
          "2019",
          "2020",
          "2021"
         ],
         "y": [
          43.91186709257317,
          35.7013147647433,
          38.27747812875229,
          34.8121143263737
         ]
        },
        {
         "marker": {
          "color": "#0000CD"
         },
         "name": "Piauí",
         "type": "scatter",
         "x": [
          "2018",
          "2019",
          "2020",
          "2021"
         ],
         "y": [
          18.90011153210063,
          17.933372784716735,
          21.545156453795236,
          23.77412754728224
         ]
        },
        {
         "marker": {
          "color": "#836FFF"
         },
         "name": "Rio Grande do Norte",
         "type": "scatter",
         "x": [
          "2018",
          "2019",
          "2020",
          "2021"
         ],
         "y": [
          55.36057671578984,
          36.04371212594312,
          38.028784734159274,
          32.43559288191787
         ]
        },
        {
         "marker": {
          "color": "#FF69B4"
         },
         "name": "Bahia",
         "type": "scatter",
         "x": [
          "2018",
          "2019",
          "2020",
          "2021"
         ],
         "y": [
          42.8418556963972,
          40.35483206419336,
          44.89427575547026,
          44.93741993812063
         ]
        },
        {
         "marker": {
          "color": "#9932CC"
         },
         "name": "Sergipe",
         "type": "scatter",
         "x": [
          "2018",
          "2019",
          "2020",
          "2021"
         ],
         "y": [
          49.51042615835963,
          42.06732860717555,
          42.56471604978735,
          33.86824057056011
         ]
        }
       ],
       "layout": {
        "plot_bgcolor": "#F0FFFF",
        "template": {
         "data": {
          "bar": [
           {
            "error_x": {
             "color": "#2a3f5f"
            },
            "error_y": {
             "color": "#2a3f5f"
            },
            "marker": {
             "line": {
              "color": "#E5ECF6",
              "width": 0.5
             },
             "pattern": {
              "fillmode": "overlay",
              "size": 10,
              "solidity": 0.2
             }
            },
            "type": "bar"
           }
          ],
          "barpolar": [
           {
            "marker": {
             "line": {
              "color": "#E5ECF6",
              "width": 0.5
             },
             "pattern": {
              "fillmode": "overlay",
              "size": 10,
              "solidity": 0.2
             }
            },
            "type": "barpolar"
           }
          ],
          "carpet": [
           {
            "aaxis": {
             "endlinecolor": "#2a3f5f",
             "gridcolor": "white",
             "linecolor": "white",
             "minorgridcolor": "white",
             "startlinecolor": "#2a3f5f"
            },
            "baxis": {
             "endlinecolor": "#2a3f5f",
             "gridcolor": "white",
             "linecolor": "white",
             "minorgridcolor": "white",
             "startlinecolor": "#2a3f5f"
            },
            "type": "carpet"
           }
          ],
          "choropleth": [
           {
            "colorbar": {
             "outlinewidth": 0,
             "ticks": ""
            },
            "type": "choropleth"
           }
          ],
          "contour": [
           {
            "colorbar": {
             "outlinewidth": 0,
             "ticks": ""
            },
            "colorscale": [
             [
              0,
              "#0d0887"
             ],
             [
              0.1111111111111111,
              "#46039f"
             ],
             [
              0.2222222222222222,
              "#7201a8"
             ],
             [
              0.3333333333333333,
              "#9c179e"
             ],
             [
              0.4444444444444444,
              "#bd3786"
             ],
             [
              0.5555555555555556,
              "#d8576b"
             ],
             [
              0.6666666666666666,
              "#ed7953"
             ],
             [
              0.7777777777777778,
              "#fb9f3a"
             ],
             [
              0.8888888888888888,
              "#fdca26"
             ],
             [
              1,
              "#f0f921"
             ]
            ],
            "type": "contour"
           }
          ],
          "contourcarpet": [
           {
            "colorbar": {
             "outlinewidth": 0,
             "ticks": ""
            },
            "type": "contourcarpet"
           }
          ],
          "heatmap": [
           {
            "colorbar": {
             "outlinewidth": 0,
             "ticks": ""
            },
            "colorscale": [
             [
              0,
              "#0d0887"
             ],
             [
              0.1111111111111111,
              "#46039f"
             ],
             [
              0.2222222222222222,
              "#7201a8"
             ],
             [
              0.3333333333333333,
              "#9c179e"
             ],
             [
              0.4444444444444444,
              "#bd3786"
             ],
             [
              0.5555555555555556,
              "#d8576b"
             ],
             [
              0.6666666666666666,
              "#ed7953"
             ],
             [
              0.7777777777777778,
              "#fb9f3a"
             ],
             [
              0.8888888888888888,
              "#fdca26"
             ],
             [
              1,
              "#f0f921"
             ]
            ],
            "type": "heatmap"
           }
          ],
          "heatmapgl": [
           {
            "colorbar": {
             "outlinewidth": 0,
             "ticks": ""
            },
            "colorscale": [
             [
              0,
              "#0d0887"
             ],
             [
              0.1111111111111111,
              "#46039f"
             ],
             [
              0.2222222222222222,
              "#7201a8"
             ],
             [
              0.3333333333333333,
              "#9c179e"
             ],
             [
              0.4444444444444444,
              "#bd3786"
             ],
             [
              0.5555555555555556,
              "#d8576b"
             ],
             [
              0.6666666666666666,
              "#ed7953"
             ],
             [
              0.7777777777777778,
              "#fb9f3a"
             ],
             [
              0.8888888888888888,
              "#fdca26"
             ],
             [
              1,
              "#f0f921"
             ]
            ],
            "type": "heatmapgl"
           }
          ],
          "histogram": [
           {
            "marker": {
             "pattern": {
              "fillmode": "overlay",
              "size": 10,
              "solidity": 0.2
             }
            },
            "type": "histogram"
           }
          ],
          "histogram2d": [
           {
            "colorbar": {
             "outlinewidth": 0,
             "ticks": ""
            },
            "colorscale": [
             [
              0,
              "#0d0887"
             ],
             [
              0.1111111111111111,
              "#46039f"
             ],
             [
              0.2222222222222222,
              "#7201a8"
             ],
             [
              0.3333333333333333,
              "#9c179e"
             ],
             [
              0.4444444444444444,
              "#bd3786"
             ],
             [
              0.5555555555555556,
              "#d8576b"
             ],
             [
              0.6666666666666666,
              "#ed7953"
             ],
             [
              0.7777777777777778,
              "#fb9f3a"
             ],
             [
              0.8888888888888888,
              "#fdca26"
             ],
             [
              1,
              "#f0f921"
             ]
            ],
            "type": "histogram2d"
           }
          ],
          "histogram2dcontour": [
           {
            "colorbar": {
             "outlinewidth": 0,
             "ticks": ""
            },
            "colorscale": [
             [
              0,
              "#0d0887"
             ],
             [
              0.1111111111111111,
              "#46039f"
             ],
             [
              0.2222222222222222,
              "#7201a8"
             ],
             [
              0.3333333333333333,
              "#9c179e"
             ],
             [
              0.4444444444444444,
              "#bd3786"
             ],
             [
              0.5555555555555556,
              "#d8576b"
             ],
             [
              0.6666666666666666,
              "#ed7953"
             ],
             [
              0.7777777777777778,
              "#fb9f3a"
             ],
             [
              0.8888888888888888,
              "#fdca26"
             ],
             [
              1,
              "#f0f921"
             ]
            ],
            "type": "histogram2dcontour"
           }
          ],
          "mesh3d": [
           {
            "colorbar": {
             "outlinewidth": 0,
             "ticks": ""
            },
            "type": "mesh3d"
           }
          ],
          "parcoords": [
           {
            "line": {
             "colorbar": {
              "outlinewidth": 0,
              "ticks": ""
             }
            },
            "type": "parcoords"
           }
          ],
          "pie": [
           {
            "automargin": true,
            "type": "pie"
           }
          ],
          "scatter": [
           {
            "fillpattern": {
             "fillmode": "overlay",
             "size": 10,
             "solidity": 0.2
            },
            "type": "scatter"
           }
          ],
          "scatter3d": [
           {
            "line": {
             "colorbar": {
              "outlinewidth": 0,
              "ticks": ""
             }
            },
            "marker": {
             "colorbar": {
              "outlinewidth": 0,
              "ticks": ""
             }
            },
            "type": "scatter3d"
           }
          ],
          "scattercarpet": [
           {
            "marker": {
             "colorbar": {
              "outlinewidth": 0,
              "ticks": ""
             }
            },
            "type": "scattercarpet"
           }
          ],
          "scattergeo": [
           {
            "marker": {
             "colorbar": {
              "outlinewidth": 0,
              "ticks": ""
             }
            },
            "type": "scattergeo"
           }
          ],
          "scattergl": [
           {
            "marker": {
             "colorbar": {
              "outlinewidth": 0,
              "ticks": ""
             }
            },
            "type": "scattergl"
           }
          ],
          "scattermapbox": [
           {
            "marker": {
             "colorbar": {
              "outlinewidth": 0,
              "ticks": ""
             }
            },
            "type": "scattermapbox"
           }
          ],
          "scatterpolar": [
           {
            "marker": {
             "colorbar": {
              "outlinewidth": 0,
              "ticks": ""
             }
            },
            "type": "scatterpolar"
           }
          ],
          "scatterpolargl": [
           {
            "marker": {
             "colorbar": {
              "outlinewidth": 0,
              "ticks": ""
             }
            },
            "type": "scatterpolargl"
           }
          ],
          "scatterternary": [
           {
            "marker": {
             "colorbar": {
              "outlinewidth": 0,
              "ticks": ""
             }
            },
            "type": "scatterternary"
           }
          ],
          "surface": [
           {
            "colorbar": {
             "outlinewidth": 0,
             "ticks": ""
            },
            "colorscale": [
             [
              0,
              "#0d0887"
             ],
             [
              0.1111111111111111,
              "#46039f"
             ],
             [
              0.2222222222222222,
              "#7201a8"
             ],
             [
              0.3333333333333333,
              "#9c179e"
             ],
             [
              0.4444444444444444,
              "#bd3786"
             ],
             [
              0.5555555555555556,
              "#d8576b"
             ],
             [
              0.6666666666666666,
              "#ed7953"
             ],
             [
              0.7777777777777778,
              "#fb9f3a"
             ],
             [
              0.8888888888888888,
              "#fdca26"
             ],
             [
              1,
              "#f0f921"
             ]
            ],
            "type": "surface"
           }
          ],
          "table": [
           {
            "cells": {
             "fill": {
              "color": "#EBF0F8"
             },
             "line": {
              "color": "white"
             }
            },
            "header": {
             "fill": {
              "color": "#C8D4E3"
             },
             "line": {
              "color": "white"
             }
            },
            "type": "table"
           }
          ]
         },
         "layout": {
          "annotationdefaults": {
           "arrowcolor": "#2a3f5f",
           "arrowhead": 0,
           "arrowwidth": 1
          },
          "autotypenumbers": "strict",
          "coloraxis": {
           "colorbar": {
            "outlinewidth": 0,
            "ticks": ""
           }
          },
          "colorscale": {
           "diverging": [
            [
             0,
             "#8e0152"
            ],
            [
             0.1,
             "#c51b7d"
            ],
            [
             0.2,
             "#de77ae"
            ],
            [
             0.3,
             "#f1b6da"
            ],
            [
             0.4,
             "#fde0ef"
            ],
            [
             0.5,
             "#f7f7f7"
            ],
            [
             0.6,
             "#e6f5d0"
            ],
            [
             0.7,
             "#b8e186"
            ],
            [
             0.8,
             "#7fbc41"
            ],
            [
             0.9,
             "#4d9221"
            ],
            [
             1,
             "#276419"
            ]
           ],
           "sequential": [
            [
             0,
             "#0d0887"
            ],
            [
             0.1111111111111111,
             "#46039f"
            ],
            [
             0.2222222222222222,
             "#7201a8"
            ],
            [
             0.3333333333333333,
             "#9c179e"
            ],
            [
             0.4444444444444444,
             "#bd3786"
            ],
            [
             0.5555555555555556,
             "#d8576b"
            ],
            [
             0.6666666666666666,
             "#ed7953"
            ],
            [
             0.7777777777777778,
             "#fb9f3a"
            ],
            [
             0.8888888888888888,
             "#fdca26"
            ],
            [
             1,
             "#f0f921"
            ]
           ],
           "sequentialminus": [
            [
             0,
             "#0d0887"
            ],
            [
             0.1111111111111111,
             "#46039f"
            ],
            [
             0.2222222222222222,
             "#7201a8"
            ],
            [
             0.3333333333333333,
             "#9c179e"
            ],
            [
             0.4444444444444444,
             "#bd3786"
            ],
            [
             0.5555555555555556,
             "#d8576b"
            ],
            [
             0.6666666666666666,
             "#ed7953"
            ],
            [
             0.7777777777777778,
             "#fb9f3a"
            ],
            [
             0.8888888888888888,
             "#fdca26"
            ],
            [
             1,
             "#f0f921"
            ]
           ]
          },
          "colorway": [
           "#636efa",
           "#EF553B",
           "#00cc96",
           "#ab63fa",
           "#FFA15A",
           "#19d3f3",
           "#FF6692",
           "#B6E880",
           "#FF97FF",
           "#FECB52"
          ],
          "font": {
           "color": "#2a3f5f"
          },
          "geo": {
           "bgcolor": "white",
           "lakecolor": "white",
           "landcolor": "#E5ECF6",
           "showlakes": true,
           "showland": true,
           "subunitcolor": "white"
          },
          "hoverlabel": {
           "align": "left"
          },
          "hovermode": "closest",
          "mapbox": {
           "style": "light"
          },
          "paper_bgcolor": "white",
          "plot_bgcolor": "#E5ECF6",
          "polar": {
           "angularaxis": {
            "gridcolor": "white",
            "linecolor": "white",
            "ticks": ""
           },
           "bgcolor": "#E5ECF6",
           "radialaxis": {
            "gridcolor": "white",
            "linecolor": "white",
            "ticks": ""
           }
          },
          "scene": {
           "xaxis": {
            "backgroundcolor": "#E5ECF6",
            "gridcolor": "white",
            "gridwidth": 2,
            "linecolor": "white",
            "showbackground": true,
            "ticks": "",
            "zerolinecolor": "white"
           },
           "yaxis": {
            "backgroundcolor": "#E5ECF6",
            "gridcolor": "white",
            "gridwidth": 2,
            "linecolor": "white",
            "showbackground": true,
            "ticks": "",
            "zerolinecolor": "white"
           },
           "zaxis": {
            "backgroundcolor": "#E5ECF6",
            "gridcolor": "white",
            "gridwidth": 2,
            "linecolor": "white",
            "showbackground": true,
            "ticks": "",
            "zerolinecolor": "white"
           }
          },
          "shapedefaults": {
           "line": {
            "color": "#2a3f5f"
           }
          },
          "ternary": {
           "aaxis": {
            "gridcolor": "white",
            "linecolor": "white",
            "ticks": ""
           },
           "baxis": {
            "gridcolor": "white",
            "linecolor": "white",
            "ticks": ""
           },
           "bgcolor": "#E5ECF6",
           "caxis": {
            "gridcolor": "white",
            "linecolor": "white",
            "ticks": ""
           }
          },
          "title": {
           "x": 0.05
          },
          "xaxis": {
           "automargin": true,
           "gridcolor": "white",
           "linecolor": "white",
           "ticks": "",
           "title": {
            "standoff": 15
           },
           "zerolinecolor": "white",
           "zerolinewidth": 2
          },
          "yaxis": {
           "automargin": true,
           "gridcolor": "white",
           "linecolor": "white",
           "ticks": "",
           "title": {
            "standoff": 15
           },
           "zerolinecolor": "white",
           "zerolinewidth": 2
          }
         }
        },
        "title": {
         "font": {
          "color": "black",
          "family": "Arial",
          "size": 22
         },
         "text": "Taxas de Homicídio por Estado",
         "x": 0.43,
         "xanchor": "center",
         "y": 0.95,
         "yanchor": "top"
        },
        "xaxis": {
         "showgrid": true,
         "title": {
          "text": "Ano"
         }
        },
        "yaxis": {
         "showgrid": true,
         "title": {
          "text": "Taxa em %"
         }
        }
       }
      },
      "text/html": [
       "<div>                            <div id=\"de6f1436-4006-45ce-ac1b-5c26b2e72c9d\" class=\"plotly-graph-div\" style=\"height:525px; width:100%;\"></div>            <script type=\"text/javascript\">                require([\"plotly\"], function(Plotly) {                    window.PLOTLYENV=window.PLOTLYENV || {};                                    if (document.getElementById(\"de6f1436-4006-45ce-ac1b-5c26b2e72c9d\")) {                    Plotly.newPlot(                        \"de6f1436-4006-45ce-ac1b-5c26b2e72c9d\",                        [{\"marker\":{\"color\":\"#DC143C\"},\"name\":\"Alagoas\",\"x\":[\"2018\",\"2019\",\"2020\",\"2021\"],\"y\":[45.77437237045642,32.810394572711274,37.32609129585985,31.764888714431272],\"type\":\"scatter\"},{\"marker\":{\"color\":\"#FA8072\"},\"name\":\"Cear\\u00e1\",\"x\":[\"2018\",\"2019\",\"2020\",\"2021\"],\"y\":[52.756557685296116,25.832017641548838,45.226444070562835,36.989020169729606],\"type\":\"scatter\"},{\"marker\":{\"color\":\"#FFD700\"},\"name\":\"Maranh\\u00e3o\",\"x\":[\"2018\",\"2019\",\"2020\",\"2021\"],\"y\":[25.245005191857068,22.077173714707794,28.743718197430127,28.252844646260684],\"type\":\"scatter\"},{\"marker\":{\"color\":\"#90EE90\"},\"name\":\"Para\\u00edba\",\"x\":[\"2018\",\"2019\",\"2020\",\"2021\"],\"y\":[30.276522233476527,23.443758746301448,28.866552108211444,28.596728248567395],\"type\":\"scatter\"},{\"marker\":{\"color\":\"#1E90FF\"},\"name\":\"Pernambuco\",\"x\":[\"2018\",\"2019\",\"2020\",\"2021\"],\"y\":[43.91186709257317,35.7013147647433,38.27747812875229,34.8121143263737],\"type\":\"scatter\"},{\"marker\":{\"color\":\"#0000CD\"},\"name\":\"Piau\\u00ed\",\"x\":[\"2018\",\"2019\",\"2020\",\"2021\"],\"y\":[18.90011153210063,17.933372784716735,21.545156453795236,23.77412754728224],\"type\":\"scatter\"},{\"marker\":{\"color\":\"#836FFF\"},\"name\":\"Rio Grande do Norte\",\"x\":[\"2018\",\"2019\",\"2020\",\"2021\"],\"y\":[55.36057671578984,36.04371212594312,38.028784734159274,32.43559288191787],\"type\":\"scatter\"},{\"marker\":{\"color\":\"#FF69B4\"},\"name\":\"Bahia\",\"x\":[\"2018\",\"2019\",\"2020\",\"2021\"],\"y\":[42.8418556963972,40.35483206419336,44.89427575547026,44.93741993812063],\"type\":\"scatter\"},{\"marker\":{\"color\":\"#9932CC\"},\"name\":\"Sergipe\",\"x\":[\"2018\",\"2019\",\"2020\",\"2021\"],\"y\":[49.51042615835963,42.06732860717555,42.56471604978735,33.86824057056011],\"type\":\"scatter\"}],                        {\"template\":{\"data\":{\"histogram2dcontour\":[{\"type\":\"histogram2dcontour\",\"colorbar\":{\"outlinewidth\":0,\"ticks\":\"\"},\"colorscale\":[[0.0,\"#0d0887\"],[0.1111111111111111,\"#46039f\"],[0.2222222222222222,\"#7201a8\"],[0.3333333333333333,\"#9c179e\"],[0.4444444444444444,\"#bd3786\"],[0.5555555555555556,\"#d8576b\"],[0.6666666666666666,\"#ed7953\"],[0.7777777777777778,\"#fb9f3a\"],[0.8888888888888888,\"#fdca26\"],[1.0,\"#f0f921\"]]}],\"choropleth\":[{\"type\":\"choropleth\",\"colorbar\":{\"outlinewidth\":0,\"ticks\":\"\"}}],\"histogram2d\":[{\"type\":\"histogram2d\",\"colorbar\":{\"outlinewidth\":0,\"ticks\":\"\"},\"colorscale\":[[0.0,\"#0d0887\"],[0.1111111111111111,\"#46039f\"],[0.2222222222222222,\"#7201a8\"],[0.3333333333333333,\"#9c179e\"],[0.4444444444444444,\"#bd3786\"],[0.5555555555555556,\"#d8576b\"],[0.6666666666666666,\"#ed7953\"],[0.7777777777777778,\"#fb9f3a\"],[0.8888888888888888,\"#fdca26\"],[1.0,\"#f0f921\"]]}],\"heatmap\":[{\"type\":\"heatmap\",\"colorbar\":{\"outlinewidth\":0,\"ticks\":\"\"},\"colorscale\":[[0.0,\"#0d0887\"],[0.1111111111111111,\"#46039f\"],[0.2222222222222222,\"#7201a8\"],[0.3333333333333333,\"#9c179e\"],[0.4444444444444444,\"#bd3786\"],[0.5555555555555556,\"#d8576b\"],[0.6666666666666666,\"#ed7953\"],[0.7777777777777778,\"#fb9f3a\"],[0.8888888888888888,\"#fdca26\"],[1.0,\"#f0f921\"]]}],\"heatmapgl\":[{\"type\":\"heatmapgl\",\"colorbar\":{\"outlinewidth\":0,\"ticks\":\"\"},\"colorscale\":[[0.0,\"#0d0887\"],[0.1111111111111111,\"#46039f\"],[0.2222222222222222,\"#7201a8\"],[0.3333333333333333,\"#9c179e\"],[0.4444444444444444,\"#bd3786\"],[0.5555555555555556,\"#d8576b\"],[0.6666666666666666,\"#ed7953\"],[0.7777777777777778,\"#fb9f3a\"],[0.8888888888888888,\"#fdca26\"],[1.0,\"#f0f921\"]]}],\"contourcarpet\":[{\"type\":\"contourcarpet\",\"colorbar\":{\"outlinewidth\":0,\"ticks\":\"\"}}],\"contour\":[{\"type\":\"contour\",\"colorbar\":{\"outlinewidth\":0,\"ticks\":\"\"},\"colorscale\":[[0.0,\"#0d0887\"],[0.1111111111111111,\"#46039f\"],[0.2222222222222222,\"#7201a8\"],[0.3333333333333333,\"#9c179e\"],[0.4444444444444444,\"#bd3786\"],[0.5555555555555556,\"#d8576b\"],[0.6666666666666666,\"#ed7953\"],[0.7777777777777778,\"#fb9f3a\"],[0.8888888888888888,\"#fdca26\"],[1.0,\"#f0f921\"]]}],\"surface\":[{\"type\":\"surface\",\"colorbar\":{\"outlinewidth\":0,\"ticks\":\"\"},\"colorscale\":[[0.0,\"#0d0887\"],[0.1111111111111111,\"#46039f\"],[0.2222222222222222,\"#7201a8\"],[0.3333333333333333,\"#9c179e\"],[0.4444444444444444,\"#bd3786\"],[0.5555555555555556,\"#d8576b\"],[0.6666666666666666,\"#ed7953\"],[0.7777777777777778,\"#fb9f3a\"],[0.8888888888888888,\"#fdca26\"],[1.0,\"#f0f921\"]]}],\"mesh3d\":[{\"type\":\"mesh3d\",\"colorbar\":{\"outlinewidth\":0,\"ticks\":\"\"}}],\"scatter\":[{\"fillpattern\":{\"fillmode\":\"overlay\",\"size\":10,\"solidity\":0.2},\"type\":\"scatter\"}],\"parcoords\":[{\"type\":\"parcoords\",\"line\":{\"colorbar\":{\"outlinewidth\":0,\"ticks\":\"\"}}}],\"scatterpolargl\":[{\"type\":\"scatterpolargl\",\"marker\":{\"colorbar\":{\"outlinewidth\":0,\"ticks\":\"\"}}}],\"bar\":[{\"error_x\":{\"color\":\"#2a3f5f\"},\"error_y\":{\"color\":\"#2a3f5f\"},\"marker\":{\"line\":{\"color\":\"#E5ECF6\",\"width\":0.5},\"pattern\":{\"fillmode\":\"overlay\",\"size\":10,\"solidity\":0.2}},\"type\":\"bar\"}],\"scattergeo\":[{\"type\":\"scattergeo\",\"marker\":{\"colorbar\":{\"outlinewidth\":0,\"ticks\":\"\"}}}],\"scatterpolar\":[{\"type\":\"scatterpolar\",\"marker\":{\"colorbar\":{\"outlinewidth\":0,\"ticks\":\"\"}}}],\"histogram\":[{\"marker\":{\"pattern\":{\"fillmode\":\"overlay\",\"size\":10,\"solidity\":0.2}},\"type\":\"histogram\"}],\"scattergl\":[{\"type\":\"scattergl\",\"marker\":{\"colorbar\":{\"outlinewidth\":0,\"ticks\":\"\"}}}],\"scatter3d\":[{\"type\":\"scatter3d\",\"line\":{\"colorbar\":{\"outlinewidth\":0,\"ticks\":\"\"}},\"marker\":{\"colorbar\":{\"outlinewidth\":0,\"ticks\":\"\"}}}],\"scattermapbox\":[{\"type\":\"scattermapbox\",\"marker\":{\"colorbar\":{\"outlinewidth\":0,\"ticks\":\"\"}}}],\"scatterternary\":[{\"type\":\"scatterternary\",\"marker\":{\"colorbar\":{\"outlinewidth\":0,\"ticks\":\"\"}}}],\"scattercarpet\":[{\"type\":\"scattercarpet\",\"marker\":{\"colorbar\":{\"outlinewidth\":0,\"ticks\":\"\"}}}],\"carpet\":[{\"aaxis\":{\"endlinecolor\":\"#2a3f5f\",\"gridcolor\":\"white\",\"linecolor\":\"white\",\"minorgridcolor\":\"white\",\"startlinecolor\":\"#2a3f5f\"},\"baxis\":{\"endlinecolor\":\"#2a3f5f\",\"gridcolor\":\"white\",\"linecolor\":\"white\",\"minorgridcolor\":\"white\",\"startlinecolor\":\"#2a3f5f\"},\"type\":\"carpet\"}],\"table\":[{\"cells\":{\"fill\":{\"color\":\"#EBF0F8\"},\"line\":{\"color\":\"white\"}},\"header\":{\"fill\":{\"color\":\"#C8D4E3\"},\"line\":{\"color\":\"white\"}},\"type\":\"table\"}],\"barpolar\":[{\"marker\":{\"line\":{\"color\":\"#E5ECF6\",\"width\":0.5},\"pattern\":{\"fillmode\":\"overlay\",\"size\":10,\"solidity\":0.2}},\"type\":\"barpolar\"}],\"pie\":[{\"automargin\":true,\"type\":\"pie\"}]},\"layout\":{\"autotypenumbers\":\"strict\",\"colorway\":[\"#636efa\",\"#EF553B\",\"#00cc96\",\"#ab63fa\",\"#FFA15A\",\"#19d3f3\",\"#FF6692\",\"#B6E880\",\"#FF97FF\",\"#FECB52\"],\"font\":{\"color\":\"#2a3f5f\"},\"hovermode\":\"closest\",\"hoverlabel\":{\"align\":\"left\"},\"paper_bgcolor\":\"white\",\"plot_bgcolor\":\"#E5ECF6\",\"polar\":{\"bgcolor\":\"#E5ECF6\",\"angularaxis\":{\"gridcolor\":\"white\",\"linecolor\":\"white\",\"ticks\":\"\"},\"radialaxis\":{\"gridcolor\":\"white\",\"linecolor\":\"white\",\"ticks\":\"\"}},\"ternary\":{\"bgcolor\":\"#E5ECF6\",\"aaxis\":{\"gridcolor\":\"white\",\"linecolor\":\"white\",\"ticks\":\"\"},\"baxis\":{\"gridcolor\":\"white\",\"linecolor\":\"white\",\"ticks\":\"\"},\"caxis\":{\"gridcolor\":\"white\",\"linecolor\":\"white\",\"ticks\":\"\"}},\"coloraxis\":{\"colorbar\":{\"outlinewidth\":0,\"ticks\":\"\"}},\"colorscale\":{\"sequential\":[[0.0,\"#0d0887\"],[0.1111111111111111,\"#46039f\"],[0.2222222222222222,\"#7201a8\"],[0.3333333333333333,\"#9c179e\"],[0.4444444444444444,\"#bd3786\"],[0.5555555555555556,\"#d8576b\"],[0.6666666666666666,\"#ed7953\"],[0.7777777777777778,\"#fb9f3a\"],[0.8888888888888888,\"#fdca26\"],[1.0,\"#f0f921\"]],\"sequentialminus\":[[0.0,\"#0d0887\"],[0.1111111111111111,\"#46039f\"],[0.2222222222222222,\"#7201a8\"],[0.3333333333333333,\"#9c179e\"],[0.4444444444444444,\"#bd3786\"],[0.5555555555555556,\"#d8576b\"],[0.6666666666666666,\"#ed7953\"],[0.7777777777777778,\"#fb9f3a\"],[0.8888888888888888,\"#fdca26\"],[1.0,\"#f0f921\"]],\"diverging\":[[0,\"#8e0152\"],[0.1,\"#c51b7d\"],[0.2,\"#de77ae\"],[0.3,\"#f1b6da\"],[0.4,\"#fde0ef\"],[0.5,\"#f7f7f7\"],[0.6,\"#e6f5d0\"],[0.7,\"#b8e186\"],[0.8,\"#7fbc41\"],[0.9,\"#4d9221\"],[1,\"#276419\"]]},\"xaxis\":{\"gridcolor\":\"white\",\"linecolor\":\"white\",\"ticks\":\"\",\"title\":{\"standoff\":15},\"zerolinecolor\":\"white\",\"automargin\":true,\"zerolinewidth\":2},\"yaxis\":{\"gridcolor\":\"white\",\"linecolor\":\"white\",\"ticks\":\"\",\"title\":{\"standoff\":15},\"zerolinecolor\":\"white\",\"automargin\":true,\"zerolinewidth\":2},\"scene\":{\"xaxis\":{\"backgroundcolor\":\"#E5ECF6\",\"gridcolor\":\"white\",\"linecolor\":\"white\",\"showbackground\":true,\"ticks\":\"\",\"zerolinecolor\":\"white\",\"gridwidth\":2},\"yaxis\":{\"backgroundcolor\":\"#E5ECF6\",\"gridcolor\":\"white\",\"linecolor\":\"white\",\"showbackground\":true,\"ticks\":\"\",\"zerolinecolor\":\"white\",\"gridwidth\":2},\"zaxis\":{\"backgroundcolor\":\"#E5ECF6\",\"gridcolor\":\"white\",\"linecolor\":\"white\",\"showbackground\":true,\"ticks\":\"\",\"zerolinecolor\":\"white\",\"gridwidth\":2}},\"shapedefaults\":{\"line\":{\"color\":\"#2a3f5f\"}},\"annotationdefaults\":{\"arrowcolor\":\"#2a3f5f\",\"arrowhead\":0,\"arrowwidth\":1},\"geo\":{\"bgcolor\":\"white\",\"landcolor\":\"#E5ECF6\",\"subunitcolor\":\"white\",\"showland\":true,\"showlakes\":true,\"lakecolor\":\"white\"},\"title\":{\"x\":0.05},\"mapbox\":{\"style\":\"light\"}}},\"title\":{\"font\":{\"size\":22,\"family\":\"Arial\",\"color\":\"black\"},\"text\":\"Taxas de Homic\\u00eddio por Estado\",\"x\":0.43,\"y\":0.95,\"xanchor\":\"center\",\"yanchor\":\"top\"},\"xaxis\":{\"title\":{\"text\":\"Ano\"},\"showgrid\":true},\"yaxis\":{\"title\":{\"text\":\"Taxa em %\"},\"showgrid\":true},\"plot_bgcolor\":\"#F0FFFF\"},                        {\"responsive\": true}                    ).then(function(){\n",
       "                            \n",
       "var gd = document.getElementById('de6f1436-4006-45ce-ac1b-5c26b2e72c9d');\n",
       "var x = new MutationObserver(function (mutations, observer) {{\n",
       "        var display = window.getComputedStyle(gd).display;\n",
       "        if (!display || display === 'none') {{\n",
       "            console.log([gd, 'removed!']);\n",
       "            Plotly.purge(gd);\n",
       "            observer.disconnect();\n",
       "        }}\n",
       "}});\n",
       "\n",
       "// Listen for the removal of the full notebook cells\n",
       "var notebookContainer = gd.closest('#notebook-container');\n",
       "if (notebookContainer) {{\n",
       "    x.observe(notebookContainer, {childList: true});\n",
       "}}\n",
       "\n",
       "// Listen for the clearing of the current output cell\n",
       "var outputEl = gd.closest('.output');\n",
       "if (outputEl) {{\n",
       "    x.observe(outputEl, {childList: true});\n",
       "}}\n",
       "\n",
       "                        })                };                });            </script>        </div>"
      ]
     },
     "metadata": {},
     "output_type": "display_data"
    }
   ],
   "source": [
    "anos = homicidios_taxa.columns\n",
    "estados = homicidios_taxa.index\n",
    "valores = homicidios_taxa.values\n",
    "\n",
    "cores = ['#DC143C', '#FA8072', '#FFD700', '#90EE90', '#1E90FF', '#0000CD', '#836FFF', '#FF69B4', '#9932CC']\n",
    "\n",
    "taxa_homicidios = go.Figure()\n",
    "for i, estado in enumerate(estados):\n",
    "    taxa_homicidios.add_trace(go.Scatter(x=anos, y=valores[i], name=estado,marker=dict(color=cores[i])))\n",
    "\n",
    "taxa_homicidios.update_layout(\n",
    "    title={\n",
    "        'text': 'Taxas de Homicídio por Estado',\n",
    "        'x': 0.43,\n",
    "        'y': 0.95,\n",
    "        'xanchor': 'center',\n",
    "        'yanchor': 'top',\n",
    "        'font': {'size': 22, 'family': 'Arial', 'color': 'black'}\n",
    "    },\n",
    "    xaxis_title='Ano',\n",
    "    yaxis_title='Taxa em %',\n",
    "    plot_bgcolor='#F0FFFF',\n",
    "    xaxis=dict(showgrid=True),\n",
    "    yaxis=dict(showgrid=True)\n",
    ")\n",
    "taxa_homicidios.show()\n"
   ]
  },
  {
   "cell_type": "code",
   "execution_count": 98,
   "metadata": {
    "colab": {
     "base_uri": "https://localhost:8080/",
     "height": 542
    },
    "id": "hUbZYIAi967V",
    "outputId": "e54fb544-26c2-46de-df0d-f2ac4afd6f22"
   },
   "outputs": [
    {
     "data": {
      "application/vnd.plotly.v1+json": {
       "config": {
        "plotlyServerURL": "https://plot.ly"
       },
       "data": [
        {
         "marker": {
          "color": "#DC143C"
         },
         "name": "Alagoas",
         "type": "bar",
         "x": [
          "2018",
          "2019",
          "2020",
          "2021"
         ],
         "y": [
          427.83066845835265,
          410.6483200070033,
          444.9586026414281,
          419.956361291883
         ]
        },
        {
         "marker": {
          "color": "#FA8072"
         },
         "name": "Bahia",
         "type": "bar",
         "x": [
          "2018",
          "2019",
          "2020",
          "2021"
         ],
         "y": [
          346.2482957307726,
          332.50505376741154,
          318.56802986057653,
          291.51470166464645
         ]
        },
        {
         "marker": {
          "color": "#FFD700"
         },
         "name": "Ceará",
         "type": "bar",
         "x": [
          "2018",
          "2019",
          "2020",
          "2021"
         ],
         "y": [
          353.0475191712662,
          338.3908796941318,
          364.8558512395467,
          360.9928799912993
         ]
        },
        {
         "marker": {
          "color": "#90EE90"
         },
         "name": "Maranhão",
         "type": "bar",
         "x": [
          "2018",
          "2019",
          "2020",
          "2021"
         ],
         "y": [
          326.0149965815449,
          312.49757444044474,
          302.9846410071762,
          276.8589012201706
         ]
        },
        {
         "marker": {
          "color": "#1E90FF"
         },
         "name": "Paraíba",
         "type": "bar",
         "x": [
          "2018",
          "2019",
          "2020",
          "2021"
         ],
         "y": [
          387.2967223551608,
          371.1517286435947,
          386.2575973465524,
          360.95997739109663
         ]
        },
        {
         "marker": {
          "color": "#0000CD"
         },
         "name": "Pernambuco",
         "type": "bar",
         "x": [
          "2018",
          "2019",
          "2020",
          "2021"
         ],
         "y": [
          361.3379984991264,
          346.1941774117731,
          329.62664954233526,
          298.15606241084436
         ]
        },
        {
         "marker": {
          "color": "#836FFF"
         },
         "name": "Piauí",
         "type": "bar",
         "x": [
          "2018",
          "2019",
          "2020",
          "2021"
         ],
         "y": [
          287.31674813418795,
          276.53858698584395,
          263.56597029197314,
          256.1223052938476
         ]
        },
        {
         "marker": {
          "color": "#FF69B4"
         },
         "name": "Rio Grande do Norte",
         "type": "bar",
         "x": [
          "2018",
          "2019",
          "2020",
          "2021"
         ],
         "y": [
          342.7037326740115,
          327.55433990628705,
          323.31913318006775,
          345.82242213281296
         ]
        },
        {
         "marker": {
          "color": "#9932CC"
         },
         "name": "Sergipe",
         "type": "bar",
         "x": [
          "2018",
          "2019",
          "2020",
          "2021"
         ],
         "y": [
          479.9183079395009,
          458.40851758602554,
          454.12580835677676,
          653.0570468946843
         ]
        }
       ],
       "layout": {
        "barmode": "group",
        "plot_bgcolor": "#F5FFFA",
        "template": {
         "data": {
          "bar": [
           {
            "error_x": {
             "color": "#2a3f5f"
            },
            "error_y": {
             "color": "#2a3f5f"
            },
            "marker": {
             "line": {
              "color": "#E5ECF6",
              "width": 0.5
             },
             "pattern": {
              "fillmode": "overlay",
              "size": 10,
              "solidity": 0.2
             }
            },
            "type": "bar"
           }
          ],
          "barpolar": [
           {
            "marker": {
             "line": {
              "color": "#E5ECF6",
              "width": 0.5
             },
             "pattern": {
              "fillmode": "overlay",
              "size": 10,
              "solidity": 0.2
             }
            },
            "type": "barpolar"
           }
          ],
          "carpet": [
           {
            "aaxis": {
             "endlinecolor": "#2a3f5f",
             "gridcolor": "white",
             "linecolor": "white",
             "minorgridcolor": "white",
             "startlinecolor": "#2a3f5f"
            },
            "baxis": {
             "endlinecolor": "#2a3f5f",
             "gridcolor": "white",
             "linecolor": "white",
             "minorgridcolor": "white",
             "startlinecolor": "#2a3f5f"
            },
            "type": "carpet"
           }
          ],
          "choropleth": [
           {
            "colorbar": {
             "outlinewidth": 0,
             "ticks": ""
            },
            "type": "choropleth"
           }
          ],
          "contour": [
           {
            "colorbar": {
             "outlinewidth": 0,
             "ticks": ""
            },
            "colorscale": [
             [
              0,
              "#0d0887"
             ],
             [
              0.1111111111111111,
              "#46039f"
             ],
             [
              0.2222222222222222,
              "#7201a8"
             ],
             [
              0.3333333333333333,
              "#9c179e"
             ],
             [
              0.4444444444444444,
              "#bd3786"
             ],
             [
              0.5555555555555556,
              "#d8576b"
             ],
             [
              0.6666666666666666,
              "#ed7953"
             ],
             [
              0.7777777777777778,
              "#fb9f3a"
             ],
             [
              0.8888888888888888,
              "#fdca26"
             ],
             [
              1,
              "#f0f921"
             ]
            ],
            "type": "contour"
           }
          ],
          "contourcarpet": [
           {
            "colorbar": {
             "outlinewidth": 0,
             "ticks": ""
            },
            "type": "contourcarpet"
           }
          ],
          "heatmap": [
           {
            "colorbar": {
             "outlinewidth": 0,
             "ticks": ""
            },
            "colorscale": [
             [
              0,
              "#0d0887"
             ],
             [
              0.1111111111111111,
              "#46039f"
             ],
             [
              0.2222222222222222,
              "#7201a8"
             ],
             [
              0.3333333333333333,
              "#9c179e"
             ],
             [
              0.4444444444444444,
              "#bd3786"
             ],
             [
              0.5555555555555556,
              "#d8576b"
             ],
             [
              0.6666666666666666,
              "#ed7953"
             ],
             [
              0.7777777777777778,
              "#fb9f3a"
             ],
             [
              0.8888888888888888,
              "#fdca26"
             ],
             [
              1,
              "#f0f921"
             ]
            ],
            "type": "heatmap"
           }
          ],
          "heatmapgl": [
           {
            "colorbar": {
             "outlinewidth": 0,
             "ticks": ""
            },
            "colorscale": [
             [
              0,
              "#0d0887"
             ],
             [
              0.1111111111111111,
              "#46039f"
             ],
             [
              0.2222222222222222,
              "#7201a8"
             ],
             [
              0.3333333333333333,
              "#9c179e"
             ],
             [
              0.4444444444444444,
              "#bd3786"
             ],
             [
              0.5555555555555556,
              "#d8576b"
             ],
             [
              0.6666666666666666,
              "#ed7953"
             ],
             [
              0.7777777777777778,
              "#fb9f3a"
             ],
             [
              0.8888888888888888,
              "#fdca26"
             ],
             [
              1,
              "#f0f921"
             ]
            ],
            "type": "heatmapgl"
           }
          ],
          "histogram": [
           {
            "marker": {
             "pattern": {
              "fillmode": "overlay",
              "size": 10,
              "solidity": 0.2
             }
            },
            "type": "histogram"
           }
          ],
          "histogram2d": [
           {
            "colorbar": {
             "outlinewidth": 0,
             "ticks": ""
            },
            "colorscale": [
             [
              0,
              "#0d0887"
             ],
             [
              0.1111111111111111,
              "#46039f"
             ],
             [
              0.2222222222222222,
              "#7201a8"
             ],
             [
              0.3333333333333333,
              "#9c179e"
             ],
             [
              0.4444444444444444,
              "#bd3786"
             ],
             [
              0.5555555555555556,
              "#d8576b"
             ],
             [
              0.6666666666666666,
              "#ed7953"
             ],
             [
              0.7777777777777778,
              "#fb9f3a"
             ],
             [
              0.8888888888888888,
              "#fdca26"
             ],
             [
              1,
              "#f0f921"
             ]
            ],
            "type": "histogram2d"
           }
          ],
          "histogram2dcontour": [
           {
            "colorbar": {
             "outlinewidth": 0,
             "ticks": ""
            },
            "colorscale": [
             [
              0,
              "#0d0887"
             ],
             [
              0.1111111111111111,
              "#46039f"
             ],
             [
              0.2222222222222222,
              "#7201a8"
             ],
             [
              0.3333333333333333,
              "#9c179e"
             ],
             [
              0.4444444444444444,
              "#bd3786"
             ],
             [
              0.5555555555555556,
              "#d8576b"
             ],
             [
              0.6666666666666666,
              "#ed7953"
             ],
             [
              0.7777777777777778,
              "#fb9f3a"
             ],
             [
              0.8888888888888888,
              "#fdca26"
             ],
             [
              1,
              "#f0f921"
             ]
            ],
            "type": "histogram2dcontour"
           }
          ],
          "mesh3d": [
           {
            "colorbar": {
             "outlinewidth": 0,
             "ticks": ""
            },
            "type": "mesh3d"
           }
          ],
          "parcoords": [
           {
            "line": {
             "colorbar": {
              "outlinewidth": 0,
              "ticks": ""
             }
            },
            "type": "parcoords"
           }
          ],
          "pie": [
           {
            "automargin": true,
            "type": "pie"
           }
          ],
          "scatter": [
           {
            "fillpattern": {
             "fillmode": "overlay",
             "size": 10,
             "solidity": 0.2
            },
            "type": "scatter"
           }
          ],
          "scatter3d": [
           {
            "line": {
             "colorbar": {
              "outlinewidth": 0,
              "ticks": ""
             }
            },
            "marker": {
             "colorbar": {
              "outlinewidth": 0,
              "ticks": ""
             }
            },
            "type": "scatter3d"
           }
          ],
          "scattercarpet": [
           {
            "marker": {
             "colorbar": {
              "outlinewidth": 0,
              "ticks": ""
             }
            },
            "type": "scattercarpet"
           }
          ],
          "scattergeo": [
           {
            "marker": {
             "colorbar": {
              "outlinewidth": 0,
              "ticks": ""
             }
            },
            "type": "scattergeo"
           }
          ],
          "scattergl": [
           {
            "marker": {
             "colorbar": {
              "outlinewidth": 0,
              "ticks": ""
             }
            },
            "type": "scattergl"
           }
          ],
          "scattermapbox": [
           {
            "marker": {
             "colorbar": {
              "outlinewidth": 0,
              "ticks": ""
             }
            },
            "type": "scattermapbox"
           }
          ],
          "scatterpolar": [
           {
            "marker": {
             "colorbar": {
              "outlinewidth": 0,
              "ticks": ""
             }
            },
            "type": "scatterpolar"
           }
          ],
          "scatterpolargl": [
           {
            "marker": {
             "colorbar": {
              "outlinewidth": 0,
              "ticks": ""
             }
            },
            "type": "scatterpolargl"
           }
          ],
          "scatterternary": [
           {
            "marker": {
             "colorbar": {
              "outlinewidth": 0,
              "ticks": ""
             }
            },
            "type": "scatterternary"
           }
          ],
          "surface": [
           {
            "colorbar": {
             "outlinewidth": 0,
             "ticks": ""
            },
            "colorscale": [
             [
              0,
              "#0d0887"
             ],
             [
              0.1111111111111111,
              "#46039f"
             ],
             [
              0.2222222222222222,
              "#7201a8"
             ],
             [
              0.3333333333333333,
              "#9c179e"
             ],
             [
              0.4444444444444444,
              "#bd3786"
             ],
             [
              0.5555555555555556,
              "#d8576b"
             ],
             [
              0.6666666666666666,
              "#ed7953"
             ],
             [
              0.7777777777777778,
              "#fb9f3a"
             ],
             [
              0.8888888888888888,
              "#fdca26"
             ],
             [
              1,
              "#f0f921"
             ]
            ],
            "type": "surface"
           }
          ],
          "table": [
           {
            "cells": {
             "fill": {
              "color": "#EBF0F8"
             },
             "line": {
              "color": "white"
             }
            },
            "header": {
             "fill": {
              "color": "#C8D4E3"
             },
             "line": {
              "color": "white"
             }
            },
            "type": "table"
           }
          ]
         },
         "layout": {
          "annotationdefaults": {
           "arrowcolor": "#2a3f5f",
           "arrowhead": 0,
           "arrowwidth": 1
          },
          "autotypenumbers": "strict",
          "coloraxis": {
           "colorbar": {
            "outlinewidth": 0,
            "ticks": ""
           }
          },
          "colorscale": {
           "diverging": [
            [
             0,
             "#8e0152"
            ],
            [
             0.1,
             "#c51b7d"
            ],
            [
             0.2,
             "#de77ae"
            ],
            [
             0.3,
             "#f1b6da"
            ],
            [
             0.4,
             "#fde0ef"
            ],
            [
             0.5,
             "#f7f7f7"
            ],
            [
             0.6,
             "#e6f5d0"
            ],
            [
             0.7,
             "#b8e186"
            ],
            [
             0.8,
             "#7fbc41"
            ],
            [
             0.9,
             "#4d9221"
            ],
            [
             1,
             "#276419"
            ]
           ],
           "sequential": [
            [
             0,
             "#0d0887"
            ],
            [
             0.1111111111111111,
             "#46039f"
            ],
            [
             0.2222222222222222,
             "#7201a8"
            ],
            [
             0.3333333333333333,
             "#9c179e"
            ],
            [
             0.4444444444444444,
             "#bd3786"
            ],
            [
             0.5555555555555556,
             "#d8576b"
            ],
            [
             0.6666666666666666,
             "#ed7953"
            ],
            [
             0.7777777777777778,
             "#fb9f3a"
            ],
            [
             0.8888888888888888,
             "#fdca26"
            ],
            [
             1,
             "#f0f921"
            ]
           ],
           "sequentialminus": [
            [
             0,
             "#0d0887"
            ],
            [
             0.1111111111111111,
             "#46039f"
            ],
            [
             0.2222222222222222,
             "#7201a8"
            ],
            [
             0.3333333333333333,
             "#9c179e"
            ],
            [
             0.4444444444444444,
             "#bd3786"
            ],
            [
             0.5555555555555556,
             "#d8576b"
            ],
            [
             0.6666666666666666,
             "#ed7953"
            ],
            [
             0.7777777777777778,
             "#fb9f3a"
            ],
            [
             0.8888888888888888,
             "#fdca26"
            ],
            [
             1,
             "#f0f921"
            ]
           ]
          },
          "colorway": [
           "#636efa",
           "#EF553B",
           "#00cc96",
           "#ab63fa",
           "#FFA15A",
           "#19d3f3",
           "#FF6692",
           "#B6E880",
           "#FF97FF",
           "#FECB52"
          ],
          "font": {
           "color": "#2a3f5f"
          },
          "geo": {
           "bgcolor": "white",
           "lakecolor": "white",
           "landcolor": "#E5ECF6",
           "showlakes": true,
           "showland": true,
           "subunitcolor": "white"
          },
          "hoverlabel": {
           "align": "left"
          },
          "hovermode": "closest",
          "mapbox": {
           "style": "light"
          },
          "paper_bgcolor": "white",
          "plot_bgcolor": "#E5ECF6",
          "polar": {
           "angularaxis": {
            "gridcolor": "white",
            "linecolor": "white",
            "ticks": ""
           },
           "bgcolor": "#E5ECF6",
           "radialaxis": {
            "gridcolor": "white",
            "linecolor": "white",
            "ticks": ""
           }
          },
          "scene": {
           "xaxis": {
            "backgroundcolor": "#E5ECF6",
            "gridcolor": "white",
            "gridwidth": 2,
            "linecolor": "white",
            "showbackground": true,
            "ticks": "",
            "zerolinecolor": "white"
           },
           "yaxis": {
            "backgroundcolor": "#E5ECF6",
            "gridcolor": "white",
            "gridwidth": 2,
            "linecolor": "white",
            "showbackground": true,
            "ticks": "",
            "zerolinecolor": "white"
           },
           "zaxis": {
            "backgroundcolor": "#E5ECF6",
            "gridcolor": "white",
            "gridwidth": 2,
            "linecolor": "white",
            "showbackground": true,
            "ticks": "",
            "zerolinecolor": "white"
           }
          },
          "shapedefaults": {
           "line": {
            "color": "#2a3f5f"
           }
          },
          "ternary": {
           "aaxis": {
            "gridcolor": "white",
            "linecolor": "white",
            "ticks": ""
           },
           "baxis": {
            "gridcolor": "white",
            "linecolor": "white",
            "ticks": ""
           },
           "bgcolor": "#E5ECF6",
           "caxis": {
            "gridcolor": "white",
            "linecolor": "white",
            "ticks": ""
           }
          },
          "title": {
           "x": 0.05
          },
          "xaxis": {
           "automargin": true,
           "gridcolor": "white",
           "linecolor": "white",
           "ticks": "",
           "title": {
            "standoff": 15
           },
           "zerolinecolor": "white",
           "zerolinewidth": 2
          },
          "yaxis": {
           "automargin": true,
           "gridcolor": "white",
           "linecolor": "white",
           "ticks": "",
           "title": {
            "standoff": 15
           },
           "zerolinecolor": "white",
           "zerolinewidth": 2
          }
         }
        },
        "title": {
         "font": {
          "color": "black",
          "family": "Arial",
          "size": 22
         },
         "text": "Gastos per capita em Segurança Pública",
         "x": 0.43,
         "xanchor": "center",
         "y": 0.95,
         "yanchor": "top"
        },
        "xaxis": {
         "title": {
          "text": "Anos"
         }
        },
        "yaxis": {
         "gridcolor": "#008080",
         "showgrid": true,
         "title": {
          "text": "Valor em R$"
         }
        }
       }
      },
      "text/html": [
       "<div>                            <div id=\"308a030b-b935-4944-8322-737f79d0e55b\" class=\"plotly-graph-div\" style=\"height:525px; width:100%;\"></div>            <script type=\"text/javascript\">                require([\"plotly\"], function(Plotly) {                    window.PLOTLYENV=window.PLOTLYENV || {};                                    if (document.getElementById(\"308a030b-b935-4944-8322-737f79d0e55b\")) {                    Plotly.newPlot(                        \"308a030b-b935-4944-8322-737f79d0e55b\",                        [{\"marker\":{\"color\":\"#DC143C\"},\"name\":\"Alagoas\",\"x\":[\"2018\",\"2019\",\"2020\",\"2021\"],\"y\":[427.83066845835265,410.6483200070033,444.9586026414281,419.956361291883],\"type\":\"bar\"},{\"marker\":{\"color\":\"#FA8072\"},\"name\":\"Bahia\",\"x\":[\"2018\",\"2019\",\"2020\",\"2021\"],\"y\":[346.2482957307726,332.50505376741154,318.56802986057653,291.51470166464645],\"type\":\"bar\"},{\"marker\":{\"color\":\"#FFD700\"},\"name\":\"Cear\\u00e1\",\"x\":[\"2018\",\"2019\",\"2020\",\"2021\"],\"y\":[353.0475191712662,338.3908796941318,364.8558512395467,360.9928799912993],\"type\":\"bar\"},{\"marker\":{\"color\":\"#90EE90\"},\"name\":\"Maranh\\u00e3o\",\"x\":[\"2018\",\"2019\",\"2020\",\"2021\"],\"y\":[326.0149965815449,312.49757444044474,302.9846410071762,276.8589012201706],\"type\":\"bar\"},{\"marker\":{\"color\":\"#1E90FF\"},\"name\":\"Para\\u00edba\",\"x\":[\"2018\",\"2019\",\"2020\",\"2021\"],\"y\":[387.2967223551608,371.1517286435947,386.2575973465524,360.95997739109663],\"type\":\"bar\"},{\"marker\":{\"color\":\"#0000CD\"},\"name\":\"Pernambuco\",\"x\":[\"2018\",\"2019\",\"2020\",\"2021\"],\"y\":[361.3379984991264,346.1941774117731,329.62664954233526,298.15606241084436],\"type\":\"bar\"},{\"marker\":{\"color\":\"#836FFF\"},\"name\":\"Piau\\u00ed\",\"x\":[\"2018\",\"2019\",\"2020\",\"2021\"],\"y\":[287.31674813418795,276.53858698584395,263.56597029197314,256.1223052938476],\"type\":\"bar\"},{\"marker\":{\"color\":\"#FF69B4\"},\"name\":\"Rio Grande do Norte\",\"x\":[\"2018\",\"2019\",\"2020\",\"2021\"],\"y\":[342.7037326740115,327.55433990628705,323.31913318006775,345.82242213281296],\"type\":\"bar\"},{\"marker\":{\"color\":\"#9932CC\"},\"name\":\"Sergipe\",\"x\":[\"2018\",\"2019\",\"2020\",\"2021\"],\"y\":[479.9183079395009,458.40851758602554,454.12580835677676,653.0570468946843],\"type\":\"bar\"}],                        {\"template\":{\"data\":{\"histogram2dcontour\":[{\"type\":\"histogram2dcontour\",\"colorbar\":{\"outlinewidth\":0,\"ticks\":\"\"},\"colorscale\":[[0.0,\"#0d0887\"],[0.1111111111111111,\"#46039f\"],[0.2222222222222222,\"#7201a8\"],[0.3333333333333333,\"#9c179e\"],[0.4444444444444444,\"#bd3786\"],[0.5555555555555556,\"#d8576b\"],[0.6666666666666666,\"#ed7953\"],[0.7777777777777778,\"#fb9f3a\"],[0.8888888888888888,\"#fdca26\"],[1.0,\"#f0f921\"]]}],\"choropleth\":[{\"type\":\"choropleth\",\"colorbar\":{\"outlinewidth\":0,\"ticks\":\"\"}}],\"histogram2d\":[{\"type\":\"histogram2d\",\"colorbar\":{\"outlinewidth\":0,\"ticks\":\"\"},\"colorscale\":[[0.0,\"#0d0887\"],[0.1111111111111111,\"#46039f\"],[0.2222222222222222,\"#7201a8\"],[0.3333333333333333,\"#9c179e\"],[0.4444444444444444,\"#bd3786\"],[0.5555555555555556,\"#d8576b\"],[0.6666666666666666,\"#ed7953\"],[0.7777777777777778,\"#fb9f3a\"],[0.8888888888888888,\"#fdca26\"],[1.0,\"#f0f921\"]]}],\"heatmap\":[{\"type\":\"heatmap\",\"colorbar\":{\"outlinewidth\":0,\"ticks\":\"\"},\"colorscale\":[[0.0,\"#0d0887\"],[0.1111111111111111,\"#46039f\"],[0.2222222222222222,\"#7201a8\"],[0.3333333333333333,\"#9c179e\"],[0.4444444444444444,\"#bd3786\"],[0.5555555555555556,\"#d8576b\"],[0.6666666666666666,\"#ed7953\"],[0.7777777777777778,\"#fb9f3a\"],[0.8888888888888888,\"#fdca26\"],[1.0,\"#f0f921\"]]}],\"heatmapgl\":[{\"type\":\"heatmapgl\",\"colorbar\":{\"outlinewidth\":0,\"ticks\":\"\"},\"colorscale\":[[0.0,\"#0d0887\"],[0.1111111111111111,\"#46039f\"],[0.2222222222222222,\"#7201a8\"],[0.3333333333333333,\"#9c179e\"],[0.4444444444444444,\"#bd3786\"],[0.5555555555555556,\"#d8576b\"],[0.6666666666666666,\"#ed7953\"],[0.7777777777777778,\"#fb9f3a\"],[0.8888888888888888,\"#fdca26\"],[1.0,\"#f0f921\"]]}],\"contourcarpet\":[{\"type\":\"contourcarpet\",\"colorbar\":{\"outlinewidth\":0,\"ticks\":\"\"}}],\"contour\":[{\"type\":\"contour\",\"colorbar\":{\"outlinewidth\":0,\"ticks\":\"\"},\"colorscale\":[[0.0,\"#0d0887\"],[0.1111111111111111,\"#46039f\"],[0.2222222222222222,\"#7201a8\"],[0.3333333333333333,\"#9c179e\"],[0.4444444444444444,\"#bd3786\"],[0.5555555555555556,\"#d8576b\"],[0.6666666666666666,\"#ed7953\"],[0.7777777777777778,\"#fb9f3a\"],[0.8888888888888888,\"#fdca26\"],[1.0,\"#f0f921\"]]}],\"surface\":[{\"type\":\"surface\",\"colorbar\":{\"outlinewidth\":0,\"ticks\":\"\"},\"colorscale\":[[0.0,\"#0d0887\"],[0.1111111111111111,\"#46039f\"],[0.2222222222222222,\"#7201a8\"],[0.3333333333333333,\"#9c179e\"],[0.4444444444444444,\"#bd3786\"],[0.5555555555555556,\"#d8576b\"],[0.6666666666666666,\"#ed7953\"],[0.7777777777777778,\"#fb9f3a\"],[0.8888888888888888,\"#fdca26\"],[1.0,\"#f0f921\"]]}],\"mesh3d\":[{\"type\":\"mesh3d\",\"colorbar\":{\"outlinewidth\":0,\"ticks\":\"\"}}],\"scatter\":[{\"fillpattern\":{\"fillmode\":\"overlay\",\"size\":10,\"solidity\":0.2},\"type\":\"scatter\"}],\"parcoords\":[{\"type\":\"parcoords\",\"line\":{\"colorbar\":{\"outlinewidth\":0,\"ticks\":\"\"}}}],\"scatterpolargl\":[{\"type\":\"scatterpolargl\",\"marker\":{\"colorbar\":{\"outlinewidth\":0,\"ticks\":\"\"}}}],\"bar\":[{\"error_x\":{\"color\":\"#2a3f5f\"},\"error_y\":{\"color\":\"#2a3f5f\"},\"marker\":{\"line\":{\"color\":\"#E5ECF6\",\"width\":0.5},\"pattern\":{\"fillmode\":\"overlay\",\"size\":10,\"solidity\":0.2}},\"type\":\"bar\"}],\"scattergeo\":[{\"type\":\"scattergeo\",\"marker\":{\"colorbar\":{\"outlinewidth\":0,\"ticks\":\"\"}}}],\"scatterpolar\":[{\"type\":\"scatterpolar\",\"marker\":{\"colorbar\":{\"outlinewidth\":0,\"ticks\":\"\"}}}],\"histogram\":[{\"marker\":{\"pattern\":{\"fillmode\":\"overlay\",\"size\":10,\"solidity\":0.2}},\"type\":\"histogram\"}],\"scattergl\":[{\"type\":\"scattergl\",\"marker\":{\"colorbar\":{\"outlinewidth\":0,\"ticks\":\"\"}}}],\"scatter3d\":[{\"type\":\"scatter3d\",\"line\":{\"colorbar\":{\"outlinewidth\":0,\"ticks\":\"\"}},\"marker\":{\"colorbar\":{\"outlinewidth\":0,\"ticks\":\"\"}}}],\"scattermapbox\":[{\"type\":\"scattermapbox\",\"marker\":{\"colorbar\":{\"outlinewidth\":0,\"ticks\":\"\"}}}],\"scatterternary\":[{\"type\":\"scatterternary\",\"marker\":{\"colorbar\":{\"outlinewidth\":0,\"ticks\":\"\"}}}],\"scattercarpet\":[{\"type\":\"scattercarpet\",\"marker\":{\"colorbar\":{\"outlinewidth\":0,\"ticks\":\"\"}}}],\"carpet\":[{\"aaxis\":{\"endlinecolor\":\"#2a3f5f\",\"gridcolor\":\"white\",\"linecolor\":\"white\",\"minorgridcolor\":\"white\",\"startlinecolor\":\"#2a3f5f\"},\"baxis\":{\"endlinecolor\":\"#2a3f5f\",\"gridcolor\":\"white\",\"linecolor\":\"white\",\"minorgridcolor\":\"white\",\"startlinecolor\":\"#2a3f5f\"},\"type\":\"carpet\"}],\"table\":[{\"cells\":{\"fill\":{\"color\":\"#EBF0F8\"},\"line\":{\"color\":\"white\"}},\"header\":{\"fill\":{\"color\":\"#C8D4E3\"},\"line\":{\"color\":\"white\"}},\"type\":\"table\"}],\"barpolar\":[{\"marker\":{\"line\":{\"color\":\"#E5ECF6\",\"width\":0.5},\"pattern\":{\"fillmode\":\"overlay\",\"size\":10,\"solidity\":0.2}},\"type\":\"barpolar\"}],\"pie\":[{\"automargin\":true,\"type\":\"pie\"}]},\"layout\":{\"autotypenumbers\":\"strict\",\"colorway\":[\"#636efa\",\"#EF553B\",\"#00cc96\",\"#ab63fa\",\"#FFA15A\",\"#19d3f3\",\"#FF6692\",\"#B6E880\",\"#FF97FF\",\"#FECB52\"],\"font\":{\"color\":\"#2a3f5f\"},\"hovermode\":\"closest\",\"hoverlabel\":{\"align\":\"left\"},\"paper_bgcolor\":\"white\",\"plot_bgcolor\":\"#E5ECF6\",\"polar\":{\"bgcolor\":\"#E5ECF6\",\"angularaxis\":{\"gridcolor\":\"white\",\"linecolor\":\"white\",\"ticks\":\"\"},\"radialaxis\":{\"gridcolor\":\"white\",\"linecolor\":\"white\",\"ticks\":\"\"}},\"ternary\":{\"bgcolor\":\"#E5ECF6\",\"aaxis\":{\"gridcolor\":\"white\",\"linecolor\":\"white\",\"ticks\":\"\"},\"baxis\":{\"gridcolor\":\"white\",\"linecolor\":\"white\",\"ticks\":\"\"},\"caxis\":{\"gridcolor\":\"white\",\"linecolor\":\"white\",\"ticks\":\"\"}},\"coloraxis\":{\"colorbar\":{\"outlinewidth\":0,\"ticks\":\"\"}},\"colorscale\":{\"sequential\":[[0.0,\"#0d0887\"],[0.1111111111111111,\"#46039f\"],[0.2222222222222222,\"#7201a8\"],[0.3333333333333333,\"#9c179e\"],[0.4444444444444444,\"#bd3786\"],[0.5555555555555556,\"#d8576b\"],[0.6666666666666666,\"#ed7953\"],[0.7777777777777778,\"#fb9f3a\"],[0.8888888888888888,\"#fdca26\"],[1.0,\"#f0f921\"]],\"sequentialminus\":[[0.0,\"#0d0887\"],[0.1111111111111111,\"#46039f\"],[0.2222222222222222,\"#7201a8\"],[0.3333333333333333,\"#9c179e\"],[0.4444444444444444,\"#bd3786\"],[0.5555555555555556,\"#d8576b\"],[0.6666666666666666,\"#ed7953\"],[0.7777777777777778,\"#fb9f3a\"],[0.8888888888888888,\"#fdca26\"],[1.0,\"#f0f921\"]],\"diverging\":[[0,\"#8e0152\"],[0.1,\"#c51b7d\"],[0.2,\"#de77ae\"],[0.3,\"#f1b6da\"],[0.4,\"#fde0ef\"],[0.5,\"#f7f7f7\"],[0.6,\"#e6f5d0\"],[0.7,\"#b8e186\"],[0.8,\"#7fbc41\"],[0.9,\"#4d9221\"],[1,\"#276419\"]]},\"xaxis\":{\"gridcolor\":\"white\",\"linecolor\":\"white\",\"ticks\":\"\",\"title\":{\"standoff\":15},\"zerolinecolor\":\"white\",\"automargin\":true,\"zerolinewidth\":2},\"yaxis\":{\"gridcolor\":\"white\",\"linecolor\":\"white\",\"ticks\":\"\",\"title\":{\"standoff\":15},\"zerolinecolor\":\"white\",\"automargin\":true,\"zerolinewidth\":2},\"scene\":{\"xaxis\":{\"backgroundcolor\":\"#E5ECF6\",\"gridcolor\":\"white\",\"linecolor\":\"white\",\"showbackground\":true,\"ticks\":\"\",\"zerolinecolor\":\"white\",\"gridwidth\":2},\"yaxis\":{\"backgroundcolor\":\"#E5ECF6\",\"gridcolor\":\"white\",\"linecolor\":\"white\",\"showbackground\":true,\"ticks\":\"\",\"zerolinecolor\":\"white\",\"gridwidth\":2},\"zaxis\":{\"backgroundcolor\":\"#E5ECF6\",\"gridcolor\":\"white\",\"linecolor\":\"white\",\"showbackground\":true,\"ticks\":\"\",\"zerolinecolor\":\"white\",\"gridwidth\":2}},\"shapedefaults\":{\"line\":{\"color\":\"#2a3f5f\"}},\"annotationdefaults\":{\"arrowcolor\":\"#2a3f5f\",\"arrowhead\":0,\"arrowwidth\":1},\"geo\":{\"bgcolor\":\"white\",\"landcolor\":\"#E5ECF6\",\"subunitcolor\":\"white\",\"showland\":true,\"showlakes\":true,\"lakecolor\":\"white\"},\"title\":{\"x\":0.05},\"mapbox\":{\"style\":\"light\"}}},\"title\":{\"font\":{\"size\":22,\"family\":\"Arial\",\"color\":\"black\"},\"text\":\"Gastos per capita em Seguran\\u00e7a P\\u00fablica\",\"x\":0.43,\"y\":0.95,\"xanchor\":\"center\",\"yanchor\":\"top\"},\"yaxis\":{\"title\":{\"text\":\"Valor em R$\"},\"showgrid\":true,\"gridcolor\":\"#008080\"},\"xaxis\":{\"title\":{\"text\":\"Anos\"}},\"barmode\":\"group\",\"plot_bgcolor\":\"#F5FFFA\"},                        {\"responsive\": true}                    ).then(function(){\n",
       "                            \n",
       "var gd = document.getElementById('308a030b-b935-4944-8322-737f79d0e55b');\n",
       "var x = new MutationObserver(function (mutations, observer) {{\n",
       "        var display = window.getComputedStyle(gd).display;\n",
       "        if (!display || display === 'none') {{\n",
       "            console.log([gd, 'removed!']);\n",
       "            Plotly.purge(gd);\n",
       "            observer.disconnect();\n",
       "        }}\n",
       "}});\n",
       "\n",
       "// Listen for the removal of the full notebook cells\n",
       "var notebookContainer = gd.closest('#notebook-container');\n",
       "if (notebookContainer) {{\n",
       "    x.observe(notebookContainer, {childList: true});\n",
       "}}\n",
       "\n",
       "// Listen for the clearing of the current output cell\n",
       "var outputEl = gd.closest('.output');\n",
       "if (outputEl) {{\n",
       "    x.observe(outputEl, {childList: true});\n",
       "}}\n",
       "\n",
       "                        })                };                });            </script>        </div>"
      ]
     },
     "metadata": {},
     "output_type": "display_data"
    }
   ],
   "source": [
    "# Dados de exemplo - gastos com segurança pública e taxas de homicídio\n",
    "anos = gastos_per_capita.columns.tolist()\n",
    "estados = gastos_per_capita.index.tolist()\n",
    "valores = gastos_per_capita.values\n",
    "\n",
    "cores = ['#DC143C', '#FA8072', '#FFD700', '#90EE90', '#1E90FF', '#0000CD', '#836FFF', '#FF69B4', '#9932CC']\n",
    "\n",
    "# Criar o gráfico de barras\n",
    "gastos = go.Figure()\n",
    "\n",
    "for i, estado in enumerate(estados):\n",
    "    gastos.add_trace(go.Bar(x=anos, y=valores[i], name=estado,marker=dict(color=cores[i])))\n",
    "\n",
    "# Configurar o layout do gráfico\n",
    "gastos.update_layout(\n",
    "    title={\n",
    "        'text': 'Gastos per capita em Segurança Pública',\n",
    "        'x': 0.43,\n",
    "        'y': 0.95,\n",
    "        'xanchor': 'center',\n",
    "        'yanchor': 'top',\n",
    "        'font': {'size': 22, 'family': 'Arial', 'color': 'black'}\n",
    "    },\n",
    "    xaxis_title='Anos',\n",
    "    yaxis_title='Valor em R$',\n",
    "    barmode='group',\n",
    "    plot_bgcolor='#F5FFFA',\n",
    "    yaxis=dict(showgrid=True, gridcolor='#008080')\n",
    ")\n",
    "\n",
    "# Exibir o gráfico\n",
    "gastos.show()"
   ]
  },
  {
   "cell_type": "code",
   "execution_count": 97,
   "metadata": {
    "colab": {
     "base_uri": "https://localhost:8080/",
     "height": 542
    },
    "id": "_d4ez82OBOJa",
    "outputId": "689ac270-0b77-4d60-df48-91f3187d1388"
   },
   "outputs": [
    {
     "data": {
      "application/vnd.plotly.v1+json": {
       "config": {
        "plotlyServerURL": "https://plot.ly"
       },
       "data": [
        {
         "marker": {
          "color": "#DC143C"
         },
         "name": "Alagoas",
         "type": "bar",
         "x": [
          "2018",
          "2019",
          "2020",
          "2021"
         ],
         "y": [
          13.592553079111878,
          12.827947519201272,
          14.094557618335065,
          9.666335461630556
         ]
        },
        {
         "marker": {
          "color": "#FA8072"
         },
         "name": "Bahia",
         "type": "bar",
         "x": [
          "2018",
          "2019",
          "2020",
          "2021"
         ],
         "y": [
          9.830166875407786,
          9.919377519706895,
          9.545340954873776,
          7.72051358130846
         ]
        },
        {
         "marker": {
          "color": "#FFD700"
         },
         "name": "Ceará",
         "type": "bar",
         "x": [
          "2018",
          "2019",
          "2020",
          "2021"
         ],
         "y": [
          10.172874025995696,
          10.525154875260382,
          11.55924850737849,
          10.141743622491951
         ]
        },
        {
         "marker": {
          "color": "#90EE90"
         },
         "name": "Maranhão",
         "type": "bar",
         "x": [
          "2018",
          "2019",
          "2020",
          "2021"
         ],
         "y": [
          9.598820179533407,
          11.465284691416409,
          11.820819121977415,
          9.352648198411567
         ]
        },
        {
         "marker": {
          "color": "#1E90FF"
         },
         "name": "Paraíba",
         "type": "bar",
         "x": [
          "2018",
          "2019",
          "2020",
          "2021"
         ],
         "y": [
          12.59717832899316,
          13.146633067497172,
          14.06779553499414,
          11.339504892200395
         ]
        },
        {
         "marker": {
          "color": "#0000CD"
         },
         "name": "Pernambuco",
         "type": "bar",
         "x": [
          "2018",
          "2019",
          "2020",
          "2021"
         ],
         "y": [
          9.275187563784932,
          9.1082455381102,
          8.086200249655315,
          6.76089461102412
         ]
        },
        {
         "marker": {
          "color": "#836FFF"
         },
         "name": "Piauí",
         "type": "bar",
         "x": [
          "2018",
          "2019",
          "2020",
          "2021"
         ],
         "y": [
          7.716075242751354,
          7.398203814197842,
          6.822167878858802,
          5.835011232191163
         ]
        },
        {
         "marker": {
          "color": "#FF69B4"
         },
         "name": "Rio Grande do Norte",
         "type": "bar",
         "x": [
          "2018",
          "2019",
          "2020",
          "2021"
         ],
         "y": [
          10.370607460850028,
          9.857302978592395,
          8.357718300171463,
          8.18357249818657
         ]
        },
        {
         "marker": {
          "color": "#9932CC"
         },
         "name": "Sergipe",
         "type": "bar",
         "x": [
          "2018",
          "2019",
          "2020",
          "2021"
         ],
         "y": [
          11.109552125539558,
          10.885833088944786,
          10.425071938177409,
          13.75165609143984
         ]
        }
       ],
       "layout": {
        "barmode": "group",
        "plot_bgcolor": "#F5FFFA",
        "template": {
         "data": {
          "bar": [
           {
            "error_x": {
             "color": "#2a3f5f"
            },
            "error_y": {
             "color": "#2a3f5f"
            },
            "marker": {
             "line": {
              "color": "#E5ECF6",
              "width": 0.5
             },
             "pattern": {
              "fillmode": "overlay",
              "size": 10,
              "solidity": 0.2
             }
            },
            "type": "bar"
           }
          ],
          "barpolar": [
           {
            "marker": {
             "line": {
              "color": "#E5ECF6",
              "width": 0.5
             },
             "pattern": {
              "fillmode": "overlay",
              "size": 10,
              "solidity": 0.2
             }
            },
            "type": "barpolar"
           }
          ],
          "carpet": [
           {
            "aaxis": {
             "endlinecolor": "#2a3f5f",
             "gridcolor": "white",
             "linecolor": "white",
             "minorgridcolor": "white",
             "startlinecolor": "#2a3f5f"
            },
            "baxis": {
             "endlinecolor": "#2a3f5f",
             "gridcolor": "white",
             "linecolor": "white",
             "minorgridcolor": "white",
             "startlinecolor": "#2a3f5f"
            },
            "type": "carpet"
           }
          ],
          "choropleth": [
           {
            "colorbar": {
             "outlinewidth": 0,
             "ticks": ""
            },
            "type": "choropleth"
           }
          ],
          "contour": [
           {
            "colorbar": {
             "outlinewidth": 0,
             "ticks": ""
            },
            "colorscale": [
             [
              0,
              "#0d0887"
             ],
             [
              0.1111111111111111,
              "#46039f"
             ],
             [
              0.2222222222222222,
              "#7201a8"
             ],
             [
              0.3333333333333333,
              "#9c179e"
             ],
             [
              0.4444444444444444,
              "#bd3786"
             ],
             [
              0.5555555555555556,
              "#d8576b"
             ],
             [
              0.6666666666666666,
              "#ed7953"
             ],
             [
              0.7777777777777778,
              "#fb9f3a"
             ],
             [
              0.8888888888888888,
              "#fdca26"
             ],
             [
              1,
              "#f0f921"
             ]
            ],
            "type": "contour"
           }
          ],
          "contourcarpet": [
           {
            "colorbar": {
             "outlinewidth": 0,
             "ticks": ""
            },
            "type": "contourcarpet"
           }
          ],
          "heatmap": [
           {
            "colorbar": {
             "outlinewidth": 0,
             "ticks": ""
            },
            "colorscale": [
             [
              0,
              "#0d0887"
             ],
             [
              0.1111111111111111,
              "#46039f"
             ],
             [
              0.2222222222222222,
              "#7201a8"
             ],
             [
              0.3333333333333333,
              "#9c179e"
             ],
             [
              0.4444444444444444,
              "#bd3786"
             ],
             [
              0.5555555555555556,
              "#d8576b"
             ],
             [
              0.6666666666666666,
              "#ed7953"
             ],
             [
              0.7777777777777778,
              "#fb9f3a"
             ],
             [
              0.8888888888888888,
              "#fdca26"
             ],
             [
              1,
              "#f0f921"
             ]
            ],
            "type": "heatmap"
           }
          ],
          "heatmapgl": [
           {
            "colorbar": {
             "outlinewidth": 0,
             "ticks": ""
            },
            "colorscale": [
             [
              0,
              "#0d0887"
             ],
             [
              0.1111111111111111,
              "#46039f"
             ],
             [
              0.2222222222222222,
              "#7201a8"
             ],
             [
              0.3333333333333333,
              "#9c179e"
             ],
             [
              0.4444444444444444,
              "#bd3786"
             ],
             [
              0.5555555555555556,
              "#d8576b"
             ],
             [
              0.6666666666666666,
              "#ed7953"
             ],
             [
              0.7777777777777778,
              "#fb9f3a"
             ],
             [
              0.8888888888888888,
              "#fdca26"
             ],
             [
              1,
              "#f0f921"
             ]
            ],
            "type": "heatmapgl"
           }
          ],
          "histogram": [
           {
            "marker": {
             "pattern": {
              "fillmode": "overlay",
              "size": 10,
              "solidity": 0.2
             }
            },
            "type": "histogram"
           }
          ],
          "histogram2d": [
           {
            "colorbar": {
             "outlinewidth": 0,
             "ticks": ""
            },
            "colorscale": [
             [
              0,
              "#0d0887"
             ],
             [
              0.1111111111111111,
              "#46039f"
             ],
             [
              0.2222222222222222,
              "#7201a8"
             ],
             [
              0.3333333333333333,
              "#9c179e"
             ],
             [
              0.4444444444444444,
              "#bd3786"
             ],
             [
              0.5555555555555556,
              "#d8576b"
             ],
             [
              0.6666666666666666,
              "#ed7953"
             ],
             [
              0.7777777777777778,
              "#fb9f3a"
             ],
             [
              0.8888888888888888,
              "#fdca26"
             ],
             [
              1,
              "#f0f921"
             ]
            ],
            "type": "histogram2d"
           }
          ],
          "histogram2dcontour": [
           {
            "colorbar": {
             "outlinewidth": 0,
             "ticks": ""
            },
            "colorscale": [
             [
              0,
              "#0d0887"
             ],
             [
              0.1111111111111111,
              "#46039f"
             ],
             [
              0.2222222222222222,
              "#7201a8"
             ],
             [
              0.3333333333333333,
              "#9c179e"
             ],
             [
              0.4444444444444444,
              "#bd3786"
             ],
             [
              0.5555555555555556,
              "#d8576b"
             ],
             [
              0.6666666666666666,
              "#ed7953"
             ],
             [
              0.7777777777777778,
              "#fb9f3a"
             ],
             [
              0.8888888888888888,
              "#fdca26"
             ],
             [
              1,
              "#f0f921"
             ]
            ],
            "type": "histogram2dcontour"
           }
          ],
          "mesh3d": [
           {
            "colorbar": {
             "outlinewidth": 0,
             "ticks": ""
            },
            "type": "mesh3d"
           }
          ],
          "parcoords": [
           {
            "line": {
             "colorbar": {
              "outlinewidth": 0,
              "ticks": ""
             }
            },
            "type": "parcoords"
           }
          ],
          "pie": [
           {
            "automargin": true,
            "type": "pie"
           }
          ],
          "scatter": [
           {
            "fillpattern": {
             "fillmode": "overlay",
             "size": 10,
             "solidity": 0.2
            },
            "type": "scatter"
           }
          ],
          "scatter3d": [
           {
            "line": {
             "colorbar": {
              "outlinewidth": 0,
              "ticks": ""
             }
            },
            "marker": {
             "colorbar": {
              "outlinewidth": 0,
              "ticks": ""
             }
            },
            "type": "scatter3d"
           }
          ],
          "scattercarpet": [
           {
            "marker": {
             "colorbar": {
              "outlinewidth": 0,
              "ticks": ""
             }
            },
            "type": "scattercarpet"
           }
          ],
          "scattergeo": [
           {
            "marker": {
             "colorbar": {
              "outlinewidth": 0,
              "ticks": ""
             }
            },
            "type": "scattergeo"
           }
          ],
          "scattergl": [
           {
            "marker": {
             "colorbar": {
              "outlinewidth": 0,
              "ticks": ""
             }
            },
            "type": "scattergl"
           }
          ],
          "scattermapbox": [
           {
            "marker": {
             "colorbar": {
              "outlinewidth": 0,
              "ticks": ""
             }
            },
            "type": "scattermapbox"
           }
          ],
          "scatterpolar": [
           {
            "marker": {
             "colorbar": {
              "outlinewidth": 0,
              "ticks": ""
             }
            },
            "type": "scatterpolar"
           }
          ],
          "scatterpolargl": [
           {
            "marker": {
             "colorbar": {
              "outlinewidth": 0,
              "ticks": ""
             }
            },
            "type": "scatterpolargl"
           }
          ],
          "scatterternary": [
           {
            "marker": {
             "colorbar": {
              "outlinewidth": 0,
              "ticks": ""
             }
            },
            "type": "scatterternary"
           }
          ],
          "surface": [
           {
            "colorbar": {
             "outlinewidth": 0,
             "ticks": ""
            },
            "colorscale": [
             [
              0,
              "#0d0887"
             ],
             [
              0.1111111111111111,
              "#46039f"
             ],
             [
              0.2222222222222222,
              "#7201a8"
             ],
             [
              0.3333333333333333,
              "#9c179e"
             ],
             [
              0.4444444444444444,
              "#bd3786"
             ],
             [
              0.5555555555555556,
              "#d8576b"
             ],
             [
              0.6666666666666666,
              "#ed7953"
             ],
             [
              0.7777777777777778,
              "#fb9f3a"
             ],
             [
              0.8888888888888888,
              "#fdca26"
             ],
             [
              1,
              "#f0f921"
             ]
            ],
            "type": "surface"
           }
          ],
          "table": [
           {
            "cells": {
             "fill": {
              "color": "#EBF0F8"
             },
             "line": {
              "color": "white"
             }
            },
            "header": {
             "fill": {
              "color": "#C8D4E3"
             },
             "line": {
              "color": "white"
             }
            },
            "type": "table"
           }
          ]
         },
         "layout": {
          "annotationdefaults": {
           "arrowcolor": "#2a3f5f",
           "arrowhead": 0,
           "arrowwidth": 1
          },
          "autotypenumbers": "strict",
          "coloraxis": {
           "colorbar": {
            "outlinewidth": 0,
            "ticks": ""
           }
          },
          "colorscale": {
           "diverging": [
            [
             0,
             "#8e0152"
            ],
            [
             0.1,
             "#c51b7d"
            ],
            [
             0.2,
             "#de77ae"
            ],
            [
             0.3,
             "#f1b6da"
            ],
            [
             0.4,
             "#fde0ef"
            ],
            [
             0.5,
             "#f7f7f7"
            ],
            [
             0.6,
             "#e6f5d0"
            ],
            [
             0.7,
             "#b8e186"
            ],
            [
             0.8,
             "#7fbc41"
            ],
            [
             0.9,
             "#4d9221"
            ],
            [
             1,
             "#276419"
            ]
           ],
           "sequential": [
            [
             0,
             "#0d0887"
            ],
            [
             0.1111111111111111,
             "#46039f"
            ],
            [
             0.2222222222222222,
             "#7201a8"
            ],
            [
             0.3333333333333333,
             "#9c179e"
            ],
            [
             0.4444444444444444,
             "#bd3786"
            ],
            [
             0.5555555555555556,
             "#d8576b"
            ],
            [
             0.6666666666666666,
             "#ed7953"
            ],
            [
             0.7777777777777778,
             "#fb9f3a"
            ],
            [
             0.8888888888888888,
             "#fdca26"
            ],
            [
             1,
             "#f0f921"
            ]
           ],
           "sequentialminus": [
            [
             0,
             "#0d0887"
            ],
            [
             0.1111111111111111,
             "#46039f"
            ],
            [
             0.2222222222222222,
             "#7201a8"
            ],
            [
             0.3333333333333333,
             "#9c179e"
            ],
            [
             0.4444444444444444,
             "#bd3786"
            ],
            [
             0.5555555555555556,
             "#d8576b"
            ],
            [
             0.6666666666666666,
             "#ed7953"
            ],
            [
             0.7777777777777778,
             "#fb9f3a"
            ],
            [
             0.8888888888888888,
             "#fdca26"
            ],
            [
             1,
             "#f0f921"
            ]
           ]
          },
          "colorway": [
           "#636efa",
           "#EF553B",
           "#00cc96",
           "#ab63fa",
           "#FFA15A",
           "#19d3f3",
           "#FF6692",
           "#B6E880",
           "#FF97FF",
           "#FECB52"
          ],
          "font": {
           "color": "#2a3f5f"
          },
          "geo": {
           "bgcolor": "white",
           "lakecolor": "white",
           "landcolor": "#E5ECF6",
           "showlakes": true,
           "showland": true,
           "subunitcolor": "white"
          },
          "hoverlabel": {
           "align": "left"
          },
          "hovermode": "closest",
          "mapbox": {
           "style": "light"
          },
          "paper_bgcolor": "white",
          "plot_bgcolor": "#E5ECF6",
          "polar": {
           "angularaxis": {
            "gridcolor": "white",
            "linecolor": "white",
            "ticks": ""
           },
           "bgcolor": "#E5ECF6",
           "radialaxis": {
            "gridcolor": "white",
            "linecolor": "white",
            "ticks": ""
           }
          },
          "scene": {
           "xaxis": {
            "backgroundcolor": "#E5ECF6",
            "gridcolor": "white",
            "gridwidth": 2,
            "linecolor": "white",
            "showbackground": true,
            "ticks": "",
            "zerolinecolor": "white"
           },
           "yaxis": {
            "backgroundcolor": "#E5ECF6",
            "gridcolor": "white",
            "gridwidth": 2,
            "linecolor": "white",
            "showbackground": true,
            "ticks": "",
            "zerolinecolor": "white"
           },
           "zaxis": {
            "backgroundcolor": "#E5ECF6",
            "gridcolor": "white",
            "gridwidth": 2,
            "linecolor": "white",
            "showbackground": true,
            "ticks": "",
            "zerolinecolor": "white"
           }
          },
          "shapedefaults": {
           "line": {
            "color": "#2a3f5f"
           }
          },
          "ternary": {
           "aaxis": {
            "gridcolor": "white",
            "linecolor": "white",
            "ticks": ""
           },
           "baxis": {
            "gridcolor": "white",
            "linecolor": "white",
            "ticks": ""
           },
           "bgcolor": "#E5ECF6",
           "caxis": {
            "gridcolor": "white",
            "linecolor": "white",
            "ticks": ""
           }
          },
          "title": {
           "x": 0.05
          },
          "xaxis": {
           "automargin": true,
           "gridcolor": "white",
           "linecolor": "white",
           "ticks": "",
           "title": {
            "standoff": 15
           },
           "zerolinecolor": "white",
           "zerolinewidth": 2
          },
          "yaxis": {
           "automargin": true,
           "gridcolor": "white",
           "linecolor": "white",
           "ticks": "",
           "title": {
            "standoff": 15
           },
           "zerolinecolor": "white",
           "zerolinewidth": 2
          }
         }
        },
        "title": {
         "font": {
          "color": "black",
          "family": "Arial",
          "size": 20
         },
         "text": "Participação das despesas do Estado em Segurança Pública",
         "x": 0.43,
         "xanchor": "center",
         "y": 0.9,
         "yanchor": "top"
        },
        "xaxis": {
         "title": {
          "text": "Anos"
         }
        },
        "yaxis": {
         "gridcolor": "#008080",
         "showgrid": true,
         "title": {
          "text": "Participação em % "
         }
        }
       }
      },
      "text/html": [
       "<div>                            <div id=\"efa6a402-5b32-4642-b39a-09c60df54492\" class=\"plotly-graph-div\" style=\"height:525px; width:100%;\"></div>            <script type=\"text/javascript\">                require([\"plotly\"], function(Plotly) {                    window.PLOTLYENV=window.PLOTLYENV || {};                                    if (document.getElementById(\"efa6a402-5b32-4642-b39a-09c60df54492\")) {                    Plotly.newPlot(                        \"efa6a402-5b32-4642-b39a-09c60df54492\",                        [{\"marker\":{\"color\":\"#DC143C\"},\"name\":\"Alagoas\",\"x\":[\"2018\",\"2019\",\"2020\",\"2021\"],\"y\":[13.592553079111878,12.827947519201272,14.094557618335065,9.666335461630556],\"type\":\"bar\"},{\"marker\":{\"color\":\"#FA8072\"},\"name\":\"Bahia\",\"x\":[\"2018\",\"2019\",\"2020\",\"2021\"],\"y\":[9.830166875407786,9.919377519706895,9.545340954873776,7.72051358130846],\"type\":\"bar\"},{\"marker\":{\"color\":\"#FFD700\"},\"name\":\"Cear\\u00e1\",\"x\":[\"2018\",\"2019\",\"2020\",\"2021\"],\"y\":[10.172874025995696,10.525154875260382,11.55924850737849,10.141743622491951],\"type\":\"bar\"},{\"marker\":{\"color\":\"#90EE90\"},\"name\":\"Maranh\\u00e3o\",\"x\":[\"2018\",\"2019\",\"2020\",\"2021\"],\"y\":[9.598820179533407,11.465284691416409,11.820819121977415,9.352648198411567],\"type\":\"bar\"},{\"marker\":{\"color\":\"#1E90FF\"},\"name\":\"Para\\u00edba\",\"x\":[\"2018\",\"2019\",\"2020\",\"2021\"],\"y\":[12.59717832899316,13.146633067497172,14.06779553499414,11.339504892200395],\"type\":\"bar\"},{\"marker\":{\"color\":\"#0000CD\"},\"name\":\"Pernambuco\",\"x\":[\"2018\",\"2019\",\"2020\",\"2021\"],\"y\":[9.275187563784932,9.1082455381102,8.086200249655315,6.76089461102412],\"type\":\"bar\"},{\"marker\":{\"color\":\"#836FFF\"},\"name\":\"Piau\\u00ed\",\"x\":[\"2018\",\"2019\",\"2020\",\"2021\"],\"y\":[7.716075242751354,7.398203814197842,6.822167878858802,5.835011232191163],\"type\":\"bar\"},{\"marker\":{\"color\":\"#FF69B4\"},\"name\":\"Rio Grande do Norte\",\"x\":[\"2018\",\"2019\",\"2020\",\"2021\"],\"y\":[10.370607460850028,9.857302978592395,8.357718300171463,8.18357249818657],\"type\":\"bar\"},{\"marker\":{\"color\":\"#9932CC\"},\"name\":\"Sergipe\",\"x\":[\"2018\",\"2019\",\"2020\",\"2021\"],\"y\":[11.109552125539558,10.885833088944786,10.425071938177409,13.75165609143984],\"type\":\"bar\"}],                        {\"template\":{\"data\":{\"histogram2dcontour\":[{\"type\":\"histogram2dcontour\",\"colorbar\":{\"outlinewidth\":0,\"ticks\":\"\"},\"colorscale\":[[0.0,\"#0d0887\"],[0.1111111111111111,\"#46039f\"],[0.2222222222222222,\"#7201a8\"],[0.3333333333333333,\"#9c179e\"],[0.4444444444444444,\"#bd3786\"],[0.5555555555555556,\"#d8576b\"],[0.6666666666666666,\"#ed7953\"],[0.7777777777777778,\"#fb9f3a\"],[0.8888888888888888,\"#fdca26\"],[1.0,\"#f0f921\"]]}],\"choropleth\":[{\"type\":\"choropleth\",\"colorbar\":{\"outlinewidth\":0,\"ticks\":\"\"}}],\"histogram2d\":[{\"type\":\"histogram2d\",\"colorbar\":{\"outlinewidth\":0,\"ticks\":\"\"},\"colorscale\":[[0.0,\"#0d0887\"],[0.1111111111111111,\"#46039f\"],[0.2222222222222222,\"#7201a8\"],[0.3333333333333333,\"#9c179e\"],[0.4444444444444444,\"#bd3786\"],[0.5555555555555556,\"#d8576b\"],[0.6666666666666666,\"#ed7953\"],[0.7777777777777778,\"#fb9f3a\"],[0.8888888888888888,\"#fdca26\"],[1.0,\"#f0f921\"]]}],\"heatmap\":[{\"type\":\"heatmap\",\"colorbar\":{\"outlinewidth\":0,\"ticks\":\"\"},\"colorscale\":[[0.0,\"#0d0887\"],[0.1111111111111111,\"#46039f\"],[0.2222222222222222,\"#7201a8\"],[0.3333333333333333,\"#9c179e\"],[0.4444444444444444,\"#bd3786\"],[0.5555555555555556,\"#d8576b\"],[0.6666666666666666,\"#ed7953\"],[0.7777777777777778,\"#fb9f3a\"],[0.8888888888888888,\"#fdca26\"],[1.0,\"#f0f921\"]]}],\"heatmapgl\":[{\"type\":\"heatmapgl\",\"colorbar\":{\"outlinewidth\":0,\"ticks\":\"\"},\"colorscale\":[[0.0,\"#0d0887\"],[0.1111111111111111,\"#46039f\"],[0.2222222222222222,\"#7201a8\"],[0.3333333333333333,\"#9c179e\"],[0.4444444444444444,\"#bd3786\"],[0.5555555555555556,\"#d8576b\"],[0.6666666666666666,\"#ed7953\"],[0.7777777777777778,\"#fb9f3a\"],[0.8888888888888888,\"#fdca26\"],[1.0,\"#f0f921\"]]}],\"contourcarpet\":[{\"type\":\"contourcarpet\",\"colorbar\":{\"outlinewidth\":0,\"ticks\":\"\"}}],\"contour\":[{\"type\":\"contour\",\"colorbar\":{\"outlinewidth\":0,\"ticks\":\"\"},\"colorscale\":[[0.0,\"#0d0887\"],[0.1111111111111111,\"#46039f\"],[0.2222222222222222,\"#7201a8\"],[0.3333333333333333,\"#9c179e\"],[0.4444444444444444,\"#bd3786\"],[0.5555555555555556,\"#d8576b\"],[0.6666666666666666,\"#ed7953\"],[0.7777777777777778,\"#fb9f3a\"],[0.8888888888888888,\"#fdca26\"],[1.0,\"#f0f921\"]]}],\"surface\":[{\"type\":\"surface\",\"colorbar\":{\"outlinewidth\":0,\"ticks\":\"\"},\"colorscale\":[[0.0,\"#0d0887\"],[0.1111111111111111,\"#46039f\"],[0.2222222222222222,\"#7201a8\"],[0.3333333333333333,\"#9c179e\"],[0.4444444444444444,\"#bd3786\"],[0.5555555555555556,\"#d8576b\"],[0.6666666666666666,\"#ed7953\"],[0.7777777777777778,\"#fb9f3a\"],[0.8888888888888888,\"#fdca26\"],[1.0,\"#f0f921\"]]}],\"mesh3d\":[{\"type\":\"mesh3d\",\"colorbar\":{\"outlinewidth\":0,\"ticks\":\"\"}}],\"scatter\":[{\"fillpattern\":{\"fillmode\":\"overlay\",\"size\":10,\"solidity\":0.2},\"type\":\"scatter\"}],\"parcoords\":[{\"type\":\"parcoords\",\"line\":{\"colorbar\":{\"outlinewidth\":0,\"ticks\":\"\"}}}],\"scatterpolargl\":[{\"type\":\"scatterpolargl\",\"marker\":{\"colorbar\":{\"outlinewidth\":0,\"ticks\":\"\"}}}],\"bar\":[{\"error_x\":{\"color\":\"#2a3f5f\"},\"error_y\":{\"color\":\"#2a3f5f\"},\"marker\":{\"line\":{\"color\":\"#E5ECF6\",\"width\":0.5},\"pattern\":{\"fillmode\":\"overlay\",\"size\":10,\"solidity\":0.2}},\"type\":\"bar\"}],\"scattergeo\":[{\"type\":\"scattergeo\",\"marker\":{\"colorbar\":{\"outlinewidth\":0,\"ticks\":\"\"}}}],\"scatterpolar\":[{\"type\":\"scatterpolar\",\"marker\":{\"colorbar\":{\"outlinewidth\":0,\"ticks\":\"\"}}}],\"histogram\":[{\"marker\":{\"pattern\":{\"fillmode\":\"overlay\",\"size\":10,\"solidity\":0.2}},\"type\":\"histogram\"}],\"scattergl\":[{\"type\":\"scattergl\",\"marker\":{\"colorbar\":{\"outlinewidth\":0,\"ticks\":\"\"}}}],\"scatter3d\":[{\"type\":\"scatter3d\",\"line\":{\"colorbar\":{\"outlinewidth\":0,\"ticks\":\"\"}},\"marker\":{\"colorbar\":{\"outlinewidth\":0,\"ticks\":\"\"}}}],\"scattermapbox\":[{\"type\":\"scattermapbox\",\"marker\":{\"colorbar\":{\"outlinewidth\":0,\"ticks\":\"\"}}}],\"scatterternary\":[{\"type\":\"scatterternary\",\"marker\":{\"colorbar\":{\"outlinewidth\":0,\"ticks\":\"\"}}}],\"scattercarpet\":[{\"type\":\"scattercarpet\",\"marker\":{\"colorbar\":{\"outlinewidth\":0,\"ticks\":\"\"}}}],\"carpet\":[{\"aaxis\":{\"endlinecolor\":\"#2a3f5f\",\"gridcolor\":\"white\",\"linecolor\":\"white\",\"minorgridcolor\":\"white\",\"startlinecolor\":\"#2a3f5f\"},\"baxis\":{\"endlinecolor\":\"#2a3f5f\",\"gridcolor\":\"white\",\"linecolor\":\"white\",\"minorgridcolor\":\"white\",\"startlinecolor\":\"#2a3f5f\"},\"type\":\"carpet\"}],\"table\":[{\"cells\":{\"fill\":{\"color\":\"#EBF0F8\"},\"line\":{\"color\":\"white\"}},\"header\":{\"fill\":{\"color\":\"#C8D4E3\"},\"line\":{\"color\":\"white\"}},\"type\":\"table\"}],\"barpolar\":[{\"marker\":{\"line\":{\"color\":\"#E5ECF6\",\"width\":0.5},\"pattern\":{\"fillmode\":\"overlay\",\"size\":10,\"solidity\":0.2}},\"type\":\"barpolar\"}],\"pie\":[{\"automargin\":true,\"type\":\"pie\"}]},\"layout\":{\"autotypenumbers\":\"strict\",\"colorway\":[\"#636efa\",\"#EF553B\",\"#00cc96\",\"#ab63fa\",\"#FFA15A\",\"#19d3f3\",\"#FF6692\",\"#B6E880\",\"#FF97FF\",\"#FECB52\"],\"font\":{\"color\":\"#2a3f5f\"},\"hovermode\":\"closest\",\"hoverlabel\":{\"align\":\"left\"},\"paper_bgcolor\":\"white\",\"plot_bgcolor\":\"#E5ECF6\",\"polar\":{\"bgcolor\":\"#E5ECF6\",\"angularaxis\":{\"gridcolor\":\"white\",\"linecolor\":\"white\",\"ticks\":\"\"},\"radialaxis\":{\"gridcolor\":\"white\",\"linecolor\":\"white\",\"ticks\":\"\"}},\"ternary\":{\"bgcolor\":\"#E5ECF6\",\"aaxis\":{\"gridcolor\":\"white\",\"linecolor\":\"white\",\"ticks\":\"\"},\"baxis\":{\"gridcolor\":\"white\",\"linecolor\":\"white\",\"ticks\":\"\"},\"caxis\":{\"gridcolor\":\"white\",\"linecolor\":\"white\",\"ticks\":\"\"}},\"coloraxis\":{\"colorbar\":{\"outlinewidth\":0,\"ticks\":\"\"}},\"colorscale\":{\"sequential\":[[0.0,\"#0d0887\"],[0.1111111111111111,\"#46039f\"],[0.2222222222222222,\"#7201a8\"],[0.3333333333333333,\"#9c179e\"],[0.4444444444444444,\"#bd3786\"],[0.5555555555555556,\"#d8576b\"],[0.6666666666666666,\"#ed7953\"],[0.7777777777777778,\"#fb9f3a\"],[0.8888888888888888,\"#fdca26\"],[1.0,\"#f0f921\"]],\"sequentialminus\":[[0.0,\"#0d0887\"],[0.1111111111111111,\"#46039f\"],[0.2222222222222222,\"#7201a8\"],[0.3333333333333333,\"#9c179e\"],[0.4444444444444444,\"#bd3786\"],[0.5555555555555556,\"#d8576b\"],[0.6666666666666666,\"#ed7953\"],[0.7777777777777778,\"#fb9f3a\"],[0.8888888888888888,\"#fdca26\"],[1.0,\"#f0f921\"]],\"diverging\":[[0,\"#8e0152\"],[0.1,\"#c51b7d\"],[0.2,\"#de77ae\"],[0.3,\"#f1b6da\"],[0.4,\"#fde0ef\"],[0.5,\"#f7f7f7\"],[0.6,\"#e6f5d0\"],[0.7,\"#b8e186\"],[0.8,\"#7fbc41\"],[0.9,\"#4d9221\"],[1,\"#276419\"]]},\"xaxis\":{\"gridcolor\":\"white\",\"linecolor\":\"white\",\"ticks\":\"\",\"title\":{\"standoff\":15},\"zerolinecolor\":\"white\",\"automargin\":true,\"zerolinewidth\":2},\"yaxis\":{\"gridcolor\":\"white\",\"linecolor\":\"white\",\"ticks\":\"\",\"title\":{\"standoff\":15},\"zerolinecolor\":\"white\",\"automargin\":true,\"zerolinewidth\":2},\"scene\":{\"xaxis\":{\"backgroundcolor\":\"#E5ECF6\",\"gridcolor\":\"white\",\"linecolor\":\"white\",\"showbackground\":true,\"ticks\":\"\",\"zerolinecolor\":\"white\",\"gridwidth\":2},\"yaxis\":{\"backgroundcolor\":\"#E5ECF6\",\"gridcolor\":\"white\",\"linecolor\":\"white\",\"showbackground\":true,\"ticks\":\"\",\"zerolinecolor\":\"white\",\"gridwidth\":2},\"zaxis\":{\"backgroundcolor\":\"#E5ECF6\",\"gridcolor\":\"white\",\"linecolor\":\"white\",\"showbackground\":true,\"ticks\":\"\",\"zerolinecolor\":\"white\",\"gridwidth\":2}},\"shapedefaults\":{\"line\":{\"color\":\"#2a3f5f\"}},\"annotationdefaults\":{\"arrowcolor\":\"#2a3f5f\",\"arrowhead\":0,\"arrowwidth\":1},\"geo\":{\"bgcolor\":\"white\",\"landcolor\":\"#E5ECF6\",\"subunitcolor\":\"white\",\"showland\":true,\"showlakes\":true,\"lakecolor\":\"white\"},\"title\":{\"x\":0.05},\"mapbox\":{\"style\":\"light\"}}},\"title\":{\"font\":{\"size\":20,\"family\":\"Arial\",\"color\":\"black\"},\"text\":\"Participa\\u00e7\\u00e3o das despesas do Estado em Seguran\\u00e7a P\\u00fablica\",\"x\":0.43,\"y\":0.9,\"xanchor\":\"center\",\"yanchor\":\"top\"},\"yaxis\":{\"title\":{\"text\":\"Participa\\u00e7\\u00e3o em % \"},\"showgrid\":true,\"gridcolor\":\"#008080\"},\"xaxis\":{\"title\":{\"text\":\"Anos\"}},\"barmode\":\"group\",\"plot_bgcolor\":\"#F5FFFA\"},                        {\"responsive\": true}                    ).then(function(){\n",
       "                            \n",
       "var gd = document.getElementById('efa6a402-5b32-4642-b39a-09c60df54492');\n",
       "var x = new MutationObserver(function (mutations, observer) {{\n",
       "        var display = window.getComputedStyle(gd).display;\n",
       "        if (!display || display === 'none') {{\n",
       "            console.log([gd, 'removed!']);\n",
       "            Plotly.purge(gd);\n",
       "            observer.disconnect();\n",
       "        }}\n",
       "}});\n",
       "\n",
       "// Listen for the removal of the full notebook cells\n",
       "var notebookContainer = gd.closest('#notebook-container');\n",
       "if (notebookContainer) {{\n",
       "    x.observe(notebookContainer, {childList: true});\n",
       "}}\n",
       "\n",
       "// Listen for the clearing of the current output cell\n",
       "var outputEl = gd.closest('.output');\n",
       "if (outputEl) {{\n",
       "    x.observe(outputEl, {childList: true});\n",
       "}}\n",
       "\n",
       "                        })                };                });            </script>        </div>"
      ]
     },
     "metadata": {},
     "output_type": "display_data"
    }
   ],
   "source": [
    "import plotly.graph_objects as go\n",
    "\n",
    "# Dados de exemplo - gastos com segurança pública e taxas de homicídio\n",
    "anos = gastos_part.columns.tolist()\n",
    "estados = gastos_part.index.tolist()\n",
    "valores = gastos_part.values\n",
    "\n",
    "cores = ['#DC143C', '#FA8072', '#FFD700', '#90EE90', '#1E90FF', '#0000CD', '#836FFF', '#FF69B4', '#9932CC']\n",
    "\n",
    "# Criar o gráfico de barras\n",
    "participacao= go.Figure()\n",
    "\n",
    "for i, estado in enumerate(estados):\n",
    "    participacao.add_trace(go.Bar(x=anos, y=valores[i], name=estado,marker=dict(color=cores[i])))\n",
    "\n",
    "# Configurar o layout do gráfico\n",
    "participacao.update_layout(\n",
    "    title={\n",
    "        'text': 'Participação das despesas do Estado em Segurança Pública',\n",
    "        'x': 0.43,\n",
    "        'y': 0.9,\n",
    "        'xanchor': 'center',\n",
    "        'yanchor': 'top',\n",
    "        'font': {'size': 20, 'family': 'Arial', 'color': 'black'}\n",
    "    },\n",
    "    xaxis_title='Anos',\n",
    "    yaxis_title='Participação em % ',\n",
    "    barmode='group',\n",
    "    plot_bgcolor='#F5FFFA',\n",
    "    yaxis=dict(showgrid=True, gridcolor='#008080')\n",
    ")\n",
    "\n",
    "# Exibir o gráfico\n",
    "participacao.show()\n"
   ]
  },
  {
   "cell_type": "code",
   "execution_count": 105,
   "metadata": {
    "colab": {
     "base_uri": "https://localhost:8080/",
     "height": 542
    },
    "id": "1B1Zi_RPGQqc",
    "outputId": "c5b84856-31e6-4f89-9539-68aad78969fd"
   },
   "outputs": [
    {
     "data": {
      "application/vnd.plotly.v1+json": {
       "config": {
        "plotlyServerURL": "https://plot.ly"
       },
       "data": [
        {
         "marker": {
          "color": "#DC143C"
         },
         "name": "Alagoas",
         "type": "scatter",
         "x": [
          "2018",
          "2019",
          "2020",
          "2021"
         ],
         "y": [
          1521,
          1095,
          1251,
          1069
         ]
        },
        {
         "marker": {
          "color": "#FA8072"
         },
         "name": "Ceará",
         "type": "scatter",
         "x": [
          "2018",
          "2019",
          "2020",
          "2021"
         ],
         "y": [
          4788,
          2359,
          4155,
          3418
         ]
        },
        {
         "marker": {
          "color": "#FFD700"
         },
         "name": "Maranhão",
         "type": "scatter",
         "x": [
          "2018",
          "2019",
          "2020",
          "2021"
         ],
         "y": [
          1776,
          1562,
          2045,
          2021
         ]
        },
        {
         "marker": {
          "color": "#90EE90"
         },
         "name": "Paraíba",
         "type": "scatter",
         "x": [
          "2018",
          "2019",
          "2020",
          "2021"
         ],
         "y": [
          1210,
          942,
          1166,
          1161
         ]
        },
        {
         "marker": {
          "color": "#1E90FF"
         },
         "name": "Pernambuco",
         "type": "scatter",
         "x": [
          "2018",
          "2019",
          "2020",
          "2021"
         ],
         "y": [
          4170,
          3412,
          3681,
          3368
         ]
        },
        {
         "marker": {
          "color": "#0000CD"
         },
         "name": "Piauí",
         "type": "scatter",
         "x": [
          "2018",
          "2019",
          "2020",
          "2021"
         ],
         "y": [
          617,
          587,
          707,
          782
         ]
        },
        {
         "marker": {
          "color": "#836FFF"
         },
         "name": "Rio Grande do Norte",
         "type": "scatter",
         "x": [
          "2018",
          "2019",
          "2020",
          "2021"
         ],
         "y": [
          1926,
          1264,
          1344,
          1155
         ]
        },
        {
         "marker": {
          "color": "#FF69B4"
         },
         "name": "Bahia",
         "type": "scatter",
         "x": [
          "2018",
          "2019",
          "2020",
          "2021"
         ],
         "y": [
          6346,
          6002,
          6703,
          6734
         ]
        },
        {
         "marker": {
          "color": "#9932CC"
         },
         "name": "Sergipe",
         "type": "scatter",
         "x": [
          "2018",
          "2019",
          "2020",
          "2021"
         ],
         "y": [
          1128,
          967,
          987,
          792
         ]
        }
       ],
       "layout": {
        "plot_bgcolor": "#F0FFFF",
        "template": {
         "data": {
          "bar": [
           {
            "error_x": {
             "color": "#2a3f5f"
            },
            "error_y": {
             "color": "#2a3f5f"
            },
            "marker": {
             "line": {
              "color": "#E5ECF6",
              "width": 0.5
             },
             "pattern": {
              "fillmode": "overlay",
              "size": 10,
              "solidity": 0.2
             }
            },
            "type": "bar"
           }
          ],
          "barpolar": [
           {
            "marker": {
             "line": {
              "color": "#E5ECF6",
              "width": 0.5
             },
             "pattern": {
              "fillmode": "overlay",
              "size": 10,
              "solidity": 0.2
             }
            },
            "type": "barpolar"
           }
          ],
          "carpet": [
           {
            "aaxis": {
             "endlinecolor": "#2a3f5f",
             "gridcolor": "white",
             "linecolor": "white",
             "minorgridcolor": "white",
             "startlinecolor": "#2a3f5f"
            },
            "baxis": {
             "endlinecolor": "#2a3f5f",
             "gridcolor": "white",
             "linecolor": "white",
             "minorgridcolor": "white",
             "startlinecolor": "#2a3f5f"
            },
            "type": "carpet"
           }
          ],
          "choropleth": [
           {
            "colorbar": {
             "outlinewidth": 0,
             "ticks": ""
            },
            "type": "choropleth"
           }
          ],
          "contour": [
           {
            "colorbar": {
             "outlinewidth": 0,
             "ticks": ""
            },
            "colorscale": [
             [
              0,
              "#0d0887"
             ],
             [
              0.1111111111111111,
              "#46039f"
             ],
             [
              0.2222222222222222,
              "#7201a8"
             ],
             [
              0.3333333333333333,
              "#9c179e"
             ],
             [
              0.4444444444444444,
              "#bd3786"
             ],
             [
              0.5555555555555556,
              "#d8576b"
             ],
             [
              0.6666666666666666,
              "#ed7953"
             ],
             [
              0.7777777777777778,
              "#fb9f3a"
             ],
             [
              0.8888888888888888,
              "#fdca26"
             ],
             [
              1,
              "#f0f921"
             ]
            ],
            "type": "contour"
           }
          ],
          "contourcarpet": [
           {
            "colorbar": {
             "outlinewidth": 0,
             "ticks": ""
            },
            "type": "contourcarpet"
           }
          ],
          "heatmap": [
           {
            "colorbar": {
             "outlinewidth": 0,
             "ticks": ""
            },
            "colorscale": [
             [
              0,
              "#0d0887"
             ],
             [
              0.1111111111111111,
              "#46039f"
             ],
             [
              0.2222222222222222,
              "#7201a8"
             ],
             [
              0.3333333333333333,
              "#9c179e"
             ],
             [
              0.4444444444444444,
              "#bd3786"
             ],
             [
              0.5555555555555556,
              "#d8576b"
             ],
             [
              0.6666666666666666,
              "#ed7953"
             ],
             [
              0.7777777777777778,
              "#fb9f3a"
             ],
             [
              0.8888888888888888,
              "#fdca26"
             ],
             [
              1,
              "#f0f921"
             ]
            ],
            "type": "heatmap"
           }
          ],
          "heatmapgl": [
           {
            "colorbar": {
             "outlinewidth": 0,
             "ticks": ""
            },
            "colorscale": [
             [
              0,
              "#0d0887"
             ],
             [
              0.1111111111111111,
              "#46039f"
             ],
             [
              0.2222222222222222,
              "#7201a8"
             ],
             [
              0.3333333333333333,
              "#9c179e"
             ],
             [
              0.4444444444444444,
              "#bd3786"
             ],
             [
              0.5555555555555556,
              "#d8576b"
             ],
             [
              0.6666666666666666,
              "#ed7953"
             ],
             [
              0.7777777777777778,
              "#fb9f3a"
             ],
             [
              0.8888888888888888,
              "#fdca26"
             ],
             [
              1,
              "#f0f921"
             ]
            ],
            "type": "heatmapgl"
           }
          ],
          "histogram": [
           {
            "marker": {
             "pattern": {
              "fillmode": "overlay",
              "size": 10,
              "solidity": 0.2
             }
            },
            "type": "histogram"
           }
          ],
          "histogram2d": [
           {
            "colorbar": {
             "outlinewidth": 0,
             "ticks": ""
            },
            "colorscale": [
             [
              0,
              "#0d0887"
             ],
             [
              0.1111111111111111,
              "#46039f"
             ],
             [
              0.2222222222222222,
              "#7201a8"
             ],
             [
              0.3333333333333333,
              "#9c179e"
             ],
             [
              0.4444444444444444,
              "#bd3786"
             ],
             [
              0.5555555555555556,
              "#d8576b"
             ],
             [
              0.6666666666666666,
              "#ed7953"
             ],
             [
              0.7777777777777778,
              "#fb9f3a"
             ],
             [
              0.8888888888888888,
              "#fdca26"
             ],
             [
              1,
              "#f0f921"
             ]
            ],
            "type": "histogram2d"
           }
          ],
          "histogram2dcontour": [
           {
            "colorbar": {
             "outlinewidth": 0,
             "ticks": ""
            },
            "colorscale": [
             [
              0,
              "#0d0887"
             ],
             [
              0.1111111111111111,
              "#46039f"
             ],
             [
              0.2222222222222222,
              "#7201a8"
             ],
             [
              0.3333333333333333,
              "#9c179e"
             ],
             [
              0.4444444444444444,
              "#bd3786"
             ],
             [
              0.5555555555555556,
              "#d8576b"
             ],
             [
              0.6666666666666666,
              "#ed7953"
             ],
             [
              0.7777777777777778,
              "#fb9f3a"
             ],
             [
              0.8888888888888888,
              "#fdca26"
             ],
             [
              1,
              "#f0f921"
             ]
            ],
            "type": "histogram2dcontour"
           }
          ],
          "mesh3d": [
           {
            "colorbar": {
             "outlinewidth": 0,
             "ticks": ""
            },
            "type": "mesh3d"
           }
          ],
          "parcoords": [
           {
            "line": {
             "colorbar": {
              "outlinewidth": 0,
              "ticks": ""
             }
            },
            "type": "parcoords"
           }
          ],
          "pie": [
           {
            "automargin": true,
            "type": "pie"
           }
          ],
          "scatter": [
           {
            "fillpattern": {
             "fillmode": "overlay",
             "size": 10,
             "solidity": 0.2
            },
            "type": "scatter"
           }
          ],
          "scatter3d": [
           {
            "line": {
             "colorbar": {
              "outlinewidth": 0,
              "ticks": ""
             }
            },
            "marker": {
             "colorbar": {
              "outlinewidth": 0,
              "ticks": ""
             }
            },
            "type": "scatter3d"
           }
          ],
          "scattercarpet": [
           {
            "marker": {
             "colorbar": {
              "outlinewidth": 0,
              "ticks": ""
             }
            },
            "type": "scattercarpet"
           }
          ],
          "scattergeo": [
           {
            "marker": {
             "colorbar": {
              "outlinewidth": 0,
              "ticks": ""
             }
            },
            "type": "scattergeo"
           }
          ],
          "scattergl": [
           {
            "marker": {
             "colorbar": {
              "outlinewidth": 0,
              "ticks": ""
             }
            },
            "type": "scattergl"
           }
          ],
          "scattermapbox": [
           {
            "marker": {
             "colorbar": {
              "outlinewidth": 0,
              "ticks": ""
             }
            },
            "type": "scattermapbox"
           }
          ],
          "scatterpolar": [
           {
            "marker": {
             "colorbar": {
              "outlinewidth": 0,
              "ticks": ""
             }
            },
            "type": "scatterpolar"
           }
          ],
          "scatterpolargl": [
           {
            "marker": {
             "colorbar": {
              "outlinewidth": 0,
              "ticks": ""
             }
            },
            "type": "scatterpolargl"
           }
          ],
          "scatterternary": [
           {
            "marker": {
             "colorbar": {
              "outlinewidth": 0,
              "ticks": ""
             }
            },
            "type": "scatterternary"
           }
          ],
          "surface": [
           {
            "colorbar": {
             "outlinewidth": 0,
             "ticks": ""
            },
            "colorscale": [
             [
              0,
              "#0d0887"
             ],
             [
              0.1111111111111111,
              "#46039f"
             ],
             [
              0.2222222222222222,
              "#7201a8"
             ],
             [
              0.3333333333333333,
              "#9c179e"
             ],
             [
              0.4444444444444444,
              "#bd3786"
             ],
             [
              0.5555555555555556,
              "#d8576b"
             ],
             [
              0.6666666666666666,
              "#ed7953"
             ],
             [
              0.7777777777777778,
              "#fb9f3a"
             ],
             [
              0.8888888888888888,
              "#fdca26"
             ],
             [
              1,
              "#f0f921"
             ]
            ],
            "type": "surface"
           }
          ],
          "table": [
           {
            "cells": {
             "fill": {
              "color": "#EBF0F8"
             },
             "line": {
              "color": "white"
             }
            },
            "header": {
             "fill": {
              "color": "#C8D4E3"
             },
             "line": {
              "color": "white"
             }
            },
            "type": "table"
           }
          ]
         },
         "layout": {
          "annotationdefaults": {
           "arrowcolor": "#2a3f5f",
           "arrowhead": 0,
           "arrowwidth": 1
          },
          "autotypenumbers": "strict",
          "coloraxis": {
           "colorbar": {
            "outlinewidth": 0,
            "ticks": ""
           }
          },
          "colorscale": {
           "diverging": [
            [
             0,
             "#8e0152"
            ],
            [
             0.1,
             "#c51b7d"
            ],
            [
             0.2,
             "#de77ae"
            ],
            [
             0.3,
             "#f1b6da"
            ],
            [
             0.4,
             "#fde0ef"
            ],
            [
             0.5,
             "#f7f7f7"
            ],
            [
             0.6,
             "#e6f5d0"
            ],
            [
             0.7,
             "#b8e186"
            ],
            [
             0.8,
             "#7fbc41"
            ],
            [
             0.9,
             "#4d9221"
            ],
            [
             1,
             "#276419"
            ]
           ],
           "sequential": [
            [
             0,
             "#0d0887"
            ],
            [
             0.1111111111111111,
             "#46039f"
            ],
            [
             0.2222222222222222,
             "#7201a8"
            ],
            [
             0.3333333333333333,
             "#9c179e"
            ],
            [
             0.4444444444444444,
             "#bd3786"
            ],
            [
             0.5555555555555556,
             "#d8576b"
            ],
            [
             0.6666666666666666,
             "#ed7953"
            ],
            [
             0.7777777777777778,
             "#fb9f3a"
            ],
            [
             0.8888888888888888,
             "#fdca26"
            ],
            [
             1,
             "#f0f921"
            ]
           ],
           "sequentialminus": [
            [
             0,
             "#0d0887"
            ],
            [
             0.1111111111111111,
             "#46039f"
            ],
            [
             0.2222222222222222,
             "#7201a8"
            ],
            [
             0.3333333333333333,
             "#9c179e"
            ],
            [
             0.4444444444444444,
             "#bd3786"
            ],
            [
             0.5555555555555556,
             "#d8576b"
            ],
            [
             0.6666666666666666,
             "#ed7953"
            ],
            [
             0.7777777777777778,
             "#fb9f3a"
            ],
            [
             0.8888888888888888,
             "#fdca26"
            ],
            [
             1,
             "#f0f921"
            ]
           ]
          },
          "colorway": [
           "#636efa",
           "#EF553B",
           "#00cc96",
           "#ab63fa",
           "#FFA15A",
           "#19d3f3",
           "#FF6692",
           "#B6E880",
           "#FF97FF",
           "#FECB52"
          ],
          "font": {
           "color": "#2a3f5f"
          },
          "geo": {
           "bgcolor": "white",
           "lakecolor": "white",
           "landcolor": "#E5ECF6",
           "showlakes": true,
           "showland": true,
           "subunitcolor": "white"
          },
          "hoverlabel": {
           "align": "left"
          },
          "hovermode": "closest",
          "mapbox": {
           "style": "light"
          },
          "paper_bgcolor": "white",
          "plot_bgcolor": "#E5ECF6",
          "polar": {
           "angularaxis": {
            "gridcolor": "white",
            "linecolor": "white",
            "ticks": ""
           },
           "bgcolor": "#E5ECF6",
           "radialaxis": {
            "gridcolor": "white",
            "linecolor": "white",
            "ticks": ""
           }
          },
          "scene": {
           "xaxis": {
            "backgroundcolor": "#E5ECF6",
            "gridcolor": "white",
            "gridwidth": 2,
            "linecolor": "white",
            "showbackground": true,
            "ticks": "",
            "zerolinecolor": "white"
           },
           "yaxis": {
            "backgroundcolor": "#E5ECF6",
            "gridcolor": "white",
            "gridwidth": 2,
            "linecolor": "white",
            "showbackground": true,
            "ticks": "",
            "zerolinecolor": "white"
           },
           "zaxis": {
            "backgroundcolor": "#E5ECF6",
            "gridcolor": "white",
            "gridwidth": 2,
            "linecolor": "white",
            "showbackground": true,
            "ticks": "",
            "zerolinecolor": "white"
           }
          },
          "shapedefaults": {
           "line": {
            "color": "#2a3f5f"
           }
          },
          "ternary": {
           "aaxis": {
            "gridcolor": "white",
            "linecolor": "white",
            "ticks": ""
           },
           "baxis": {
            "gridcolor": "white",
            "linecolor": "white",
            "ticks": ""
           },
           "bgcolor": "#E5ECF6",
           "caxis": {
            "gridcolor": "white",
            "linecolor": "white",
            "ticks": ""
           }
          },
          "title": {
           "x": 0.05
          },
          "xaxis": {
           "automargin": true,
           "gridcolor": "white",
           "linecolor": "white",
           "ticks": "",
           "title": {
            "standoff": 15
           },
           "zerolinecolor": "white",
           "zerolinewidth": 2
          },
          "yaxis": {
           "automargin": true,
           "gridcolor": "white",
           "linecolor": "white",
           "ticks": "",
           "title": {
            "standoff": 15
           },
           "zerolinecolor": "white",
           "zerolinewidth": 2
          }
         }
        },
        "title": {
         "font": {
          "color": "black",
          "family": "Arial",
          "size": 22
         },
         "text": "Número de Homicídios por Estado",
         "x": 0.43,
         "xanchor": "center",
         "y": 0.9,
         "yanchor": "top"
        },
        "xaxis": {
         "showgrid": true,
         "title": {
          "text": "Ano"
         }
        },
        "yaxis": {
         "showgrid": true,
         "title": {
          "text": "Quantidade de homicídios"
         }
        }
       }
      },
      "text/html": [
       "<div>                            <div id=\"45fbed3d-037b-441b-93bf-2f2ff31c6180\" class=\"plotly-graph-div\" style=\"height:525px; width:100%;\"></div>            <script type=\"text/javascript\">                require([\"plotly\"], function(Plotly) {                    window.PLOTLYENV=window.PLOTLYENV || {};                                    if (document.getElementById(\"45fbed3d-037b-441b-93bf-2f2ff31c6180\")) {                    Plotly.newPlot(                        \"45fbed3d-037b-441b-93bf-2f2ff31c6180\",                        [{\"marker\":{\"color\":\"#DC143C\"},\"name\":\"Alagoas\",\"x\":[\"2018\",\"2019\",\"2020\",\"2021\"],\"y\":[1521,1095,1251,1069],\"type\":\"scatter\"},{\"marker\":{\"color\":\"#FA8072\"},\"name\":\"Cear\\u00e1\",\"x\":[\"2018\",\"2019\",\"2020\",\"2021\"],\"y\":[4788,2359,4155,3418],\"type\":\"scatter\"},{\"marker\":{\"color\":\"#FFD700\"},\"name\":\"Maranh\\u00e3o\",\"x\":[\"2018\",\"2019\",\"2020\",\"2021\"],\"y\":[1776,1562,2045,2021],\"type\":\"scatter\"},{\"marker\":{\"color\":\"#90EE90\"},\"name\":\"Para\\u00edba\",\"x\":[\"2018\",\"2019\",\"2020\",\"2021\"],\"y\":[1210,942,1166,1161],\"type\":\"scatter\"},{\"marker\":{\"color\":\"#1E90FF\"},\"name\":\"Pernambuco\",\"x\":[\"2018\",\"2019\",\"2020\",\"2021\"],\"y\":[4170,3412,3681,3368],\"type\":\"scatter\"},{\"marker\":{\"color\":\"#0000CD\"},\"name\":\"Piau\\u00ed\",\"x\":[\"2018\",\"2019\",\"2020\",\"2021\"],\"y\":[617,587,707,782],\"type\":\"scatter\"},{\"marker\":{\"color\":\"#836FFF\"},\"name\":\"Rio Grande do Norte\",\"x\":[\"2018\",\"2019\",\"2020\",\"2021\"],\"y\":[1926,1264,1344,1155],\"type\":\"scatter\"},{\"marker\":{\"color\":\"#FF69B4\"},\"name\":\"Bahia\",\"x\":[\"2018\",\"2019\",\"2020\",\"2021\"],\"y\":[6346,6002,6703,6734],\"type\":\"scatter\"},{\"marker\":{\"color\":\"#9932CC\"},\"name\":\"Sergipe\",\"x\":[\"2018\",\"2019\",\"2020\",\"2021\"],\"y\":[1128,967,987,792],\"type\":\"scatter\"}],                        {\"template\":{\"data\":{\"histogram2dcontour\":[{\"type\":\"histogram2dcontour\",\"colorbar\":{\"outlinewidth\":0,\"ticks\":\"\"},\"colorscale\":[[0.0,\"#0d0887\"],[0.1111111111111111,\"#46039f\"],[0.2222222222222222,\"#7201a8\"],[0.3333333333333333,\"#9c179e\"],[0.4444444444444444,\"#bd3786\"],[0.5555555555555556,\"#d8576b\"],[0.6666666666666666,\"#ed7953\"],[0.7777777777777778,\"#fb9f3a\"],[0.8888888888888888,\"#fdca26\"],[1.0,\"#f0f921\"]]}],\"choropleth\":[{\"type\":\"choropleth\",\"colorbar\":{\"outlinewidth\":0,\"ticks\":\"\"}}],\"histogram2d\":[{\"type\":\"histogram2d\",\"colorbar\":{\"outlinewidth\":0,\"ticks\":\"\"},\"colorscale\":[[0.0,\"#0d0887\"],[0.1111111111111111,\"#46039f\"],[0.2222222222222222,\"#7201a8\"],[0.3333333333333333,\"#9c179e\"],[0.4444444444444444,\"#bd3786\"],[0.5555555555555556,\"#d8576b\"],[0.6666666666666666,\"#ed7953\"],[0.7777777777777778,\"#fb9f3a\"],[0.8888888888888888,\"#fdca26\"],[1.0,\"#f0f921\"]]}],\"heatmap\":[{\"type\":\"heatmap\",\"colorbar\":{\"outlinewidth\":0,\"ticks\":\"\"},\"colorscale\":[[0.0,\"#0d0887\"],[0.1111111111111111,\"#46039f\"],[0.2222222222222222,\"#7201a8\"],[0.3333333333333333,\"#9c179e\"],[0.4444444444444444,\"#bd3786\"],[0.5555555555555556,\"#d8576b\"],[0.6666666666666666,\"#ed7953\"],[0.7777777777777778,\"#fb9f3a\"],[0.8888888888888888,\"#fdca26\"],[1.0,\"#f0f921\"]]}],\"heatmapgl\":[{\"type\":\"heatmapgl\",\"colorbar\":{\"outlinewidth\":0,\"ticks\":\"\"},\"colorscale\":[[0.0,\"#0d0887\"],[0.1111111111111111,\"#46039f\"],[0.2222222222222222,\"#7201a8\"],[0.3333333333333333,\"#9c179e\"],[0.4444444444444444,\"#bd3786\"],[0.5555555555555556,\"#d8576b\"],[0.6666666666666666,\"#ed7953\"],[0.7777777777777778,\"#fb9f3a\"],[0.8888888888888888,\"#fdca26\"],[1.0,\"#f0f921\"]]}],\"contourcarpet\":[{\"type\":\"contourcarpet\",\"colorbar\":{\"outlinewidth\":0,\"ticks\":\"\"}}],\"contour\":[{\"type\":\"contour\",\"colorbar\":{\"outlinewidth\":0,\"ticks\":\"\"},\"colorscale\":[[0.0,\"#0d0887\"],[0.1111111111111111,\"#46039f\"],[0.2222222222222222,\"#7201a8\"],[0.3333333333333333,\"#9c179e\"],[0.4444444444444444,\"#bd3786\"],[0.5555555555555556,\"#d8576b\"],[0.6666666666666666,\"#ed7953\"],[0.7777777777777778,\"#fb9f3a\"],[0.8888888888888888,\"#fdca26\"],[1.0,\"#f0f921\"]]}],\"surface\":[{\"type\":\"surface\",\"colorbar\":{\"outlinewidth\":0,\"ticks\":\"\"},\"colorscale\":[[0.0,\"#0d0887\"],[0.1111111111111111,\"#46039f\"],[0.2222222222222222,\"#7201a8\"],[0.3333333333333333,\"#9c179e\"],[0.4444444444444444,\"#bd3786\"],[0.5555555555555556,\"#d8576b\"],[0.6666666666666666,\"#ed7953\"],[0.7777777777777778,\"#fb9f3a\"],[0.8888888888888888,\"#fdca26\"],[1.0,\"#f0f921\"]]}],\"mesh3d\":[{\"type\":\"mesh3d\",\"colorbar\":{\"outlinewidth\":0,\"ticks\":\"\"}}],\"scatter\":[{\"fillpattern\":{\"fillmode\":\"overlay\",\"size\":10,\"solidity\":0.2},\"type\":\"scatter\"}],\"parcoords\":[{\"type\":\"parcoords\",\"line\":{\"colorbar\":{\"outlinewidth\":0,\"ticks\":\"\"}}}],\"scatterpolargl\":[{\"type\":\"scatterpolargl\",\"marker\":{\"colorbar\":{\"outlinewidth\":0,\"ticks\":\"\"}}}],\"bar\":[{\"error_x\":{\"color\":\"#2a3f5f\"},\"error_y\":{\"color\":\"#2a3f5f\"},\"marker\":{\"line\":{\"color\":\"#E5ECF6\",\"width\":0.5},\"pattern\":{\"fillmode\":\"overlay\",\"size\":10,\"solidity\":0.2}},\"type\":\"bar\"}],\"scattergeo\":[{\"type\":\"scattergeo\",\"marker\":{\"colorbar\":{\"outlinewidth\":0,\"ticks\":\"\"}}}],\"scatterpolar\":[{\"type\":\"scatterpolar\",\"marker\":{\"colorbar\":{\"outlinewidth\":0,\"ticks\":\"\"}}}],\"histogram\":[{\"marker\":{\"pattern\":{\"fillmode\":\"overlay\",\"size\":10,\"solidity\":0.2}},\"type\":\"histogram\"}],\"scattergl\":[{\"type\":\"scattergl\",\"marker\":{\"colorbar\":{\"outlinewidth\":0,\"ticks\":\"\"}}}],\"scatter3d\":[{\"type\":\"scatter3d\",\"line\":{\"colorbar\":{\"outlinewidth\":0,\"ticks\":\"\"}},\"marker\":{\"colorbar\":{\"outlinewidth\":0,\"ticks\":\"\"}}}],\"scattermapbox\":[{\"type\":\"scattermapbox\",\"marker\":{\"colorbar\":{\"outlinewidth\":0,\"ticks\":\"\"}}}],\"scatterternary\":[{\"type\":\"scatterternary\",\"marker\":{\"colorbar\":{\"outlinewidth\":0,\"ticks\":\"\"}}}],\"scattercarpet\":[{\"type\":\"scattercarpet\",\"marker\":{\"colorbar\":{\"outlinewidth\":0,\"ticks\":\"\"}}}],\"carpet\":[{\"aaxis\":{\"endlinecolor\":\"#2a3f5f\",\"gridcolor\":\"white\",\"linecolor\":\"white\",\"minorgridcolor\":\"white\",\"startlinecolor\":\"#2a3f5f\"},\"baxis\":{\"endlinecolor\":\"#2a3f5f\",\"gridcolor\":\"white\",\"linecolor\":\"white\",\"minorgridcolor\":\"white\",\"startlinecolor\":\"#2a3f5f\"},\"type\":\"carpet\"}],\"table\":[{\"cells\":{\"fill\":{\"color\":\"#EBF0F8\"},\"line\":{\"color\":\"white\"}},\"header\":{\"fill\":{\"color\":\"#C8D4E3\"},\"line\":{\"color\":\"white\"}},\"type\":\"table\"}],\"barpolar\":[{\"marker\":{\"line\":{\"color\":\"#E5ECF6\",\"width\":0.5},\"pattern\":{\"fillmode\":\"overlay\",\"size\":10,\"solidity\":0.2}},\"type\":\"barpolar\"}],\"pie\":[{\"automargin\":true,\"type\":\"pie\"}]},\"layout\":{\"autotypenumbers\":\"strict\",\"colorway\":[\"#636efa\",\"#EF553B\",\"#00cc96\",\"#ab63fa\",\"#FFA15A\",\"#19d3f3\",\"#FF6692\",\"#B6E880\",\"#FF97FF\",\"#FECB52\"],\"font\":{\"color\":\"#2a3f5f\"},\"hovermode\":\"closest\",\"hoverlabel\":{\"align\":\"left\"},\"paper_bgcolor\":\"white\",\"plot_bgcolor\":\"#E5ECF6\",\"polar\":{\"bgcolor\":\"#E5ECF6\",\"angularaxis\":{\"gridcolor\":\"white\",\"linecolor\":\"white\",\"ticks\":\"\"},\"radialaxis\":{\"gridcolor\":\"white\",\"linecolor\":\"white\",\"ticks\":\"\"}},\"ternary\":{\"bgcolor\":\"#E5ECF6\",\"aaxis\":{\"gridcolor\":\"white\",\"linecolor\":\"white\",\"ticks\":\"\"},\"baxis\":{\"gridcolor\":\"white\",\"linecolor\":\"white\",\"ticks\":\"\"},\"caxis\":{\"gridcolor\":\"white\",\"linecolor\":\"white\",\"ticks\":\"\"}},\"coloraxis\":{\"colorbar\":{\"outlinewidth\":0,\"ticks\":\"\"}},\"colorscale\":{\"sequential\":[[0.0,\"#0d0887\"],[0.1111111111111111,\"#46039f\"],[0.2222222222222222,\"#7201a8\"],[0.3333333333333333,\"#9c179e\"],[0.4444444444444444,\"#bd3786\"],[0.5555555555555556,\"#d8576b\"],[0.6666666666666666,\"#ed7953\"],[0.7777777777777778,\"#fb9f3a\"],[0.8888888888888888,\"#fdca26\"],[1.0,\"#f0f921\"]],\"sequentialminus\":[[0.0,\"#0d0887\"],[0.1111111111111111,\"#46039f\"],[0.2222222222222222,\"#7201a8\"],[0.3333333333333333,\"#9c179e\"],[0.4444444444444444,\"#bd3786\"],[0.5555555555555556,\"#d8576b\"],[0.6666666666666666,\"#ed7953\"],[0.7777777777777778,\"#fb9f3a\"],[0.8888888888888888,\"#fdca26\"],[1.0,\"#f0f921\"]],\"diverging\":[[0,\"#8e0152\"],[0.1,\"#c51b7d\"],[0.2,\"#de77ae\"],[0.3,\"#f1b6da\"],[0.4,\"#fde0ef\"],[0.5,\"#f7f7f7\"],[0.6,\"#e6f5d0\"],[0.7,\"#b8e186\"],[0.8,\"#7fbc41\"],[0.9,\"#4d9221\"],[1,\"#276419\"]]},\"xaxis\":{\"gridcolor\":\"white\",\"linecolor\":\"white\",\"ticks\":\"\",\"title\":{\"standoff\":15},\"zerolinecolor\":\"white\",\"automargin\":true,\"zerolinewidth\":2},\"yaxis\":{\"gridcolor\":\"white\",\"linecolor\":\"white\",\"ticks\":\"\",\"title\":{\"standoff\":15},\"zerolinecolor\":\"white\",\"automargin\":true,\"zerolinewidth\":2},\"scene\":{\"xaxis\":{\"backgroundcolor\":\"#E5ECF6\",\"gridcolor\":\"white\",\"linecolor\":\"white\",\"showbackground\":true,\"ticks\":\"\",\"zerolinecolor\":\"white\",\"gridwidth\":2},\"yaxis\":{\"backgroundcolor\":\"#E5ECF6\",\"gridcolor\":\"white\",\"linecolor\":\"white\",\"showbackground\":true,\"ticks\":\"\",\"zerolinecolor\":\"white\",\"gridwidth\":2},\"zaxis\":{\"backgroundcolor\":\"#E5ECF6\",\"gridcolor\":\"white\",\"linecolor\":\"white\",\"showbackground\":true,\"ticks\":\"\",\"zerolinecolor\":\"white\",\"gridwidth\":2}},\"shapedefaults\":{\"line\":{\"color\":\"#2a3f5f\"}},\"annotationdefaults\":{\"arrowcolor\":\"#2a3f5f\",\"arrowhead\":0,\"arrowwidth\":1},\"geo\":{\"bgcolor\":\"white\",\"landcolor\":\"#E5ECF6\",\"subunitcolor\":\"white\",\"showland\":true,\"showlakes\":true,\"lakecolor\":\"white\"},\"title\":{\"x\":0.05},\"mapbox\":{\"style\":\"light\"}}},\"title\":{\"font\":{\"size\":22,\"family\":\"Arial\",\"color\":\"black\"},\"text\":\"N\\u00famero de Homic\\u00eddios por Estado\",\"x\":0.43,\"y\":0.9,\"xanchor\":\"center\",\"yanchor\":\"top\"},\"xaxis\":{\"title\":{\"text\":\"Ano\"},\"showgrid\":true},\"yaxis\":{\"title\":{\"text\":\"Quantidade de homic\\u00eddios\"},\"showgrid\":true},\"plot_bgcolor\":\"#F0FFFF\"},                        {\"responsive\": true}                    ).then(function(){\n",
       "                            \n",
       "var gd = document.getElementById('45fbed3d-037b-441b-93bf-2f2ff31c6180');\n",
       "var x = new MutationObserver(function (mutations, observer) {{\n",
       "        var display = window.getComputedStyle(gd).display;\n",
       "        if (!display || display === 'none') {{\n",
       "            console.log([gd, 'removed!']);\n",
       "            Plotly.purge(gd);\n",
       "            observer.disconnect();\n",
       "        }}\n",
       "}});\n",
       "\n",
       "// Listen for the removal of the full notebook cells\n",
       "var notebookContainer = gd.closest('#notebook-container');\n",
       "if (notebookContainer) {{\n",
       "    x.observe(notebookContainer, {childList: true});\n",
       "}}\n",
       "\n",
       "// Listen for the clearing of the current output cell\n",
       "var outputEl = gd.closest('.output');\n",
       "if (outputEl) {{\n",
       "    x.observe(outputEl, {childList: true});\n",
       "}}\n",
       "\n",
       "                        })                };                });            </script>        </div>"
      ]
     },
     "metadata": {},
     "output_type": "display_data"
    }
   ],
   "source": [
    "anos = homicidios_abs.columns\n",
    "estados = homicidios_abs.index\n",
    "valores = homicidios_abs.values\n",
    "\n",
    "cores = ['#DC143C', '#FA8072', '#FFD700', '#90EE90', '#1E90FF', '#0000CD', '#836FFF', '#FF69B4', '#9932CC']\n",
    "\n",
    "num_homicidios = go.Figure()\n",
    "for i, estado in enumerate(estados):\n",
    "    num_homicidios.add_trace(go.Scatter(x=anos, y=valores[i], name=estado,marker=dict(color=cores[i])))\n",
    "\n",
    "num_homicidios.update_layout(\n",
    "    title={\n",
    "        'text': 'Número de Homicídios por Estado',\n",
    "        'x': 0.43,\n",
    "        'y': 0.9,\n",
    "        'xanchor': 'center',\n",
    "        'yanchor': 'top',\n",
    "        'font': {'size': 22, 'family': 'Arial', 'color': 'black'}\n",
    "    },\n",
    "    xaxis_title='Ano',\n",
    "    yaxis_title='Quantidade de homicídios',\n",
    "    plot_bgcolor='#F0FFFF',\n",
    "    xaxis=dict(showgrid=True),\n",
    "    yaxis=dict(showgrid=True),\n",
    "    \n",
    ")\n",
    "num_homicidios.show()\n"
   ]
  },
  {
   "cell_type": "code",
   "execution_count": 52,
   "metadata": {},
   "outputs": [
    {
     "name": "stdout",
     "output_type": "stream",
     "text": [
      "Requirement already satisfied: jupyter-dash in /Users/paulohenrique/opt/anaconda3/lib/python3.9/site-packages (0.4.2)\n",
      "Requirement already satisfied: ipykernel in /Users/paulohenrique/opt/anaconda3/lib/python3.9/site-packages (from jupyter-dash) (6.15.2)\n",
      "Requirement already satisfied: ipython in /Users/paulohenrique/opt/anaconda3/lib/python3.9/site-packages (from jupyter-dash) (7.31.1)\n",
      "Requirement already satisfied: requests in /Users/paulohenrique/opt/anaconda3/lib/python3.9/site-packages (from jupyter-dash) (2.28.1)\n",
      "Requirement already satisfied: ansi2html in /Users/paulohenrique/opt/anaconda3/lib/python3.9/site-packages (from jupyter-dash) (1.8.0)\n",
      "Requirement already satisfied: flask in /Users/paulohenrique/opt/anaconda3/lib/python3.9/site-packages (from jupyter-dash) (1.1.2)\n",
      "Requirement already satisfied: dash in /Users/paulohenrique/opt/anaconda3/lib/python3.9/site-packages (from jupyter-dash) (2.10.2)\n",
      "Requirement already satisfied: retrying in /Users/paulohenrique/opt/anaconda3/lib/python3.9/site-packages (from jupyter-dash) (1.3.4)\n",
      "Requirement already satisfied: nest-asyncio in /Users/paulohenrique/opt/anaconda3/lib/python3.9/site-packages (from jupyter-dash) (1.5.5)\n",
      "Requirement already satisfied: plotly>=5.0.0 in /Users/paulohenrique/opt/anaconda3/lib/python3.9/site-packages (from dash->jupyter-dash) (5.9.0)\n",
      "Requirement already satisfied: dash-core-components==2.0.0 in /Users/paulohenrique/opt/anaconda3/lib/python3.9/site-packages (from dash->jupyter-dash) (2.0.0)\n",
      "Requirement already satisfied: dash-table==5.0.0 in /Users/paulohenrique/opt/anaconda3/lib/python3.9/site-packages (from dash->jupyter-dash) (5.0.0)\n",
      "Requirement already satisfied: dash-html-components==2.0.0 in /Users/paulohenrique/opt/anaconda3/lib/python3.9/site-packages (from dash->jupyter-dash) (2.0.0)\n",
      "Requirement already satisfied: Werkzeug<2.3.0 in /Users/paulohenrique/opt/anaconda3/lib/python3.9/site-packages (from dash->jupyter-dash) (2.0.3)\n",
      "Requirement already satisfied: click>=5.1 in /Users/paulohenrique/opt/anaconda3/lib/python3.9/site-packages (from flask->jupyter-dash) (8.0.4)\n",
      "Requirement already satisfied: itsdangerous>=0.24 in /Users/paulohenrique/opt/anaconda3/lib/python3.9/site-packages (from flask->jupyter-dash) (2.0.1)\n",
      "Requirement already satisfied: Jinja2>=2.10.1 in /Users/paulohenrique/opt/anaconda3/lib/python3.9/site-packages (from flask->jupyter-dash) (2.11.3)\n",
      "Requirement already satisfied: jupyter-client>=6.1.12 in /Users/paulohenrique/opt/anaconda3/lib/python3.9/site-packages (from ipykernel->jupyter-dash) (7.3.4)\n",
      "Requirement already satisfied: traitlets>=5.1.0 in /Users/paulohenrique/opt/anaconda3/lib/python3.9/site-packages (from ipykernel->jupyter-dash) (5.1.1)\n",
      "Requirement already satisfied: pyzmq>=17 in /Users/paulohenrique/opt/anaconda3/lib/python3.9/site-packages (from ipykernel->jupyter-dash) (23.2.0)\n",
      "Requirement already satisfied: matplotlib-inline>=0.1 in /Users/paulohenrique/opt/anaconda3/lib/python3.9/site-packages (from ipykernel->jupyter-dash) (0.1.6)\n",
      "Requirement already satisfied: packaging in /Users/paulohenrique/opt/anaconda3/lib/python3.9/site-packages (from ipykernel->jupyter-dash) (21.3)\n",
      "Requirement already satisfied: debugpy>=1.0 in /Users/paulohenrique/opt/anaconda3/lib/python3.9/site-packages (from ipykernel->jupyter-dash) (1.5.1)\n",
      "Requirement already satisfied: psutil in /Users/paulohenrique/opt/anaconda3/lib/python3.9/site-packages (from ipykernel->jupyter-dash) (5.9.0)\n",
      "Requirement already satisfied: appnope in /Users/paulohenrique/opt/anaconda3/lib/python3.9/site-packages (from ipykernel->jupyter-dash) (0.1.2)\n",
      "Requirement already satisfied: tornado>=6.1 in /Users/paulohenrique/opt/anaconda3/lib/python3.9/site-packages (from ipykernel->jupyter-dash) (6.1)\n",
      "Requirement already satisfied: pickleshare in /Users/paulohenrique/opt/anaconda3/lib/python3.9/site-packages (from ipython->jupyter-dash) (0.7.5)\n",
      "Requirement already satisfied: pexpect>4.3 in /Users/paulohenrique/opt/anaconda3/lib/python3.9/site-packages (from ipython->jupyter-dash) (4.8.0)\n",
      "Requirement already satisfied: decorator in /Users/paulohenrique/opt/anaconda3/lib/python3.9/site-packages (from ipython->jupyter-dash) (5.1.1)\n",
      "Requirement already satisfied: pygments in /Users/paulohenrique/opt/anaconda3/lib/python3.9/site-packages (from ipython->jupyter-dash) (2.11.2)\n",
      "Requirement already satisfied: setuptools>=18.5 in /Users/paulohenrique/opt/anaconda3/lib/python3.9/site-packages (from ipython->jupyter-dash) (63.4.1)\n",
      "Requirement already satisfied: prompt-toolkit!=3.0.0,!=3.0.1,<3.1.0,>=2.0.0 in /Users/paulohenrique/opt/anaconda3/lib/python3.9/site-packages (from ipython->jupyter-dash) (3.0.20)\n",
      "Requirement already satisfied: jedi>=0.16 in /Users/paulohenrique/opt/anaconda3/lib/python3.9/site-packages (from ipython->jupyter-dash) (0.18.1)\n",
      "Requirement already satisfied: backcall in /Users/paulohenrique/opt/anaconda3/lib/python3.9/site-packages (from ipython->jupyter-dash) (0.2.0)\n",
      "Requirement already satisfied: idna<4,>=2.5 in /Users/paulohenrique/opt/anaconda3/lib/python3.9/site-packages (from requests->jupyter-dash) (3.3)\n",
      "Requirement already satisfied: charset-normalizer<3,>=2 in /Users/paulohenrique/opt/anaconda3/lib/python3.9/site-packages (from requests->jupyter-dash) (2.0.4)\n",
      "Requirement already satisfied: urllib3<1.27,>=1.21.1 in /Users/paulohenrique/opt/anaconda3/lib/python3.9/site-packages (from requests->jupyter-dash) (1.26.11)\n",
      "Requirement already satisfied: certifi>=2017.4.17 in /Users/paulohenrique/opt/anaconda3/lib/python3.9/site-packages (from requests->jupyter-dash) (2022.9.24)\n",
      "Requirement already satisfied: six>=1.7.0 in /Users/paulohenrique/opt/anaconda3/lib/python3.9/site-packages (from retrying->jupyter-dash) (1.16.0)\n",
      "Requirement already satisfied: parso<0.9.0,>=0.8.0 in /Users/paulohenrique/opt/anaconda3/lib/python3.9/site-packages (from jedi>=0.16->ipython->jupyter-dash) (0.8.3)\n",
      "Requirement already satisfied: MarkupSafe>=0.23 in /Users/paulohenrique/opt/anaconda3/lib/python3.9/site-packages (from Jinja2>=2.10.1->flask->jupyter-dash) (2.0.1)\n",
      "Requirement already satisfied: entrypoints in /Users/paulohenrique/opt/anaconda3/lib/python3.9/site-packages (from jupyter-client>=6.1.12->ipykernel->jupyter-dash) (0.4)\n",
      "Requirement already satisfied: python-dateutil>=2.8.2 in /Users/paulohenrique/opt/anaconda3/lib/python3.9/site-packages (from jupyter-client>=6.1.12->ipykernel->jupyter-dash) (2.8.2)\n",
      "Requirement already satisfied: jupyter-core>=4.9.2 in /Users/paulohenrique/opt/anaconda3/lib/python3.9/site-packages (from jupyter-client>=6.1.12->ipykernel->jupyter-dash) (4.11.1)\n",
      "Requirement already satisfied: ptyprocess>=0.5 in /Users/paulohenrique/opt/anaconda3/lib/python3.9/site-packages (from pexpect>4.3->ipython->jupyter-dash) (0.7.0)\n",
      "Requirement already satisfied: tenacity>=6.2.0 in /Users/paulohenrique/opt/anaconda3/lib/python3.9/site-packages (from plotly>=5.0.0->dash->jupyter-dash) (8.0.1)\n",
      "Requirement already satisfied: wcwidth in /Users/paulohenrique/opt/anaconda3/lib/python3.9/site-packages (from prompt-toolkit!=3.0.0,!=3.0.1,<3.1.0,>=2.0.0->ipython->jupyter-dash) (0.2.5)\n",
      "Requirement already satisfied: pyparsing!=3.0.5,>=2.0.2 in /Users/paulohenrique/opt/anaconda3/lib/python3.9/site-packages (from packaging->ipykernel->jupyter-dash) (3.0.9)\n"
     ]
    }
   ],
   "source": [
    "!pip install jupyter-dash"
   ]
  },
  {
   "cell_type": "code",
   "execution_count": 53,
   "metadata": {},
   "outputs": [
    {
     "name": "stderr",
     "output_type": "stream",
     "text": [
      "/var/folders/tj/9r2c9_p565b2cnshcs57f3jc0000gn/T/ipykernel_43184/749540324.py:2: UserWarning:\n",
      "\n",
      "\n",
      "The dash_core_components package is deprecated. Please replace\n",
      "`import dash_core_components as dcc` with `from dash import dcc`\n",
      "\n",
      "/var/folders/tj/9r2c9_p565b2cnshcs57f3jc0000gn/T/ipykernel_43184/749540324.py:3: UserWarning:\n",
      "\n",
      "\n",
      "The dash_html_components package is deprecated. Please replace\n",
      "`import dash_html_components as html` with `from dash import html`\n",
      "\n"
     ]
    }
   ],
   "source": [
    "from jupyter_dash import JupyterDash\n",
    "import dash_core_components as dcc\n",
    "import dash_html_components as html"
   ]
  },
  {
   "cell_type": "code",
   "execution_count": 148,
   "metadata": {},
   "outputs": [
    {
     "name": "stdout",
     "output_type": "stream",
     "text": [
      "Dash is running on http://127.0.0.1:8050/\n",
      "\n",
      "Dash app running on http://127.0.0.1:8050/\n"
     ]
    }
   ],
   "source": [
    "external_stylesheets = ['assets/styles.css']\n",
    "app = JupyterDash(__name__, external_stylesheets=external_stylesheets)\n",
    "\n",
    "app.layout = html.Div(\n",
    "    children=[\n",
    "        html.Div(\n",
    "            className = 'footer',\n",
    "            children=[\n",
    "                html.H1('Violência no Nordeste: Evolução dos gastos em Segurança Pública X Homicídios'),\n",
    "            ],\n",
    "        ),\n",
    "        html.Div(\n",
    "            id='content-container',\n",
    "            children=[\n",
    "                html.Div(\n",
    "                    className ='estiloesq',\n",
    "                    children=[\n",
    "                        dcc.Graph(figure=participacao),\n",
    "                    ],\n",
    "                    style={\n",
    "                        'margin-top':'20px'\n",
    "                    }\n",
    "                ),\n",
    "                html.Div(\n",
    "                     className ='estilodir',\n",
    "                    children=[\n",
    "                        dcc.Graph(figure=num_homicidios),\n",
    "                    ],\n",
    "                    style={\n",
    "                        'margin-top':'20px'\n",
    "                    }\n",
    "                ),\n",
    "                html.Div(\n",
    "                     className ='estiloesq',\n",
    "                    children=[\n",
    "                        dcc.Graph(figure=gastos_total),\n",
    "                    ],\n",
    "                ),\n",
    "                html.Div(\n",
    "                    className ='estilodir',\n",
    "                    children=[\n",
    "                        dcc.Graph(figure=taxa_homicidios),\n",
    "                    ],\n",
    "                ),\n",
    "                html.Div(\n",
    "                    id='grafico-container5',\n",
    "                    children=[\n",
    "                        dcc.Graph(figure=gastos),\n",
    "                    ],\n",
    "                    style={\n",
    "                        'width': '49.5%',\n",
    "                        'border': '1px solid black',\n",
    "                        'padding': '5px',\n",
    "                        'box-sizing': 'border-box',\n",
    "                        'display': 'block',\n",
    "                        'text-align': 'center',  # Centralizar horizontalmente\n",
    "                        'border-radius': '6px',\n",
    "                        'background': 'white',\n",
    "                        'margin-bottom': '15px',\n",
    "                        'margin-left': 'auto',  # Margem esquerda automática\n",
    "                        'margin-right': 'auto'  # Margem direita automática\n",
    "                    }\n",
    "                )\n",
    "            ],\n",
    "            style={\n",
    "                'display': 'flex',\n",
    "                'justify-content': 'space-between',\n",
    "                'flex-wrap': 'wrap'\n",
    "            }\n",
    "        )\n",
    "    ],\n",
    "    style={\n",
    "        'background': 'rgb(34,102,195)',\n",
    "        'background': 'linear-gradient(0deg, rgba(34,102,195,1) 6%, rgba(13,41,57,1) 88%)',\n",
    "        'margin': '0',\n",
    "        'border': 'none'\n",
    "    },\n",
    "    id = 'teste',\n",
    ")\n",
    "\n",
    "app.run_server(mode='external')\n"
   ]
  },
  {
   "cell_type": "code",
   "execution_count": null,
   "metadata": {},
   "outputs": [],
   "source": []
  },
  {
   "cell_type": "code",
   "execution_count": null,
   "metadata": {},
   "outputs": [],
   "source": []
  }
 ],
 "metadata": {
  "colab": {
   "provenance": []
  },
  "kernelspec": {
   "display_name": "Python 3 (ipykernel)",
   "language": "python",
   "name": "python3"
  },
  "language_info": {
   "codemirror_mode": {
    "name": "ipython",
    "version": 3
   },
   "file_extension": ".py",
   "mimetype": "text/x-python",
   "name": "python",
   "nbconvert_exporter": "python",
   "pygments_lexer": "ipython3",
   "version": "3.9.13"
  }
 },
 "nbformat": 4,
 "nbformat_minor": 1
}
